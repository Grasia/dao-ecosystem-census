{
 "cells": [
  {
   "cell_type": "markdown",
   "metadata": {},
   "source": [
    "## votes"
   ]
  },
  {
   "cell_type": "code",
   "execution_count": 60,
   "metadata": {},
   "outputs": [
    {
     "data": {
      "text/html": [
       "<div>\n",
       "<style scoped>\n",
       "    .dataframe tbody tr th:only-of-type {\n",
       "        vertical-align: middle;\n",
       "    }\n",
       "\n",
       "    .dataframe tbody tr th {\n",
       "        vertical-align: top;\n",
       "    }\n",
       "\n",
       "    .dataframe thead th {\n",
       "        text-align: right;\n",
       "    }\n",
       "</style>\n",
       "<table border=\"1\" class=\"dataframe\">\n",
       "  <thead>\n",
       "    <tr style=\"text-align: right;\">\n",
       "      <th></th>\n",
       "      <th>id</th>\n",
       "      <th>proposal_id</th>\n",
       "      <th>deployment_id</th>\n",
       "      <th>platform_vote_id</th>\n",
       "      <th>voter</th>\n",
       "      <th>date</th>\n",
       "      <th>choice</th>\n",
       "      <th>weight</th>\n",
       "    </tr>\n",
       "  </thead>\n",
       "  <tbody>\n",
       "    <tr>\n",
       "      <th>0</th>\n",
       "      <td>485b00e5-4707-5ecf-b9d9-384c65f19ca6</td>\n",
       "      <td>21f321d1-04a6-5474-b4bd-724c104d908c</td>\n",
       "      <td>d8a985e4-3cc2-542a-9cb4-3e024577fb3c</td>\n",
       "      <td>GovER5Lthms3bLBqWub97yVrMmEogzX7xNjdXpPPCVZw_G...</td>\n",
       "      <td>WabxR2gcdMgovS6Uo5JD4Cv9me7uExRyaH4QDKrp64b</td>\n",
       "      <td>NaN</td>\n",
       "      <td>[{'rank': 0, 'weightPercentage': 100}]</td>\n",
       "      <td>2.000000e+09</td>\n",
       "    </tr>\n",
       "    <tr>\n",
       "      <th>1</th>\n",
       "      <td>4ae92050-0563-5126-b7a7-a926d06b1467</td>\n",
       "      <td>21f321d1-04a6-5474-b4bd-724c104d908c</td>\n",
       "      <td>d8a985e4-3cc2-542a-9cb4-3e024577fb3c</td>\n",
       "      <td>GovER5Lthms3bLBqWub97yVrMmEogzX7xNjdXpPPCVZw_A...</td>\n",
       "      <td>6cGTLr9bTCYis6KjsuZPQS7LrcPjyjibr9gFk2JH65Mn</td>\n",
       "      <td>NaN</td>\n",
       "      <td>[{'rank': 0, 'weightPercentage': 100}]</td>\n",
       "      <td>2.000000e+09</td>\n",
       "    </tr>\n",
       "  </tbody>\n",
       "</table>\n",
       "</div>"
      ],
      "text/plain": [
       "                                     id                           proposal_id  \\\n",
       "0  485b00e5-4707-5ecf-b9d9-384c65f19ca6  21f321d1-04a6-5474-b4bd-724c104d908c   \n",
       "1  4ae92050-0563-5126-b7a7-a926d06b1467  21f321d1-04a6-5474-b4bd-724c104d908c   \n",
       "\n",
       "                          deployment_id  \\\n",
       "0  d8a985e4-3cc2-542a-9cb4-3e024577fb3c   \n",
       "1  d8a985e4-3cc2-542a-9cb4-3e024577fb3c   \n",
       "\n",
       "                                    platform_vote_id  \\\n",
       "0  GovER5Lthms3bLBqWub97yVrMmEogzX7xNjdXpPPCVZw_G...   \n",
       "1  GovER5Lthms3bLBqWub97yVrMmEogzX7xNjdXpPPCVZw_A...   \n",
       "\n",
       "                                          voter  date  \\\n",
       "0   WabxR2gcdMgovS6Uo5JD4Cv9me7uExRyaH4QDKrp64b   NaN   \n",
       "1  6cGTLr9bTCYis6KjsuZPQS7LrcPjyjibr9gFk2JH65Mn   NaN   \n",
       "\n",
       "                                   choice        weight  \n",
       "0  [{'rank': 0, 'weightPercentage': 100}]  2.000000e+09  \n",
       "1  [{'rank': 0, 'weightPercentage': 100}]  2.000000e+09  "
      ]
     },
     "execution_count": 60,
     "metadata": {},
     "output_type": "execute_result"
    }
   ],
   "source": [
    "import pandas as pd\n",
    "new_votes_df = pd.read_csv('../DATA/realms/realms_votes.csv')\n",
    "new_votes_df.head(2)"
   ]
  },
  {
   "cell_type": "code",
   "execution_count": 61,
   "metadata": {},
   "outputs": [
    {
     "data": {
      "text/html": [
       "<div>\n",
       "<style scoped>\n",
       "    .dataframe tbody tr th:only-of-type {\n",
       "        vertical-align: middle;\n",
       "    }\n",
       "\n",
       "    .dataframe tbody tr th {\n",
       "        vertical-align: top;\n",
       "    }\n",
       "\n",
       "    .dataframe thead th {\n",
       "        text-align: right;\n",
       "    }\n",
       "</style>\n",
       "<table border=\"1\" class=\"dataframe\">\n",
       "  <thead>\n",
       "    <tr style=\"text-align: right;\">\n",
       "      <th></th>\n",
       "      <th>id</th>\n",
       "      <th>proposal_id</th>\n",
       "      <th>deployment_id</th>\n",
       "      <th>platform_vote_id</th>\n",
       "      <th>voter</th>\n",
       "      <th>date</th>\n",
       "      <th>choice</th>\n",
       "      <th>weight</th>\n",
       "    </tr>\n",
       "  </thead>\n",
       "  <tbody>\n",
       "    <tr>\n",
       "      <th>0</th>\n",
       "      <td>485b00e5-4707-5ecf-b9d9-384c65f19ca6</td>\n",
       "      <td>21f321d1-04a6-5474-b4bd-724c104d908c</td>\n",
       "      <td>d8a985e4-3cc2-542a-9cb4-3e024577fb3c</td>\n",
       "      <td>GovER5Lthms3bLBqWub97yVrMmEogzX7xNjdXpPPCVZw_G...</td>\n",
       "      <td>WabxR2gcdMgovS6Uo5JD4Cv9me7uExRyaH4QDKrp64b</td>\n",
       "      <td>NaT</td>\n",
       "      <td>[{'rank': 0, 'weightPercentage': 100}]</td>\n",
       "      <td>2.000000e+09</td>\n",
       "    </tr>\n",
       "    <tr>\n",
       "      <th>1</th>\n",
       "      <td>4ae92050-0563-5126-b7a7-a926d06b1467</td>\n",
       "      <td>21f321d1-04a6-5474-b4bd-724c104d908c</td>\n",
       "      <td>d8a985e4-3cc2-542a-9cb4-3e024577fb3c</td>\n",
       "      <td>GovER5Lthms3bLBqWub97yVrMmEogzX7xNjdXpPPCVZw_A...</td>\n",
       "      <td>6cGTLr9bTCYis6KjsuZPQS7LrcPjyjibr9gFk2JH65Mn</td>\n",
       "      <td>NaT</td>\n",
       "      <td>[{'rank': 0, 'weightPercentage': 100}]</td>\n",
       "      <td>2.000000e+09</td>\n",
       "    </tr>\n",
       "  </tbody>\n",
       "</table>\n",
       "</div>"
      ],
      "text/plain": [
       "                                     id                           proposal_id  \\\n",
       "0  485b00e5-4707-5ecf-b9d9-384c65f19ca6  21f321d1-04a6-5474-b4bd-724c104d908c   \n",
       "1  4ae92050-0563-5126-b7a7-a926d06b1467  21f321d1-04a6-5474-b4bd-724c104d908c   \n",
       "\n",
       "                          deployment_id  \\\n",
       "0  d8a985e4-3cc2-542a-9cb4-3e024577fb3c   \n",
       "1  d8a985e4-3cc2-542a-9cb4-3e024577fb3c   \n",
       "\n",
       "                                    platform_vote_id  \\\n",
       "0  GovER5Lthms3bLBqWub97yVrMmEogzX7xNjdXpPPCVZw_G...   \n",
       "1  GovER5Lthms3bLBqWub97yVrMmEogzX7xNjdXpPPCVZw_A...   \n",
       "\n",
       "                                          voter date  \\\n",
       "0   WabxR2gcdMgovS6Uo5JD4Cv9me7uExRyaH4QDKrp64b  NaT   \n",
       "1  6cGTLr9bTCYis6KjsuZPQS7LrcPjyjibr9gFk2JH65Mn  NaT   \n",
       "\n",
       "                                   choice        weight  \n",
       "0  [{'rank': 0, 'weightPercentage': 100}]  2.000000e+09  \n",
       "1  [{'rank': 0, 'weightPercentage': 100}]  2.000000e+09  "
      ]
     },
     "execution_count": 61,
     "metadata": {},
     "output_type": "execute_result"
    }
   ],
   "source": [
    "# make into type date\n",
    "new_votes_df['date'] = pd.to_datetime(new_votes_df['date'], format='%Y-%m-%d')\n",
    "new_votes_df.head(2)"
   ]
  },
  {
   "cell_type": "code",
   "execution_count": 62,
   "metadata": {},
   "outputs": [
    {
     "data": {
      "text/plain": [
       "id: string\n",
       "proposal_id: string\n",
       "deployment_id: string\n",
       "platform_vote_id: string\n",
       "voter: string\n",
       "date: timestamp[ns]\n",
       "choice: string\n",
       "weight: double\n",
       "-- schema metadata --\n",
       "pandas: '{\"index_columns\": [], \"column_indexes\": [], \"columns\": [{\"name\":' + 1011"
      ]
     },
     "execution_count": 62,
     "metadata": {},
     "output_type": "execute_result"
    }
   ],
   "source": [
    "import pyarrow as pa\n",
    "new_votes_table = pa.Table.from_pandas(new_votes_df, preserve_index=False)\n",
    "new_votes_table.schema"
   ]
  },
  {
   "cell_type": "code",
   "execution_count": 63,
   "metadata": {},
   "outputs": [
    {
     "data": {
      "text/plain": [
       "('date', 'weight')"
      ]
     },
     "execution_count": 63,
     "metadata": {},
     "output_type": "execute_result"
    }
   ],
   "source": [
    "new_votes_table.column_names[5], new_votes_table.column_names[7]"
   ]
  },
  {
   "cell_type": "code",
   "execution_count": 64,
   "metadata": {},
   "outputs": [
    {
     "data": {
      "text/plain": [
       "id: string\n",
       "proposal_id: string\n",
       "deployment_id: string\n",
       "platform_vote_id: string\n",
       "voter: string\n",
       "date: timestamp[us]\n",
       "choice: string\n",
       "weight: decimal128(38, 4)\n",
       "-- schema metadata --\n",
       "pandas: '{\"index_columns\": [], \"column_indexes\": [], \"columns\": [{\"name\":' + 1011"
      ]
     },
     "execution_count": 64,
     "metadata": {},
     "output_type": "execute_result"
    }
   ],
   "source": [
    "new_votes_table = new_votes_table.set_column(5, 'date', new_votes_table.column(5).cast(pa.timestamp('us')))\n",
    "weights_as_decimal_128 = new_votes_table['weight'].cast(pa.decimal128(38, 4))\n",
    "new_votes_table = new_votes_table.set_column(7, 'weight', weights_as_decimal_128)\n",
    "new_votes_table.schema"
   ]
  },
  {
   "cell_type": "code",
   "execution_count": 65,
   "metadata": {},
   "outputs": [
    {
     "data": {
      "text/plain": [
       "<duckdb.DuckDBPyConnection at 0x169920c70>"
      ]
     },
     "execution_count": 65,
     "metadata": {},
     "output_type": "execute_result"
    }
   ],
   "source": [
    "# here we get the proposals that are not from platform = 'realms'\n",
    "import duckdb\n",
    "\n",
    "db = duckdb.connect(database=':memory:', read_only=False)\n",
    "# as view\n",
    "db.execute(\"CREATE VIEW votes AS SELECT * FROM parquet_scan('{}')\".format('../parquets_version6/votes.parquet'))\n",
    "db.execute(\"CREATE VIEW proposals AS SELECT * FROM parquet_scan('{}')\".format('../parquets_version6/proposals.parquet'))\n",
    "# same for deployments\n",
    "db.execute(\"CREATE VIEW deployments AS SELECT * FROM parquet_scan('{}')\".format('../parquets_version6/deployments.parquet'))"
   ]
  },
  {
   "cell_type": "code",
   "execution_count": 66,
   "metadata": {},
   "outputs": [
    {
     "data": {
      "text/plain": [
       "pyarrow.Table\n",
       "id: string\n",
       "proposal_id: string\n",
       "deployment_id: string\n",
       "platform_vote_id: string\n",
       "voter: string\n",
       "date: timestamp[us]\n",
       "choice: string\n",
       "weight: decimal128(38, 4)\n",
       "----\n",
       "id: [[\"a8b902cf-c6ee-5803-bcc6-a4263d832520\",\"444341a1-178e-5e95-8126-6ad1b7899735\",\"ec7349f9-4a69-5452-a16b-f253c9497211\",\"66822a7a-c8ed-5350-97d7-b4fc4281d5fa\",\"12a310f1-f56b-58b1-8601-216bfb0f1c6c\",...,\"d141af24-6b5f-5396-82d5-b689c4bc5ff6\",\"f11da313-43ee-5d16-9d0a-f861ef847bb2\",\"4499f48b-c139-5f80-9ae7-d926ade49717\",\"dc4ca9b1-f1f0-5ad2-a992-a9d4a2bfac4a\",\"bcdf68ad-86e7-5ba3-b32c-ecee50309c2c\"],[\"ba91cc54-bf95-5ad0-8eba-91d4b2daaeed\",\"0604d58a-0612-5386-a2a2-6f843b6566f0\",\"f8c2aefd-f98d-5d8e-93b3-5f71dcaa39f4\",\"80bad869-e518-5485-9016-b9330924e02b\",\"98cec328-a1e8-5de2-bfda-2760e4ede020\",...,\"6158b9b5-6646-5836-9aac-3a8b9128a402\",\"9161a01e-62af-5d34-a13c-9a9d98c87f22\",\"0a8678b1-c068-5526-b277-c13347ab9cc9\",\"2ce4ffe3-dcb7-5300-9c73-5a5aefcb7fc0\",\"ec8bf50d-f259-540a-acac-6870600fe393\"],...,[\"57ec4adf-911c-5629-9f35-354bb702810f\",\"ad9c0ab9-e721-5718-b162-c4c7a1e414cb\",\"d8f0ba93-fba2-541e-84e1-7f7206d02111\",\"b47bccfb-71e8-5495-9fd7-b069e429cddf\",\"fb9c025f-b310-5a2a-aa8f-666de257dbd7\",...,\"62cdc698-62eb-575b-be3e-f8bf4d671444\",\"47766916-cb0c-505a-8ad1-e26da37c2bff\",\"f8c95e23-ee17-564a-b52f-6db9a59d474b\",\"8ef18a8a-a89e-53b0-8bf0-c5004631ae6d\",\"53abf47d-05db-5bed-b6ac-55dc66c9ff56\"],[\"26abe6a1-86be-5b8b-a737-d47f5008da4e\",\"0a046833-719c-5dbd-8971-5b500e42d4f6\",\"68ab5c24-bcf2-580c-8fe0-945c379cecb2\",\"589a741b-1090-5563-84d6-e9eaa4ad2296\",\"60c064a4-5822-5180-b1db-ae092e694863\",...,\"cde7aeb1-7856-5101-9a73-949335684d1e\",\"4bf1c729-b43c-5860-969c-5ac85c9d9dcb\",\"e2655f7e-0ab7-5101-aa1c-67584489a34e\",\"8b5278dd-02d7-518a-ac8c-d50b396234e0\",\"9513c836-0a93-55f9-a142-cbb90c9a435f\"]]\n",
       "proposal_id: [[\"c3e93130-1eca-5709-9e86-d6ac3a9c1cad\",\"70ec51fe-7cbc-5fbe-8ebf-c886ace664ff\",\"a501deb0-2016-565e-bd90-9421bc215682\",\"23471a1b-4426-5a1d-add1-e0a739714d71\",\"f7f54dfe-22fb-5a78-8523-39728010f525\",...,\"d444d40f-3b3a-5330-b305-78aea0ed0257\",\"d444d40f-3b3a-5330-b305-78aea0ed0257\",\"d444d40f-3b3a-5330-b305-78aea0ed0257\",\"d444d40f-3b3a-5330-b305-78aea0ed0257\",\"d444d40f-3b3a-5330-b305-78aea0ed0257\"],[\"d444d40f-3b3a-5330-b305-78aea0ed0257\",\"d444d40f-3b3a-5330-b305-78aea0ed0257\",\"d444d40f-3b3a-5330-b305-78aea0ed0257\",\"d444d40f-3b3a-5330-b305-78aea0ed0257\",\"d444d40f-3b3a-5330-b305-78aea0ed0257\",...,\"ef2f4bb1-2e5d-5499-85ea-c7a7e4c2b057\",\"ef2f4bb1-2e5d-5499-85ea-c7a7e4c2b057\",\"ef2f4bb1-2e5d-5499-85ea-c7a7e4c2b057\",\"ef2f4bb1-2e5d-5499-85ea-c7a7e4c2b057\",\"ef2f4bb1-2e5d-5499-85ea-c7a7e4c2b057\"],...,[\"e7f552e3-64a9-5efc-a5c5-ddf124ef1e01\",\"e7f552e3-64a9-5efc-a5c5-ddf124ef1e01\",\"e7f552e3-64a9-5efc-a5c5-ddf124ef1e01\",\"e7f552e3-64a9-5efc-a5c5-ddf124ef1e01\",\"e7f552e3-64a9-5efc-a5c5-ddf124ef1e01\",...,\"750131f1-b1e4-53f2-a944-0431de6db5da\",\"750131f1-b1e4-53f2-a944-0431de6db5da\",\"750131f1-b1e4-53f2-a944-0431de6db5da\",\"750131f1-b1e4-53f2-a944-0431de6db5da\",\"750131f1-b1e4-53f2-a944-0431de6db5da\"],[\"750131f1-b1e4-53f2-a944-0431de6db5da\",\"750131f1-b1e4-53f2-a944-0431de6db5da\",\"750131f1-b1e4-53f2-a944-0431de6db5da\",\"750131f1-b1e4-53f2-a944-0431de6db5da\",\"750131f1-b1e4-53f2-a944-0431de6db5da\",...,\"750131f1-b1e4-53f2-a944-0431de6db5da\",\"750131f1-b1e4-53f2-a944-0431de6db5da\",\"750131f1-b1e4-53f2-a944-0431de6db5da\",\"750131f1-b1e4-53f2-a944-0431de6db5da\",\"32b94bdf-9322-5cb4-a8e8-cf4b1dfb2beb\"]]\n",
       "deployment_id: [[\"d3229595-ac4c-55bf-9808-386fc5603bd1\",\"d3229595-ac4c-55bf-9808-386fc5603bd1\",\"d3229595-ac4c-55bf-9808-386fc5603bd1\",\"1ff410f5-1c80-53cd-9558-d93d1f6de121\",\"6b5b7ac3-c21a-5dec-a79f-799b807f3a73\",...,\"377e7181-37e0-504d-b494-d26df613abdc\",\"377e7181-37e0-504d-b494-d26df613abdc\",\"377e7181-37e0-504d-b494-d26df613abdc\",\"377e7181-37e0-504d-b494-d26df613abdc\",\"377e7181-37e0-504d-b494-d26df613abdc\"],[\"377e7181-37e0-504d-b494-d26df613abdc\",\"377e7181-37e0-504d-b494-d26df613abdc\",\"377e7181-37e0-504d-b494-d26df613abdc\",\"377e7181-37e0-504d-b494-d26df613abdc\",\"377e7181-37e0-504d-b494-d26df613abdc\",...,\"e2ec62ae-9b29-5f3a-a541-58678bb64a1b\",\"e2ec62ae-9b29-5f3a-a541-58678bb64a1b\",\"e2ec62ae-9b29-5f3a-a541-58678bb64a1b\",\"e2ec62ae-9b29-5f3a-a541-58678bb64a1b\",\"e2ec62ae-9b29-5f3a-a541-58678bb64a1b\"],...,[\"eeed4e65-5607-59e2-a003-fddc8db9ff09\",\"eeed4e65-5607-59e2-a003-fddc8db9ff09\",\"eeed4e65-5607-59e2-a003-fddc8db9ff09\",\"eeed4e65-5607-59e2-a003-fddc8db9ff09\",\"eeed4e65-5607-59e2-a003-fddc8db9ff09\",...,\"09987489-519f-5553-87bc-b51245ef8362\",\"09987489-519f-5553-87bc-b51245ef8362\",\"09987489-519f-5553-87bc-b51245ef8362\",\"09987489-519f-5553-87bc-b51245ef8362\",\"09987489-519f-5553-87bc-b51245ef8362\"],[\"09987489-519f-5553-87bc-b51245ef8362\",\"09987489-519f-5553-87bc-b51245ef8362\",\"09987489-519f-5553-87bc-b51245ef8362\",\"09987489-519f-5553-87bc-b51245ef8362\",\"09987489-519f-5553-87bc-b51245ef8362\",...,\"09987489-519f-5553-87bc-b51245ef8362\",\"09987489-519f-5553-87bc-b51245ef8362\",\"09987489-519f-5553-87bc-b51245ef8362\",\"09987489-519f-5553-87bc-b51245ef8362\",\"2507f8af-6261-549c-b812-c7c91eef4779\"]]\n",
       "platform_vote_id: [[\"0x000682a038b22925343bd5b9e84acb424a9d148843261372dc83514589bfdc3b\",\"0x001cde4d98e26191fc34308be3b51ce50d3eb9561b1b01b768722bf9abe04457\",\"0x001e7617a24d4e379669db1b4be94aa5cdc1b735d492535dd7a15723aed680c5\",\"0x00202af217d5d4f46006ee508af4d4a8e40fa0c58ea09161ac7658f91278bad2\",\"0x00230b335032c2f363d717da48d79d7574b1712580e011b59a88337c9627c770\",...,\"QmYf7NNT7mNyT2mq2CKJbDNSRVyefjyz1TRhyc8ys1rN3c\",\"QmTS6KhL9W4zjdLF1a5CNeuBv7kEBJtuNmg83K2eYrZGmc\",\"QmYZAYBaKfMdpfiqWYcLCrpcjN4XoG3sa2TMfZhpQ89Et1\",\"QmaWvWEuhowAm6qJnm5pCr9n6mdL3pvhdNbT4TxJ8JzYwS\",\"QmeXFS3cszJANhX7f4EYLs9Zy8wwApw8C2PtbwGKYsUfRs\"],[\"QmfNQNsK8aUqUpSqj3cw5uQXPBtfzd5tBaK9A4aksU1Hju\",\"QmVrdSnBtk9j7hqKkUYDt2m2Duw9XxJL4CpR2f1CP8n5qN\",\"QmaTmcTMzKViAmwM8XfqKcco7o9RipZdjhAcrhGjcgKfqN\",\"QmcZmsubyVvq7F269zaL7zpTtyptWueqBsnqHTvpBnj6Wt\",\"QmYH2bJ8F6g4KViUjKAbWoqc94iqfwQ2XJjJNnfMNzZBX8\",...,\"0xabcb11950fd48b493276f461eb19ca4810d272e12be201c025e8c20d4590f8b3\",\"0x632e1149deb8fb49bb3f14d54e64917d8273ecc4f142149bc73358b647edd1cc\",\"0xff8f70023fb35eb53a27daa617f409004857fce6f74fbb4ad9689976a258aa1e\",\"0xee585ccf95243aa2d80a17f0acf072c85b4867099989c91546325cbd5a1f2274\",\"0xab1381e7ae64de3a21008fbcc0359c1ba7e58e930de739275de3cac0885bef34\"],...,[\"0x009dc18ff188b98b363b6656067780be732fbd8f363e66293ff7111487871ac7\",\"0x2283bc2d0598c4bbd25167a6fac4ea21b459faa90e30f9803599fcaa503a6e09\",\"0x310e9ab2fe6b1e59b9f0cf0ed4d11d59ef7e017135490d8c3f77fa234137da3c\",\"0x333031e99f20dac8a486428e7768efec13ffbffb97d25824fa5a8578335601c8\",\"0x40b1f95d5eda7e1ee492f502b6715d11df031e155d384590adee3c157c23b1f4\",...,\"0x3aef95f310b1b6023ebd1d3b77fcbc4e285387db-22\",\"0xe8ad7f1ae2d302bcdc7f14f616955182283c9f34-22\",\"0x3fccf1de0b79383611de17e6102d59bce3c51c3c-22\",\"0xcf742db7655b29442bc25878a5521ab8d7ea1edc-22\",\"0x3383fce9da41bcd93aafa8bb74c729ac8f2394d2-22\"],[\"0xf1b42f62840dc26c51a8bae82a537a4f6e912f1f-22\",\"0x6b07d4ace5bc9a690fda9ddeb5a0f131fda0b257-22\",\"0xec6e5dc7881ef860a2cd62fdcd40981774f40d08-22\",\"0x0c64cc2d2ae1ff58bb0362fa1b89874cff9e9204-22\",\"0x686ddcf9b7e2d6660ee4cf02757588245a4cb3e1-22\",...,\"0x16a4cddc6da8ae5fe52303280e77d0356b3df424-22\",\"0xa884a2f1a5ec6c2e499644666a5e6ef97b988888-22\",\"0xc9c22eea346b77564f67caa7074334d3db2c9405-22\",\"0x1b1e7f3813b479688a54e0be7caa6b54becf465e-22\",\"0x94a61b66c7062c594ecbf347f80421032008c203-10\"]]\n",
       "voter: [[\"0x91628ddc3a6ff9b48a2f34fc315d243eb07a9501\",\"0xabd238fa6b6042438fbd22e7d398199080b4224c\",\"0x13a0b42b9c180065510615972858bf41d1972a55\",\"0xba527d8301178a03a6993ab5a08cab06b975d5ae\",\"0xfc898b18a70ce49579f8d79a32e29928c15b4bc8\",...,\"0x73DAE5849c1dde79683Cf5821F435cD0d0fe248D\",\"0x7dA08FBa7A69c67c0D06fD433aF0C53F9c75CeE8\",\"0xF1E34bdc4D2316f27a5A61E2d5679292Faf67A4f\",\"0x314aD39C842b0865cdc48fB5e1688313ccdA463e\",\"0xfcafe27f077002603a2cFd25096D8a36Ebe9d94d\"],[\"0x2FfD0bc0379429702AAF2A0B71EA1B6A6FA27f90\",\"0xFc515b9E98Ebb401eF75DC5443A420803fD4a062\",\"0xBb24D282b6D733B9B575fbECF42c730333869ccD\",\"0x6422bDc46C17CdDae1FF4856b81eBaF47aF0DCB9\",\"0x4dAE5b5bf3dC068BDFEC47b8B402AFf28fe6707F\",...,\"0x215dC1Eba42e29d38D6Ed64Bf078FE4aCB0F179A\",\"0x8F32e75Ab8B2165E452e80850FA6fF8869D49D19\",\"0x4C2b2Ccf71f2914213d13C0dc511821c3EC76dE6\",\"0xf1D4E27CDCC9DbAFFb83f3130378E282ab415e85\",\"0xCc18Ed18c174624b338a2dBD4BEe2cA5a4A89C43\"],...,[\"0xc5a8B5e0F833D96E08eBdbc5c9987b98BDbC1c94\",\"0xb02bB7b6B0D2C79594B5A3E1615F22a42C42e821\",\"0x71967c0e5901BEE57C7A5CbB6f59B27a56ad8769\",\"0xEb6C990aC9556e54fE42aD7be692e8fcC63CE2cb\",\"0x7438Ce791343F4cA021bA267D82279a0a3e5AeB8\",...,\"0x3aef95f310b1b6023ebd1d3b77fcbc4e285387db\",\"0xe8ad7f1ae2d302bcdc7f14f616955182283c9f34\",\"0x3fccf1de0b79383611de17e6102d59bce3c51c3c\",\"0xcf742db7655b29442bc25878a5521ab8d7ea1edc\",\"0x3383fce9da41bcd93aafa8bb74c729ac8f2394d2\"],[\"0xf1b42f62840dc26c51a8bae82a537a4f6e912f1f\",\"0x6b07d4ace5bc9a690fda9ddeb5a0f131fda0b257\",\"0xec6e5dc7881ef860a2cd62fdcd40981774f40d08\",\"0x0c64cc2d2ae1ff58bb0362fa1b89874cff9e9204\",\"0x686ddcf9b7e2d6660ee4cf02757588245a4cb3e1\",...,\"0x16a4cddc6da8ae5fe52303280e77d0356b3df424\",\"0xa884a2f1a5ec6c2e499644666a5e6ef97b988888\",\"0xc9c22eea346b77564f67caa7074334d3db2c9405\",\"0x1b1e7f3813b479688a54e0be7caa6b54becf465e\",\"0x94a61b66c7062c594ecbf347f80421032008c203\"]]\n",
       "date: [[2023-03-14 02:47:23.000000,2022-05-22 02:09:49.000000,2019-08-02 09:25:38.000000,2020-01-10 07:31:45.000000,2020-02-27 10:45:15.000000,...,2021-10-23 22:21:53.000000,2021-10-23 21:59:25.000000,2021-10-23 21:53:33.000000,2021-10-23 20:42:57.000000,2021-10-23 20:42:23.000000],[2021-10-23 19:52:20.000000,2021-10-23 18:50:45.000000,2021-10-23 18:36:38.000000,2021-10-23 18:12:07.000000,2021-10-23 17:39:29.000000,...,2022-12-26 17:26:20.000000,2022-12-26 17:25:49.000000,2022-12-26 17:21:06.000000,2022-12-26 16:59:41.000000,2022-12-26 16:54:42.000000],...,[2023-05-26 07:47:22.000000,2023-05-26 07:47:22.000000,2023-05-26 07:47:22.000000,2023-05-26 07:47:22.000000,2023-05-26 07:47:22.000000,...,2022-06-19 12:26:08.000000,2022-06-19 11:45:33.000000,2022-06-19 08:27:33.000000,2022-06-19 08:27:33.000000,2022-06-19 02:23:47.000000],[2022-06-18 13:45:15.000000,2022-06-25 04:24:32.000000,2022-06-20 06:51:17.000000,2022-06-19 11:45:56.000000,2022-06-19 07:06:08.000000,...,2022-06-19 18:01:22.000000,2022-06-19 08:19:03.000000,2022-06-19 01:40:44.000000,2022-06-19 02:35:08.000000,2023-01-12 17:33:23.000000]]\n",
       "choice: [[\"Pass\",\"Pass\",\"Pass\",\"Pass\",\"Fail\",...,\"[30, 591, 59.56426980871731]\",\"[132.60310488839258, 541, 0]\",\"[789.0581824497392, 9739, 0]\",\"[145.0952036954406, 548, 0.0914052452711]\",\"[150.00000000000003, 957, 1.697530139357806]\"],[\"[0, 1648, 0]\",\"[21.621760190363, 1045, 0]\",\"[818.4639359022408, 2437, 13.58]\",\"[61.77149097994631, 493, 0.1055]\",\"[125, 3640, 6.580268282915242]\",...,\"[3.7057490375686335]\",\"[2.2009796801889703]\",\"[0.01963527840347339]\",\"[4.248544187571678]\",\"[1]\"],...,[\"[1]\",\"[1]\",\"[1]\",\"[1]\",\"[1]\",...,\"FOR\",\"FOR\",\"FOR\",\"FOR\",\"FOR\"],[\"FOR\",\"FOR\",\"FOR\",\"FOR\",\"FOR\",...,\"FOR\",\"FOR\",\"FOR\",\"FOR\",\"FOR\"]]\n",
       "weight: [[90248499999999997713592.6149,68359641109260098320149.6694,372846309003008605070.6725,159178674775209874908.7114,1957062589266673540947.5092,...,680.0000,673.0000,10528.0000,693.0000,1108.0000],[1648.0000,1066.0000,3269.0000,554.0000,3771.0000,...,3.0000,2.0000,0.0000,4.0000,1.0000],...,[1.0000,1.0000,1.0000,1.0000,1.0000,...,1100000000000000000.0000,1100000000000000000.0000,1100000000000000000.0000,1100000000000000000.0000,1100000000000000000.0000],[1100000000000000000.0000,1100000000000000000.0000,1100000000000000000.0000,1100000000000000000.0000,1100000000000000000.0000,...,0.0000,0.0000,0.0000,0.0000,151976408628970222305620.7872]]"
      ]
     },
     "execution_count": 66,
     "metadata": {},
     "output_type": "execute_result"
    }
   ],
   "source": [
    "query = \"\"\"\n",
    "SELECT\n",
    "    v.*\n",
    "FROM\n",
    "    votes as v\n",
    "JOIN\n",
    "    deployments\n",
    "ON\n",
    "    v.deployment_id = deployments.id\n",
    "WHERE\n",
    "    deployments.platform != 'realms'\n",
    "\"\"\"\n",
    "votes_v6_no_realms = db.execute(query).fetch_arrow_table()\n",
    "votes_v6_no_realms"
   ]
  },
  {
   "cell_type": "code",
   "execution_count": 67,
   "metadata": {},
   "outputs": [
    {
     "data": {
      "text/plain": [
       "True"
      ]
     },
     "execution_count": 67,
     "metadata": {},
     "output_type": "execute_result"
    }
   ],
   "source": [
    "votes_v6_no_realms.schema == new_votes_table.schema"
   ]
  },
  {
   "cell_type": "code",
   "execution_count": 68,
   "metadata": {},
   "outputs": [],
   "source": [
    "import pyarrow.parquet as pq\n",
    "# save votes_v6_no_realms\n",
    "pq.write_table(votes_v6_no_realms, \"../parquets_version7/_temp_votes_v6_no_realms.parquet\")"
   ]
  },
  {
   "cell_type": "code",
   "execution_count": 69,
   "metadata": {},
   "outputs": [],
   "source": [
    "import pyarrow.parquet as pq\n",
    "import pyarrow as pa\n",
    "from pyarrow.parquet import ParquetFile\n",
    "votes_v6_no_realms_pf = ParquetFile(\"../parquets_version7/_temp_votes_v6_no_realms.parquet\")\n",
    "for i, record_batch in enumerate(votes_v6_no_realms_pf.iter_batches(batch_size=10000)):\n",
    "    # for the first chunk of records\n",
    "    table = pa.Table.from_batches([record_batch])\n",
    "    if i == 0:\n",
    "        # create a parquet write object giving it an output file\n",
    "        pqwriter = pq.ParquetWriter('../parquets_version7/votes.parquet', table.schema)            \n",
    "    pqwriter.write_table(table)\n",
    "\n",
    "pqwriter.write_table(new_votes_table)\n",
    "\n",
    "# close the parquet writer\n",
    "pqwriter.close()"
   ]
  },
  {
   "cell_type": "code",
   "execution_count": 70,
   "metadata": {},
   "outputs": [
    {
     "name": "stdout",
     "output_type": "stream",
     "text": [
      "Number of rows: 22030614\n",
      "Number of columns: 8\n"
     ]
    }
   ],
   "source": [
    "# read '../parquets_version6/votes.parquet' size without opening\n",
    "with pq.ParquetFile('../parquets_version6/votes.parquet') as pf:\n",
    "    num_rows = pf.metadata.num_rows\n",
    "    num_columns = len(pf.metadata.schema.names)\n",
    "    print(f'Number of rows: {num_rows}')\n",
    "    print(f'Number of columns: {num_columns}')"
   ]
  },
  {
   "cell_type": "code",
   "execution_count": 71,
   "metadata": {},
   "outputs": [
    {
     "name": "stdout",
     "output_type": "stream",
     "text": [
      "Number of rows: 22032447\n",
      "Number of columns: 8\n"
     ]
    }
   ],
   "source": [
    "# read '../parquets_version7/votes.parquet' size without opening\n",
    "with pq.ParquetFile('../parquets_version7/votes.parquet') as pf:\n",
    "    num_rows = pf.metadata.num_rows\n",
    "    num_columns = len(pf.metadata.schema.names)\n",
    "    print(f'Number of rows: {num_rows}')\n",
    "    print(f'Number of columns: {num_columns}')"
   ]
  }
 ],
 "metadata": {
  "kernelspec": {
   "display_name": "Python 3",
   "language": "python",
   "name": "python3"
  },
  "language_info": {
   "codemirror_mode": {
    "name": "ipython",
    "version": 3
   },
   "file_extension": ".py",
   "mimetype": "text/x-python",
   "name": "python",
   "nbconvert_exporter": "python",
   "pygments_lexer": "ipython3",
   "version": "3.11.4"
  },
  "orig_nbformat": 4
 },
 "nbformat": 4,
 "nbformat_minor": 2
}
