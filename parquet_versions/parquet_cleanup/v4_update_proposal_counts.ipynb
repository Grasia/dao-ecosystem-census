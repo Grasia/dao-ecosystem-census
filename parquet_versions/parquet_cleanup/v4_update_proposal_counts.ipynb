{
 "cells": [
  {
   "cell_type": "code",
   "execution_count": 60,
   "metadata": {},
   "outputs": [
    {
     "data": {
      "text/html": [
       "<div>\n",
       "<style scoped>\n",
       "    .dataframe tbody tr th:only-of-type {\n",
       "        vertical-align: middle;\n",
       "    }\n",
       "\n",
       "    .dataframe tbody tr th {\n",
       "        vertical-align: top;\n",
       "    }\n",
       "\n",
       "    .dataframe thead th {\n",
       "        text-align: right;\n",
       "    }\n",
       "</style>\n",
       "<table border=\"1\" class=\"dataframe\">\n",
       "  <thead>\n",
       "    <tr style=\"text-align: right;\">\n",
       "      <th></th>\n",
       "      <th>id</th>\n",
       "      <th>proposal_id</th>\n",
       "      <th>deployment_id</th>\n",
       "      <th>platform_vote_id</th>\n",
       "      <th>voter</th>\n",
       "      <th>date</th>\n",
       "      <th>choice</th>\n",
       "      <th>weight</th>\n",
       "    </tr>\n",
       "  </thead>\n",
       "  <tbody>\n",
       "    <tr>\n",
       "      <th>0</th>\n",
       "      <td>6755eb11-f57b-5841-961b-ededa4411a91</td>\n",
       "      <td>a7f83165-6b46-5aa5-a363-8c803825e9db</td>\n",
       "      <td>f3ef168e-d216-573c-ba95-ff15d29069fe</td>\n",
       "      <td>HFhP5bFDBq6sP54RrkxCir75793686LFCCqbrFRAzgAM</td>\n",
       "      <td>96ZVN79M5QKsJcvXkxuEx9wYWoCYZHtuP1Y8EJhrJyw</td>\n",
       "      <td>NaT</td>\n",
       "      <td>[{'rank': 0, 'weightPercentage': 100}]</td>\n",
       "      <td>1.0</td>\n",
       "    </tr>\n",
       "    <tr>\n",
       "      <th>1</th>\n",
       "      <td>0c79521b-223f-5174-8e00-e7b96bc1b871</td>\n",
       "      <td>a7f83165-6b46-5aa5-a363-8c803825e9db</td>\n",
       "      <td>f3ef168e-d216-573c-ba95-ff15d29069fe</td>\n",
       "      <td>7Cw6ukhy4wuUnFwgqDAA7m7VkVV5QWiGtDRwVmadx5aZ</td>\n",
       "      <td>SQ2t2hU2g5nofFt3D5MhNfaey7QSjEHe5pBEFCPP2F7</td>\n",
       "      <td>NaT</td>\n",
       "      <td>[{'rank': 0, 'weightPercentage': 100}]</td>\n",
       "      <td>1.0</td>\n",
       "    </tr>\n",
       "    <tr>\n",
       "      <th>2</th>\n",
       "      <td>e9895866-0f92-5fd7-945f-3c04dd3692c1</td>\n",
       "      <td>a7f83165-6b46-5aa5-a363-8c803825e9db</td>\n",
       "      <td>f3ef168e-d216-573c-ba95-ff15d29069fe</td>\n",
       "      <td>91z2tkWCnEBo7SyoHogqnnRQURQgi1LEKevwwpa5s3UV</td>\n",
       "      <td>568F8CYYDE9BuKPqw5MzYFqwafDSWagPQMz8XQi19RXq</td>\n",
       "      <td>NaT</td>\n",
       "      <td>[{'rank': 0, 'weightPercentage': 100}]</td>\n",
       "      <td>1.0</td>\n",
       "    </tr>\n",
       "    <tr>\n",
       "      <th>3</th>\n",
       "      <td>e1aada30-aa76-57f1-85d3-9c06da614245</td>\n",
       "      <td>a7f83165-6b46-5aa5-a363-8c803825e9db</td>\n",
       "      <td>f3ef168e-d216-573c-ba95-ff15d29069fe</td>\n",
       "      <td>C2E43Xunhb4xPwcqrb5fvg9MXktJbvUNHGdLiXNKHrci</td>\n",
       "      <td>5qAnY8pqRa4ZyLDmXv8t9eChN52EtZs63SiCPY9KdWJh</td>\n",
       "      <td>NaT</td>\n",
       "      <td>[{'rank': 0, 'weightPercentage': 100}]</td>\n",
       "      <td>1.0</td>\n",
       "    </tr>\n",
       "  </tbody>\n",
       "</table>\n",
       "</div>"
      ],
      "text/plain": [
       "                                     id                           proposal_id  \\\n",
       "0  6755eb11-f57b-5841-961b-ededa4411a91  a7f83165-6b46-5aa5-a363-8c803825e9db   \n",
       "1  0c79521b-223f-5174-8e00-e7b96bc1b871  a7f83165-6b46-5aa5-a363-8c803825e9db   \n",
       "2  e9895866-0f92-5fd7-945f-3c04dd3692c1  a7f83165-6b46-5aa5-a363-8c803825e9db   \n",
       "3  e1aada30-aa76-57f1-85d3-9c06da614245  a7f83165-6b46-5aa5-a363-8c803825e9db   \n",
       "\n",
       "                          deployment_id  \\\n",
       "0  f3ef168e-d216-573c-ba95-ff15d29069fe   \n",
       "1  f3ef168e-d216-573c-ba95-ff15d29069fe   \n",
       "2  f3ef168e-d216-573c-ba95-ff15d29069fe   \n",
       "3  f3ef168e-d216-573c-ba95-ff15d29069fe   \n",
       "\n",
       "                               platform_vote_id  \\\n",
       "0  HFhP5bFDBq6sP54RrkxCir75793686LFCCqbrFRAzgAM   \n",
       "1  7Cw6ukhy4wuUnFwgqDAA7m7VkVV5QWiGtDRwVmadx5aZ   \n",
       "2  91z2tkWCnEBo7SyoHogqnnRQURQgi1LEKevwwpa5s3UV   \n",
       "3  C2E43Xunhb4xPwcqrb5fvg9MXktJbvUNHGdLiXNKHrci   \n",
       "\n",
       "                                          voter date  \\\n",
       "0   96ZVN79M5QKsJcvXkxuEx9wYWoCYZHtuP1Y8EJhrJyw  NaT   \n",
       "1   SQ2t2hU2g5nofFt3D5MhNfaey7QSjEHe5pBEFCPP2F7  NaT   \n",
       "2  568F8CYYDE9BuKPqw5MzYFqwafDSWagPQMz8XQi19RXq  NaT   \n",
       "3  5qAnY8pqRa4ZyLDmXv8t9eChN52EtZs63SiCPY9KdWJh  NaT   \n",
       "\n",
       "                                   choice  weight  \n",
       "0  [{'rank': 0, 'weightPercentage': 100}]     1.0  \n",
       "1  [{'rank': 0, 'weightPercentage': 100}]     1.0  \n",
       "2  [{'rank': 0, 'weightPercentage': 100}]     1.0  \n",
       "3  [{'rank': 0, 'weightPercentage': 100}]     1.0  "
      ]
     },
     "execution_count": 60,
     "metadata": {},
     "output_type": "execute_result"
    }
   ],
   "source": [
    "# read in votes as a duckdb and count the number of votes per proposal\n",
    "import duckdb\n",
    "\n",
    "db = duckdb.connect(database=':memory:', read_only=False)\n",
    "# as view\n",
    "db.execute(\"CREATE VIEW votes AS SELECT * FROM parquet_scan('{}')\".format('../parquets_version3/votes.parquet'))\n",
    "db.execute(\"CREATE VIEW proposals AS SELECT * FROM parquet_scan('{}')\".format('../parquets_version3/proposals.parquet'))\n",
    "# same for deployments\n",
    "db.execute(\"CREATE VIEW deployments AS SELECT * FROM parquet_scan('{}')\".format('../parquets_version3/deployments.parquet'))\n",
    "# select all\n",
    "db.execute(\"SELECT * FROM votes LIMIT 4\").fetchdf()"
   ]
  },
  {
   "cell_type": "code",
   "execution_count": 61,
   "metadata": {},
   "outputs": [
    {
     "data": {
      "text/html": [
       "<div>\n",
       "<style scoped>\n",
       "    .dataframe tbody tr th:only-of-type {\n",
       "        vertical-align: middle;\n",
       "    }\n",
       "\n",
       "    .dataframe tbody tr th {\n",
       "        vertical-align: top;\n",
       "    }\n",
       "\n",
       "    .dataframe thead th {\n",
       "        text-align: right;\n",
       "    }\n",
       "</style>\n",
       "<table border=\"1\" class=\"dataframe\">\n",
       "  <thead>\n",
       "    <tr style=\"text-align: right;\">\n",
       "      <th></th>\n",
       "      <th>count_star()</th>\n",
       "    </tr>\n",
       "  </thead>\n",
       "  <tbody>\n",
       "    <tr>\n",
       "      <th>0</th>\n",
       "      <td>21617900</td>\n",
       "    </tr>\n",
       "  </tbody>\n",
       "</table>\n",
       "</div>"
      ],
      "text/plain": [
       "   count_star()\n",
       "0      21617900"
      ]
     },
     "execution_count": 61,
     "metadata": {},
     "output_type": "execute_result"
    }
   ],
   "source": [
    "# count all votes\n",
    "db.execute(\"SELECT COUNT(*) FROM votes\").fetchdf()"
   ]
  },
  {
   "cell_type": "code",
   "execution_count": 62,
   "metadata": {},
   "outputs": [
    {
     "data": {
      "text/html": [
       "<div>\n",
       "<style scoped>\n",
       "    .dataframe tbody tr th:only-of-type {\n",
       "        vertical-align: middle;\n",
       "    }\n",
       "\n",
       "    .dataframe tbody tr th {\n",
       "        vertical-align: top;\n",
       "    }\n",
       "\n",
       "    .dataframe thead th {\n",
       "        text-align: right;\n",
       "    }\n",
       "</style>\n",
       "<table border=\"1\" class=\"dataframe\">\n",
       "  <thead>\n",
       "    <tr style=\"text-align: right;\">\n",
       "      <th></th>\n",
       "      <th>count_star()</th>\n",
       "    </tr>\n",
       "  </thead>\n",
       "  <tbody>\n",
       "    <tr>\n",
       "      <th>0</th>\n",
       "      <td>205321</td>\n",
       "    </tr>\n",
       "  </tbody>\n",
       "</table>\n",
       "</div>"
      ],
      "text/plain": [
       "   count_star()\n",
       "0        205321"
      ]
     },
     "execution_count": 62,
     "metadata": {},
     "output_type": "execute_result"
    }
   ],
   "source": [
    "# count proposals\n",
    "db.execute(\"SELECT COUNT(*) FROM proposals\").fetchdf()"
   ]
  },
  {
   "cell_type": "code",
   "execution_count": 63,
   "metadata": {},
   "outputs": [
    {
     "data": {
      "text/html": [
       "<div>\n",
       "<style scoped>\n",
       "    .dataframe tbody tr th:only-of-type {\n",
       "        vertical-align: middle;\n",
       "    }\n",
       "\n",
       "    .dataframe tbody tr th {\n",
       "        vertical-align: top;\n",
       "    }\n",
       "\n",
       "    .dataframe thead th {\n",
       "        text-align: right;\n",
       "    }\n",
       "</style>\n",
       "<table border=\"1\" class=\"dataframe\">\n",
       "  <thead>\n",
       "    <tr style=\"text-align: right;\">\n",
       "      <th></th>\n",
       "      <th>count_star()</th>\n",
       "    </tr>\n",
       "  </thead>\n",
       "  <tbody>\n",
       "    <tr>\n",
       "      <th>0</th>\n",
       "      <td>30128</td>\n",
       "    </tr>\n",
       "  </tbody>\n",
       "</table>\n",
       "</div>"
      ],
      "text/plain": [
       "   count_star()\n",
       "0         30128"
      ]
     },
     "execution_count": 63,
     "metadata": {},
     "output_type": "execute_result"
    }
   ],
   "source": [
    "# count deployments\n",
    "db.execute(\"SELECT COUNT(*) FROM deployments\").fetchdf()"
   ]
  },
  {
   "cell_type": "code",
   "execution_count": 64,
   "metadata": {},
   "outputs": [
    {
     "data": {
      "text/html": [
       "<div>\n",
       "<style scoped>\n",
       "    .dataframe tbody tr th:only-of-type {\n",
       "        vertical-align: middle;\n",
       "    }\n",
       "\n",
       "    .dataframe tbody tr th {\n",
       "        vertical-align: top;\n",
       "    }\n",
       "\n",
       "    .dataframe thead th {\n",
       "        text-align: right;\n",
       "    }\n",
       "</style>\n",
       "<table border=\"1\" class=\"dataframe\">\n",
       "  <thead>\n",
       "    <tr style=\"text-align: right;\">\n",
       "      <th></th>\n",
       "      <th>proposal_id</th>\n",
       "      <th>count_star()</th>\n",
       "    </tr>\n",
       "  </thead>\n",
       "  <tbody>\n",
       "    <tr>\n",
       "      <th>0</th>\n",
       "      <td>e9a4ae2d-f45f-5361-9485-59873f5bbca0</td>\n",
       "      <td>2</td>\n",
       "    </tr>\n",
       "    <tr>\n",
       "      <th>1</th>\n",
       "      <td>5badfaf0-fb6b-5050-85ec-9e4a8b97d759</td>\n",
       "      <td>1</td>\n",
       "    </tr>\n",
       "    <tr>\n",
       "      <th>2</th>\n",
       "      <td>e4e5343b-4205-5561-9722-60a80e37fc82</td>\n",
       "      <td>1</td>\n",
       "    </tr>\n",
       "    <tr>\n",
       "      <th>3</th>\n",
       "      <td>b2f87149-e969-5486-b43f-58585a96646b</td>\n",
       "      <td>1</td>\n",
       "    </tr>\n",
       "    <tr>\n",
       "      <th>4</th>\n",
       "      <td>924663af-1ba7-534b-adde-d7bec9b6a3af</td>\n",
       "      <td>2</td>\n",
       "    </tr>\n",
       "    <tr>\n",
       "      <th>...</th>\n",
       "      <td>...</td>\n",
       "      <td>...</td>\n",
       "    </tr>\n",
       "    <tr>\n",
       "      <th>150660</th>\n",
       "      <td>5901cc97-e127-5940-b704-c13b3d50607c</td>\n",
       "      <td>1</td>\n",
       "    </tr>\n",
       "    <tr>\n",
       "      <th>150661</th>\n",
       "      <td>2f6f3dc0-56ab-5905-acd7-8f5e04388432</td>\n",
       "      <td>2</td>\n",
       "    </tr>\n",
       "    <tr>\n",
       "      <th>150662</th>\n",
       "      <td>d40af262-36a1-57cb-8be6-5b3954fb7139</td>\n",
       "      <td>35</td>\n",
       "    </tr>\n",
       "    <tr>\n",
       "      <th>150663</th>\n",
       "      <td>4ad75e43-1b58-58f1-87a8-3dbf3a95f9ed</td>\n",
       "      <td>4</td>\n",
       "    </tr>\n",
       "    <tr>\n",
       "      <th>150664</th>\n",
       "      <td>e83de1b4-3cbe-5593-9e76-bdb8a316a5ba</td>\n",
       "      <td>1</td>\n",
       "    </tr>\n",
       "  </tbody>\n",
       "</table>\n",
       "<p>150665 rows × 2 columns</p>\n",
       "</div>"
      ],
      "text/plain": [
       "                                 proposal_id  count_star()\n",
       "0       e9a4ae2d-f45f-5361-9485-59873f5bbca0             2\n",
       "1       5badfaf0-fb6b-5050-85ec-9e4a8b97d759             1\n",
       "2       e4e5343b-4205-5561-9722-60a80e37fc82             1\n",
       "3       b2f87149-e969-5486-b43f-58585a96646b             1\n",
       "4       924663af-1ba7-534b-adde-d7bec9b6a3af             2\n",
       "...                                      ...           ...\n",
       "150660  5901cc97-e127-5940-b704-c13b3d50607c             1\n",
       "150661  2f6f3dc0-56ab-5905-acd7-8f5e04388432             2\n",
       "150662  d40af262-36a1-57cb-8be6-5b3954fb7139            35\n",
       "150663  4ad75e43-1b58-58f1-87a8-3dbf3a95f9ed             4\n",
       "150664  e83de1b4-3cbe-5593-9e76-bdb8a316a5ba             1\n",
       "\n",
       "[150665 rows x 2 columns]"
      ]
     },
     "execution_count": 64,
     "metadata": {},
     "output_type": "execute_result"
    }
   ],
   "source": [
    "# group by proposal_id and count\n",
    "db.execute(\"SELECT proposal_id, COUNT(*) FROM votes GROUP BY proposal_id\").fetchdf()"
   ]
  },
  {
   "cell_type": "code",
   "execution_count": 65,
   "metadata": {},
   "outputs": [
    {
     "data": {
      "text/html": [
       "<div>\n",
       "<style scoped>\n",
       "    .dataframe tbody tr th:only-of-type {\n",
       "        vertical-align: middle;\n",
       "    }\n",
       "\n",
       "    .dataframe tbody tr th {\n",
       "        vertical-align: top;\n",
       "    }\n",
       "\n",
       "    .dataframe thead th {\n",
       "        text-align: right;\n",
       "    }\n",
       "</style>\n",
       "<table border=\"1\" class=\"dataframe\">\n",
       "  <thead>\n",
       "    <tr style=\"text-align: right;\">\n",
       "      <th></th>\n",
       "      <th>id</th>\n",
       "      <th>deployment_id</th>\n",
       "      <th>platform_proposal_id</th>\n",
       "      <th>author</th>\n",
       "      <th>date</th>\n",
       "      <th>votes_count</th>\n",
       "      <th>platform</th>\n",
       "      <th>count</th>\n",
       "    </tr>\n",
       "  </thead>\n",
       "  <tbody>\n",
       "    <tr>\n",
       "      <th>0</th>\n",
       "      <td>5badfaf0-fb6b-5050-85ec-9e4a8b97d759</td>\n",
       "      <td>167ec1a5-0bec-5fde-9496-5caa7d004487</td>\n",
       "      <td>EUrU9LLfbEqra1TXZXhYKpJfvYhKLJJuVy1weZNUnt4G</td>\n",
       "      <td>nan</td>\n",
       "      <td>2022-10-30 18:30:31</td>\n",
       "      <td>1</td>\n",
       "      <td>realms</td>\n",
       "      <td>1.0</td>\n",
       "    </tr>\n",
       "    <tr>\n",
       "      <th>1</th>\n",
       "      <td>e4e5343b-4205-5561-9722-60a80e37fc82</td>\n",
       "      <td>42d9f322-1f55-58a3-83c4-9fc82666559b</td>\n",
       "      <td>DsaGqF8tpiQqwJGxGP6JXAWUo9L623jWBnexHuxEkrZ3</td>\n",
       "      <td>nan</td>\n",
       "      <td>2022-06-02 07:58:12</td>\n",
       "      <td>1</td>\n",
       "      <td>realms</td>\n",
       "      <td>1.0</td>\n",
       "    </tr>\n",
       "    <tr>\n",
       "      <th>2</th>\n",
       "      <td>924663af-1ba7-534b-adde-d7bec9b6a3af</td>\n",
       "      <td>881167d8-3707-5640-9716-ab77768b4ebe</td>\n",
       "      <td>5dDX6gBPGfTeuQdV93aNL6PtTMFxCXXiYVFMxzD7kJdc</td>\n",
       "      <td>nan</td>\n",
       "      <td>2022-03-24 13:42:45</td>\n",
       "      <td>2</td>\n",
       "      <td>realms</td>\n",
       "      <td>2.0</td>\n",
       "    </tr>\n",
       "    <tr>\n",
       "      <th>3</th>\n",
       "      <td>b4bd6548-2898-5523-aab2-24d40aab3910</td>\n",
       "      <td>881167d8-3707-5640-9716-ab77768b4ebe</td>\n",
       "      <td>8icCe6sAdDQCnMg9a3LQVsRH8vyT2UdYE64ET7Uk232n</td>\n",
       "      <td>nan</td>\n",
       "      <td>2022-09-22 23:30:14</td>\n",
       "      <td>2</td>\n",
       "      <td>realms</td>\n",
       "      <td>2.0</td>\n",
       "    </tr>\n",
       "    <tr>\n",
       "      <th>4</th>\n",
       "      <td>d9368ff7-ec0f-5747-a7ca-827a746415ab</td>\n",
       "      <td>fbbc05e2-7149-5eed-9899-c9a83eea5545</td>\n",
       "      <td>HJFtqkKE9sxmMqYaHK8LeoFbibufZMzDn8UWdzJbJWyc</td>\n",
       "      <td>nan</td>\n",
       "      <td>2022-02-16 04:05:58</td>\n",
       "      <td>1</td>\n",
       "      <td>realms</td>\n",
       "      <td>1.0</td>\n",
       "    </tr>\n",
       "  </tbody>\n",
       "</table>\n",
       "</div>"
      ],
      "text/plain": [
       "                                     id                         deployment_id  \\\n",
       "0  5badfaf0-fb6b-5050-85ec-9e4a8b97d759  167ec1a5-0bec-5fde-9496-5caa7d004487   \n",
       "1  e4e5343b-4205-5561-9722-60a80e37fc82  42d9f322-1f55-58a3-83c4-9fc82666559b   \n",
       "2  924663af-1ba7-534b-adde-d7bec9b6a3af  881167d8-3707-5640-9716-ab77768b4ebe   \n",
       "3  b4bd6548-2898-5523-aab2-24d40aab3910  881167d8-3707-5640-9716-ab77768b4ebe   \n",
       "4  d9368ff7-ec0f-5747-a7ca-827a746415ab  fbbc05e2-7149-5eed-9899-c9a83eea5545   \n",
       "\n",
       "                           platform_proposal_id author                 date  \\\n",
       "0  EUrU9LLfbEqra1TXZXhYKpJfvYhKLJJuVy1weZNUnt4G    nan  2022-10-30 18:30:31   \n",
       "1  DsaGqF8tpiQqwJGxGP6JXAWUo9L623jWBnexHuxEkrZ3    nan  2022-06-02 07:58:12   \n",
       "2  5dDX6gBPGfTeuQdV93aNL6PtTMFxCXXiYVFMxzD7kJdc    nan  2022-03-24 13:42:45   \n",
       "3  8icCe6sAdDQCnMg9a3LQVsRH8vyT2UdYE64ET7Uk232n    nan  2022-09-22 23:30:14   \n",
       "4  HJFtqkKE9sxmMqYaHK8LeoFbibufZMzDn8UWdzJbJWyc    nan  2022-02-16 04:05:58   \n",
       "\n",
       "   votes_count platform  count  \n",
       "0            1   realms    1.0  \n",
       "1            1   realms    1.0  \n",
       "2            2   realms    2.0  \n",
       "3            2   realms    2.0  \n",
       "4            1   realms    1.0  "
      ]
     },
     "execution_count": 65,
     "metadata": {},
     "output_type": "execute_result"
    }
   ],
   "source": [
    "# write a query to select all from the proposals table and join it with a count of votes from the votes table\n",
    "query = \"\"\"\n",
    "SELECT p.*, v.count\n",
    "FROM proposals p\n",
    "LEFT JOIN (\n",
    "    SELECT proposal_id, COUNT(*) as count\n",
    "    FROM votes\n",
    "    GROUP BY proposal_id\n",
    ") v ON p.id = v.proposal_id\n",
    "\"\"\"\n",
    "proposals_with_count = db.execute(query)\n",
    "proposals_with_updated_count = proposals_with_count.fetchdf()\n",
    "proposals_with_updated_count.head()"
   ]
  },
  {
   "cell_type": "code",
   "execution_count": 66,
   "metadata": {},
   "outputs": [
    {
     "data": {
      "text/plain": [
       "54762"
      ]
     },
     "execution_count": 66,
     "metadata": {},
     "output_type": "execute_result"
    }
   ],
   "source": [
    "# count nan values in 'count'\n",
    "proposals_with_updated_count['count'].isna().sum()"
   ]
  },
  {
   "cell_type": "code",
   "execution_count": 67,
   "metadata": {},
   "outputs": [
    {
     "data": {
      "text/plain": [
       "150559"
      ]
     },
     "execution_count": 67,
     "metadata": {},
     "output_type": "execute_result"
    }
   ],
   "source": [
    "# and non-nan values\n",
    "proposals_with_updated_count['count'].notna().sum()"
   ]
  },
  {
   "cell_type": "code",
   "execution_count": 68,
   "metadata": {},
   "outputs": [
    {
     "data": {
      "text/html": [
       "<div>\n",
       "<style scoped>\n",
       "    .dataframe tbody tr th:only-of-type {\n",
       "        vertical-align: middle;\n",
       "    }\n",
       "\n",
       "    .dataframe tbody tr th {\n",
       "        vertical-align: top;\n",
       "    }\n",
       "\n",
       "    .dataframe thead th {\n",
       "        text-align: right;\n",
       "    }\n",
       "</style>\n",
       "<table border=\"1\" class=\"dataframe\">\n",
       "  <thead>\n",
       "    <tr style=\"text-align: right;\">\n",
       "      <th></th>\n",
       "      <th>id</th>\n",
       "      <th>deployment_id</th>\n",
       "      <th>platform_proposal_id</th>\n",
       "      <th>author</th>\n",
       "      <th>date</th>\n",
       "      <th>votes_count</th>\n",
       "      <th>platform</th>\n",
       "      <th>count</th>\n",
       "    </tr>\n",
       "  </thead>\n",
       "  <tbody>\n",
       "    <tr>\n",
       "      <th>0</th>\n",
       "      <td>5badfaf0-fb6b-5050-85ec-9e4a8b97d759</td>\n",
       "      <td>167ec1a5-0bec-5fde-9496-5caa7d004487</td>\n",
       "      <td>EUrU9LLfbEqra1TXZXhYKpJfvYhKLJJuVy1weZNUnt4G</td>\n",
       "      <td>nan</td>\n",
       "      <td>2022-10-30 18:30:31</td>\n",
       "      <td>1</td>\n",
       "      <td>realms</td>\n",
       "      <td>1</td>\n",
       "    </tr>\n",
       "    <tr>\n",
       "      <th>1</th>\n",
       "      <td>e4e5343b-4205-5561-9722-60a80e37fc82</td>\n",
       "      <td>42d9f322-1f55-58a3-83c4-9fc82666559b</td>\n",
       "      <td>DsaGqF8tpiQqwJGxGP6JXAWUo9L623jWBnexHuxEkrZ3</td>\n",
       "      <td>nan</td>\n",
       "      <td>2022-06-02 07:58:12</td>\n",
       "      <td>1</td>\n",
       "      <td>realms</td>\n",
       "      <td>1</td>\n",
       "    </tr>\n",
       "    <tr>\n",
       "      <th>2</th>\n",
       "      <td>924663af-1ba7-534b-adde-d7bec9b6a3af</td>\n",
       "      <td>881167d8-3707-5640-9716-ab77768b4ebe</td>\n",
       "      <td>5dDX6gBPGfTeuQdV93aNL6PtTMFxCXXiYVFMxzD7kJdc</td>\n",
       "      <td>nan</td>\n",
       "      <td>2022-03-24 13:42:45</td>\n",
       "      <td>2</td>\n",
       "      <td>realms</td>\n",
       "      <td>2</td>\n",
       "    </tr>\n",
       "    <tr>\n",
       "      <th>3</th>\n",
       "      <td>b4bd6548-2898-5523-aab2-24d40aab3910</td>\n",
       "      <td>881167d8-3707-5640-9716-ab77768b4ebe</td>\n",
       "      <td>8icCe6sAdDQCnMg9a3LQVsRH8vyT2UdYE64ET7Uk232n</td>\n",
       "      <td>nan</td>\n",
       "      <td>2022-09-22 23:30:14</td>\n",
       "      <td>2</td>\n",
       "      <td>realms</td>\n",
       "      <td>2</td>\n",
       "    </tr>\n",
       "    <tr>\n",
       "      <th>4</th>\n",
       "      <td>d9368ff7-ec0f-5747-a7ca-827a746415ab</td>\n",
       "      <td>fbbc05e2-7149-5eed-9899-c9a83eea5545</td>\n",
       "      <td>HJFtqkKE9sxmMqYaHK8LeoFbibufZMzDn8UWdzJbJWyc</td>\n",
       "      <td>nan</td>\n",
       "      <td>2022-02-16 04:05:58</td>\n",
       "      <td>1</td>\n",
       "      <td>realms</td>\n",
       "      <td>1</td>\n",
       "    </tr>\n",
       "  </tbody>\n",
       "</table>\n",
       "</div>"
      ],
      "text/plain": [
       "                                     id                         deployment_id  \\\n",
       "0  5badfaf0-fb6b-5050-85ec-9e4a8b97d759  167ec1a5-0bec-5fde-9496-5caa7d004487   \n",
       "1  e4e5343b-4205-5561-9722-60a80e37fc82  42d9f322-1f55-58a3-83c4-9fc82666559b   \n",
       "2  924663af-1ba7-534b-adde-d7bec9b6a3af  881167d8-3707-5640-9716-ab77768b4ebe   \n",
       "3  b4bd6548-2898-5523-aab2-24d40aab3910  881167d8-3707-5640-9716-ab77768b4ebe   \n",
       "4  d9368ff7-ec0f-5747-a7ca-827a746415ab  fbbc05e2-7149-5eed-9899-c9a83eea5545   \n",
       "\n",
       "                           platform_proposal_id author                 date  \\\n",
       "0  EUrU9LLfbEqra1TXZXhYKpJfvYhKLJJuVy1weZNUnt4G    nan  2022-10-30 18:30:31   \n",
       "1  DsaGqF8tpiQqwJGxGP6JXAWUo9L623jWBnexHuxEkrZ3    nan  2022-06-02 07:58:12   \n",
       "2  5dDX6gBPGfTeuQdV93aNL6PtTMFxCXXiYVFMxzD7kJdc    nan  2022-03-24 13:42:45   \n",
       "3  8icCe6sAdDQCnMg9a3LQVsRH8vyT2UdYE64ET7Uk232n    nan  2022-09-22 23:30:14   \n",
       "4  HJFtqkKE9sxmMqYaHK8LeoFbibufZMzDn8UWdzJbJWyc    nan  2022-02-16 04:05:58   \n",
       "\n",
       "   votes_count platform  count  \n",
       "0            1   realms      1  \n",
       "1            1   realms      1  \n",
       "2            2   realms      2  \n",
       "3            2   realms      2  \n",
       "4            1   realms      1  "
      ]
     },
     "execution_count": 68,
     "metadata": {},
     "output_type": "execute_result"
    }
   ],
   "source": [
    "# fill nas with 0\n",
    "proposals_with_updated_count['count'] = proposals_with_updated_count['count'].fillna(0)\n",
    "# make col an int\n",
    "proposals_with_updated_count['count'] = proposals_with_updated_count['count'].astype(int)\n",
    "proposals_with_updated_count.head()"
   ]
  },
  {
   "cell_type": "code",
   "execution_count": 69,
   "metadata": {},
   "outputs": [
    {
     "data": {
      "text/plain": [
       "<Axes: xlabel='votes_count', ylabel='count'>"
      ]
     },
     "execution_count": 69,
     "metadata": {},
     "output_type": "execute_result"
    },
    {
     "data": {
      "image/png": "[encoded data removed]",
      "text/plain": [
       "<Figure size 640x480 with 1 Axes>"
      ]
     },
     "metadata": {},
     "output_type": "display_data"
    }
   ],
   "source": [
    "# plot scatter votes_count vs count\n",
    "proposals_with_updated_count.plot.scatter(x='votes_count', y='count', loglog=True, alpha=0.05)"
   ]
  },
  {
   "cell_type": "code",
   "execution_count": 70,
   "metadata": {},
   "outputs": [
    {
     "data": {
      "text/plain": [
       "<Axes: xlabel='votes_count', ylabel='count'>"
      ]
     },
     "execution_count": 70,
     "metadata": {},
     "output_type": "execute_result"
    },
    {
     "data": {
      "image/png": "[encoded data removed]",
      "text/plain": [
       "<Figure size 640x480 with 1 Axes>"
      ]
     },
     "metadata": {},
     "output_type": "display_data"
    }
   ],
   "source": [
    "# plot again without loglog and max 1000 votes, opacity 0.05\n",
    "proposals_with_updated_count[proposals_with_updated_count['votes_count'] < 1000].plot.scatter(x='votes_count', y='count', alpha=0.05)"
   ]
  },
  {
   "cell_type": "code",
   "execution_count": 71,
   "metadata": {},
   "outputs": [],
   "source": [
    "# the line at the bottom could indicate that we are missing votes, i.e.,\n",
    "# platforms that report votes_count as 200 but we actually only have 0"
   ]
  },
  {
   "cell_type": "code",
   "execution_count": 72,
   "metadata": {},
   "outputs": [
    {
     "data": {
      "text/plain": [
       "0.9999788784926288"
      ]
     },
     "execution_count": 72,
     "metadata": {},
     "output_type": "execute_result"
    }
   ],
   "source": [
    "# some variation, but not too much\n",
    "# what's the correlation?\n",
    "proposals_with_updated_count['votes_count'].corr(proposals_with_updated_count['count'])"
   ]
  },
  {
   "cell_type": "code",
   "execution_count": 73,
   "metadata": {},
   "outputs": [
    {
     "data": {
      "text/html": [
       "<div>\n",
       "<style scoped>\n",
       "    .dataframe tbody tr th:only-of-type {\n",
       "        vertical-align: middle;\n",
       "    }\n",
       "\n",
       "    .dataframe tbody tr th {\n",
       "        vertical-align: top;\n",
       "    }\n",
       "\n",
       "    .dataframe thead th {\n",
       "        text-align: right;\n",
       "    }\n",
       "</style>\n",
       "<table border=\"1\" class=\"dataframe\">\n",
       "  <thead>\n",
       "    <tr style=\"text-align: right;\">\n",
       "      <th></th>\n",
       "      <th>id</th>\n",
       "      <th>deployment_id</th>\n",
       "      <th>platform_proposal_id</th>\n",
       "      <th>author</th>\n",
       "      <th>date</th>\n",
       "      <th>platform</th>\n",
       "      <th>count</th>\n",
       "    </tr>\n",
       "  </thead>\n",
       "  <tbody>\n",
       "    <tr>\n",
       "      <th>0</th>\n",
       "      <td>5badfaf0-fb6b-5050-85ec-9e4a8b97d759</td>\n",
       "      <td>167ec1a5-0bec-5fde-9496-5caa7d004487</td>\n",
       "      <td>EUrU9LLfbEqra1TXZXhYKpJfvYhKLJJuVy1weZNUnt4G</td>\n",
       "      <td>nan</td>\n",
       "      <td>2022-10-30 18:30:31</td>\n",
       "      <td>realms</td>\n",
       "      <td>1</td>\n",
       "    </tr>\n",
       "    <tr>\n",
       "      <th>1</th>\n",
       "      <td>e4e5343b-4205-5561-9722-60a80e37fc82</td>\n",
       "      <td>42d9f322-1f55-58a3-83c4-9fc82666559b</td>\n",
       "      <td>DsaGqF8tpiQqwJGxGP6JXAWUo9L623jWBnexHuxEkrZ3</td>\n",
       "      <td>nan</td>\n",
       "      <td>2022-06-02 07:58:12</td>\n",
       "      <td>realms</td>\n",
       "      <td>1</td>\n",
       "    </tr>\n",
       "    <tr>\n",
       "      <th>2</th>\n",
       "      <td>924663af-1ba7-534b-adde-d7bec9b6a3af</td>\n",
       "      <td>881167d8-3707-5640-9716-ab77768b4ebe</td>\n",
       "      <td>5dDX6gBPGfTeuQdV93aNL6PtTMFxCXXiYVFMxzD7kJdc</td>\n",
       "      <td>nan</td>\n",
       "      <td>2022-03-24 13:42:45</td>\n",
       "      <td>realms</td>\n",
       "      <td>2</td>\n",
       "    </tr>\n",
       "    <tr>\n",
       "      <th>3</th>\n",
       "      <td>b4bd6548-2898-5523-aab2-24d40aab3910</td>\n",
       "      <td>881167d8-3707-5640-9716-ab77768b4ebe</td>\n",
       "      <td>8icCe6sAdDQCnMg9a3LQVsRH8vyT2UdYE64ET7Uk232n</td>\n",
       "      <td>nan</td>\n",
       "      <td>2022-09-22 23:30:14</td>\n",
       "      <td>realms</td>\n",
       "      <td>2</td>\n",
       "    </tr>\n",
       "    <tr>\n",
       "      <th>4</th>\n",
       "      <td>d9368ff7-ec0f-5747-a7ca-827a746415ab</td>\n",
       "      <td>fbbc05e2-7149-5eed-9899-c9a83eea5545</td>\n",
       "      <td>HJFtqkKE9sxmMqYaHK8LeoFbibufZMzDn8UWdzJbJWyc</td>\n",
       "      <td>nan</td>\n",
       "      <td>2022-02-16 04:05:58</td>\n",
       "      <td>realms</td>\n",
       "      <td>1</td>\n",
       "    </tr>\n",
       "  </tbody>\n",
       "</table>\n",
       "</div>"
      ],
      "text/plain": [
       "                                     id                         deployment_id  \\\n",
       "0  5badfaf0-fb6b-5050-85ec-9e4a8b97d759  167ec1a5-0bec-5fde-9496-5caa7d004487   \n",
       "1  e4e5343b-4205-5561-9722-60a80e37fc82  42d9f322-1f55-58a3-83c4-9fc82666559b   \n",
       "2  924663af-1ba7-534b-adde-d7bec9b6a3af  881167d8-3707-5640-9716-ab77768b4ebe   \n",
       "3  b4bd6548-2898-5523-aab2-24d40aab3910  881167d8-3707-5640-9716-ab77768b4ebe   \n",
       "4  d9368ff7-ec0f-5747-a7ca-827a746415ab  fbbc05e2-7149-5eed-9899-c9a83eea5545   \n",
       "\n",
       "                           platform_proposal_id author                 date  \\\n",
       "0  EUrU9LLfbEqra1TXZXhYKpJfvYhKLJJuVy1weZNUnt4G    nan  2022-10-30 18:30:31   \n",
       "1  DsaGqF8tpiQqwJGxGP6JXAWUo9L623jWBnexHuxEkrZ3    nan  2022-06-02 07:58:12   \n",
       "2  5dDX6gBPGfTeuQdV93aNL6PtTMFxCXXiYVFMxzD7kJdc    nan  2022-03-24 13:42:45   \n",
       "3  8icCe6sAdDQCnMg9a3LQVsRH8vyT2UdYE64ET7Uk232n    nan  2022-09-22 23:30:14   \n",
       "4  HJFtqkKE9sxmMqYaHK8LeoFbibufZMzDn8UWdzJbJWyc    nan  2022-02-16 04:05:58   \n",
       "\n",
       "  platform  count  \n",
       "0   realms      1  \n",
       "1   realms      1  \n",
       "2   realms      2  \n",
       "3   realms      2  \n",
       "4   realms      1  "
      ]
     },
     "execution_count": 73,
     "metadata": {},
     "output_type": "execute_result"
    }
   ],
   "source": [
    "proposals_with_updated_count = proposals_with_updated_count.drop(columns=['votes_count'])\n",
    "proposals_with_updated_count.head()"
   ]
  },
  {
   "cell_type": "code",
   "execution_count": 74,
   "metadata": {},
   "outputs": [
    {
     "data": {
      "text/html": [
       "<div>\n",
       "<style scoped>\n",
       "    .dataframe tbody tr th:only-of-type {\n",
       "        vertical-align: middle;\n",
       "    }\n",
       "\n",
       "    .dataframe tbody tr th {\n",
       "        vertical-align: top;\n",
       "    }\n",
       "\n",
       "    .dataframe thead th {\n",
       "        text-align: right;\n",
       "    }\n",
       "</style>\n",
       "<table border=\"1\" class=\"dataframe\">\n",
       "  <thead>\n",
       "    <tr style=\"text-align: right;\">\n",
       "      <th></th>\n",
       "      <th>id</th>\n",
       "      <th>deployment_id</th>\n",
       "      <th>platform_proposal_id</th>\n",
       "      <th>author</th>\n",
       "      <th>date</th>\n",
       "      <th>votes_count</th>\n",
       "      <th>platform</th>\n",
       "    </tr>\n",
       "  </thead>\n",
       "  <tbody>\n",
       "    <tr>\n",
       "      <th>0</th>\n",
       "      <td>5badfaf0-fb6b-5050-85ec-9e4a8b97d759</td>\n",
       "      <td>167ec1a5-0bec-5fde-9496-5caa7d004487</td>\n",
       "      <td>EUrU9LLfbEqra1TXZXhYKpJfvYhKLJJuVy1weZNUnt4G</td>\n",
       "      <td>nan</td>\n",
       "      <td>2022-10-30 18:30:31</td>\n",
       "      <td>1</td>\n",
       "      <td>realms</td>\n",
       "    </tr>\n",
       "    <tr>\n",
       "      <th>1</th>\n",
       "      <td>e4e5343b-4205-5561-9722-60a80e37fc82</td>\n",
       "      <td>42d9f322-1f55-58a3-83c4-9fc82666559b</td>\n",
       "      <td>DsaGqF8tpiQqwJGxGP6JXAWUo9L623jWBnexHuxEkrZ3</td>\n",
       "      <td>nan</td>\n",
       "      <td>2022-06-02 07:58:12</td>\n",
       "      <td>1</td>\n",
       "      <td>realms</td>\n",
       "    </tr>\n",
       "    <tr>\n",
       "      <th>2</th>\n",
       "      <td>924663af-1ba7-534b-adde-d7bec9b6a3af</td>\n",
       "      <td>881167d8-3707-5640-9716-ab77768b4ebe</td>\n",
       "      <td>5dDX6gBPGfTeuQdV93aNL6PtTMFxCXXiYVFMxzD7kJdc</td>\n",
       "      <td>nan</td>\n",
       "      <td>2022-03-24 13:42:45</td>\n",
       "      <td>2</td>\n",
       "      <td>realms</td>\n",
       "    </tr>\n",
       "    <tr>\n",
       "      <th>3</th>\n",
       "      <td>b4bd6548-2898-5523-aab2-24d40aab3910</td>\n",
       "      <td>881167d8-3707-5640-9716-ab77768b4ebe</td>\n",
       "      <td>8icCe6sAdDQCnMg9a3LQVsRH8vyT2UdYE64ET7Uk232n</td>\n",
       "      <td>nan</td>\n",
       "      <td>2022-09-22 23:30:14</td>\n",
       "      <td>2</td>\n",
       "      <td>realms</td>\n",
       "    </tr>\n",
       "    <tr>\n",
       "      <th>4</th>\n",
       "      <td>d9368ff7-ec0f-5747-a7ca-827a746415ab</td>\n",
       "      <td>fbbc05e2-7149-5eed-9899-c9a83eea5545</td>\n",
       "      <td>HJFtqkKE9sxmMqYaHK8LeoFbibufZMzDn8UWdzJbJWyc</td>\n",
       "      <td>nan</td>\n",
       "      <td>2022-02-16 04:05:58</td>\n",
       "      <td>1</td>\n",
       "      <td>realms</td>\n",
       "    </tr>\n",
       "  </tbody>\n",
       "</table>\n",
       "</div>"
      ],
      "text/plain": [
       "                                     id                         deployment_id  \\\n",
       "0  5badfaf0-fb6b-5050-85ec-9e4a8b97d759  167ec1a5-0bec-5fde-9496-5caa7d004487   \n",
       "1  e4e5343b-4205-5561-9722-60a80e37fc82  42d9f322-1f55-58a3-83c4-9fc82666559b   \n",
       "2  924663af-1ba7-534b-adde-d7bec9b6a3af  881167d8-3707-5640-9716-ab77768b4ebe   \n",
       "3  b4bd6548-2898-5523-aab2-24d40aab3910  881167d8-3707-5640-9716-ab77768b4ebe   \n",
       "4  d9368ff7-ec0f-5747-a7ca-827a746415ab  fbbc05e2-7149-5eed-9899-c9a83eea5545   \n",
       "\n",
       "                           platform_proposal_id author                 date  \\\n",
       "0  EUrU9LLfbEqra1TXZXhYKpJfvYhKLJJuVy1weZNUnt4G    nan  2022-10-30 18:30:31   \n",
       "1  DsaGqF8tpiQqwJGxGP6JXAWUo9L623jWBnexHuxEkrZ3    nan  2022-06-02 07:58:12   \n",
       "2  5dDX6gBPGfTeuQdV93aNL6PtTMFxCXXiYVFMxzD7kJdc    nan  2022-03-24 13:42:45   \n",
       "3  8icCe6sAdDQCnMg9a3LQVsRH8vyT2UdYE64ET7Uk232n    nan  2022-09-22 23:30:14   \n",
       "4  HJFtqkKE9sxmMqYaHK8LeoFbibufZMzDn8UWdzJbJWyc    nan  2022-02-16 04:05:58   \n",
       "\n",
       "   votes_count platform  \n",
       "0            1   realms  \n",
       "1            1   realms  \n",
       "2            2   realms  \n",
       "3            2   realms  \n",
       "4            1   realms  "
      ]
     },
     "execution_count": 74,
     "metadata": {},
     "output_type": "execute_result"
    }
   ],
   "source": [
    "# rename count to votes_count\n",
    "proposals_with_updated_count = proposals_with_updated_count.rename(columns={'count': 'votes_count'})\n",
    "proposals_with_updated_count = proposals_with_updated_count[[\n",
    "    'id',\n",
    "    'deployment_id',\n",
    "    'platform_proposal_id',\n",
    "    'author',\n",
    "    'date',\n",
    "    'votes_count',\n",
    "    'platform'\n",
    "]]\n",
    "proposals_with_updated_count.head()"
   ]
  },
  {
   "cell_type": "code",
   "execution_count": 75,
   "metadata": {},
   "outputs": [
    {
     "data": {
      "text/plain": [
       "id: string\n",
       "deployment_id: string\n",
       "platform_proposal_id: string\n",
       "author: string\n",
       "date: string\n",
       "votes_count: int64\n",
       "platform: string"
      ]
     },
     "execution_count": 75,
     "metadata": {},
     "output_type": "execute_result"
    }
   ],
   "source": [
    "# load up the original proposals table to confirm schema\n",
    "import pyarrow.parquet as pq\n",
    "proposals = pq.read_table('../parquets_version3/proposals.parquet')\n",
    "proposals.schema"
   ]
  },
  {
   "cell_type": "code",
   "execution_count": 77,
   "metadata": {},
   "outputs": [
    {
     "data": {
      "text/plain": [
       "id: string\n",
       "deployment_id: string\n",
       "platform_proposal_id: string\n",
       "author: string\n",
       "date: string\n",
       "votes_count: int64\n",
       "platform: string\n",
       "-- schema metadata --\n",
       "pandas: '{\"index_columns\": [{\"kind\": \"range\", \"name\": null, \"start\": 0, \"' + 1089"
      ]
     },
     "execution_count": 77,
     "metadata": {},
     "output_type": "execute_result"
    }
   ],
   "source": [
    "# make to pyarrow table\n",
    "import pyarrow as pa\n",
    "proposals_with_updated_count_table = pa.Table.from_pandas(proposals_with_updated_count)\n",
    "proposals_with_updated_count_table.schema"
   ]
  },
  {
   "cell_type": "code",
   "execution_count": 79,
   "metadata": {},
   "outputs": [],
   "source": [
    "# save in version 4\n",
    "pq.write_table(proposals_with_updated_count_table, '../parquets_version4/proposals.parquet')"
   ]
  }
 ],
 "metadata": {
  "kernelspec": {
   "display_name": "Python 3",
   "language": "python",
   "name": "python3"
  },
  "language_info": {
   "codemirror_mode": {
    "name": "ipython",
    "version": 3
   },
   "file_extension": ".py",
   "mimetype": "text/x-python",
   "name": "python",
   "nbconvert_exporter": "python",
   "pygments_lexer": "ipython3",
   "version": "3.11.4"
  },
  "orig_nbformat": 4
 },
 "nbformat": 4,
 "nbformat_minor": 2
}
