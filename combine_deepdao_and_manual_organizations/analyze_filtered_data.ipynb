{
 "cells": [
  {
   "cell_type": "code",
   "execution_count": 37,
   "metadata": {},
   "outputs": [
    {
     "data": {
      "text/html": [
       "<div>\n",
       "<style scoped>\n",
       "    .dataframe tbody tr th:only-of-type {\n",
       "        vertical-align: middle;\n",
       "    }\n",
       "\n",
       "    .dataframe tbody tr th {\n",
       "        vertical-align: top;\n",
       "    }\n",
       "\n",
       "    .dataframe thead th {\n",
       "        text-align: right;\n",
       "    }\n",
       "</style>\n",
       "<table border=\"1\" class=\"dataframe\">\n",
       "  <thead>\n",
       "    <tr style=\"text-align: right;\">\n",
       "      <th></th>\n",
       "      <th>organization_id</th>\n",
       "      <th>platform_id</th>\n",
       "      <th>platform</th>\n",
       "      <th>name</th>\n",
       "      <th>votes_count</th>\n",
       "      <th>proposals_count</th>\n",
       "      <th>website</th>\n",
       "      <th>additional</th>\n",
       "      <th>organization_type</th>\n",
       "    </tr>\n",
       "  </thead>\n",
       "  <tbody>\n",
       "    <tr>\n",
       "      <th>0</th>\n",
       "      <td>005ea4e2-624a-46f0-a7cd-1967d95d4092</td>\n",
       "      <td>jamm</td>\n",
       "      <td>snapshot</td>\n",
       "      <td>JAMM</td>\n",
       "      <td>90</td>\n",
       "      <td>17</td>\n",
       "      <td>https://snapshot.org/#/jamm</td>\n",
       "      <td>NaN</td>\n",
       "      <td>deepdao</td>\n",
       "    </tr>\n",
       "    <tr>\n",
       "      <th>1</th>\n",
       "      <td>00629fde-3af9-5b54-8135-c3d5a78b9c30</td>\n",
       "      <td>nuetaalumniassociation.eth</td>\n",
       "      <td>snapshot</td>\n",
       "      <td>Nu Eta Alumni Association</td>\n",
       "      <td>84</td>\n",
       "      <td>30</td>\n",
       "      <td>https://snapshot.org/#/nuetaalumniassociation.eth</td>\n",
       "      <td>NaN</td>\n",
       "      <td>single</td>\n",
       "    </tr>\n",
       "    <tr>\n",
       "      <th>2</th>\n",
       "      <td>007486f5-4ac2-5c2a-9959-a125213e8966</td>\n",
       "      <td>0x.me.eth.id</td>\n",
       "      <td>snapshot</td>\n",
       "      <td>0xme</td>\n",
       "      <td>61</td>\n",
       "      <td>31</td>\n",
       "      <td>https://snapshot.org/#/0x.me.eth.id</td>\n",
       "      <td>NaN</td>\n",
       "      <td>single</td>\n",
       "    </tr>\n",
       "    <tr>\n",
       "      <th>3</th>\n",
       "      <td>008e1906-6dac-5870-bdfd-14a1ae86aab3</td>\n",
       "      <td>ethlyn.eth</td>\n",
       "      <td>snapshot</td>\n",
       "      <td>SebastianMagpuDAO</td>\n",
       "      <td>157</td>\n",
       "      <td>17</td>\n",
       "      <td>https://snapshot.org/#/ethlyn.eth</td>\n",
       "      <td>NaN</td>\n",
       "      <td>single</td>\n",
       "    </tr>\n",
       "    <tr>\n",
       "      <th>4</th>\n",
       "      <td>008ff65f-0624-566a-b4b8-e18c1d7bdd27</td>\n",
       "      <td>0xf9c01988e5fd3769f530e729b8320294fc51a503</td>\n",
       "      <td>daohaus</td>\n",
       "      <td>PoolWORKs V1 Liquidity Providers DAO</td>\n",
       "      <td>94</td>\n",
       "      <td>72</td>\n",
       "      <td>NaN</td>\n",
       "      <td>network: polygon version: 2.1</td>\n",
       "      <td>single</td>\n",
       "    </tr>\n",
       "  </tbody>\n",
       "</table>\n",
       "</div>"
      ],
      "text/plain": [
       "                        organization_id  \\\n",
       "0  005ea4e2-624a-46f0-a7cd-1967d95d4092   \n",
       "1  00629fde-3af9-5b54-8135-c3d5a78b9c30   \n",
       "2  007486f5-4ac2-5c2a-9959-a125213e8966   \n",
       "3  008e1906-6dac-5870-bdfd-14a1ae86aab3   \n",
       "4  008ff65f-0624-566a-b4b8-e18c1d7bdd27   \n",
       "\n",
       "                                  platform_id  platform  \\\n",
       "0                                        jamm  snapshot   \n",
       "1                  nuetaalumniassociation.eth  snapshot   \n",
       "2                                0x.me.eth.id  snapshot   \n",
       "3                                  ethlyn.eth  snapshot   \n",
       "4  0xf9c01988e5fd3769f530e729b8320294fc51a503   daohaus   \n",
       "\n",
       "                                   name  votes_count  proposals_count  \\\n",
       "0                                  JAMM           90               17   \n",
       "1             Nu Eta Alumni Association           84               30   \n",
       "2                                  0xme           61               31   \n",
       "3                     SebastianMagpuDAO          157               17   \n",
       "4  PoolWORKs V1 Liquidity Providers DAO           94               72   \n",
       "\n",
       "                                             website  \\\n",
       "0                        https://snapshot.org/#/jamm   \n",
       "1  https://snapshot.org/#/nuetaalumniassociation.eth   \n",
       "2                https://snapshot.org/#/0x.me.eth.id   \n",
       "3                  https://snapshot.org/#/ethlyn.eth   \n",
       "4                                                NaN   \n",
       "\n",
       "                      additional organization_type  \n",
       "0                            NaN           deepdao  \n",
       "1                            NaN            single  \n",
       "2                            NaN            single  \n",
       "3                            NaN            single  \n",
       "4  network: polygon version: 2.1            single  "
      ]
     },
     "execution_count": 37,
     "metadata": {},
     "output_type": "execute_result"
    }
   ],
   "source": [
    "# read in filtered_deployments_with_organizations.csv as df\n",
    "import pandas as pd\n",
    "deployments_with_orgs = pd.read_csv('filtered_deployments_with_organizations.csv')\n",
    "deployments_with_orgs.head()"
   ]
  },
  {
   "cell_type": "code",
   "execution_count": 38,
   "metadata": {},
   "outputs": [
    {
     "data": {
      "text/html": [
       "<div>\n",
       "<style scoped>\n",
       "    .dataframe tbody tr th:only-of-type {\n",
       "        vertical-align: middle;\n",
       "    }\n",
       "\n",
       "    .dataframe tbody tr th {\n",
       "        vertical-align: top;\n",
       "    }\n",
       "\n",
       "    .dataframe thead th {\n",
       "        text-align: right;\n",
       "    }\n",
       "</style>\n",
       "<table border=\"1\" class=\"dataframe\">\n",
       "  <thead>\n",
       "    <tr style=\"text-align: right;\">\n",
       "      <th></th>\n",
       "      <th>platform</th>\n",
       "      <th>platform_deployment_id</th>\n",
       "      <th>proposal_id</th>\n",
       "      <th>author</th>\n",
       "      <th>date</th>\n",
       "      <th>votes_count</th>\n",
       "    </tr>\n",
       "  </thead>\n",
       "  <tbody>\n",
       "    <tr>\n",
       "      <th>0</th>\n",
       "      <td>daostack</td>\n",
       "      <td>0x294f999356ed03347c7a23bcbcf8d33fa41dc830</td>\n",
       "      <td>0x0025c38d987acba1f1d446d3690384327ebe06d15f1f...</td>\n",
       "      <td>0xbaaea72417f4dc3e0f52a1783b0913d0f3516634</td>\n",
       "      <td>2019-10-22 10:07:58</td>\n",
       "      <td>8</td>\n",
       "    </tr>\n",
       "    <tr>\n",
       "      <th>1</th>\n",
       "      <td>daostack</td>\n",
       "      <td>0x39757e7cdb7022c3829195d57b29428d79593c9d</td>\n",
       "      <td>0x0033a337b620add50be9ba0fff1128ab866ece51cfdd...</td>\n",
       "      <td>0x052c68abe8e4bf0b78925e488b98f6fdc18a3af9</td>\n",
       "      <td>2020-01-17 19:07:19</td>\n",
       "      <td>1</td>\n",
       "    </tr>\n",
       "    <tr>\n",
       "      <th>2</th>\n",
       "      <td>daostack</td>\n",
       "      <td>0x519b70055af55a007110b4ff99b0ea33071c720a</td>\n",
       "      <td>0x003c109411e96e5607ce609278536262e12afdaa65ab...</td>\n",
       "      <td>0xb33b9fba681653fe263b31a95766d83d18c2128d</td>\n",
       "      <td>2020-03-14 17:52:32</td>\n",
       "      <td>5</td>\n",
       "    </tr>\n",
       "    <tr>\n",
       "      <th>3</th>\n",
       "      <td>daostack</td>\n",
       "      <td>0x8990e11b69403ea53ef2b32434bbd7dbf84b5234</td>\n",
       "      <td>0x0071c649968f7939fc9729c5dc25a8ae3f50dc86220a...</td>\n",
       "      <td>0x86fd6dd41bad636b5b3b9228bc5642fa0df392e8</td>\n",
       "      <td>2019-12-14 14:52:54</td>\n",
       "      <td>1</td>\n",
       "    </tr>\n",
       "    <tr>\n",
       "      <th>4</th>\n",
       "      <td>daostack</td>\n",
       "      <td>0x440583455bcd85ab2bd429c015d3aabcae135f0a</td>\n",
       "      <td>0x007eaf0fc8d6ae35ba3f28bc7cf4b34af659db8161d4...</td>\n",
       "      <td>0x7cb9032844e722bef2e16a761832c59c96550898</td>\n",
       "      <td>2019-11-01 19:26:29</td>\n",
       "      <td>1</td>\n",
       "    </tr>\n",
       "  </tbody>\n",
       "</table>\n",
       "</div>"
      ],
      "text/plain": [
       "   platform                      platform_deployment_id  \\\n",
       "0  daostack  0x294f999356ed03347c7a23bcbcf8d33fa41dc830   \n",
       "1  daostack  0x39757e7cdb7022c3829195d57b29428d79593c9d   \n",
       "2  daostack  0x519b70055af55a007110b4ff99b0ea33071c720a   \n",
       "3  daostack  0x8990e11b69403ea53ef2b32434bbd7dbf84b5234   \n",
       "4  daostack  0x440583455bcd85ab2bd429c015d3aabcae135f0a   \n",
       "\n",
       "                                         proposal_id  \\\n",
       "0  0x0025c38d987acba1f1d446d3690384327ebe06d15f1f...   \n",
       "1  0x0033a337b620add50be9ba0fff1128ab866ece51cfdd...   \n",
       "2  0x003c109411e96e5607ce609278536262e12afdaa65ab...   \n",
       "3  0x0071c649968f7939fc9729c5dc25a8ae3f50dc86220a...   \n",
       "4  0x007eaf0fc8d6ae35ba3f28bc7cf4b34af659db8161d4...   \n",
       "\n",
       "                                       author                 date  \\\n",
       "0  0xbaaea72417f4dc3e0f52a1783b0913d0f3516634  2019-10-22 10:07:58   \n",
       "1  0x052c68abe8e4bf0b78925e488b98f6fdc18a3af9  2020-01-17 19:07:19   \n",
       "2  0xb33b9fba681653fe263b31a95766d83d18c2128d  2020-03-14 17:52:32   \n",
       "3  0x86fd6dd41bad636b5b3b9228bc5642fa0df392e8  2019-12-14 14:52:54   \n",
       "4  0x7cb9032844e722bef2e16a761832c59c96550898  2019-11-01 19:26:29   \n",
       "\n",
       "   votes_count  \n",
       "0            8  \n",
       "1            1  \n",
       "2            5  \n",
       "3            1  \n",
       "4            1  "
      ]
     },
     "execution_count": 38,
     "metadata": {},
     "output_type": "execute_result"
    }
   ],
   "source": [
    "import glob\n",
    "\n",
    "# find the *_proposals.csv files in ../DATA/proposals\n",
    "proposals_csvs = glob.glob('../DATA/proposals/*_proposals.csv')\n",
    "\n",
    "# read the proposals into a single concatenated dataframe\n",
    "proposals = pd.concat([pd.read_csv(f) for f in proposals_csvs])\n",
    "proposals.head()"
   ]
  },
  {
   "cell_type": "code",
   "execution_count": 39,
   "metadata": {},
   "outputs": [
    {
     "data": {
      "text/plain": [
       "(95570, 6)"
      ]
     },
     "execution_count": 39,
     "metadata": {},
     "output_type": "execute_result"
    }
   ],
   "source": [
    "proposals.shape"
   ]
  },
  {
   "cell_type": "code",
   "execution_count": 40,
   "metadata": {},
   "outputs": [
    {
     "data": {
      "text/html": [
       "<div>\n",
       "<style scoped>\n",
       "    .dataframe tbody tr th:only-of-type {\n",
       "        vertical-align: middle;\n",
       "    }\n",
       "\n",
       "    .dataframe tbody tr th {\n",
       "        vertical-align: top;\n",
       "    }\n",
       "\n",
       "    .dataframe thead th {\n",
       "        text-align: right;\n",
       "    }\n",
       "</style>\n",
       "<table border=\"1\" class=\"dataframe\">\n",
       "  <thead>\n",
       "    <tr style=\"text-align: right;\">\n",
       "      <th></th>\n",
       "      <th>platform</th>\n",
       "      <th>platform_deployment_id</th>\n",
       "      <th>organization_id</th>\n",
       "      <th>organization_type</th>\n",
       "    </tr>\n",
       "  </thead>\n",
       "  <tbody>\n",
       "    <tr>\n",
       "      <th>0</th>\n",
       "      <td>snapshot</td>\n",
       "      <td>jamm</td>\n",
       "      <td>005ea4e2-624a-46f0-a7cd-1967d95d4092</td>\n",
       "      <td>deepdao</td>\n",
       "    </tr>\n",
       "    <tr>\n",
       "      <th>1</th>\n",
       "      <td>snapshot</td>\n",
       "      <td>nuetaalumniassociation.eth</td>\n",
       "      <td>00629fde-3af9-5b54-8135-c3d5a78b9c30</td>\n",
       "      <td>single</td>\n",
       "    </tr>\n",
       "    <tr>\n",
       "      <th>2</th>\n",
       "      <td>snapshot</td>\n",
       "      <td>0x.me.eth.id</td>\n",
       "      <td>007486f5-4ac2-5c2a-9959-a125213e8966</td>\n",
       "      <td>single</td>\n",
       "    </tr>\n",
       "    <tr>\n",
       "      <th>3</th>\n",
       "      <td>snapshot</td>\n",
       "      <td>ethlyn.eth</td>\n",
       "      <td>008e1906-6dac-5870-bdfd-14a1ae86aab3</td>\n",
       "      <td>single</td>\n",
       "    </tr>\n",
       "    <tr>\n",
       "      <th>4</th>\n",
       "      <td>daohaus</td>\n",
       "      <td>0xf9c01988e5fd3769f530e729b8320294fc51a503</td>\n",
       "      <td>008ff65f-0624-566a-b4b8-e18c1d7bdd27</td>\n",
       "      <td>single</td>\n",
       "    </tr>\n",
       "  </tbody>\n",
       "</table>\n",
       "</div>"
      ],
      "text/plain": [
       "   platform                      platform_deployment_id  \\\n",
       "0  snapshot                                        jamm   \n",
       "1  snapshot                  nuetaalumniassociation.eth   \n",
       "2  snapshot                                0x.me.eth.id   \n",
       "3  snapshot                                  ethlyn.eth   \n",
       "4   daohaus  0xf9c01988e5fd3769f530e729b8320294fc51a503   \n",
       "\n",
       "                        organization_id organization_type  \n",
       "0  005ea4e2-624a-46f0-a7cd-1967d95d4092           deepdao  \n",
       "1  00629fde-3af9-5b54-8135-c3d5a78b9c30            single  \n",
       "2  007486f5-4ac2-5c2a-9959-a125213e8966            single  \n",
       "3  008e1906-6dac-5870-bdfd-14a1ae86aab3            single  \n",
       "4  008ff65f-0624-566a-b4b8-e18c1d7bdd27            single  "
      ]
     },
     "execution_count": 40,
     "metadata": {},
     "output_type": "execute_result"
    }
   ],
   "source": [
    "_deployments_with_orgs_pre_merge = deployments_with_orgs[['platform', 'platform_id', 'organization_id', 'organization_type']]\n",
    "# rename platfrom id to platform_deployment_id\n",
    "_deployments_with_orgs_pre_merge = _deployments_with_orgs_pre_merge.rename(columns={'platform_id': 'platform_deployment_id'})\n",
    "_deployments_with_orgs_pre_merge.head()"
   ]
  },
  {
   "cell_type": "code",
   "execution_count": 41,
   "metadata": {},
   "outputs": [
    {
     "data": {
      "text/html": [
       "<div>\n",
       "<style scoped>\n",
       "    .dataframe tbody tr th:only-of-type {\n",
       "        vertical-align: middle;\n",
       "    }\n",
       "\n",
       "    .dataframe tbody tr th {\n",
       "        vertical-align: top;\n",
       "    }\n",
       "\n",
       "    .dataframe thead th {\n",
       "        text-align: right;\n",
       "    }\n",
       "</style>\n",
       "<table border=\"1\" class=\"dataframe\">\n",
       "  <thead>\n",
       "    <tr style=\"text-align: right;\">\n",
       "      <th></th>\n",
       "      <th>platform</th>\n",
       "      <th>platform_deployment_id</th>\n",
       "      <th>proposal_id</th>\n",
       "      <th>author</th>\n",
       "      <th>date</th>\n",
       "      <th>votes_count</th>\n",
       "      <th>organization_id</th>\n",
       "      <th>organization_type</th>\n",
       "    </tr>\n",
       "  </thead>\n",
       "  <tbody>\n",
       "    <tr>\n",
       "      <th>0</th>\n",
       "      <td>daostack</td>\n",
       "      <td>0x294f999356ed03347c7a23bcbcf8d33fa41dc830</td>\n",
       "      <td>0x0025c38d987acba1f1d446d3690384327ebe06d15f1f...</td>\n",
       "      <td>0xbaaea72417f4dc3e0f52a1783b0913d0f3516634</td>\n",
       "      <td>2019-10-22 10:07:58</td>\n",
       "      <td>8</td>\n",
       "      <td>3668a12c-85eb-45c8-ac83-aae266de29e3</td>\n",
       "      <td>deepdao</td>\n",
       "    </tr>\n",
       "    <tr>\n",
       "      <th>1</th>\n",
       "      <td>daostack</td>\n",
       "      <td>0x39757e7cdb7022c3829195d57b29428d79593c9d</td>\n",
       "      <td>0x0033a337b620add50be9ba0fff1128ab866ece51cfdd...</td>\n",
       "      <td>0x052c68abe8e4bf0b78925e488b98f6fdc18a3af9</td>\n",
       "      <td>2020-01-17 19:07:19</td>\n",
       "      <td>1</td>\n",
       "      <td>NaN</td>\n",
       "      <td>NaN</td>\n",
       "    </tr>\n",
       "    <tr>\n",
       "      <th>2</th>\n",
       "      <td>daostack</td>\n",
       "      <td>0x519b70055af55a007110b4ff99b0ea33071c720a</td>\n",
       "      <td>0x003c109411e96e5607ce609278536262e12afdaa65ab...</td>\n",
       "      <td>0xb33b9fba681653fe263b31a95766d83d18c2128d</td>\n",
       "      <td>2020-03-14 17:52:32</td>\n",
       "      <td>5</td>\n",
       "      <td>c9db5a89-025e-4cfd-9a7f-552d86add137</td>\n",
       "      <td>deepdao</td>\n",
       "    </tr>\n",
       "    <tr>\n",
       "      <th>3</th>\n",
       "      <td>daostack</td>\n",
       "      <td>0x8990e11b69403ea53ef2b32434bbd7dbf84b5234</td>\n",
       "      <td>0x0071c649968f7939fc9729c5dc25a8ae3f50dc86220a...</td>\n",
       "      <td>0x86fd6dd41bad636b5b3b9228bc5642fa0df392e8</td>\n",
       "      <td>2019-12-14 14:52:54</td>\n",
       "      <td>1</td>\n",
       "      <td>a7ebb52d-cfeb-479d-ba4f-21e460eb1773</td>\n",
       "      <td>deepdao</td>\n",
       "    </tr>\n",
       "    <tr>\n",
       "      <th>4</th>\n",
       "      <td>daostack</td>\n",
       "      <td>0x440583455bcd85ab2bd429c015d3aabcae135f0a</td>\n",
       "      <td>0x007eaf0fc8d6ae35ba3f28bc7cf4b34af659db8161d4...</td>\n",
       "      <td>0x7cb9032844e722bef2e16a761832c59c96550898</td>\n",
       "      <td>2019-11-01 19:26:29</td>\n",
       "      <td>1</td>\n",
       "      <td>5d553ae9-09db-595b-8ca9-413b792a1def</td>\n",
       "      <td>single</td>\n",
       "    </tr>\n",
       "  </tbody>\n",
       "</table>\n",
       "</div>"
      ],
      "text/plain": [
       "   platform                      platform_deployment_id  \\\n",
       "0  daostack  0x294f999356ed03347c7a23bcbcf8d33fa41dc830   \n",
       "1  daostack  0x39757e7cdb7022c3829195d57b29428d79593c9d   \n",
       "2  daostack  0x519b70055af55a007110b4ff99b0ea33071c720a   \n",
       "3  daostack  0x8990e11b69403ea53ef2b32434bbd7dbf84b5234   \n",
       "4  daostack  0x440583455bcd85ab2bd429c015d3aabcae135f0a   \n",
       "\n",
       "                                         proposal_id  \\\n",
       "0  0x0025c38d987acba1f1d446d3690384327ebe06d15f1f...   \n",
       "1  0x0033a337b620add50be9ba0fff1128ab866ece51cfdd...   \n",
       "2  0x003c109411e96e5607ce609278536262e12afdaa65ab...   \n",
       "3  0x0071c649968f7939fc9729c5dc25a8ae3f50dc86220a...   \n",
       "4  0x007eaf0fc8d6ae35ba3f28bc7cf4b34af659db8161d4...   \n",
       "\n",
       "                                       author                 date  \\\n",
       "0  0xbaaea72417f4dc3e0f52a1783b0913d0f3516634  2019-10-22 10:07:58   \n",
       "1  0x052c68abe8e4bf0b78925e488b98f6fdc18a3af9  2020-01-17 19:07:19   \n",
       "2  0xb33b9fba681653fe263b31a95766d83d18c2128d  2020-03-14 17:52:32   \n",
       "3  0x86fd6dd41bad636b5b3b9228bc5642fa0df392e8  2019-12-14 14:52:54   \n",
       "4  0x7cb9032844e722bef2e16a761832c59c96550898  2019-11-01 19:26:29   \n",
       "\n",
       "   votes_count                       organization_id organization_type  \n",
       "0            8  3668a12c-85eb-45c8-ac83-aae266de29e3           deepdao  \n",
       "1            1                                   NaN               NaN  \n",
       "2            5  c9db5a89-025e-4cfd-9a7f-552d86add137           deepdao  \n",
       "3            1  a7ebb52d-cfeb-479d-ba4f-21e460eb1773           deepdao  \n",
       "4            1  5d553ae9-09db-595b-8ca9-413b792a1def            single  "
      ]
     },
     "execution_count": 41,
     "metadata": {},
     "output_type": "execute_result"
    }
   ],
   "source": [
    "proposals_with_orgs = proposals.merge(_deployments_with_orgs_pre_merge, on=['platform_deployment_id', 'platform'], how='left', validate='m:1')\n",
    "proposals_with_orgs.head()"
   ]
  },
  {
   "cell_type": "code",
   "execution_count": 42,
   "metadata": {},
   "outputs": [
    {
     "data": {
      "text/plain": [
       "0.29268598932719475"
      ]
     },
     "execution_count": 42,
     "metadata": {},
     "output_type": "execute_result"
    }
   ],
   "source": [
    "proposals_with_orgs['organization_id'].isnull().sum() / proposals_with_orgs.shape[0]"
   ]
  },
  {
   "cell_type": "code",
   "execution_count": 43,
   "metadata": {},
   "outputs": [
    {
     "data": {
      "text/plain": [
       "(67598, 8)"
      ]
     },
     "execution_count": 43,
     "metadata": {},
     "output_type": "execute_result"
    }
   ],
   "source": [
    "# 30% of these are null, we should be able to say that is because of the upstream filtering of deployments_with_orgs to only include large orgs\n",
    "# with this in mind, let's drop the nulls\n",
    "proposals_with_orgs = proposals_with_orgs.dropna(subset=['organization_id'])\n",
    "proposals_with_orgs.shape"
   ]
  },
  {
   "cell_type": "code",
   "execution_count": 44,
   "metadata": {},
   "outputs": [
    {
     "data": {
      "text/html": [
       "<div>\n",
       "<style scoped>\n",
       "    .dataframe tbody tr th:only-of-type {\n",
       "        vertical-align: middle;\n",
       "    }\n",
       "\n",
       "    .dataframe tbody tr th {\n",
       "        vertical-align: top;\n",
       "    }\n",
       "\n",
       "    .dataframe thead th {\n",
       "        text-align: right;\n",
       "    }\n",
       "</style>\n",
       "<table border=\"1\" class=\"dataframe\">\n",
       "  <thead>\n",
       "    <tr style=\"text-align: right;\">\n",
       "      <th></th>\n",
       "      <th>platform</th>\n",
       "      <th>platform_deployment_id</th>\n",
       "      <th>proposal_id</th>\n",
       "      <th>author</th>\n",
       "      <th>date</th>\n",
       "      <th>votes_count</th>\n",
       "      <th>organization_id</th>\n",
       "      <th>organization_type</th>\n",
       "    </tr>\n",
       "  </thead>\n",
       "  <tbody>\n",
       "    <tr>\n",
       "      <th>0</th>\n",
       "      <td>daostack</td>\n",
       "      <td>0x294f999356ed03347c7a23bcbcf8d33fa41dc830</td>\n",
       "      <td>0x0025c38d987acba1f1d446d3690384327ebe06d15f1f...</td>\n",
       "      <td>0xbaaea72417f4dc3e0f52a1783b0913d0f3516634</td>\n",
       "      <td>2019-10-22 10:07:58</td>\n",
       "      <td>8</td>\n",
       "      <td>3668a12c-85eb-45c8-ac83-aae266de29e3</td>\n",
       "      <td>deepdao</td>\n",
       "    </tr>\n",
       "    <tr>\n",
       "      <th>2</th>\n",
       "      <td>daostack</td>\n",
       "      <td>0x519b70055af55a007110b4ff99b0ea33071c720a</td>\n",
       "      <td>0x003c109411e96e5607ce609278536262e12afdaa65ab...</td>\n",
       "      <td>0xb33b9fba681653fe263b31a95766d83d18c2128d</td>\n",
       "      <td>2020-03-14 17:52:32</td>\n",
       "      <td>5</td>\n",
       "      <td>c9db5a89-025e-4cfd-9a7f-552d86add137</td>\n",
       "      <td>deepdao</td>\n",
       "    </tr>\n",
       "    <tr>\n",
       "      <th>3</th>\n",
       "      <td>daostack</td>\n",
       "      <td>0x8990e11b69403ea53ef2b32434bbd7dbf84b5234</td>\n",
       "      <td>0x0071c649968f7939fc9729c5dc25a8ae3f50dc86220a...</td>\n",
       "      <td>0x86fd6dd41bad636b5b3b9228bc5642fa0df392e8</td>\n",
       "      <td>2019-12-14 14:52:54</td>\n",
       "      <td>1</td>\n",
       "      <td>a7ebb52d-cfeb-479d-ba4f-21e460eb1773</td>\n",
       "      <td>deepdao</td>\n",
       "    </tr>\n",
       "    <tr>\n",
       "      <th>4</th>\n",
       "      <td>daostack</td>\n",
       "      <td>0x440583455bcd85ab2bd429c015d3aabcae135f0a</td>\n",
       "      <td>0x007eaf0fc8d6ae35ba3f28bc7cf4b34af659db8161d4...</td>\n",
       "      <td>0x7cb9032844e722bef2e16a761832c59c96550898</td>\n",
       "      <td>2019-11-01 19:26:29</td>\n",
       "      <td>1</td>\n",
       "      <td>5d553ae9-09db-595b-8ca9-413b792a1def</td>\n",
       "      <td>single</td>\n",
       "    </tr>\n",
       "    <tr>\n",
       "      <th>5</th>\n",
       "      <td>daostack</td>\n",
       "      <td>0x519b70055af55a007110b4ff99b0ea33071c720a</td>\n",
       "      <td>0x00a6fff3bc39d362f1153029f9105ea14c080ebbf475...</td>\n",
       "      <td>0xd97672177e0673227fa102c91bfa8b8cfa825141</td>\n",
       "      <td>2021-08-15 11:51:26</td>\n",
       "      <td>1</td>\n",
       "      <td>c9db5a89-025e-4cfd-9a7f-552d86add137</td>\n",
       "      <td>deepdao</td>\n",
       "    </tr>\n",
       "  </tbody>\n",
       "</table>\n",
       "</div>"
      ],
      "text/plain": [
       "   platform                      platform_deployment_id  \\\n",
       "0  daostack  0x294f999356ed03347c7a23bcbcf8d33fa41dc830   \n",
       "2  daostack  0x519b70055af55a007110b4ff99b0ea33071c720a   \n",
       "3  daostack  0x8990e11b69403ea53ef2b32434bbd7dbf84b5234   \n",
       "4  daostack  0x440583455bcd85ab2bd429c015d3aabcae135f0a   \n",
       "5  daostack  0x519b70055af55a007110b4ff99b0ea33071c720a   \n",
       "\n",
       "                                         proposal_id  \\\n",
       "0  0x0025c38d987acba1f1d446d3690384327ebe06d15f1f...   \n",
       "2  0x003c109411e96e5607ce609278536262e12afdaa65ab...   \n",
       "3  0x0071c649968f7939fc9729c5dc25a8ae3f50dc86220a...   \n",
       "4  0x007eaf0fc8d6ae35ba3f28bc7cf4b34af659db8161d4...   \n",
       "5  0x00a6fff3bc39d362f1153029f9105ea14c080ebbf475...   \n",
       "\n",
       "                                       author                 date  \\\n",
       "0  0xbaaea72417f4dc3e0f52a1783b0913d0f3516634  2019-10-22 10:07:58   \n",
       "2  0xb33b9fba681653fe263b31a95766d83d18c2128d  2020-03-14 17:52:32   \n",
       "3  0x86fd6dd41bad636b5b3b9228bc5642fa0df392e8  2019-12-14 14:52:54   \n",
       "4  0x7cb9032844e722bef2e16a761832c59c96550898  2019-11-01 19:26:29   \n",
       "5  0xd97672177e0673227fa102c91bfa8b8cfa825141  2021-08-15 11:51:26   \n",
       "\n",
       "   votes_count                       organization_id organization_type  \n",
       "0            8  3668a12c-85eb-45c8-ac83-aae266de29e3           deepdao  \n",
       "2            5  c9db5a89-025e-4cfd-9a7f-552d86add137           deepdao  \n",
       "3            1  a7ebb52d-cfeb-479d-ba4f-21e460eb1773           deepdao  \n",
       "4            1  5d553ae9-09db-595b-8ca9-413b792a1def            single  \n",
       "5            1  c9db5a89-025e-4cfd-9a7f-552d86add137           deepdao  "
      ]
     },
     "execution_count": 44,
     "metadata": {},
     "output_type": "execute_result"
    }
   ],
   "source": [
    "proposals_with_orgs.head()"
   ]
  },
  {
   "cell_type": "markdown",
   "metadata": {},
   "source": [
    "## authorship"
   ]
  },
  {
   "cell_type": "code",
   "execution_count": 45,
   "metadata": {},
   "outputs": [],
   "source": [
    "# group by organization_id and count the number of unique authors and the number of total proposals\n",
    "proposal_authorship_stats = proposals_with_orgs.groupby('organization_id').agg({'author': 'nunique', 'proposal_id': 'count'}).sort_values('author', ascending=False)"
   ]
  },
  {
   "cell_type": "code",
   "execution_count": 51,
   "metadata": {},
   "outputs": [
    {
     "data": {
      "text/plain": [
       "<Axes: >"
      ]
     },
     "execution_count": 51,
     "metadata": {},
     "output_type": "execute_result"
    },
    {
     "data": {
      "image/png": "[encoded data removed]",
      "text/plain": [
       "<Figure size 640x480 with 1 Axes>"
      ]
     },
     "metadata": {},
     "output_type": "display_data"
    }
   ],
   "source": [
    "# author boxplot\n",
    "proposal_authorship_stats.boxplot(column=['author'])"
   ]
  },
  {
   "cell_type": "code",
   "execution_count": 52,
   "metadata": {},
   "outputs": [
    {
     "data": {
      "text/plain": [
       "<Axes: >"
      ]
     },
     "execution_count": 52,
     "metadata": {},
     "output_type": "execute_result"
    },
    {
     "data": {
      "image/png": "[encoded data removed]",
      "text/plain": [
       "<Figure size 640x480 with 1 Axes>"
      ]
     },
     "metadata": {},
     "output_type": "display_data"
    }
   ],
   "source": [
    "# boxplot again but exlude values above 2000\n",
    "proposal_authorship_stats[proposal_authorship_stats['author'] < 2000].boxplot(column=['author'])"
   ]
  },
  {
   "cell_type": "code",
   "execution_count": 54,
   "metadata": {},
   "outputs": [
    {
     "data": {
      "text/plain": [
       "<Axes: >"
      ]
     },
     "execution_count": 54,
     "metadata": {},
     "output_type": "execute_result"
    },
    {
     "data": {
      "image/png": "[encoded data removed]",
      "text/plain": [
       "<Figure size 640x480 with 1 Axes>"
      ]
     },
     "metadata": {},
     "output_type": "display_data"
    }
   ],
   "source": [
    "# boxplot again but exlude values above 200\n",
    "proposal_authorship_stats[proposal_authorship_stats['author'] < 200].boxplot(column=['author'])"
   ]
  },
  {
   "cell_type": "code",
   "execution_count": 57,
   "metadata": {},
   "outputs": [
    {
     "data": {
      "text/plain": [
       "count      607.000000\n",
       "mean        38.695222\n",
       "std        568.839120\n",
       "min          0.000000\n",
       "25%          2.000000\n",
       "50%          4.000000\n",
       "75%          9.000000\n",
       "90%         31.000000\n",
       "99%        180.820000\n",
       "max      13958.000000\n",
       "Name: author, dtype: float64"
      ]
     },
     "execution_count": 57,
     "metadata": {},
     "output_type": "execute_result"
    }
   ],
   "source": [
    "proposal_authorship_stats.author.describe([.25, .5, .75, .90, .99])"
   ]
  },
  {
   "cell_type": "markdown",
   "metadata": {},
   "source": [
    "- 99% of large organizations have less than 180 unique authors\n",
    "- 90% of large organizations have less than 31 unique authors\n",
    "- 75% of large organizations have less than 9 unique authors\n",
    "- 50% of large orgs have less than 4"
   ]
  },
  {
   "cell_type": "markdown",
   "metadata": {},
   "source": [
    "### repeat authorship"
   ]
  },
  {
   "cell_type": "code",
   "execution_count": 58,
   "metadata": {},
   "outputs": [
    {
     "data": {
      "text/html": [
       "<div>\n",
       "<style scoped>\n",
       "    .dataframe tbody tr th:only-of-type {\n",
       "        vertical-align: middle;\n",
       "    }\n",
       "\n",
       "    .dataframe tbody tr th {\n",
       "        vertical-align: top;\n",
       "    }\n",
       "\n",
       "    .dataframe thead th {\n",
       "        text-align: right;\n",
       "    }\n",
       "</style>\n",
       "<table border=\"1\" class=\"dataframe\">\n",
       "  <thead>\n",
       "    <tr style=\"text-align: right;\">\n",
       "      <th></th>\n",
       "      <th>platform</th>\n",
       "      <th>platform_deployment_id</th>\n",
       "      <th>proposal_id</th>\n",
       "      <th>author</th>\n",
       "      <th>date</th>\n",
       "      <th>votes_count</th>\n",
       "      <th>organization_id</th>\n",
       "      <th>organization_type</th>\n",
       "    </tr>\n",
       "  </thead>\n",
       "  <tbody>\n",
       "    <tr>\n",
       "      <th>0</th>\n",
       "      <td>daostack</td>\n",
       "      <td>0x294f999356ed03347c7a23bcbcf8d33fa41dc830</td>\n",
       "      <td>0x0025c38d987acba1f1d446d3690384327ebe06d15f1f...</td>\n",
       "      <td>0xbaaea72417f4dc3e0f52a1783b0913d0f3516634</td>\n",
       "      <td>2019-10-22 10:07:58</td>\n",
       "      <td>8</td>\n",
       "      <td>3668a12c-85eb-45c8-ac83-aae266de29e3</td>\n",
       "      <td>deepdao</td>\n",
       "    </tr>\n",
       "    <tr>\n",
       "      <th>2</th>\n",
       "      <td>daostack</td>\n",
       "      <td>0x519b70055af55a007110b4ff99b0ea33071c720a</td>\n",
       "      <td>0x003c109411e96e5607ce609278536262e12afdaa65ab...</td>\n",
       "      <td>0xb33b9fba681653fe263b31a95766d83d18c2128d</td>\n",
       "      <td>2020-03-14 17:52:32</td>\n",
       "      <td>5</td>\n",
       "      <td>c9db5a89-025e-4cfd-9a7f-552d86add137</td>\n",
       "      <td>deepdao</td>\n",
       "    </tr>\n",
       "    <tr>\n",
       "      <th>3</th>\n",
       "      <td>daostack</td>\n",
       "      <td>0x8990e11b69403ea53ef2b32434bbd7dbf84b5234</td>\n",
       "      <td>0x0071c649968f7939fc9729c5dc25a8ae3f50dc86220a...</td>\n",
       "      <td>0x86fd6dd41bad636b5b3b9228bc5642fa0df392e8</td>\n",
       "      <td>2019-12-14 14:52:54</td>\n",
       "      <td>1</td>\n",
       "      <td>a7ebb52d-cfeb-479d-ba4f-21e460eb1773</td>\n",
       "      <td>deepdao</td>\n",
       "    </tr>\n",
       "    <tr>\n",
       "      <th>4</th>\n",
       "      <td>daostack</td>\n",
       "      <td>0x440583455bcd85ab2bd429c015d3aabcae135f0a</td>\n",
       "      <td>0x007eaf0fc8d6ae35ba3f28bc7cf4b34af659db8161d4...</td>\n",
       "      <td>0x7cb9032844e722bef2e16a761832c59c96550898</td>\n",
       "      <td>2019-11-01 19:26:29</td>\n",
       "      <td>1</td>\n",
       "      <td>5d553ae9-09db-595b-8ca9-413b792a1def</td>\n",
       "      <td>single</td>\n",
       "    </tr>\n",
       "    <tr>\n",
       "      <th>5</th>\n",
       "      <td>daostack</td>\n",
       "      <td>0x519b70055af55a007110b4ff99b0ea33071c720a</td>\n",
       "      <td>0x00a6fff3bc39d362f1153029f9105ea14c080ebbf475...</td>\n",
       "      <td>0xd97672177e0673227fa102c91bfa8b8cfa825141</td>\n",
       "      <td>2021-08-15 11:51:26</td>\n",
       "      <td>1</td>\n",
       "      <td>c9db5a89-025e-4cfd-9a7f-552d86add137</td>\n",
       "      <td>deepdao</td>\n",
       "    </tr>\n",
       "  </tbody>\n",
       "</table>\n",
       "</div>"
      ],
      "text/plain": [
       "   platform                      platform_deployment_id  \\\n",
       "0  daostack  0x294f999356ed03347c7a23bcbcf8d33fa41dc830   \n",
       "2  daostack  0x519b70055af55a007110b4ff99b0ea33071c720a   \n",
       "3  daostack  0x8990e11b69403ea53ef2b32434bbd7dbf84b5234   \n",
       "4  daostack  0x440583455bcd85ab2bd429c015d3aabcae135f0a   \n",
       "5  daostack  0x519b70055af55a007110b4ff99b0ea33071c720a   \n",
       "\n",
       "                                         proposal_id  \\\n",
       "0  0x0025c38d987acba1f1d446d3690384327ebe06d15f1f...   \n",
       "2  0x003c109411e96e5607ce609278536262e12afdaa65ab...   \n",
       "3  0x0071c649968f7939fc9729c5dc25a8ae3f50dc86220a...   \n",
       "4  0x007eaf0fc8d6ae35ba3f28bc7cf4b34af659db8161d4...   \n",
       "5  0x00a6fff3bc39d362f1153029f9105ea14c080ebbf475...   \n",
       "\n",
       "                                       author                 date  \\\n",
       "0  0xbaaea72417f4dc3e0f52a1783b0913d0f3516634  2019-10-22 10:07:58   \n",
       "2  0xb33b9fba681653fe263b31a95766d83d18c2128d  2020-03-14 17:52:32   \n",
       "3  0x86fd6dd41bad636b5b3b9228bc5642fa0df392e8  2019-12-14 14:52:54   \n",
       "4  0x7cb9032844e722bef2e16a761832c59c96550898  2019-11-01 19:26:29   \n",
       "5  0xd97672177e0673227fa102c91bfa8b8cfa825141  2021-08-15 11:51:26   \n",
       "\n",
       "   votes_count                       organization_id organization_type  \n",
       "0            8  3668a12c-85eb-45c8-ac83-aae266de29e3           deepdao  \n",
       "2            5  c9db5a89-025e-4cfd-9a7f-552d86add137           deepdao  \n",
       "3            1  a7ebb52d-cfeb-479d-ba4f-21e460eb1773           deepdao  \n",
       "4            1  5d553ae9-09db-595b-8ca9-413b792a1def            single  \n",
       "5            1  c9db5a89-025e-4cfd-9a7f-552d86add137           deepdao  "
      ]
     },
     "execution_count": 58,
     "metadata": {},
     "output_type": "execute_result"
    }
   ],
   "source": [
    "proposals_with_orgs.head()"
   ]
  },
  {
   "cell_type": "code",
   "execution_count": 59,
   "metadata": {},
   "outputs": [
    {
     "data": {
      "text/html": [
       "<div>\n",
       "<style scoped>\n",
       "    .dataframe tbody tr th:only-of-type {\n",
       "        vertical-align: middle;\n",
       "    }\n",
       "\n",
       "    .dataframe tbody tr th {\n",
       "        vertical-align: top;\n",
       "    }\n",
       "\n",
       "    .dataframe thead th {\n",
       "        text-align: right;\n",
       "    }\n",
       "</style>\n",
       "<table border=\"1\" class=\"dataframe\">\n",
       "  <thead>\n",
       "    <tr style=\"text-align: right;\">\n",
       "      <th></th>\n",
       "      <th>author</th>\n",
       "    </tr>\n",
       "    <tr>\n",
       "      <th>organization_id</th>\n",
       "      <th></th>\n",
       "    </tr>\n",
       "  </thead>\n",
       "  <tbody>\n",
       "    <tr>\n",
       "      <th>008ff65f-0624-566a-b4b8-e18c1d7bdd27</th>\n",
       "      <td>[0xbb7e930576043b55f1d011802c9588fa15a956b3, 0...</td>\n",
       "    </tr>\n",
       "    <tr>\n",
       "      <th>00a78a4c-6892-406e-8587-44c5bd6a10ed</th>\n",
       "      <td>[0x994B5C8B30766EaCe220B76f8C1DE27849f05aB3, 0...</td>\n",
       "    </tr>\n",
       "    <tr>\n",
       "      <th>00cdddf8-87e0-4e3f-9b36-f627133e0b24</th>\n",
       "      <td>[0xDa4529997118e610c925150AEA0c09B89Cde7537, 0...</td>\n",
       "    </tr>\n",
       "    <tr>\n",
       "      <th>01091ef6-e165-4104-8228-ceb07e5c55e2</th>\n",
       "      <td>[0x5Be0feE0f748c1737793172D42c14E4810D2038E]</td>\n",
       "    </tr>\n",
       "    <tr>\n",
       "      <th>010e9cab-473e-5457-88ab-f7321880fe7e</th>\n",
       "      <td>[eip155:1:0x58BA5a24fa8833477339072f1221E03bB3...</td>\n",
       "    </tr>\n",
       "  </tbody>\n",
       "</table>\n",
       "</div>"
      ],
      "text/plain": [
       "                                                                                 author\n",
       "organization_id                                                                        \n",
       "008ff65f-0624-566a-b4b8-e18c1d7bdd27  [0xbb7e930576043b55f1d011802c9588fa15a956b3, 0...\n",
       "00a78a4c-6892-406e-8587-44c5bd6a10ed  [0x994B5C8B30766EaCe220B76f8C1DE27849f05aB3, 0...\n",
       "00cdddf8-87e0-4e3f-9b36-f627133e0b24  [0xDa4529997118e610c925150AEA0c09B89Cde7537, 0...\n",
       "01091ef6-e165-4104-8228-ceb07e5c55e2       [0x5Be0feE0f748c1737793172D42c14E4810D2038E]\n",
       "010e9cab-473e-5457-88ab-f7321880fe7e  [eip155:1:0x58BA5a24fa8833477339072f1221E03bB3..."
      ]
     },
     "execution_count": 59,
     "metadata": {},
     "output_type": "execute_result"
    }
   ],
   "source": [
    "# we want to know, for each orgnization, how many authors have submitted more than 1 proposal\n",
    "# first, we need to get a list of authors for each organization\n",
    "authors_by_org = proposals_with_orgs.groupby('organization_id').agg({'author': 'unique'})\n",
    "authors_by_org.head()"
   ]
  },
  {
   "cell_type": "code",
   "execution_count": 60,
   "metadata": {},
   "outputs": [
    {
     "data": {
      "text/html": [
       "<div>\n",
       "<style scoped>\n",
       "    .dataframe tbody tr th:only-of-type {\n",
       "        vertical-align: middle;\n",
       "    }\n",
       "\n",
       "    .dataframe tbody tr th {\n",
       "        vertical-align: top;\n",
       "    }\n",
       "\n",
       "    .dataframe thead th {\n",
       "        text-align: right;\n",
       "    }\n",
       "</style>\n",
       "<table border=\"1\" class=\"dataframe\">\n",
       "  <thead>\n",
       "    <tr style=\"text-align: right;\">\n",
       "      <th></th>\n",
       "      <th>author</th>\n",
       "      <th>authors_with_multiple_proposals</th>\n",
       "    </tr>\n",
       "    <tr>\n",
       "      <th>organization_id</th>\n",
       "      <th></th>\n",
       "      <th></th>\n",
       "    </tr>\n",
       "  </thead>\n",
       "  <tbody>\n",
       "    <tr>\n",
       "      <th>008ff65f-0624-566a-b4b8-e18c1d7bdd27</th>\n",
       "      <td>[0xbb7e930576043b55f1d011802c9588fa15a956b3, 0...</td>\n",
       "      <td>23</td>\n",
       "    </tr>\n",
       "    <tr>\n",
       "      <th>00a78a4c-6892-406e-8587-44c5bd6a10ed</th>\n",
       "      <td>[0x994B5C8B30766EaCe220B76f8C1DE27849f05aB3, 0...</td>\n",
       "      <td>1</td>\n",
       "    </tr>\n",
       "    <tr>\n",
       "      <th>00cdddf8-87e0-4e3f-9b36-f627133e0b24</th>\n",
       "      <td>[0xDa4529997118e610c925150AEA0c09B89Cde7537, 0...</td>\n",
       "      <td>2</td>\n",
       "    </tr>\n",
       "    <tr>\n",
       "      <th>01091ef6-e165-4104-8228-ceb07e5c55e2</th>\n",
       "      <td>[0x5Be0feE0f748c1737793172D42c14E4810D2038E]</td>\n",
       "      <td>1</td>\n",
       "    </tr>\n",
       "    <tr>\n",
       "      <th>010e9cab-473e-5457-88ab-f7321880fe7e</th>\n",
       "      <td>[eip155:1:0x58BA5a24fa8833477339072f1221E03bB3...</td>\n",
       "      <td>2</td>\n",
       "    </tr>\n",
       "  </tbody>\n",
       "</table>\n",
       "</div>"
      ],
      "text/plain": [
       "                                                                                 author  \\\n",
       "organization_id                                                                           \n",
       "008ff65f-0624-566a-b4b8-e18c1d7bdd27  [0xbb7e930576043b55f1d011802c9588fa15a956b3, 0...   \n",
       "00a78a4c-6892-406e-8587-44c5bd6a10ed  [0x994B5C8B30766EaCe220B76f8C1DE27849f05aB3, 0...   \n",
       "00cdddf8-87e0-4e3f-9b36-f627133e0b24  [0xDa4529997118e610c925150AEA0c09B89Cde7537, 0...   \n",
       "01091ef6-e165-4104-8228-ceb07e5c55e2       [0x5Be0feE0f748c1737793172D42c14E4810D2038E]   \n",
       "010e9cab-473e-5457-88ab-f7321880fe7e  [eip155:1:0x58BA5a24fa8833477339072f1221E03bB3...   \n",
       "\n",
       "                                      authors_with_multiple_proposals  \n",
       "organization_id                                                        \n",
       "008ff65f-0624-566a-b4b8-e18c1d7bdd27                               23  \n",
       "00a78a4c-6892-406e-8587-44c5bd6a10ed                                1  \n",
       "00cdddf8-87e0-4e3f-9b36-f627133e0b24                                2  \n",
       "01091ef6-e165-4104-8228-ceb07e5c55e2                                1  \n",
       "010e9cab-473e-5457-88ab-f7321880fe7e                                2  "
      ]
     },
     "execution_count": 60,
     "metadata": {},
     "output_type": "execute_result"
    }
   ],
   "source": [
    "# now we need to count the number of authors in each list that have more than 1 proposal\n",
    "authors_by_org['authors_with_multiple_proposals'] = authors_by_org['author'].apply(lambda x: len([a for a in x if len(proposals_with_orgs[proposals_with_orgs['author'] == a]) > 1]))\n",
    "authors_by_org.head()"
   ]
  },
  {
   "cell_type": "code",
   "execution_count": 61,
   "metadata": {},
   "outputs": [
    {
     "data": {
      "text/plain": [
       "<Axes: >"
      ]
     },
     "execution_count": 61,
     "metadata": {},
     "output_type": "execute_result"
    },
    {
     "data": {
      "image/png": "[encoded data removed]",
      "text/plain": [
       "<Figure size 640x480 with 1 Axes>"
      ]
     },
     "metadata": {},
     "output_type": "display_data"
    }
   ],
   "source": [
    "authors_by_org.boxplot(column=['authors_with_multiple_proposals'])"
   ]
  },
  {
   "cell_type": "code",
   "execution_count": 62,
   "metadata": {},
   "outputs": [
    {
     "data": {
      "text/plain": [
       "<Axes: >"
      ]
     },
     "execution_count": 62,
     "metadata": {},
     "output_type": "execute_result"
    },
    {
     "data": {
      "image/png": "[encoded data removed]",
      "text/plain": [
       "<Figure size 640x480 with 1 Axes>"
      ]
     },
     "metadata": {},
     "output_type": "display_data"
    }
   ],
   "source": [
    "# redo for less than 200\n",
    "authors_by_org[authors_by_org['authors_with_multiple_proposals'] < 200].boxplot(column=['authors_with_multiple_proposals'])"
   ]
  },
  {
   "cell_type": "code",
   "execution_count": 63,
   "metadata": {},
   "outputs": [
    {
     "data": {
      "text/plain": [
       "count      607.000000\n",
       "mean        28.355848\n",
       "std        500.411974\n",
       "min          0.000000\n",
       "25%          1.000000\n",
       "50%          2.000000\n",
       "75%          6.000000\n",
       "90%         18.000000\n",
       "99%        133.520000\n",
       "max      12325.000000\n",
       "Name: authors_with_multiple_proposals, dtype: float64"
      ]
     },
     "execution_count": 63,
     "metadata": {},
     "output_type": "execute_result"
    }
   ],
   "source": [
    "# describe\n",
    "authors_by_org.authors_with_multiple_proposals.describe([.25, .5, .75, .90, .99])"
   ]
  },
  {
   "cell_type": "markdown",
   "metadata": {},
   "source": [
    "- 99% of large organizations have less than 133 **repeat** authors\n",
    "- 90% of large organizations have less than 18 **repeat** authors\n",
    "- 75% of large organizations have less than 6 **repeat** authors\n",
    "- 50% of large orgs have less than 2 (!!)"
   ]
  }
 ],
 "metadata": {
  "kernelspec": {
   "display_name": "Python 3",
   "language": "python",
   "name": "python3"
  },
  "language_info": {
   "codemirror_mode": {
    "name": "ipython",
    "version": 3
   },
   "file_extension": ".py",
   "mimetype": "text/x-python",
   "name": "python",
   "nbconvert_exporter": "python",
   "pygments_lexer": "ipython3",
   "version": "3.11.3"
  },
  "orig_nbformat": 4
 },
 "nbformat": 4,
 "nbformat_minor": 2
}
