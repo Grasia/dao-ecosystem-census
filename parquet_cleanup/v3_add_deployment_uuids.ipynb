{
 "cells": [
  {
   "cell_type": "code",
   "execution_count": 2,
   "metadata": {},
   "outputs": [
    {
     "data": {
      "text/plain": [
       "pyarrow.Table\n",
       "platform: string\n",
       "platform_id: string\n",
       "name: string\n",
       "website: string\n",
       "additional: string\n",
       "votes_count: int64\n",
       "proposals_count: int64\n",
       "__index_level_0__: int64\n",
       "----\n",
       "platform: [[\"realms\",\"realms\",\"realms\",\"realms\",\"realms\",...,\"aragon\",\"aragon\",\"aragon\",\"aragon\",\"aragon\"]]\n",
       "platform_id: [[\"ynQy8iEbJiFuYA4Nom6j7AjV3E7mPYzz9JoMWBfsNMw\",\"2RQ9KQUJocKasNeNniAqwuDL3tPVsyxuPPtgjHgcKaYG\",\"BDKmQnKFJHaAtiFwwFpyzYWt4y7zHjCHkXXKhfgswymn\",\"7ageSmQoFTanbXNMgEYb45ap7bNCc4KL2dzyYDzakXTx\",\"9dab9rwkk2uPn2SBKhWuH174VpZG5pD4Jci5zveoa7ug\",...,\"0xffbbb4c1a8fe19ce874a125935dc25aadbcf19dd\",\"0xffbc4704f0ad912977136592d262d6a6c8b3c498\",\"0xffd2f503ec324b367a92ad81fbcc5c433b162721\",\"0xffd943ea0362ea0eef463e169394ae7ab6fbc35e\",\"0xffe19aaee419c46443ebe7f583230d7c32e42eb4\"]]\n",
       "name: [[\"sol test\",\"ckvt22w62754511zol5hax8y16\",\"test 6666\",\"Panda Patrol DAO\",\"Bitmon Treasury DAO\",...,null,null,null,null,null]]\n",
       "website: [[\"nan\",\"nan\",\"nan\",\"nan\",\"nan\",...,\"https://etherscan.io/address/0xffbbb4c1a8fe19ce874a125935dc25aadbcf19dd#code\",\"https://etherscan.io/address/0xffbc4704f0ad912977136592d262d6a6c8b3c498#code\",\"https://etherscan.io/address/0xffd2f503ec324b367a92ad81fbcc5c433b162721#code\",\"https://etherscan.io/address/0xffd943ea0362ea0eef463e169394ae7ab6fbc35e#code\",\"https://etherscan.io/address/0xffe19aaee419c46443ebe7f583230d7c32e42eb4#code\"]]\n",
       "additional: [[\"nan\",\"nan\",\"nan\",\"nan\",\"nan\",...,\"nan\",\"nan\",\"nan\",\"nan\",\"nan\"]]\n",
       "votes_count: [[0,0,0,0,0,...,0,0,1,0,0]]\n",
       "proposals_count: [[0,0,0,0,0,...,0,0,1,0,0]]\n",
       "__index_level_0__: [[0,1,2,3,4,...,31290,31291,31292,31293,31294]]"
      ]
     },
     "execution_count": 2,
     "metadata": {},
     "output_type": "execute_result"
    }
   ],
   "source": [
    "import pyarrow.parquet as pq\n",
    "\n",
    "# read in ../parquets_version3/deployments.parquet\n",
    "deployments = pq.read_table('../parquets_version3/deployments.parquet')\n",
    "deployments"
   ]
  },
  {
   "cell_type": "code",
   "execution_count": 3,
   "metadata": {},
   "outputs": [
    {
     "data": {
      "text/plain": [
       "'__index_level_0__'"
      ]
     },
     "execution_count": 3,
     "metadata": {},
     "output_type": "execute_result"
    }
   ],
   "source": [
    "deployments.column_names[7]"
   ]
  },
  {
   "cell_type": "code",
   "execution_count": 4,
   "metadata": {},
   "outputs": [
    {
     "data": {
      "text/plain": [
       "pyarrow.Table\n",
       "platform: string\n",
       "platform_id: string\n",
       "name: string\n",
       "website: string\n",
       "additional: string\n",
       "votes_count: int64\n",
       "proposals_count: int64\n",
       "----\n",
       "platform: [[\"realms\",\"realms\",\"realms\",\"realms\",\"realms\",...,\"aragon\",\"aragon\",\"aragon\",\"aragon\",\"aragon\"]]\n",
       "platform_id: [[\"ynQy8iEbJiFuYA4Nom6j7AjV3E7mPYzz9JoMWBfsNMw\",\"2RQ9KQUJocKasNeNniAqwuDL3tPVsyxuPPtgjHgcKaYG\",\"BDKmQnKFJHaAtiFwwFpyzYWt4y7zHjCHkXXKhfgswymn\",\"7ageSmQoFTanbXNMgEYb45ap7bNCc4KL2dzyYDzakXTx\",\"9dab9rwkk2uPn2SBKhWuH174VpZG5pD4Jci5zveoa7ug\",...,\"0xffbbb4c1a8fe19ce874a125935dc25aadbcf19dd\",\"0xffbc4704f0ad912977136592d262d6a6c8b3c498\",\"0xffd2f503ec324b367a92ad81fbcc5c433b162721\",\"0xffd943ea0362ea0eef463e169394ae7ab6fbc35e\",\"0xffe19aaee419c46443ebe7f583230d7c32e42eb4\"]]\n",
       "name: [[\"sol test\",\"ckvt22w62754511zol5hax8y16\",\"test 6666\",\"Panda Patrol DAO\",\"Bitmon Treasury DAO\",...,null,null,null,null,null]]\n",
       "website: [[\"nan\",\"nan\",\"nan\",\"nan\",\"nan\",...,\"https://etherscan.io/address/0xffbbb4c1a8fe19ce874a125935dc25aadbcf19dd#code\",\"https://etherscan.io/address/0xffbc4704f0ad912977136592d262d6a6c8b3c498#code\",\"https://etherscan.io/address/0xffd2f503ec324b367a92ad81fbcc5c433b162721#code\",\"https://etherscan.io/address/0xffd943ea0362ea0eef463e169394ae7ab6fbc35e#code\",\"https://etherscan.io/address/0xffe19aaee419c46443ebe7f583230d7c32e42eb4#code\"]]\n",
       "additional: [[\"nan\",\"nan\",\"nan\",\"nan\",\"nan\",...,\"nan\",\"nan\",\"nan\",\"nan\",\"nan\"]]\n",
       "votes_count: [[0,0,0,0,0,...,0,0,1,0,0]]\n",
       "proposals_count: [[0,0,0,0,0,...,0,0,1,0,0]]"
      ]
     },
     "execution_count": 4,
     "metadata": {},
     "output_type": "execute_result"
    }
   ],
   "source": [
    "deployments = deployments.remove_column(7)\n",
    "deployments"
   ]
  },
  {
   "cell_type": "code",
   "execution_count": 5,
   "metadata": {},
   "outputs": [
    {
     "data": {
      "text/plain": [
       "<pyarrow.lib.StringArray object at 0x1255ed000>\n",
       "[\n",
       "  \"realms_ynQy8iEbJiFuYA4Nom6j7AjV3E7mPYzz9JoMWBfsNMw\",\n",
       "  \"realms_2RQ9KQUJocKasNeNniAqwuDL3tPVsyxuPPtgjHgcKaYG\",\n",
       "  \"realms_BDKmQnKFJHaAtiFwwFpyzYWt4y7zHjCHkXXKhfgswymn\",\n",
       "  \"realms_7ageSmQoFTanbXNMgEYb45ap7bNCc4KL2dzyYDzakXTx\",\n",
       "  \"realms_9dab9rwkk2uPn2SBKhWuH174VpZG5pD4Jci5zveoa7ug\",\n",
       "  \"realms_UBWNtt8r6YVdh2tR3KQ1k4yGyY45wWTfCUFR8vwPpFc\",\n",
       "  \"realms_9eoHFq35i7SMif7zCn53nVpQz5kwXyqNuuif2U7VGyqp\",\n",
       "  \"realms_GURMs9sYzDNPhTJxsuDvFUpoBom8VKFicbjxK57hCj4e\",\n",
       "  \"realms_4SsH1eg4zzwfRXBJjrKTY163U2UvW7n16B35pZVPxRpX\",\n",
       "  \"realms_m8BR9yA89AJ9f2u3KeAFasJSuXDnd3xYDJJkBvQ2iw6\",\n",
       "  ...\n",
       "  \"aragon_0xff6ca8be2e3b7727d92f1d057a86e80ebfb4452a\",\n",
       "  \"aragon_0xff7eca59272ff82c449b3d4a81c85ab9fa564ddb\",\n",
       "  \"aragon_0xff815ad9735c38e2486f6b3b030546690396032d\",\n",
       "  \"aragon_0xffa4666513f7470e1b435a0f8486ae108c52ff0d\",\n",
       "  \"aragon_0xffada8defbd063616e8d02f29b78784b7071a2d1\",\n",
       "  \"aragon_0xffbbb4c1a8fe19ce874a125935dc25aadbcf19dd\",\n",
       "  \"aragon_0xffbc4704f0ad912977136592d262d6a6c8b3c498\",\n",
       "  \"aragon_0xffd2f503ec324b367a92ad81fbcc5c433b162721\",\n",
       "  \"aragon_0xffd943ea0362ea0eef463e169394ae7ab6fbc35e\",\n",
       "  \"aragon_0xffe19aaee419c46443ebe7f583230d7c32e42eb4\"\n",
       "]"
      ]
     },
     "execution_count": 5,
     "metadata": {},
     "output_type": "execute_result"
    }
   ],
   "source": [
    "import pyarrow as pa\n",
    "ids_to_hash = pa.array([str(deployments.column(0)[i]) + '_' + str(deployments.column(1)[i]) for i in range(len(deployments.column(0)))])\n",
    "ids_to_hash"
   ]
  },
  {
   "cell_type": "code",
   "execution_count": 6,
   "metadata": {},
   "outputs": [
    {
     "name": "stdout",
     "output_type": "stream",
     "text": [
      "realms_ynQy8iEbJiFuYA4Nom6j7AjV3E7mPYzz9JoMWBfsNMw\n",
      "020cc88e-813a-548c-82d1-21394767cf9e\n",
      "realms_2RQ9KQUJocKasNeNniAqwuDL3tPVsyxuPPtgjHgcKaYG\n",
      "20fc7caf-0216-55df-9bf4-6d689572f62b\n",
      "realms_BDKmQnKFJHaAtiFwwFpyzYWt4y7zHjCHkXXKhfgswymn\n",
      "00a98e78-f467-5672-9c24-d2295c290a8a\n",
      "realms_7ageSmQoFTanbXNMgEYb45ap7bNCc4KL2dzyYDzakXTx\n",
      "520ff2a9-147e-5395-8d5b-ec35ad0edc2e\n",
      "realms_9dab9rwkk2uPn2SBKhWuH174VpZG5pD4Jci5zveoa7ug\n",
      "63dc1db1-0a0d-5370-b930-137b3a9b480b\n",
      "realms_UBWNtt8r6YVdh2tR3KQ1k4yGyY45wWTfCUFR8vwPpFc\n",
      "130b1b56-7769-5c1b-a227-bed6befb024e\n",
      "realms_9eoHFq35i7SMif7zCn53nVpQz5kwXyqNuuif2U7VGyqp\n",
      "80bd1bfd-8303-536a-8b03-aa177f400d85\n",
      "realms_GURMs9sYzDNPhTJxsuDvFUpoBom8VKFicbjxK57hCj4e\n",
      "0dcdbcdf-2114-54d5-82dd-6b505db122a3\n",
      "realms_4SsH1eg4zzwfRXBJjrKTY163U2UvW7n16B35pZVPxRpX\n",
      "e1423624-c2a0-58ea-af66-26e8bf876273\n",
      "realms_m8BR9yA89AJ9f2u3KeAFasJSuXDnd3xYDJJkBvQ2iw6\n",
      "f07f4747-688f-54db-9288-08647ff893ae\n"
     ]
    }
   ],
   "source": [
    "import uuid\n",
    "\n",
    "for i in ids_to_hash[:10]:\n",
    "    print(i)\n",
    "    print(uuid.uuid5(uuid.NAMESPACE_OID, str(i)))"
   ]
  },
  {
   "cell_type": "code",
   "execution_count": 7,
   "metadata": {},
   "outputs": [
    {
     "data": {
      "text/plain": [
       "<pyarrow.lib.StringArray object at 0x125489720>\n",
       "[\n",
       "  \"020cc88e-813a-548c-82d1-21394767cf9e\",\n",
       "  \"20fc7caf-0216-55df-9bf4-6d689572f62b\",\n",
       "  \"00a98e78-f467-5672-9c24-d2295c290a8a\",\n",
       "  \"520ff2a9-147e-5395-8d5b-ec35ad0edc2e\",\n",
       "  \"63dc1db1-0a0d-5370-b930-137b3a9b480b\",\n",
       "  \"130b1b56-7769-5c1b-a227-bed6befb024e\",\n",
       "  \"80bd1bfd-8303-536a-8b03-aa177f400d85\",\n",
       "  \"0dcdbcdf-2114-54d5-82dd-6b505db122a3\",\n",
       "  \"e1423624-c2a0-58ea-af66-26e8bf876273\",\n",
       "  \"f07f4747-688f-54db-9288-08647ff893ae\",\n",
       "  ...\n",
       "  \"2a18d63e-a24b-5553-8f93-bec2cf8c3bcc\",\n",
       "  \"605ae376-fb2e-5323-a7dc-c7a3e0b9dfdc\",\n",
       "  \"95da4608-3f4a-5bfd-af28-fda85a3c5a23\",\n",
       "  \"3c0710a6-0fe4-55d8-b5df-c872c2e45179\",\n",
       "  \"c3d5e817-bcb1-5891-9ebf-b0bef8f035c4\",\n",
       "  \"fecc84dd-2e6c-5d77-ae3d-fdfcd8e7c820\",\n",
       "  \"ef921da3-784b-52a4-b9b2-bd672c8aa525\",\n",
       "  \"ca058bdc-25c7-5113-a5a9-b7b4a9c742bc\",\n",
       "  \"228b4bf1-01e8-566d-b436-a544601f549e\",\n",
       "  \"819669a6-9d95-57ff-8b33-04e66e235c50\"\n",
       "]"
      ]
     },
     "execution_count": 7,
     "metadata": {},
     "output_type": "execute_result"
    }
   ],
   "source": [
    "import uuid\n",
    "uuids = pa.array([str(uuid.uuid5(uuid.NAMESPACE_OID, str(ids_to_hash[i]))) for i in range(len(ids_to_hash))])\n",
    "uuids"
   ]
  },
  {
   "cell_type": "code",
   "execution_count": 8,
   "metadata": {},
   "outputs": [
    {
     "data": {
      "text/plain": [
       "pyarrow.Table\n",
       "platform: string\n",
       "platform_id: string\n",
       "name: string\n",
       "website: string\n",
       "additional: string\n",
       "votes_count: int64\n",
       "proposals_count: int64\n",
       "id: string\n",
       "----\n",
       "platform: [[\"realms\",\"realms\",\"realms\",\"realms\",\"realms\",...,\"aragon\",\"aragon\",\"aragon\",\"aragon\",\"aragon\"]]\n",
       "platform_id: [[\"ynQy8iEbJiFuYA4Nom6j7AjV3E7mPYzz9JoMWBfsNMw\",\"2RQ9KQUJocKasNeNniAqwuDL3tPVsyxuPPtgjHgcKaYG\",\"BDKmQnKFJHaAtiFwwFpyzYWt4y7zHjCHkXXKhfgswymn\",\"7ageSmQoFTanbXNMgEYb45ap7bNCc4KL2dzyYDzakXTx\",\"9dab9rwkk2uPn2SBKhWuH174VpZG5pD4Jci5zveoa7ug\",...,\"0xffbbb4c1a8fe19ce874a125935dc25aadbcf19dd\",\"0xffbc4704f0ad912977136592d262d6a6c8b3c498\",\"0xffd2f503ec324b367a92ad81fbcc5c433b162721\",\"0xffd943ea0362ea0eef463e169394ae7ab6fbc35e\",\"0xffe19aaee419c46443ebe7f583230d7c32e42eb4\"]]\n",
       "name: [[\"sol test\",\"ckvt22w62754511zol5hax8y16\",\"test 6666\",\"Panda Patrol DAO\",\"Bitmon Treasury DAO\",...,null,null,null,null,null]]\n",
       "website: [[\"nan\",\"nan\",\"nan\",\"nan\",\"nan\",...,\"https://etherscan.io/address/0xffbbb4c1a8fe19ce874a125935dc25aadbcf19dd#code\",\"https://etherscan.io/address/0xffbc4704f0ad912977136592d262d6a6c8b3c498#code\",\"https://etherscan.io/address/0xffd2f503ec324b367a92ad81fbcc5c433b162721#code\",\"https://etherscan.io/address/0xffd943ea0362ea0eef463e169394ae7ab6fbc35e#code\",\"https://etherscan.io/address/0xffe19aaee419c46443ebe7f583230d7c32e42eb4#code\"]]\n",
       "additional: [[\"nan\",\"nan\",\"nan\",\"nan\",\"nan\",...,\"nan\",\"nan\",\"nan\",\"nan\",\"nan\"]]\n",
       "votes_count: [[0,0,0,0,0,...,0,0,1,0,0]]\n",
       "proposals_count: [[0,0,0,0,0,...,0,0,1,0,0]]\n",
       "id: [[\"020cc88e-813a-548c-82d1-21394767cf9e\",\"20fc7caf-0216-55df-9bf4-6d689572f62b\",\"00a98e78-f467-5672-9c24-d2295c290a8a\",\"520ff2a9-147e-5395-8d5b-ec35ad0edc2e\",\"63dc1db1-0a0d-5370-b930-137b3a9b480b\",...,\"fecc84dd-2e6c-5d77-ae3d-fdfcd8e7c820\",\"ef921da3-784b-52a4-b9b2-bd672c8aa525\",\"ca058bdc-25c7-5113-a5a9-b7b4a9c742bc\",\"228b4bf1-01e8-566d-b436-a544601f549e\",\"819669a6-9d95-57ff-8b33-04e66e235c50\"]]"
      ]
     },
     "execution_count": 8,
     "metadata": {},
     "output_type": "execute_result"
    }
   ],
   "source": [
    "# add uuids column to deployments\n",
    "deployments = deployments.append_column('id', uuids)\n",
    "deployments"
   ]
  },
  {
   "cell_type": "code",
   "execution_count": 9,
   "metadata": {},
   "outputs": [
    {
     "data": {
      "text/plain": [
       "pyarrow.Table\n",
       "id: string\n",
       "platform: string\n",
       "platform_id: string\n",
       "name: string\n",
       "website: string\n",
       "additional: string\n",
       "votes_count: int64\n",
       "proposals_count: int64\n",
       "----\n",
       "id: [[\"020cc88e-813a-548c-82d1-21394767cf9e\",\"20fc7caf-0216-55df-9bf4-6d689572f62b\",\"00a98e78-f467-5672-9c24-d2295c290a8a\",\"520ff2a9-147e-5395-8d5b-ec35ad0edc2e\",\"63dc1db1-0a0d-5370-b930-137b3a9b480b\",...,\"fecc84dd-2e6c-5d77-ae3d-fdfcd8e7c820\",\"ef921da3-784b-52a4-b9b2-bd672c8aa525\",\"ca058bdc-25c7-5113-a5a9-b7b4a9c742bc\",\"228b4bf1-01e8-566d-b436-a544601f549e\",\"819669a6-9d95-57ff-8b33-04e66e235c50\"]]\n",
       "platform: [[\"realms\",\"realms\",\"realms\",\"realms\",\"realms\",...,\"aragon\",\"aragon\",\"aragon\",\"aragon\",\"aragon\"]]\n",
       "platform_id: [[\"ynQy8iEbJiFuYA4Nom6j7AjV3E7mPYzz9JoMWBfsNMw\",\"2RQ9KQUJocKasNeNniAqwuDL3tPVsyxuPPtgjHgcKaYG\",\"BDKmQnKFJHaAtiFwwFpyzYWt4y7zHjCHkXXKhfgswymn\",\"7ageSmQoFTanbXNMgEYb45ap7bNCc4KL2dzyYDzakXTx\",\"9dab9rwkk2uPn2SBKhWuH174VpZG5pD4Jci5zveoa7ug\",...,\"0xffbbb4c1a8fe19ce874a125935dc25aadbcf19dd\",\"0xffbc4704f0ad912977136592d262d6a6c8b3c498\",\"0xffd2f503ec324b367a92ad81fbcc5c433b162721\",\"0xffd943ea0362ea0eef463e169394ae7ab6fbc35e\",\"0xffe19aaee419c46443ebe7f583230d7c32e42eb4\"]]\n",
       "name: [[\"sol test\",\"ckvt22w62754511zol5hax8y16\",\"test 6666\",\"Panda Patrol DAO\",\"Bitmon Treasury DAO\",...,null,null,null,null,null]]\n",
       "website: [[\"nan\",\"nan\",\"nan\",\"nan\",\"nan\",...,\"https://etherscan.io/address/0xffbbb4c1a8fe19ce874a125935dc25aadbcf19dd#code\",\"https://etherscan.io/address/0xffbc4704f0ad912977136592d262d6a6c8b3c498#code\",\"https://etherscan.io/address/0xffd2f503ec324b367a92ad81fbcc5c433b162721#code\",\"https://etherscan.io/address/0xffd943ea0362ea0eef463e169394ae7ab6fbc35e#code\",\"https://etherscan.io/address/0xffe19aaee419c46443ebe7f583230d7c32e42eb4#code\"]]\n",
       "additional: [[\"nan\",\"nan\",\"nan\",\"nan\",\"nan\",...,\"nan\",\"nan\",\"nan\",\"nan\",\"nan\"]]\n",
       "votes_count: [[0,0,0,0,0,...,0,0,1,0,0]]\n",
       "proposals_count: [[0,0,0,0,0,...,0,0,1,0,0]]"
      ]
     },
     "execution_count": 9,
     "metadata": {},
     "output_type": "execute_result"
    }
   ],
   "source": [
    "deployments = deployments.select([\n",
    "    'id',\n",
    "    'platform',\n",
    "    'platform_id',\n",
    "    'name',\n",
    "    'website',\n",
    "    'additional',\n",
    "    'votes_count',\n",
    "    'proposals_count'\n",
    "])\n",
    "deployments"
   ]
  },
  {
   "cell_type": "code",
   "execution_count": 10,
   "metadata": {},
   "outputs": [
    {
     "data": {
      "text/plain": [
       "['id',\n",
       " 'platform',\n",
       " 'platform_id',\n",
       " 'name',\n",
       " 'website',\n",
       " 'additional',\n",
       " 'votes_count',\n",
       " 'proposals_count']"
      ]
     },
     "execution_count": 10,
     "metadata": {},
     "output_type": "execute_result"
    }
   ],
   "source": [
    "deployments.column_names"
   ]
  },
  {
   "cell_type": "code",
   "execution_count": 14,
   "metadata": {},
   "outputs": [
    {
     "data": {
      "text/plain": [
       "pyarrow.Table\n",
       "id: string\n",
       "platform: string\n",
       "platform_deployment_id: string\n",
       "name: string\n",
       "website: string\n",
       "additional: string\n",
       "votes_count: int64\n",
       "proposals_count: int64\n",
       "----\n",
       "id: [[\"020cc88e-813a-548c-82d1-21394767cf9e\",\"20fc7caf-0216-55df-9bf4-6d689572f62b\",\"00a98e78-f467-5672-9c24-d2295c290a8a\",\"520ff2a9-147e-5395-8d5b-ec35ad0edc2e\",\"63dc1db1-0a0d-5370-b930-137b3a9b480b\",...,\"fecc84dd-2e6c-5d77-ae3d-fdfcd8e7c820\",\"ef921da3-784b-52a4-b9b2-bd672c8aa525\",\"ca058bdc-25c7-5113-a5a9-b7b4a9c742bc\",\"228b4bf1-01e8-566d-b436-a544601f549e\",\"819669a6-9d95-57ff-8b33-04e66e235c50\"]]\n",
       "platform: [[\"realms\",\"realms\",\"realms\",\"realms\",\"realms\",...,\"aragon\",\"aragon\",\"aragon\",\"aragon\",\"aragon\"]]\n",
       "platform_deployment_id: [[\"ynQy8iEbJiFuYA4Nom6j7AjV3E7mPYzz9JoMWBfsNMw\",\"2RQ9KQUJocKasNeNniAqwuDL3tPVsyxuPPtgjHgcKaYG\",\"BDKmQnKFJHaAtiFwwFpyzYWt4y7zHjCHkXXKhfgswymn\",\"7ageSmQoFTanbXNMgEYb45ap7bNCc4KL2dzyYDzakXTx\",\"9dab9rwkk2uPn2SBKhWuH174VpZG5pD4Jci5zveoa7ug\",...,\"0xffbbb4c1a8fe19ce874a125935dc25aadbcf19dd\",\"0xffbc4704f0ad912977136592d262d6a6c8b3c498\",\"0xffd2f503ec324b367a92ad81fbcc5c433b162721\",\"0xffd943ea0362ea0eef463e169394ae7ab6fbc35e\",\"0xffe19aaee419c46443ebe7f583230d7c32e42eb4\"]]\n",
       "name: [[\"sol test\",\"ckvt22w62754511zol5hax8y16\",\"test 6666\",\"Panda Patrol DAO\",\"Bitmon Treasury DAO\",...,null,null,null,null,null]]\n",
       "website: [[\"nan\",\"nan\",\"nan\",\"nan\",\"nan\",...,\"https://etherscan.io/address/0xffbbb4c1a8fe19ce874a125935dc25aadbcf19dd#code\",\"https://etherscan.io/address/0xffbc4704f0ad912977136592d262d6a6c8b3c498#code\",\"https://etherscan.io/address/0xffd2f503ec324b367a92ad81fbcc5c433b162721#code\",\"https://etherscan.io/address/0xffd943ea0362ea0eef463e169394ae7ab6fbc35e#code\",\"https://etherscan.io/address/0xffe19aaee419c46443ebe7f583230d7c32e42eb4#code\"]]\n",
       "additional: [[\"nan\",\"nan\",\"nan\",\"nan\",\"nan\",...,\"nan\",\"nan\",\"nan\",\"nan\",\"nan\"]]\n",
       "votes_count: [[0,0,0,0,0,...,0,0,1,0,0]]\n",
       "proposals_count: [[0,0,0,0,0,...,0,0,1,0,0]]"
      ]
     },
     "execution_count": 14,
     "metadata": {},
     "output_type": "execute_result"
    }
   ],
   "source": [
    "# rename platform_id to platform_deployment_id\n",
    "deployments = deployments.rename_columns(['id',\n",
    " 'platform',\n",
    " 'platform_deployment_id',\n",
    " 'name',\n",
    " 'website',\n",
    " 'additional',\n",
    " 'votes_count',\n",
    " 'proposals_count'])\n",
    "deployments"
   ]
  },
  {
   "cell_type": "code",
   "execution_count": 15,
   "metadata": {},
   "outputs": [],
   "source": [
    "# check that there are no duplicate uuids\n",
    "assert deployments.shape[0] == len(set(deployments.column(0)))"
   ]
  },
  {
   "cell_type": "code",
   "execution_count": 16,
   "metadata": {},
   "outputs": [],
   "source": [
    "# save\n",
    "pq.write_table(deployments, '../parquets_version3/deployments.parquet')"
   ]
  }
 ],
 "metadata": {
  "kernelspec": {
   "display_name": "Python 3",
   "language": "python",
   "name": "python3"
  },
  "language_info": {
   "codemirror_mode": {
    "name": "ipython",
    "version": 3
   },
   "file_extension": ".py",
   "mimetype": "text/x-python",
   "name": "python",
   "nbconvert_exporter": "python",
   "pygments_lexer": "ipython3",
   "version": "3.11.4"
  },
  "orig_nbformat": 4
 },
 "nbformat": 4,
 "nbformat_minor": 2
}
