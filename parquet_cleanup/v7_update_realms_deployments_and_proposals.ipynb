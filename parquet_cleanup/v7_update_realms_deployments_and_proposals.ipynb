{
 "cells": [
  {
   "cell_type": "markdown",
   "metadata": {},
   "source": [
    "## despliegues"
   ]
  },
  {
   "cell_type": "code",
   "execution_count": 126,
   "metadata": {},
   "outputs": [],
   "source": [
    "# 1. load deployment parquet, remove the platform = realms rows, and then\n",
    "# re-add the new realms rows"
   ]
  },
  {
   "cell_type": "code",
   "execution_count": 127,
   "metadata": {},
   "outputs": [
    {
     "data": {
      "text/html": [
       "<div>\n",
       "<style scoped>\n",
       "    .dataframe tbody tr th:only-of-type {\n",
       "        vertical-align: middle;\n",
       "    }\n",
       "\n",
       "    .dataframe tbody tr th {\n",
       "        vertical-align: top;\n",
       "    }\n",
       "\n",
       "    .dataframe thead th {\n",
       "        text-align: right;\n",
       "    }\n",
       "</style>\n",
       "<table border=\"1\" class=\"dataframe\">\n",
       "  <thead>\n",
       "    <tr style=\"text-align: right;\">\n",
       "      <th></th>\n",
       "      <th>id</th>\n",
       "      <th>platform</th>\n",
       "      <th>platform_deployment_id</th>\n",
       "      <th>name</th>\n",
       "      <th>website</th>\n",
       "      <th>additional</th>\n",
       "      <th>votes_count</th>\n",
       "      <th>proposals_count</th>\n",
       "    </tr>\n",
       "  </thead>\n",
       "  <tbody>\n",
       "    <tr>\n",
       "      <th>0</th>\n",
       "      <td>40624f67-57d7-5bfb-baad-fe443ff81318</td>\n",
       "      <td>realms</td>\n",
       "      <td>GovHgfDPyQ1GwazJTDY2avSVY8GGcpmCapmmCsymRaGe_F...</td>\n",
       "      <td>Psy Finance</td>\n",
       "      <td>NaN</td>\n",
       "      <td>NaN</td>\n",
       "      <td>380</td>\n",
       "      <td>149</td>\n",
       "    </tr>\n",
       "    <tr>\n",
       "      <th>1</th>\n",
       "      <td>fe035ab9-73f8-58ea-8de2-8e74f92300ea</td>\n",
       "      <td>realms</td>\n",
       "      <td>GovHgfDPyQ1GwazJTDY2avSVY8GGcpmCapmmCsymRaGe_8...</td>\n",
       "      <td>PSY DO Protocol Council</td>\n",
       "      <td>NaN</td>\n",
       "      <td>NaN</td>\n",
       "      <td>22</td>\n",
       "      <td>9</td>\n",
       "    </tr>\n",
       "  </tbody>\n",
       "</table>\n",
       "</div>"
      ],
      "text/plain": [
       "                                     id platform  \\\n",
       "0  40624f67-57d7-5bfb-baad-fe443ff81318   realms   \n",
       "1  fe035ab9-73f8-58ea-8de2-8e74f92300ea   realms   \n",
       "\n",
       "                              platform_deployment_id                     name  \\\n",
       "0  GovHgfDPyQ1GwazJTDY2avSVY8GGcpmCapmmCsymRaGe_F...              Psy Finance   \n",
       "1  GovHgfDPyQ1GwazJTDY2avSVY8GGcpmCapmmCsymRaGe_8...  PSY DO Protocol Council   \n",
       "\n",
       "   website  additional  votes_count  proposals_count  \n",
       "0      NaN         NaN          380              149  \n",
       "1      NaN         NaN           22                9  "
      ]
     },
     "execution_count": 127,
     "metadata": {},
     "output_type": "execute_result"
    }
   ],
   "source": [
    "import pandas as pd\n",
    "new_deployments_df = pd.read_csv('../DATA/realms/realms_deployments.csv')\n",
    "new_deployments_df.head(2)"
   ]
  },
  {
   "cell_type": "code",
   "execution_count": 128,
   "metadata": {},
   "outputs": [
    {
     "data": {
      "text/plain": [
       "id: string\n",
       "platform: string\n",
       "platform_deployment_id: string\n",
       "name: string\n",
       "website: double\n",
       "additional: double\n",
       "votes_count: int64\n",
       "proposals_count: int64\n",
       "-- schema metadata --\n",
       "pandas: '{\"index_columns\": [], \"column_indexes\": [], \"columns\": [{\"name\":' + 1029"
      ]
     },
     "execution_count": 128,
     "metadata": {},
     "output_type": "execute_result"
    }
   ],
   "source": [
    "import pyarrow as pa\n",
    "new_deployments_table = pa.Table.from_pandas(new_deployments_df, preserve_index=False)\n",
    "new_deployments_table.schema"
   ]
  },
  {
   "cell_type": "code",
   "execution_count": 129,
   "metadata": {},
   "outputs": [
    {
     "data": {
      "text/plain": [
       "('website', 'additional')"
      ]
     },
     "execution_count": 129,
     "metadata": {},
     "output_type": "execute_result"
    }
   ],
   "source": [
    "new_deployments_table.column_names[4], new_deployments_table.column_names[5]"
   ]
  },
  {
   "cell_type": "code",
   "execution_count": 130,
   "metadata": {},
   "outputs": [],
   "source": [
    "# cast new_deployments_table website to string\n",
    "new_deployments_table = new_deployments_table.set_column(4, 'website', new_deployments_table.column(4).cast('string'))\n",
    "new_deployments_table = new_deployments_table.set_column(5, 'additional', new_deployments_table.column(5).cast('string'))"
   ]
  },
  {
   "cell_type": "code",
   "execution_count": 131,
   "metadata": {},
   "outputs": [
    {
     "data": {
      "text/plain": [
       "id: string\n",
       "platform: string\n",
       "platform_deployment_id: string\n",
       "name: string\n",
       "website: string\n",
       "additional: string\n",
       "votes_count: int64\n",
       "proposals_count: int64\n",
       "-- schema metadata --\n",
       "pandas: '{\"index_columns\": [], \"column_indexes\": [], \"columns\": [{\"name\":' + 1029"
      ]
     },
     "execution_count": 131,
     "metadata": {},
     "output_type": "execute_result"
    }
   ],
   "source": [
    "new_deployments_table.schema"
   ]
  },
  {
   "cell_type": "code",
   "execution_count": 132,
   "metadata": {},
   "outputs": [
    {
     "data": {
      "text/plain": [
       "id: string\n",
       "platform: string\n",
       "platform_deployment_id: string\n",
       "name: string\n",
       "website: string\n",
       "additional: string\n",
       "votes_count: int64\n",
       "proposals_count: int64\n",
       "-- schema metadata --\n",
       "pandas: '{\"index_columns\": [{\"kind\": \"range\", \"name\": null, \"start\": 0, \"' + 1215"
      ]
     },
     "execution_count": 132,
     "metadata": {},
     "output_type": "execute_result"
    }
   ],
   "source": [
    "import pyarrow.parquet as pq\n",
    "deployments_table = pq.read_table('../parquets_version6/deployments.parquet')\n",
    "deployments_table.schema"
   ]
  },
  {
   "cell_type": "code",
   "execution_count": 133,
   "metadata": {},
   "outputs": [
    {
     "data": {
      "text/plain": [
       "True"
      ]
     },
     "execution_count": 133,
     "metadata": {},
     "output_type": "execute_result"
    }
   ],
   "source": [
    "deployments_table.schema == new_deployments_table.schema"
   ]
  },
  {
   "cell_type": "code",
   "execution_count": 134,
   "metadata": {},
   "outputs": [
    {
     "data": {
      "text/plain": [
       "(31013, 8)"
      ]
     },
     "execution_count": 134,
     "metadata": {},
     "output_type": "execute_result"
    }
   ],
   "source": [
    "# TODO: need to rm the old platform = 'realms' rows from the parquet file\n",
    "deployments_v6 = pq.read_table('../parquets_version6/deployments.parquet')\n",
    "deployments_v6.shape"
   ]
  },
  {
   "cell_type": "code",
   "execution_count": 135,
   "metadata": {},
   "outputs": [
    {
     "data": {
      "text/plain": [
       "(28848, 8)"
      ]
     },
     "execution_count": 135,
     "metadata": {},
     "output_type": "execute_result"
    }
   ],
   "source": [
    "deployments_v6_no_realms = pq.read_table(\n",
    "    '../parquets_version6/deployments.parquet',\n",
    "    filters=[('platform', '!=', 'realms')]\n",
    ")\n",
    "deployments_v6_no_realms.shape"
   ]
  },
  {
   "cell_type": "code",
   "execution_count": 136,
   "metadata": {},
   "outputs": [],
   "source": [
    "# save deployments_v6_no_realms\n",
    "pq.write_table(deployments_v6_no_realms, \"../parquets_version7/_temp_deployments_v6_no_realms.parquet\")"
   ]
  },
  {
   "cell_type": "code",
   "execution_count": 137,
   "metadata": {},
   "outputs": [],
   "source": [
    "import pyarrow.parquet as pq\n",
    "import pyarrow as pa\n",
    "from pyarrow.parquet import ParquetFile\n",
    "deployments_v6_no_realms_pf = ParquetFile(\"../parquets_version7/_temp_deployments_v6_no_realms.parquet\")\n",
    "for i, record_batch in enumerate(deployments_v6_no_realms_pf.iter_batches(batch_size=10000)):\n",
    "    # for the first chunk of records\n",
    "    table = pa.Table.from_batches([record_batch])\n",
    "    if i == 0:\n",
    "        # create a parquet write object giving it an output file\n",
    "        pqwriter = pq.ParquetWriter('../parquets_version7/deployments.parquet', table.schema)            \n",
    "    pqwriter.write_table(table)\n",
    "\n",
    "pqwriter.write_table(new_deployments_table)\n",
    "\n",
    "# close the parquet writer\n",
    "pqwriter.close()"
   ]
  },
  {
   "cell_type": "code",
   "execution_count": 138,
   "metadata": {},
   "outputs": [
    {
     "name": "stdout",
     "output_type": "stream",
     "text": [
      "Number of rows: 31013\n",
      "Number of columns: 8\n"
     ]
    }
   ],
   "source": [
    "# read '../parquets_version6/deployments.parquet' size without opening\n",
    "with pq.ParquetFile('../parquets_version6/deployments.parquet') as pf:\n",
    "    num_rows = pf.metadata.num_rows\n",
    "    num_columns = len(pf.metadata.schema.names)\n",
    "    print(f'Number of rows: {num_rows}')\n",
    "    print(f'Number of columns: {num_columns}')"
   ]
  },
  {
   "cell_type": "code",
   "execution_count": 139,
   "metadata": {},
   "outputs": [
    {
     "name": "stdout",
     "output_type": "stream",
     "text": [
      "Number of rows: 31135\n",
      "Number of columns: 8\n"
     ]
    }
   ],
   "source": [
    "# read '../parquets_version7/deployments.parquet' size without opening\n",
    "with pq.ParquetFile('../parquets_version7/deployments.parquet') as pf:\n",
    "    num_rows = pf.metadata.num_rows\n",
    "    num_columns = len(pf.metadata.schema.names)\n",
    "    print(f'Number of rows: {num_rows}')\n",
    "    print(f'Number of columns: {num_columns}')"
   ]
  },
  {
   "cell_type": "markdown",
   "metadata": {},
   "source": [
    "## propuestas"
   ]
  },
  {
   "cell_type": "code",
   "execution_count": 140,
   "metadata": {},
   "outputs": [
    {
     "data": {
      "text/html": [
       "<div>\n",
       "<style scoped>\n",
       "    .dataframe tbody tr th:only-of-type {\n",
       "        vertical-align: middle;\n",
       "    }\n",
       "\n",
       "    .dataframe tbody tr th {\n",
       "        vertical-align: top;\n",
       "    }\n",
       "\n",
       "    .dataframe thead th {\n",
       "        text-align: right;\n",
       "    }\n",
       "</style>\n",
       "<table border=\"1\" class=\"dataframe\">\n",
       "  <thead>\n",
       "    <tr style=\"text-align: right;\">\n",
       "      <th></th>\n",
       "      <th>id</th>\n",
       "      <th>deployment_id</th>\n",
       "      <th>platform_proposal_id</th>\n",
       "      <th>author</th>\n",
       "      <th>date</th>\n",
       "      <th>votes_count</th>\n",
       "    </tr>\n",
       "  </thead>\n",
       "  <tbody>\n",
       "    <tr>\n",
       "      <th>0</th>\n",
       "      <td>7696e042-1620-56b3-9c10-f58f334895d8</td>\n",
       "      <td>a66d8ba4-7b09-59eb-aa7c-4607d9335fa2</td>\n",
       "      <td>GovER5Lthms3bLBqWub97yVrMmEogzX7xNjdXpPPCVZw_G...</td>\n",
       "      <td>NaN</td>\n",
       "      <td>2022-04-19 20:59:11</td>\n",
       "      <td>0</td>\n",
       "    </tr>\n",
       "    <tr>\n",
       "      <th>1</th>\n",
       "      <td>d80e17a0-b287-5e2b-a014-15349a9ec440</td>\n",
       "      <td>a66d8ba4-7b09-59eb-aa7c-4607d9335fa2</td>\n",
       "      <td>GovER5Lthms3bLBqWub97yVrMmEogzX7xNjdXpPPCVZw_c...</td>\n",
       "      <td>NaN</td>\n",
       "      <td>2022-04-22 17:54:06</td>\n",
       "      <td>2</td>\n",
       "    </tr>\n",
       "  </tbody>\n",
       "</table>\n",
       "</div>"
      ],
      "text/plain": [
       "                                     id                         deployment_id  \\\n",
       "0  7696e042-1620-56b3-9c10-f58f334895d8  a66d8ba4-7b09-59eb-aa7c-4607d9335fa2   \n",
       "1  d80e17a0-b287-5e2b-a014-15349a9ec440  a66d8ba4-7b09-59eb-aa7c-4607d9335fa2   \n",
       "\n",
       "                                platform_proposal_id  author  \\\n",
       "0  GovER5Lthms3bLBqWub97yVrMmEogzX7xNjdXpPPCVZw_G...     NaN   \n",
       "1  GovER5Lthms3bLBqWub97yVrMmEogzX7xNjdXpPPCVZw_c...     NaN   \n",
       "\n",
       "                  date  votes_count  \n",
       "0  2022-04-19 20:59:11            0  \n",
       "1  2022-04-22 17:54:06            2  "
      ]
     },
     "execution_count": 140,
     "metadata": {},
     "output_type": "execute_result"
    }
   ],
   "source": [
    "import pandas as pd\n",
    "new_proposals_df = pd.read_csv('../DATA/realms/realms_proposals.csv')\n",
    "new_proposals_df.head(2)"
   ]
  },
  {
   "cell_type": "code",
   "execution_count": 141,
   "metadata": {},
   "outputs": [
    {
     "data": {
      "text/plain": [
       "id: string\n",
       "deployment_id: string\n",
       "platform_proposal_id: string\n",
       "author: double\n",
       "date: string\n",
       "votes_count: int64\n",
       "-- schema metadata --\n",
       "pandas: '{\"index_columns\": [], \"column_indexes\": [], \"columns\": [{\"name\":' + 785"
      ]
     },
     "execution_count": 141,
     "metadata": {},
     "output_type": "execute_result"
    }
   ],
   "source": [
    "import pyarrow as pa\n",
    "new_proposals_table = pa.Table.from_pandas(new_proposals_df, preserve_index=False)\n",
    "new_proposals_table.schema"
   ]
  },
  {
   "cell_type": "code",
   "execution_count": 142,
   "metadata": {},
   "outputs": [
    {
     "data": {
      "text/plain": [
       "'date'"
      ]
     },
     "execution_count": 142,
     "metadata": {},
     "output_type": "execute_result"
    }
   ],
   "source": [
    "new_proposals_table.column_names[4]"
   ]
  },
  {
   "cell_type": "code",
   "execution_count": 143,
   "metadata": {},
   "outputs": [
    {
     "data": {
      "text/plain": [
       "id: string\n",
       "deployment_id: string\n",
       "platform_proposal_id: string\n",
       "author: double\n",
       "date: timestamp[us]\n",
       "votes_count: int64\n",
       "-- schema metadata --\n",
       "pandas: '{\"index_columns\": [], \"column_indexes\": [], \"columns\": [{\"name\":' + 785"
      ]
     },
     "execution_count": 143,
     "metadata": {},
     "output_type": "execute_result"
    }
   ],
   "source": [
    "new_proposals_table = new_proposals_table.set_column(4, 'date', new_proposals_table.column(4).cast(pa.timestamp('us')))\n",
    "new_proposals_table.schema"
   ]
  },
  {
   "cell_type": "code",
   "execution_count": 144,
   "metadata": {},
   "outputs": [
    {
     "data": {
      "text/plain": [
       "id: string\n",
       "deployment_id: string\n",
       "platform_proposal_id: string\n",
       "author: string\n",
       "date: timestamp[us]\n",
       "votes_count: int64\n",
       "-- schema metadata --\n",
       "pandas: '{\"index_columns\": [], \"column_indexes\": [], \"columns\": [{\"name\":' + 785"
      ]
     },
     "execution_count": 144,
     "metadata": {},
     "output_type": "execute_result"
    }
   ],
   "source": [
    "new_proposals_table = new_proposals_table.set_column(3, 'author', new_proposals_table.column(3).cast('string'))\n",
    "new_proposals_table.schema"
   ]
  },
  {
   "cell_type": "code",
   "execution_count": 145,
   "metadata": {},
   "outputs": [
    {
     "data": {
      "text/plain": [
       "<duckdb.DuckDBPyConnection at 0x168840d30>"
      ]
     },
     "execution_count": 145,
     "metadata": {},
     "output_type": "execute_result"
    }
   ],
   "source": [
    "# here we get the proposals that are not from platform = 'realms'\n",
    "import duckdb\n",
    "\n",
    "db = duckdb.connect(database=':memory:', read_only=False)\n",
    "# as view\n",
    "db.execute(\"CREATE VIEW votes AS SELECT * FROM parquet_scan('{}')\".format('../parquets_version6/votes.parquet'))\n",
    "db.execute(\"CREATE VIEW proposals AS SELECT * FROM parquet_scan('{}')\".format('../parquets_version6/proposals.parquet'))\n",
    "# same for deployments\n",
    "db.execute(\"CREATE VIEW deployments AS SELECT * FROM parquet_scan('{}')\".format('../parquets_version6/deployments.parquet'))"
   ]
  },
  {
   "cell_type": "code",
   "execution_count": 146,
   "metadata": {},
   "outputs": [
    {
     "data": {
      "text/plain": [
       "pyarrow.Table\n",
       "id: string\n",
       "deployment_id: string\n",
       "platform_proposal_id: string\n",
       "author: string\n",
       "date: timestamp[us]\n",
       "votes_count: int64\n",
       "----\n",
       "id: [[\"a1a650e2-1225-5a90-a648-e6eee005cb27\",\"7a520e27-71b6-50b5-9ad6-49bfaed6ecb2\",\"593b9989-aa58-5eaa-8979-20003630dc1c\",\"6c015507-4011-5c67-b9f4-8ab85dcca302\",\"71f254fa-ff1d-56aa-8ef1-ba5291809b54\",...,\"f77d459e-12d2-54c1-a5d4-9e2be9970f46\",\"fe44c6da-0504-5575-adbb-993bbc7701b9\",\"00f1d3af-e142-5cb8-9d6e-64109e450374\",\"9b8e42f5-6cf4-563c-a259-5e29fa624238\",\"56b52ef1-01c1-5175-853b-1ab88e32bce6\"]]\n",
       "deployment_id: [[\"1ff410f5-1c80-53cd-9558-d93d1f6de121\",\"1ff410f5-1c80-53cd-9558-d93d1f6de121\",\"1ff410f5-1c80-53cd-9558-d93d1f6de121\",\"d3229595-ac4c-55bf-9808-386fc5603bd1\",\"1ff410f5-1c80-53cd-9558-d93d1f6de121\",...,\"def86296-256e-514a-a152-7097aede3e55\",\"f52c872a-f851-5a5a-9838-3ce048cc7b4c\",\"c2d8e86b-3632-5db5-a515-b0300fe42ef2\",\"07a28090-895c-558e-bedc-f69040088ca2\",\"63e914eb-380d-59e5-98a7-950351aa4796\"]]\n",
       "platform_proposal_id: [[\"0x9da21802ef6636402d793d907d5e7818dd14ea355e78361f69660d5c12015e32\",\"0xdf99c4ed271aa7f21b14f52b03e0ed481ecfbff1647b710c2df6e30313308461\",\"0xdc67e00f7bf1cb385bdb98cbf7a5c4e021ea36ea495d966c5dc5d6f74da5b04b\",\"0x36084df2ecab76964d65089e114c0f52c50afd7f651766eea10324f37b6e1f21\",\"0x048ec0093f570c14540b8b81e20bb57473f867e4f18eda7a85a27cc30e74ee7d\",...,\"0xb9ee784b152e136edafb7471a72f44665634bd38b2b513cbba07a4736ede0e2c\",\"0xc71393c8af1d74daf7b3d4da2bf347ea0ce5e063e1699180afef13a34a7f3661\",\"0xf4fb56d463f47fe164f6ec46cb8bf6a09e6ae4cccb1059971e2100f8a001eb9c\",\"46402568103016882437379944154190462564892492541286724032028309122196450581886\",\"0xa012c21b4febbbdc54d33dc47e64275ad6f11002521b3d66fb72ecd3e02f06b6\"]]\n",
       "author: [[\"0xbf5cbde7fdf0b5fa09ce61e50ad46632a09312e9\",\"0x3496ae334e811a750c86bd3cd69d61db603c5e69\",\"0xcaa9c1251dfdad81f4175edbd09ba9d9131aca77\",\"0xab1bfd1aa856ff159b6892886dcb68fe3aa7fe78\",\"0x867e3df45c4e235ec27635850b708242f70f7831\",...,\"0xfaBb7Fe517D2Ba62FA91Cb5a92B93c42bE1d6185\",\"0xA2C43effB0ca850D49EBE026BfbF75F0D99EC7Db\",\"0x4d2E1A38d07Eadf5C62CfDaF93547DAe09F1EF83\",\"eip155:97:0x570C8dCdDEEFDB49BcD1A63d970e75EB2388a0a3\",\"0xB9AA9aB0b4153c2669Fb63517056d9A4e3dEE750\"]]\n",
       "date: [[2019-05-18 18:53:03.000000,2019-06-24 19:48:42.000000,2019-04-11 14:37:31.000000,2022-02-04 09:34:24.000000,2019-06-10 13:10:18.000000,...,2023-06-21 11:06:17.000000,2021-12-31 11:16:21.000000,2021-12-02 11:40:28.000000,2022-10-29 09:39:54.000000,2022-07-29 12:36:50.000000]]\n",
       "votes_count: [[7,10,11,1,19,...,0,0,0,0,0]]"
      ]
     },
     "execution_count": 146,
     "metadata": {},
     "output_type": "execute_result"
    }
   ],
   "source": [
    "query = \"\"\"\n",
    "SELECT\n",
    "    p.*\n",
    "FROM\n",
    "    proposals as p\n",
    "JOIN\n",
    "    deployments\n",
    "ON\n",
    "    p.deployment_id = deployments.id\n",
    "WHERE\n",
    "    deployments.platform != 'realms'\n",
    "\"\"\"\n",
    "proposals_v6_no_realms = db.execute(query).fetch_arrow_table()\n",
    "proposals_v6_no_realms"
   ]
  },
  {
   "cell_type": "code",
   "execution_count": 147,
   "metadata": {},
   "outputs": [],
   "source": [
    "pq.write_table(proposals_v6_no_realms, \"../parquets_version7/_temp_proposals_v6_no_realms.parquet\")"
   ]
  },
  {
   "cell_type": "code",
   "execution_count": 148,
   "metadata": {},
   "outputs": [
    {
     "data": {
      "text/plain": [
       "id: string\n",
       "deployment_id: string\n",
       "platform_proposal_id: string\n",
       "author: string\n",
       "date: timestamp[us]\n",
       "votes_count: int64"
      ]
     },
     "execution_count": 148,
     "metadata": {},
     "output_type": "execute_result"
    }
   ],
   "source": [
    "proposals_v6_no_realms.schema"
   ]
  },
  {
   "cell_type": "code",
   "execution_count": 149,
   "metadata": {},
   "outputs": [
    {
     "data": {
      "text/plain": [
       "id: string\n",
       "deployment_id: string\n",
       "platform_proposal_id: string\n",
       "author: string\n",
       "date: timestamp[us]\n",
       "votes_count: int64\n",
       "-- schema metadata --\n",
       "pandas: '{\"index_columns\": [], \"column_indexes\": [], \"columns\": [{\"name\":' + 785"
      ]
     },
     "execution_count": 149,
     "metadata": {},
     "output_type": "execute_result"
    }
   ],
   "source": [
    "new_proposals_table.schema"
   ]
  },
  {
   "cell_type": "code",
   "execution_count": 150,
   "metadata": {},
   "outputs": [
    {
     "data": {
      "text/plain": [
       "True"
      ]
     },
     "execution_count": 150,
     "metadata": {},
     "output_type": "execute_result"
    }
   ],
   "source": [
    "proposals_v6_no_realms.schema == new_proposals_table.schema"
   ]
  },
  {
   "cell_type": "code",
   "execution_count": 151,
   "metadata": {},
   "outputs": [],
   "source": [
    "import pyarrow.parquet as pq\n",
    "import pyarrow as pa\n",
    "from pyarrow.parquet import ParquetFile\n",
    "proposals_v6_no_realms_pf = ParquetFile('../parquets_version7/_temp_proposals_v6_no_realms.parquet')\n",
    "for i, record_batch in enumerate(proposals_v6_no_realms_pf.iter_batches(batch_size=10000)):\n",
    "    # for the first chunk of records\n",
    "    table = pa.Table.from_batches([record_batch])\n",
    "    if i == 0:\n",
    "        # create a parquet write object giving it an output file\n",
    "        pqwriter = pq.ParquetWriter('../parquets_version7/proposals.parquet', table.schema)            \n",
    "    pqwriter.write_table(table)\n",
    "\n",
    "pqwriter.write_table(new_proposals_table)\n",
    "\n",
    "# close the parquet writer\n",
    "pqwriter.close()"
   ]
  },
  {
   "cell_type": "code",
   "execution_count": 152,
   "metadata": {},
   "outputs": [
    {
     "name": "stdout",
     "output_type": "stream",
     "text": [
      "Number of rows: 206061\n",
      "Number of columns: 6\n"
     ]
    }
   ],
   "source": [
    "# read '../parquets_version6/proposals.parquet' size without opening\n",
    "with pq.ParquetFile('../parquets_version6/proposals.parquet') as pf:\n",
    "    num_rows = pf.metadata.num_rows\n",
    "    num_columns = len(pf.metadata.schema.names)\n",
    "    print(f'Number of rows: {num_rows}')\n",
    "    print(f'Number of columns: {num_columns}')"
   ]
  },
  {
   "cell_type": "code",
   "execution_count": 153,
   "metadata": {},
   "outputs": [
    {
     "name": "stdout",
     "output_type": "stream",
     "text": [
      "Number of rows: 207871\n",
      "Number of columns: 6\n"
     ]
    }
   ],
   "source": [
    "# read '../parquets_version7/proposals.parquet' size without opening\n",
    "with pq.ParquetFile('../parquets_version7/proposals.parquet') as pf:\n",
    "    num_rows = pf.metadata.num_rows\n",
    "    num_columns = len(pf.metadata.schema.names)\n",
    "    print(f'Number of rows: {num_rows}')\n",
    "    print(f'Number of columns: {num_columns}')"
   ]
  }
 ],
 "metadata": {
  "kernelspec": {
   "display_name": "Python 3",
   "language": "python",
   "name": "python3"
  },
  "language_info": {
   "codemirror_mode": {
    "name": "ipython",
    "version": 3
   },
   "file_extension": ".py",
   "mimetype": "text/x-python",
   "name": "python",
   "nbconvert_exporter": "python",
   "pygments_lexer": "ipython3",
   "version": "3.11.4"
  },
  "orig_nbformat": 4
 },
 "nbformat": 4,
 "nbformat_minor": 2
}
