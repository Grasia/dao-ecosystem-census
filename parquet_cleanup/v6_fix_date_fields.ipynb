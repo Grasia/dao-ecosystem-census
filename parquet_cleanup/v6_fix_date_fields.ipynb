{
 "cells": [
  {
   "cell_type": "code",
   "execution_count": 1,
   "metadata": {},
   "outputs": [],
   "source": [
    "# here we will:\n",
    "# 1. make the proposal date field to type date and \n",
    "# 2. remove the 'platform' column from the proposal table; this is redundant as\n",
    "# we have this field on the deployment table; this is a property of deployments,\n",
    "# not of proposals\n",
    "# 3. make votes date precision to seconds"
   ]
  },
  {
   "cell_type": "code",
   "execution_count": 2,
   "metadata": {},
   "outputs": [
    {
     "data": {
      "text/plain": [
       "pyarrow.Table\n",
       "id: string\n",
       "deployment_id: string\n",
       "platform_proposal_id: string\n",
       "author: string\n",
       "date: string\n",
       "votes_count: int64\n",
       "platform: string\n",
       "----\n",
       "id: [[\"5badfaf0-fb6b-5050-85ec-9e4a8b97d759\",\"e4e5343b-4205-5561-9722-60a80e37fc82\",\"924663af-1ba7-534b-adde-d7bec9b6a3af\",\"b4bd6548-2898-5523-aab2-24d40aab3910\",\"d9368ff7-ec0f-5747-a7ca-827a746415ab\",...,\"ad1a65ea-c153-59c2-8522-5b09a19f3b24\",\"1d9b7985-728f-5cdf-a867-d7b105fb2ed3\",\"24bb50ae-8930-59d9-b80e-fad3aab66bee\",\"398ff2a2-c6df-5ed1-9e94-e2aa2a0e8bb6\",\"6e949a92-0ece-5408-a8d8-bc941dd47eda\"],[\"0755d88e-effb-5e25-a96c-8ee6bbd1c34b\",\"9394ddae-0df4-5f89-8471-3b818f1622a5\",\"a233c03a-50ec-558c-b404-fadfeca8dd9a\",\"bef6d95a-f12a-5311-8eac-76d62331eb36\",\"fa573801-0fec-5864-82ae-4b081325d919\",...,\"e52a23f2-a3d2-5dee-9905-8b2013f182ac\",\"6d3033a9-10a0-5200-950f-d54d9a75a15c\",\"debca85d-c90e-5e67-88ae-c3829719de92\",\"b50176c5-6339-5c10-8096-5da0132513b9\",\"eba70a13-f55d-5378-be20-c3a709843e2d\"],...,[\"a3387b60-d5eb-53ca-b7fb-f3dae3913cf1\",\"bc4e4941-8a9a-5715-bfda-54a4a00b0530\",\"803d9ec9-5003-5891-90ff-1c200693681b\",\"9167fe30-1df6-5a19-b338-f667db699ff6\",\"ae49e60a-a08e-5432-bb63-19f830262647\",...,\"a7511001-1d75-5a86-ba5d-3bd63930dbdc\",\"b5b788e6-a2ac-5c67-a9f0-a78bc344ed43\",\"2d8b773b-4a0f-5a02-b8a7-a8f55063fa83\",\"6a1f85b9-1d8a-54f2-9d25-6dc5773a99d3\",\"4af20e37-93b7-5990-8d00-a2214950e109\"],[\"d5a626a1-ffde-52ea-ae01-7e601190023d\",\"75f7c6ce-d1f1-5555-9cdb-ed0985d05413\",\"e0eb32d9-981e-5dce-bc96-1ecce11606e2\",\"c4248568-428a-5d5a-b605-b84d03128ba8\",\"822ce19d-ab93-52ac-9939-49c228dc5564\",...,\"8ccd108d-4214-5217-98b4-5a9e92253d57\",\"8a490916-a877-5b03-8c00-c09c882cab6a\",\"750131f1-b1e4-53f2-a944-0431de6db5da\",\"5392db96-66b7-5f68-b875-3c70007eb0ca\",\"32b94bdf-9322-5cb4-a8e8-cf4b1dfb2beb\"]]\n",
       "deployment_id: [[\"167ec1a5-0bec-5fde-9496-5caa7d004487\",\"42d9f322-1f55-58a3-83c4-9fc82666559b\",\"881167d8-3707-5640-9716-ab77768b4ebe\",\"881167d8-3707-5640-9716-ab77768b4ebe\",\"fbbc05e2-7149-5eed-9899-c9a83eea5545\",...,\"fc4b8cfa-168f-55d8-9e7b-6f043474dd77\",\"b6e8b0b6-3f84-539e-89be-169eb509d3fa\",\"57944a1f-3177-59d8-9c35-0331045a7609\",\"5c3f0ca2-2baa-507c-b459-29fccc373a36\",\"0b6b4bd1-a58b-55df-ac81-5560963b6017\"],[\"ea02daf3-41c4-54fb-8c1d-fbc16a1bcfa4\",\"6e5c330f-86e3-592b-b2e5-309c1d1acc2a\",\"99642045-8b51-5ccc-94ef-0fb420ca5e18\",\"aebc8f8e-23b6-51e2-b972-b18568e162a5\",\"910aaa80-d05c-5e91-ac8b-925c822e4cd7\",...,\"dff98e15-2c27-5a6d-a491-af9206e7d910\",\"9a708119-8072-5679-8fe2-78aa72976eaf\",\"2dc1032d-4140-54ad-a8b0-ea08c79f97bf\",\"2c8b2775-96ce-5943-b194-f31be80d79a5\",\"fccae3f1-b3de-5e1b-a966-2e1149cefee7\"],...,[\"c37abcdd-a36b-51fc-8fa6-2c3ecb780df0\",\"c37abcdd-a36b-51fc-8fa6-2c3ecb780df0\",\"c37abcdd-a36b-51fc-8fa6-2c3ecb780df0\",\"c37abcdd-a36b-51fc-8fa6-2c3ecb780df0\",\"c37abcdd-a36b-51fc-8fa6-2c3ecb780df0\",...,\"2bef89cf-48fd-56e2-a1a0-df8ada25177e\",\"2bef89cf-48fd-56e2-a1a0-df8ada25177e\",\"2bef89cf-48fd-56e2-a1a0-df8ada25177e\",\"2bef89cf-48fd-56e2-a1a0-df8ada25177e\",\"8ef315c9-e489-509e-b02e-a944746c7fec\"],[\"cff38513-293c-55b1-862f-7b4b4fa29e5f\",\"a3220258-b849-5c9c-80e2-a26096c42035\",\"6f91cad0-d222-56ae-948d-8f7c305208dd\",\"cff38513-293c-55b1-862f-7b4b4fa29e5f\",\"b777ef1d-879e-5f51-abf5-3b6984d5add4\",...,\"52bc6eec-fcaf-546e-93fa-3c899146f612\",\"d345da16-b4e6-5e54-b806-01c0042f0b52\",\"09987489-519f-5553-87bc-b51245ef8362\",\"cff38513-293c-55b1-862f-7b4b4fa29e5f\",\"2507f8af-6261-549c-b812-c7c91eef4779\"]]\n",
       "platform_proposal_id: [[\"EUrU9LLfbEqra1TXZXhYKpJfvYhKLJJuVy1weZNUnt4G\",\"DsaGqF8tpiQqwJGxGP6JXAWUo9L623jWBnexHuxEkrZ3\",\"5dDX6gBPGfTeuQdV93aNL6PtTMFxCXXiYVFMxzD7kJdc\",\"8icCe6sAdDQCnMg9a3LQVsRH8vyT2UdYE64ET7Uk232n\",\"HJFtqkKE9sxmMqYaHK8LeoFbibufZMzDn8UWdzJbJWyc\",...,\"0x5ce339fb45c56298aba41ea651e288b81c8043d3b643444753d5f8e29b9a3345\",\"0x28f6bb12860afc17dc45ea459e286e44a2f7934fe90df12b8cab0218f1edd672\",\"0x68e74dd7f3c6d6f03306ca4faf47e2fe5bd33cbab4d2b97afaa6236ef8421397\",\"0xc77d62d0d4a1fdd462f643a5ebfdcd0cb39d67a9344326884fd688e481f218bc\",\"0x34db6a486c413a360fd43a6d916fe4419e29b943da3a6581a89b63fc8c4b4136\"],[\"0x7c27da61d2c6134b436b87ba89d4ddfad04e5d6bf4f4c2d92a19d0317cd4de21\",\"0x23c30f4b23b86ad7b70c5aed31ab4f1555946360ff3ac5ffd74c5215da7fac67\",\"0xb3a299300a0fdc4a1a40bbffd3f599115c1dacefc843ce8cb0ce516f267d9d8e\",\"0x4fa987f962f5a6c601590d04654ad8c9bd3259905fa6ff59b11ea97df8e528b7\",\"0x8d707c2ce0d5bc6233dbbc0b2ac84cbbc56fc4156f94c45887c5f59016ab25fe\",...,\"2\",\"20826176194396188368365273309760678037803109545631950132610872578934791739854\",\"67943822471329004112611313449475609763997034637682895289192882233623156648130\",\"99484035707065665283021014470272776642215090859761442920707542471331802835503\",\"8\"],...,[\"0x1b975a9daf25e7b01e0a6c72d657ff74925327a8-proposal-4041\",\"0x1b975a9daf25e7b01e0a6c72d657ff74925327a8-proposal-4056\",\"0x1b975a9daf25e7b01e0a6c72d657ff74925327a8-proposal-4061\",\"0x1b975a9daf25e7b01e0a6c72d657ff74925327a8-proposal-4080\",\"0x1b975a9daf25e7b01e0a6c72d657ff74925327a8-proposal-4148\",...,\"8JEJBLTXUDPbkN894oAhReBdhovpXyxkuRrJtAaxSUCE\",\"BXSV3BmBDG8V3qmKCppy5fRwamaF2VtwpjZ2tow5EwAf\",\"DM7krzDzwcP7mpSVs79SikSqzyZykAMKsPGREa5FaBqz\",\"CRJqU4g8bfrWtLWpxQmNgQHU9H1qUYhsc5t9wSZ8TLAv\",\"CaTQiALWRjDAf6itABDpeVFzCTZezbmCe4G7pBmjtEVS\"],[\"0xec568fffba86c094cf06b22134b23074dfe2252c-110\",\"0xdbd27635a534a3d3169ef0498beb56fb9c937489-49\",\"0x3d5fc645320be0a085a32885f078f7121e5e5375-26\",\"0xec568fffba86c094cf06b22134b23074dfe2252c-147\",\"106247227237600433139581351842615975456822599329363014399616832913328325135207\",...,\"63169809760652078622677323798058814710077097609481109214088380715600951467677\",\"0xb3a87172f555ae2a2ab79be60b336d2f7d0187f0-10\",\"0x408ed6354d4973f66138c91495f2f2fcbd8724c3-22\",\"0xec568fffba86c094cf06b22134b23074dfe2252c-185\",\"0x8a994c6f55be1fd2b4d0dc3b8f8f7d4e3a2da8f1-10\"]]\n",
       "author: [[\"nan\",\"nan\",\"nan\",\"nan\",\"nan\",...,\"0xAd47508218C5046331725fc040dE59aDD79172B0\",\"0x2080dAaaA5284133D1332540D6A5d471D0954dFD\",\"0x42FD710D44A052e80816a16AeDd852d0d62Ba3d5\",\"0x381Df5ba0325534a780FC287B15325884Fec9433\",\"0x89ee26f4EC121bCFc3ca93fDb20B4F2A085709D2\"],[\"0xAA3e5ee4fdC831e5274FE7836c95D670dC2502e6\",\"0x00474e0897581D8Ab732aE6d124787D1BC46548d\",\"0x7581c2AF80DB6aE48163Fba620d7426A5Ca6a545\",\"0x2917634fD7319c38D377FfF1D9Ccac4505921339\",\"0x8a85bE4463E57f7650292Fc806718Df0447A099e\",...,\"eip155:5:0xc9d96D21930704cFaB107Ba51EF6093C55ECd242\",\"eip155:80001:0x5ABD73cE8Aec6fc8e2450e4f4c5FAc765E72F64e\",\"eip155:80001:0x5ABD73cE8Aec6fc8e2450e4f4c5FAc765E72F64e\",\"eip155:80001:0x2D6544Ca3FF235aCE1Cc840929eA3680A4206ede\",\"eip155:80001:0xa34737409091eBD0726A3Ab5863Fc7Ee9243Edab\"],...,[\"0xd1dbebd5a07f93bfe33b8c5774ef7f055b76af97\",\"0xab7a6a57e167997af98f30d3d09f09e0dbcb6635\",\"0xcf9d26b976d515171c5e66a870a974e9defb9edb\",\"0x0981c77854410efaa50b5822f325c34724c4e0b4\",\"0x83a47cbaeb025f59685e6bf5af1d6522c423ad94\",...,\"nan\",\"nan\",\"nan\",\"nan\",\"nan\"],[\"0x55b16934c3661e1990939bc57322554d9b09f262\",\"0x4be88f63f919324210ea3a2ccad4ff0734425f91\",\"0xe8ea8bae250028a8709a3841e0ae1a44820d677b\",\"0xf71fc92e2949ccf6a5fd369a0b402ba80bc61e02\",\"0x17768cfd6030e2b65eb5086e34a512fde5dc1f1f\",...,\"0xae7a25591ce046808f0c15eac4634f6608f9016a\",\"0xca768c37ba6ec3d67be7b47bbe1f1c94ca216f46\",\"0xb7771f70633c7e54e61dd38d01c26da0e86be1a5\",\"0x329c54289ff5d6b7b7dae13592c6b1eda1543ed4\",\"0x91a5f57b37c7fe0171483ce7b35b3612c2ac9c4d\"]]\n",
       "date: [[\"2022-10-30 18:30:31\",\"2022-06-02 07:58:12\",\"2022-03-24 13:42:45\",\"2022-09-22 23:30:14\",\"2022-02-16 04:05:58\",...,\"2023-06-23 08:58:52\",\"2023-06-22 12:39:39\",\"2023-07-04 10:17:36\",\"2023-06-30 08:58:52\",\"2023-07-02 08:31:47\"],[\"2022-03-20 14:16:45\",\"2023-01-04 17:00:51\",\"2022-06-23 20:27:42\",\"2021-12-24 04:08:16\",\"2022-12-11 15:32:41\",...,\"2022-02-23 03:41:25\",\"2022-08-17 06:39:38\",\"2022-08-18 06:33:09\",\"2022-06-12 19:55:56\",\"2022-02-14 07:48:21\"],...,[\"2021-10-29 16:40:20\",\"2021-10-29 16:40:35\",\"2021-10-29 16:40:40\",\"2021-10-29 16:41:00\",\"2021-10-29 16:42:10\",...,\"2022-02-01 09:41:42\",\"2022-01-24 13:45:36\",\"2022-02-06 13:59:54\",\"2022-03-23 19:09:40\",\"2022-06-23 20:16:10\"],[\"2022-10-19 18:10:11\",\"2023-03-08 18:29:11\",\"2022-09-16 15:07:59\",\"2023-01-23 10:48:11\",\"2023-02-21 20:14:47\",...,\"2023-04-26 00:45:11\",\"2021-05-08 22:32:17\",\"2022-06-18 02:28:58\",\"2023-03-21 10:05:23\",\"2023-01-11 15:58:59\"]]\n",
       "votes_count: [[1,1,2,2,1,...,1,1,2,2,2],[7,17,31,12,10,...,1,3,3,1,1],...,[0,0,0,0,0,...,0,0,0,0,0],[120,98,9,404,3,...,9,7,1248,22,1]]\n",
       "platform: [[\"realms\",\"realms\",\"realms\",\"realms\",\"realms\",...,\"snapshot\",\"snapshot\",\"snapshot\",\"snapshot\",\"snapshot\"],[\"snapshot\",\"snapshot\",\"snapshot\",\"snapshot\",\"snapshot\",...,\"tally\",\"tally\",\"tally\",\"tally\",\"tally\"],...,[\"daohaus\",\"daohaus\",\"daohaus\",\"daohaus\",\"daohaus\",...,\"realms\",\"realms\",\"realms\",\"realms\",\"realms\"],[\"governor\",\"governor\",\"governor\",\"governor\",\"governor\",...,\"governor\",\"governor\",\"governor\",\"governor\",\"governor\"]]"
      ]
     },
     "execution_count": 2,
     "metadata": {},
     "output_type": "execute_result"
    }
   ],
   "source": [
    "# open ../parquets_version5/proposals.parquet\n",
    "import pyarrow.parquet as pq\n",
    "import pyarrow as pa\n",
    "\n",
    "proposals = pq.read_table('../parquets_version5/proposals.parquet')\n",
    "proposals"
   ]
  },
  {
   "cell_type": "code",
   "execution_count": 3,
   "metadata": {},
   "outputs": [],
   "source": [
    "# remove the 6th column\n",
    "proposals = proposals.drop('platform')"
   ]
  },
  {
   "cell_type": "code",
   "execution_count": 4,
   "metadata": {},
   "outputs": [
    {
     "data": {
      "text/html": [
       "<div>\n",
       "<style scoped>\n",
       "    .dataframe tbody tr th:only-of-type {\n",
       "        vertical-align: middle;\n",
       "    }\n",
       "\n",
       "    .dataframe tbody tr th {\n",
       "        vertical-align: top;\n",
       "    }\n",
       "\n",
       "    .dataframe thead th {\n",
       "        text-align: right;\n",
       "    }\n",
       "</style>\n",
       "<table border=\"1\" class=\"dataframe\">\n",
       "  <thead>\n",
       "    <tr style=\"text-align: right;\">\n",
       "      <th></th>\n",
       "      <th>id</th>\n",
       "      <th>deployment_id</th>\n",
       "      <th>platform_proposal_id</th>\n",
       "      <th>author</th>\n",
       "      <th>date</th>\n",
       "      <th>votes_count</th>\n",
       "    </tr>\n",
       "  </thead>\n",
       "  <tbody>\n",
       "    <tr>\n",
       "      <th>0</th>\n",
       "      <td>5badfaf0-fb6b-5050-85ec-9e4a8b97d759</td>\n",
       "      <td>167ec1a5-0bec-5fde-9496-5caa7d004487</td>\n",
       "      <td>EUrU9LLfbEqra1TXZXhYKpJfvYhKLJJuVy1weZNUnt4G</td>\n",
       "      <td>nan</td>\n",
       "      <td>2022-10-30 18:30:31</td>\n",
       "      <td>1</td>\n",
       "    </tr>\n",
       "    <tr>\n",
       "      <th>1</th>\n",
       "      <td>e4e5343b-4205-5561-9722-60a80e37fc82</td>\n",
       "      <td>42d9f322-1f55-58a3-83c4-9fc82666559b</td>\n",
       "      <td>DsaGqF8tpiQqwJGxGP6JXAWUo9L623jWBnexHuxEkrZ3</td>\n",
       "      <td>nan</td>\n",
       "      <td>2022-06-02 07:58:12</td>\n",
       "      <td>1</td>\n",
       "    </tr>\n",
       "    <tr>\n",
       "      <th>2</th>\n",
       "      <td>924663af-1ba7-534b-adde-d7bec9b6a3af</td>\n",
       "      <td>881167d8-3707-5640-9716-ab77768b4ebe</td>\n",
       "      <td>5dDX6gBPGfTeuQdV93aNL6PtTMFxCXXiYVFMxzD7kJdc</td>\n",
       "      <td>nan</td>\n",
       "      <td>2022-03-24 13:42:45</td>\n",
       "      <td>2</td>\n",
       "    </tr>\n",
       "    <tr>\n",
       "      <th>3</th>\n",
       "      <td>b4bd6548-2898-5523-aab2-24d40aab3910</td>\n",
       "      <td>881167d8-3707-5640-9716-ab77768b4ebe</td>\n",
       "      <td>8icCe6sAdDQCnMg9a3LQVsRH8vyT2UdYE64ET7Uk232n</td>\n",
       "      <td>nan</td>\n",
       "      <td>2022-09-22 23:30:14</td>\n",
       "      <td>2</td>\n",
       "    </tr>\n",
       "    <tr>\n",
       "      <th>4</th>\n",
       "      <td>d9368ff7-ec0f-5747-a7ca-827a746415ab</td>\n",
       "      <td>fbbc05e2-7149-5eed-9899-c9a83eea5545</td>\n",
       "      <td>HJFtqkKE9sxmMqYaHK8LeoFbibufZMzDn8UWdzJbJWyc</td>\n",
       "      <td>nan</td>\n",
       "      <td>2022-02-16 04:05:58</td>\n",
       "      <td>1</td>\n",
       "    </tr>\n",
       "  </tbody>\n",
       "</table>\n",
       "</div>"
      ],
      "text/plain": [
       "                                     id                         deployment_id  \\\n",
       "0  5badfaf0-fb6b-5050-85ec-9e4a8b97d759  167ec1a5-0bec-5fde-9496-5caa7d004487   \n",
       "1  e4e5343b-4205-5561-9722-60a80e37fc82  42d9f322-1f55-58a3-83c4-9fc82666559b   \n",
       "2  924663af-1ba7-534b-adde-d7bec9b6a3af  881167d8-3707-5640-9716-ab77768b4ebe   \n",
       "3  b4bd6548-2898-5523-aab2-24d40aab3910  881167d8-3707-5640-9716-ab77768b4ebe   \n",
       "4  d9368ff7-ec0f-5747-a7ca-827a746415ab  fbbc05e2-7149-5eed-9899-c9a83eea5545   \n",
       "\n",
       "                           platform_proposal_id author                date  \\\n",
       "0  EUrU9LLfbEqra1TXZXhYKpJfvYhKLJJuVy1weZNUnt4G    nan 2022-10-30 18:30:31   \n",
       "1  DsaGqF8tpiQqwJGxGP6JXAWUo9L623jWBnexHuxEkrZ3    nan 2022-06-02 07:58:12   \n",
       "2  5dDX6gBPGfTeuQdV93aNL6PtTMFxCXXiYVFMxzD7kJdc    nan 2022-03-24 13:42:45   \n",
       "3  8icCe6sAdDQCnMg9a3LQVsRH8vyT2UdYE64ET7Uk232n    nan 2022-09-22 23:30:14   \n",
       "4  HJFtqkKE9sxmMqYaHK8LeoFbibufZMzDn8UWdzJbJWyc    nan 2022-02-16 04:05:58   \n",
       "\n",
       "   votes_count  \n",
       "0            1  \n",
       "1            1  \n",
       "2            2  \n",
       "3            2  \n",
       "4            1  "
      ]
     },
     "execution_count": 4,
     "metadata": {},
     "output_type": "execute_result"
    }
   ],
   "source": [
    "import pandas as pd\n",
    "proposals_df = proposals.to_pandas()\n",
    "proposals_df['date'] = pd.to_datetime(proposals_df['date'], format='%Y-%m-%d')\n",
    "proposals_df.head()"
   ]
  },
  {
   "cell_type": "code",
   "execution_count": 5,
   "metadata": {},
   "outputs": [
    {
     "data": {
      "text/plain": [
       "id                              object\n",
       "deployment_id                   object\n",
       "platform_proposal_id            object\n",
       "author                          object\n",
       "date                    datetime64[ns]\n",
       "votes_count                      int64\n",
       "dtype: object"
      ]
     },
     "execution_count": 5,
     "metadata": {},
     "output_type": "execute_result"
    }
   ],
   "source": [
    "proposals_df.dtypes"
   ]
  },
  {
   "cell_type": "code",
   "execution_count": 6,
   "metadata": {},
   "outputs": [
    {
     "data": {
      "text/plain": [
       "id: string\n",
       "deployment_id: string\n",
       "platform_proposal_id: string\n",
       "author: string\n",
       "date: timestamp[ns]\n",
       "votes_count: int64\n",
       "-- schema metadata --\n",
       "pandas: '{\"index_columns\": [{\"kind\": \"range\", \"name\": null, \"start\": 0, \"' + 982"
      ]
     },
     "execution_count": 6,
     "metadata": {},
     "output_type": "execute_result"
    }
   ],
   "source": [
    "# proposals_df to pyarrow\n",
    "import pyarrow as pa\n",
    "proposals_table = pa.Table.from_pandas(proposals_df)\n",
    "proposals_table.schema"
   ]
  },
  {
   "cell_type": "code",
   "execution_count": 7,
   "metadata": {},
   "outputs": [
    {
     "data": {
      "text/plain": [
       "'date'"
      ]
     },
     "execution_count": 7,
     "metadata": {},
     "output_type": "execute_result"
    }
   ],
   "source": [
    "proposals_table.column_names[4]"
   ]
  },
  {
   "cell_type": "code",
   "execution_count": 8,
   "metadata": {},
   "outputs": [
    {
     "data": {
      "text/plain": [
       "id: string\n",
       "deployment_id: string\n",
       "platform_proposal_id: string\n",
       "author: string\n",
       "date: timestamp[s]\n",
       "votes_count: int64\n",
       "-- schema metadata --\n",
       "pandas: '{\"index_columns\": [{\"kind\": \"range\", \"name\": null, \"start\": 0, \"' + 982"
      ]
     },
     "execution_count": 8,
     "metadata": {},
     "output_type": "execute_result"
    }
   ],
   "source": [
    "proposals_table = proposals_table.set_column(4, 'date', proposals_table.column(4).cast(pa.timestamp('s')))\n",
    "proposals_table.schema"
   ]
  },
  {
   "cell_type": "code",
   "execution_count": 9,
   "metadata": {},
   "outputs": [
    {
     "data": {
      "text/plain": [
       "pyarrow.Table\n",
       "id: string\n",
       "deployment_id: string\n",
       "platform_proposal_id: string\n",
       "author: string\n",
       "date: timestamp[s]\n",
       "votes_count: int64\n",
       "----\n",
       "id: [[\"5badfaf0-fb6b-5050-85ec-9e4a8b97d759\",\"e4e5343b-4205-5561-9722-60a80e37fc82\",\"924663af-1ba7-534b-adde-d7bec9b6a3af\",\"b4bd6548-2898-5523-aab2-24d40aab3910\",\"d9368ff7-ec0f-5747-a7ca-827a746415ab\",...,\"8ccd108d-4214-5217-98b4-5a9e92253d57\",\"8a490916-a877-5b03-8c00-c09c882cab6a\",\"750131f1-b1e4-53f2-a944-0431de6db5da\",\"5392db96-66b7-5f68-b875-3c70007eb0ca\",\"32b94bdf-9322-5cb4-a8e8-cf4b1dfb2beb\"]]\n",
       "deployment_id: [[\"167ec1a5-0bec-5fde-9496-5caa7d004487\",\"42d9f322-1f55-58a3-83c4-9fc82666559b\",\"881167d8-3707-5640-9716-ab77768b4ebe\",\"881167d8-3707-5640-9716-ab77768b4ebe\",\"fbbc05e2-7149-5eed-9899-c9a83eea5545\",...,\"52bc6eec-fcaf-546e-93fa-3c899146f612\",\"d345da16-b4e6-5e54-b806-01c0042f0b52\",\"09987489-519f-5553-87bc-b51245ef8362\",\"cff38513-293c-55b1-862f-7b4b4fa29e5f\",\"2507f8af-6261-549c-b812-c7c91eef4779\"]]\n",
       "platform_proposal_id: [[\"EUrU9LLfbEqra1TXZXhYKpJfvYhKLJJuVy1weZNUnt4G\",\"DsaGqF8tpiQqwJGxGP6JXAWUo9L623jWBnexHuxEkrZ3\",\"5dDX6gBPGfTeuQdV93aNL6PtTMFxCXXiYVFMxzD7kJdc\",\"8icCe6sAdDQCnMg9a3LQVsRH8vyT2UdYE64ET7Uk232n\",\"HJFtqkKE9sxmMqYaHK8LeoFbibufZMzDn8UWdzJbJWyc\",...,\"63169809760652078622677323798058814710077097609481109214088380715600951467677\",\"0xb3a87172f555ae2a2ab79be60b336d2f7d0187f0-10\",\"0x408ed6354d4973f66138c91495f2f2fcbd8724c3-22\",\"0xec568fffba86c094cf06b22134b23074dfe2252c-185\",\"0x8a994c6f55be1fd2b4d0dc3b8f8f7d4e3a2da8f1-10\"]]\n",
       "author: [[\"nan\",\"nan\",\"nan\",\"nan\",\"nan\",...,\"0xae7a25591ce046808f0c15eac4634f6608f9016a\",\"0xca768c37ba6ec3d67be7b47bbe1f1c94ca216f46\",\"0xb7771f70633c7e54e61dd38d01c26da0e86be1a5\",\"0x329c54289ff5d6b7b7dae13592c6b1eda1543ed4\",\"0x91a5f57b37c7fe0171483ce7b35b3612c2ac9c4d\"]]\n",
       "date: [[2022-10-30 18:30:31,2022-06-02 07:58:12,2022-03-24 13:42:45,2022-09-22 23:30:14,2022-02-16 04:05:58,...,2023-04-26 00:45:11,2021-05-08 22:32:17,2022-06-18 02:28:58,2023-03-21 10:05:23,2023-01-11 15:58:59]]\n",
       "votes_count: [[1,1,2,2,1,...,9,7,1248,22,1]]"
      ]
     },
     "execution_count": 9,
     "metadata": {},
     "output_type": "execute_result"
    }
   ],
   "source": [
    "proposals_table"
   ]
  },
  {
   "cell_type": "code",
   "execution_count": 10,
   "metadata": {},
   "outputs": [],
   "source": [
    "# save to ../parquets_version6/proposals.parquet\n",
    "pa.parquet.write_table(proposals_table, '../parquets_version6/proposals.parquet')"
   ]
  },
  {
   "cell_type": "code",
   "execution_count": 11,
   "metadata": {},
   "outputs": [
    {
     "data": {
      "text/plain": [
       "id: string\n",
       "proposal_id: string\n",
       "deployment_id: string\n",
       "platform_vote_id: string\n",
       "voter: string\n",
       "date: timestamp[us]\n",
       "choice: string\n",
       "weight: decimal128(38, 4)"
      ]
     },
     "execution_count": 11,
     "metadata": {},
     "output_type": "execute_result"
    }
   ],
   "source": [
    "votes = pq.read_table('../parquets_version5/votes.parquet')\n",
    "votes.schema"
   ]
  },
  {
   "cell_type": "code",
   "execution_count": 12,
   "metadata": {},
   "outputs": [
    {
     "data": {
      "text/plain": [
       "'date'"
      ]
     },
     "execution_count": 12,
     "metadata": {},
     "output_type": "execute_result"
    }
   ],
   "source": [
    "votes.column_names[5]"
   ]
  },
  {
   "cell_type": "code",
   "execution_count": 13,
   "metadata": {},
   "outputs": [],
   "source": [
    "votes = votes.set_column(5, 'date', votes.column(5).cast(pa.timestamp('s')))"
   ]
  },
  {
   "cell_type": "code",
   "execution_count": 14,
   "metadata": {},
   "outputs": [
    {
     "data": {
      "text/plain": [
       "id: string\n",
       "proposal_id: string\n",
       "deployment_id: string\n",
       "platform_vote_id: string\n",
       "voter: string\n",
       "date: timestamp[s]\n",
       "choice: string\n",
       "weight: decimal128(38, 4)"
      ]
     },
     "execution_count": 14,
     "metadata": {},
     "output_type": "execute_result"
    }
   ],
   "source": [
    "votes.schema"
   ]
  },
  {
   "cell_type": "code",
   "execution_count": 15,
   "metadata": {},
   "outputs": [],
   "source": [
    "pa.parquet.write_table(votes, '../parquets_version6/votes.parquet')"
   ]
  }
 ],
 "metadata": {
  "kernelspec": {
   "display_name": "Python 3",
   "language": "python",
   "name": "python3"
  },
  "language_info": {
   "codemirror_mode": {
    "name": "ipython",
    "version": 3
   },
   "file_extension": ".py",
   "mimetype": "text/x-python",
   "name": "python",
   "nbconvert_exporter": "python",
   "pygments_lexer": "ipython3",
   "version": "3.11.4"
  },
  "orig_nbformat": 4
 },
 "nbformat": 4,
 "nbformat_minor": 2
}
