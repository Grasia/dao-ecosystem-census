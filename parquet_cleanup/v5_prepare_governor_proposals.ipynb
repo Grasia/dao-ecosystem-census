{
 "cells": [
  {
   "cell_type": "code",
   "execution_count": 149,
   "metadata": {},
   "outputs": [
    {
     "data": {
      "text/html": [
       "<div>\n",
       "<style scoped>\n",
       "    .dataframe tbody tr th:only-of-type {\n",
       "        vertical-align: middle;\n",
       "    }\n",
       "\n",
       "    .dataframe tbody tr th {\n",
       "        vertical-align: top;\n",
       "    }\n",
       "\n",
       "    .dataframe thead th {\n",
       "        text-align: right;\n",
       "    }\n",
       "</style>\n",
       "<table border=\"1\" class=\"dataframe\">\n",
       "  <thead>\n",
       "    <tr style=\"text-align: right;\">\n",
       "      <th></th>\n",
       "      <th>platform</th>\n",
       "      <th>platform_deployment_id</th>\n",
       "      <th>proposal_id</th>\n",
       "      <th>author</th>\n",
       "      <th>date</th>\n",
       "      <th>votes_count</th>\n",
       "    </tr>\n",
       "  </thead>\n",
       "  <tbody>\n",
       "    <tr>\n",
       "      <th>0</th>\n",
       "      <td>governor</td>\n",
       "      <td>e1a6f432-bc3c-438e-a07b-ce35095de79a</td>\n",
       "      <td>0xec568fffba86c094cf06b22134b23074dfe2252c-110</td>\n",
       "      <td>0x55b16934c3661e1990939bc57322554d9b09f262</td>\n",
       "      <td>2022-10-19 18:10:11</td>\n",
       "      <td>124</td>\n",
       "    </tr>\n",
       "    <tr>\n",
       "      <th>1</th>\n",
       "      <td>governor</td>\n",
       "      <td>c0b43294-f8b9-4bbb-8a25-b5773d7b23b1</td>\n",
       "      <td>0xdbd27635a534a3d3169ef0498beb56fb9c937489-49</td>\n",
       "      <td>0x4be88f63f919324210ea3a2ccad4ff0734425f91</td>\n",
       "      <td>2023-03-08 18:29:11</td>\n",
       "      <td>98</td>\n",
       "    </tr>\n",
       "    <tr>\n",
       "      <th>2</th>\n",
       "      <td>governor</td>\n",
       "      <td>1a11c997-d9c2-4d3c-abe4-3d85190d02f2</td>\n",
       "      <td>0x3d5fc645320be0a085a32885f078f7121e5e5375-26</td>\n",
       "      <td>0xe8ea8bae250028a8709a3841e0ae1a44820d677b</td>\n",
       "      <td>2022-09-16 15:07:59</td>\n",
       "      <td>9</td>\n",
       "    </tr>\n",
       "    <tr>\n",
       "      <th>3</th>\n",
       "      <td>governor</td>\n",
       "      <td>e1a6f432-bc3c-438e-a07b-ce35095de79a</td>\n",
       "      <td>0xec568fffba86c094cf06b22134b23074dfe2252c-147</td>\n",
       "      <td>0xf71fc92e2949ccf6a5fd369a0b402ba80bc61e02</td>\n",
       "      <td>2023-01-23 10:48:11</td>\n",
       "      <td>413</td>\n",
       "    </tr>\n",
       "    <tr>\n",
       "      <th>4</th>\n",
       "      <td>governor</td>\n",
       "      <td>32b7bb94-fbc9-4172-9219-0ed422edf0ce</td>\n",
       "      <td>1062472272376004331395813518426159754568225993...</td>\n",
       "      <td>0x17768cfd6030e2b65eb5086e34a512fde5dc1f1f</td>\n",
       "      <td>2023-02-21 20:14:47</td>\n",
       "      <td>3</td>\n",
       "    </tr>\n",
       "  </tbody>\n",
       "</table>\n",
       "</div>"
      ],
      "text/plain": [
       "   platform                platform_deployment_id  \\\n",
       "0  governor  e1a6f432-bc3c-438e-a07b-ce35095de79a   \n",
       "1  governor  c0b43294-f8b9-4bbb-8a25-b5773d7b23b1   \n",
       "2  governor  1a11c997-d9c2-4d3c-abe4-3d85190d02f2   \n",
       "3  governor  e1a6f432-bc3c-438e-a07b-ce35095de79a   \n",
       "4  governor  32b7bb94-fbc9-4172-9219-0ed422edf0ce   \n",
       "\n",
       "                                         proposal_id  \\\n",
       "0     0xec568fffba86c094cf06b22134b23074dfe2252c-110   \n",
       "1      0xdbd27635a534a3d3169ef0498beb56fb9c937489-49   \n",
       "2      0x3d5fc645320be0a085a32885f078f7121e5e5375-26   \n",
       "3     0xec568fffba86c094cf06b22134b23074dfe2252c-147   \n",
       "4  1062472272376004331395813518426159754568225993...   \n",
       "\n",
       "                                       author                 date  \\\n",
       "0  0x55b16934c3661e1990939bc57322554d9b09f262  2022-10-19 18:10:11   \n",
       "1  0x4be88f63f919324210ea3a2ccad4ff0734425f91  2023-03-08 18:29:11   \n",
       "2  0xe8ea8bae250028a8709a3841e0ae1a44820d677b  2022-09-16 15:07:59   \n",
       "3  0xf71fc92e2949ccf6a5fd369a0b402ba80bc61e02  2023-01-23 10:48:11   \n",
       "4  0x17768cfd6030e2b65eb5086e34a512fde5dc1f1f  2023-02-21 20:14:47   \n",
       "\n",
       "   votes_count  \n",
       "0          124  \n",
       "1           98  \n",
       "2            9  \n",
       "3          413  \n",
       "4            3  "
      ]
     },
     "execution_count": 149,
     "metadata": {},
     "output_type": "execute_result"
    }
   ],
   "source": [
    "import pandas as pd\n",
    "df = pd.read_csv('../proposals/governor/governor_proposals.csv')\n",
    "df.head()"
   ]
  },
  {
   "cell_type": "code",
   "execution_count": 150,
   "metadata": {},
   "outputs": [
    {
     "data": {
      "text/plain": [
       "platform                  object\n",
       "platform_deployment_id    object\n",
       "proposal_id               object\n",
       "author                    object\n",
       "date                      object\n",
       "votes_count                int64\n",
       "dtype: object"
      ]
     },
     "execution_count": 150,
     "metadata": {},
     "output_type": "execute_result"
    }
   ],
   "source": [
    "df.dtypes"
   ]
  },
  {
   "cell_type": "markdown",
   "metadata": {},
   "source": [
    "first lets count the votes"
   ]
  },
  {
   "cell_type": "code",
   "execution_count": 151,
   "metadata": {},
   "outputs": [
    {
     "data": {
      "text/plain": [
       "<duckdb.DuckDBPyConnection at 0x282ce4d70>"
      ]
     },
     "execution_count": 151,
     "metadata": {},
     "output_type": "execute_result"
    }
   ],
   "source": [
    "# read in votes as a duckdb and count the number of votes per proposal\n",
    "import duckdb\n",
    "\n",
    "db = duckdb.connect(database=':memory:', read_only=False)\n",
    "# as view\n",
    "db.execute(\"CREATE VIEW votes AS SELECT * FROM parquet_scan('{}')\".format('../parquets_version5/votes.parquet'))"
   ]
  },
  {
   "cell_type": "code",
   "execution_count": 152,
   "metadata": {},
   "outputs": [
    {
     "data": {
      "text/html": [
       "<div>\n",
       "<style scoped>\n",
       "    .dataframe tbody tr th:only-of-type {\n",
       "        vertical-align: middle;\n",
       "    }\n",
       "\n",
       "    .dataframe tbody tr th {\n",
       "        vertical-align: top;\n",
       "    }\n",
       "\n",
       "    .dataframe thead th {\n",
       "        text-align: right;\n",
       "    }\n",
       "</style>\n",
       "<table border=\"1\" class=\"dataframe\">\n",
       "  <thead>\n",
       "    <tr style=\"text-align: right;\">\n",
       "      <th></th>\n",
       "      <th>id</th>\n",
       "      <th>new_count</th>\n",
       "    </tr>\n",
       "  </thead>\n",
       "  <tbody>\n",
       "    <tr>\n",
       "      <th>0</th>\n",
       "      <td>3f04d1ae-ed8e-5c61-b77f-15254939c42c</td>\n",
       "      <td>1</td>\n",
       "    </tr>\n",
       "    <tr>\n",
       "      <th>1</th>\n",
       "      <td>c7eb5de0-a18b-59c0-aa6e-57feeef7fb3e</td>\n",
       "      <td>2</td>\n",
       "    </tr>\n",
       "    <tr>\n",
       "      <th>2</th>\n",
       "      <td>1c63831d-f2bf-54f0-9637-388a12e36397</td>\n",
       "      <td>2</td>\n",
       "    </tr>\n",
       "    <tr>\n",
       "      <th>3</th>\n",
       "      <td>502678b3-a4a1-53eb-a879-3292570f5f6e</td>\n",
       "      <td>1</td>\n",
       "    </tr>\n",
       "    <tr>\n",
       "      <th>4</th>\n",
       "      <td>32b97c45-714c-58b4-a49a-d0db5f81633b</td>\n",
       "      <td>15</td>\n",
       "    </tr>\n",
       "  </tbody>\n",
       "</table>\n",
       "</div>"
      ],
      "text/plain": [
       "                                     id  new_count\n",
       "0  3f04d1ae-ed8e-5c61-b77f-15254939c42c          1\n",
       "1  c7eb5de0-a18b-59c0-aa6e-57feeef7fb3e          2\n",
       "2  1c63831d-f2bf-54f0-9637-388a12e36397          2\n",
       "3  502678b3-a4a1-53eb-a879-3292570f5f6e          1\n",
       "4  32b97c45-714c-58b4-a49a-d0db5f81633b         15"
      ]
     },
     "execution_count": 152,
     "metadata": {},
     "output_type": "execute_result"
    }
   ],
   "source": [
    "# write a query to select all from the proposals table and join it with a count of votes from the votes table\n",
    "query = \"\"\"\n",
    "SELECT proposal_id as id, COUNT(*) as new_count\n",
    "FROM votes\n",
    "GROUP BY proposal_id\n",
    "\"\"\"\n",
    "proposals_with_count = db.execute(query)\n",
    "proposals_with_updated_count = proposals_with_count.fetchdf()\n",
    "proposals_with_updated_count.head()\n",
    "# this includes governor and non-governor proposals"
   ]
  },
  {
   "cell_type": "markdown",
   "metadata": {},
   "source": [
    "before we can merge we need to update the proposal ids to use uuids\n",
    "* id: string\n",
    "* deployment_id: string\n",
    "* platform_proposal_id: string (old proposal_id)"
   ]
  },
  {
   "cell_type": "code",
   "execution_count": 153,
   "metadata": {},
   "outputs": [],
   "source": [
    "# rename proposal_id to platform_proposal_id\n",
    "df.rename(columns={'proposal_id': 'platform_proposal_id'}, inplace=True)"
   ]
  },
  {
   "cell_type": "markdown",
   "metadata": {},
   "source": [
    "* id: string\n",
    "* deployment_id: string\n",
    "* ~~platform_proposal_id: string (old proposal_id)~~"
   ]
  },
  {
   "cell_type": "code",
   "execution_count": 154,
   "metadata": {},
   "outputs": [
    {
     "data": {
      "text/plain": [
       "Index(['platform', 'platform_deployment_id', 'platform_proposal_id', 'author',\n",
       "       'date', 'votes_count'],\n",
       "      dtype='object')"
      ]
     },
     "execution_count": 154,
     "metadata": {},
     "output_type": "execute_result"
    }
   ],
   "source": [
    "df.columns"
   ]
  },
  {
   "cell_type": "code",
   "execution_count": 155,
   "metadata": {},
   "outputs": [
    {
     "data": {
      "text/html": [
       "<div>\n",
       "<style scoped>\n",
       "    .dataframe tbody tr th:only-of-type {\n",
       "        vertical-align: middle;\n",
       "    }\n",
       "\n",
       "    .dataframe tbody tr th {\n",
       "        vertical-align: top;\n",
       "    }\n",
       "\n",
       "    .dataframe thead th {\n",
       "        text-align: right;\n",
       "    }\n",
       "</style>\n",
       "<table border=\"1\" class=\"dataframe\">\n",
       "  <thead>\n",
       "    <tr style=\"text-align: right;\">\n",
       "      <th></th>\n",
       "      <th>platform</th>\n",
       "      <th>platform_deployment_id</th>\n",
       "      <th>platform_proposal_id</th>\n",
       "      <th>author</th>\n",
       "      <th>date</th>\n",
       "      <th>votes_count</th>\n",
       "      <th>id</th>\n",
       "    </tr>\n",
       "  </thead>\n",
       "  <tbody>\n",
       "    <tr>\n",
       "      <th>0</th>\n",
       "      <td>governor</td>\n",
       "      <td>e1a6f432-bc3c-438e-a07b-ce35095de79a</td>\n",
       "      <td>0xec568fffba86c094cf06b22134b23074dfe2252c-110</td>\n",
       "      <td>0x55b16934c3661e1990939bc57322554d9b09f262</td>\n",
       "      <td>2022-10-19 18:10:11</td>\n",
       "      <td>124</td>\n",
       "      <td>d5a626a1-ffde-52ea-ae01-7e601190023d</td>\n",
       "    </tr>\n",
       "    <tr>\n",
       "      <th>1</th>\n",
       "      <td>governor</td>\n",
       "      <td>c0b43294-f8b9-4bbb-8a25-b5773d7b23b1</td>\n",
       "      <td>0xdbd27635a534a3d3169ef0498beb56fb9c937489-49</td>\n",
       "      <td>0x4be88f63f919324210ea3a2ccad4ff0734425f91</td>\n",
       "      <td>2023-03-08 18:29:11</td>\n",
       "      <td>98</td>\n",
       "      <td>75f7c6ce-d1f1-5555-9cdb-ed0985d05413</td>\n",
       "    </tr>\n",
       "    <tr>\n",
       "      <th>2</th>\n",
       "      <td>governor</td>\n",
       "      <td>1a11c997-d9c2-4d3c-abe4-3d85190d02f2</td>\n",
       "      <td>0x3d5fc645320be0a085a32885f078f7121e5e5375-26</td>\n",
       "      <td>0xe8ea8bae250028a8709a3841e0ae1a44820d677b</td>\n",
       "      <td>2022-09-16 15:07:59</td>\n",
       "      <td>9</td>\n",
       "      <td>e0eb32d9-981e-5dce-bc96-1ecce11606e2</td>\n",
       "    </tr>\n",
       "    <tr>\n",
       "      <th>3</th>\n",
       "      <td>governor</td>\n",
       "      <td>e1a6f432-bc3c-438e-a07b-ce35095de79a</td>\n",
       "      <td>0xec568fffba86c094cf06b22134b23074dfe2252c-147</td>\n",
       "      <td>0xf71fc92e2949ccf6a5fd369a0b402ba80bc61e02</td>\n",
       "      <td>2023-01-23 10:48:11</td>\n",
       "      <td>413</td>\n",
       "      <td>c4248568-428a-5d5a-b605-b84d03128ba8</td>\n",
       "    </tr>\n",
       "    <tr>\n",
       "      <th>4</th>\n",
       "      <td>governor</td>\n",
       "      <td>32b7bb94-fbc9-4172-9219-0ed422edf0ce</td>\n",
       "      <td>1062472272376004331395813518426159754568225993...</td>\n",
       "      <td>0x17768cfd6030e2b65eb5086e34a512fde5dc1f1f</td>\n",
       "      <td>2023-02-21 20:14:47</td>\n",
       "      <td>3</td>\n",
       "      <td>822ce19d-ab93-52ac-9939-49c228dc5564</td>\n",
       "    </tr>\n",
       "  </tbody>\n",
       "</table>\n",
       "</div>"
      ],
      "text/plain": [
       "   platform                platform_deployment_id  \\\n",
       "0  governor  e1a6f432-bc3c-438e-a07b-ce35095de79a   \n",
       "1  governor  c0b43294-f8b9-4bbb-8a25-b5773d7b23b1   \n",
       "2  governor  1a11c997-d9c2-4d3c-abe4-3d85190d02f2   \n",
       "3  governor  e1a6f432-bc3c-438e-a07b-ce35095de79a   \n",
       "4  governor  32b7bb94-fbc9-4172-9219-0ed422edf0ce   \n",
       "\n",
       "                                platform_proposal_id  \\\n",
       "0     0xec568fffba86c094cf06b22134b23074dfe2252c-110   \n",
       "1      0xdbd27635a534a3d3169ef0498beb56fb9c937489-49   \n",
       "2      0x3d5fc645320be0a085a32885f078f7121e5e5375-26   \n",
       "3     0xec568fffba86c094cf06b22134b23074dfe2252c-147   \n",
       "4  1062472272376004331395813518426159754568225993...   \n",
       "\n",
       "                                       author                 date  \\\n",
       "0  0x55b16934c3661e1990939bc57322554d9b09f262  2022-10-19 18:10:11   \n",
       "1  0x4be88f63f919324210ea3a2ccad4ff0734425f91  2023-03-08 18:29:11   \n",
       "2  0xe8ea8bae250028a8709a3841e0ae1a44820d677b  2022-09-16 15:07:59   \n",
       "3  0xf71fc92e2949ccf6a5fd369a0b402ba80bc61e02  2023-01-23 10:48:11   \n",
       "4  0x17768cfd6030e2b65eb5086e34a512fde5dc1f1f  2023-02-21 20:14:47   \n",
       "\n",
       "   votes_count                                    id  \n",
       "0          124  d5a626a1-ffde-52ea-ae01-7e601190023d  \n",
       "1           98  75f7c6ce-d1f1-5555-9cdb-ed0985d05413  \n",
       "2            9  e0eb32d9-981e-5dce-bc96-1ecce11606e2  \n",
       "3          413  c4248568-428a-5d5a-b605-b84d03128ba8  \n",
       "4            3  822ce19d-ab93-52ac-9939-49c228dc5564  "
      ]
     },
     "execution_count": 155,
     "metadata": {},
     "output_type": "execute_result"
    }
   ],
   "source": [
    "import uuid\n",
    "df['id'] = df.apply(lambda row: str(uuid.uuid5(uuid.NAMESPACE_OID, row['platform'] + '_' + str(row['platform_deployment_id']) + '_' + str(row['platform_proposal_id']))), axis=1)\n",
    "\n",
    "df.head()"
   ]
  },
  {
   "cell_type": "markdown",
   "metadata": {},
   "source": [
    "* ~~id: string~~\n",
    "* deployment_id: string\n",
    "* ~~platform_proposal_id: string (old proposal_id)~~"
   ]
  },
  {
   "cell_type": "code",
   "execution_count": 156,
   "metadata": {},
   "outputs": [
    {
     "data": {
      "text/html": [
       "<div>\n",
       "<style scoped>\n",
       "    .dataframe tbody tr th:only-of-type {\n",
       "        vertical-align: middle;\n",
       "    }\n",
       "\n",
       "    .dataframe tbody tr th {\n",
       "        vertical-align: top;\n",
       "    }\n",
       "\n",
       "    .dataframe thead th {\n",
       "        text-align: right;\n",
       "    }\n",
       "</style>\n",
       "<table border=\"1\" class=\"dataframe\">\n",
       "  <thead>\n",
       "    <tr style=\"text-align: right;\">\n",
       "      <th></th>\n",
       "      <th>platform</th>\n",
       "      <th>platform_deployment_id</th>\n",
       "      <th>platform_proposal_id</th>\n",
       "      <th>author</th>\n",
       "      <th>date</th>\n",
       "      <th>votes_count</th>\n",
       "      <th>id</th>\n",
       "      <th>platform_deployment_id_to_hash</th>\n",
       "      <th>deployment_id</th>\n",
       "    </tr>\n",
       "  </thead>\n",
       "  <tbody>\n",
       "    <tr>\n",
       "      <th>0</th>\n",
       "      <td>governor</td>\n",
       "      <td>e1a6f432-bc3c-438e-a07b-ce35095de79a</td>\n",
       "      <td>0xec568fffba86c094cf06b22134b23074dfe2252c-110</td>\n",
       "      <td>0x55b16934c3661e1990939bc57322554d9b09f262</td>\n",
       "      <td>2022-10-19 18:10:11</td>\n",
       "      <td>124</td>\n",
       "      <td>d5a626a1-ffde-52ea-ae01-7e601190023d</td>\n",
       "      <td>governor_e1a6f432-bc3c-438e-a07b-ce35095de79a</td>\n",
       "      <td>cff38513-293c-55b1-862f-7b4b4fa29e5f</td>\n",
       "    </tr>\n",
       "    <tr>\n",
       "      <th>1</th>\n",
       "      <td>governor</td>\n",
       "      <td>c0b43294-f8b9-4bbb-8a25-b5773d7b23b1</td>\n",
       "      <td>0xdbd27635a534a3d3169ef0498beb56fb9c937489-49</td>\n",
       "      <td>0x4be88f63f919324210ea3a2ccad4ff0734425f91</td>\n",
       "      <td>2023-03-08 18:29:11</td>\n",
       "      <td>98</td>\n",
       "      <td>75f7c6ce-d1f1-5555-9cdb-ed0985d05413</td>\n",
       "      <td>governor_c0b43294-f8b9-4bbb-8a25-b5773d7b23b1</td>\n",
       "      <td>a3220258-b849-5c9c-80e2-a26096c42035</td>\n",
       "    </tr>\n",
       "    <tr>\n",
       "      <th>2</th>\n",
       "      <td>governor</td>\n",
       "      <td>1a11c997-d9c2-4d3c-abe4-3d85190d02f2</td>\n",
       "      <td>0x3d5fc645320be0a085a32885f078f7121e5e5375-26</td>\n",
       "      <td>0xe8ea8bae250028a8709a3841e0ae1a44820d677b</td>\n",
       "      <td>2022-09-16 15:07:59</td>\n",
       "      <td>9</td>\n",
       "      <td>e0eb32d9-981e-5dce-bc96-1ecce11606e2</td>\n",
       "      <td>governor_1a11c997-d9c2-4d3c-abe4-3d85190d02f2</td>\n",
       "      <td>6f91cad0-d222-56ae-948d-8f7c305208dd</td>\n",
       "    </tr>\n",
       "    <tr>\n",
       "      <th>3</th>\n",
       "      <td>governor</td>\n",
       "      <td>e1a6f432-bc3c-438e-a07b-ce35095de79a</td>\n",
       "      <td>0xec568fffba86c094cf06b22134b23074dfe2252c-147</td>\n",
       "      <td>0xf71fc92e2949ccf6a5fd369a0b402ba80bc61e02</td>\n",
       "      <td>2023-01-23 10:48:11</td>\n",
       "      <td>413</td>\n",
       "      <td>c4248568-428a-5d5a-b605-b84d03128ba8</td>\n",
       "      <td>governor_e1a6f432-bc3c-438e-a07b-ce35095de79a</td>\n",
       "      <td>cff38513-293c-55b1-862f-7b4b4fa29e5f</td>\n",
       "    </tr>\n",
       "    <tr>\n",
       "      <th>4</th>\n",
       "      <td>governor</td>\n",
       "      <td>32b7bb94-fbc9-4172-9219-0ed422edf0ce</td>\n",
       "      <td>1062472272376004331395813518426159754568225993...</td>\n",
       "      <td>0x17768cfd6030e2b65eb5086e34a512fde5dc1f1f</td>\n",
       "      <td>2023-02-21 20:14:47</td>\n",
       "      <td>3</td>\n",
       "      <td>822ce19d-ab93-52ac-9939-49c228dc5564</td>\n",
       "      <td>governor_32b7bb94-fbc9-4172-9219-0ed422edf0ce</td>\n",
       "      <td>b777ef1d-879e-5f51-abf5-3b6984d5add4</td>\n",
       "    </tr>\n",
       "  </tbody>\n",
       "</table>\n",
       "</div>"
      ],
      "text/plain": [
       "   platform                platform_deployment_id  \\\n",
       "0  governor  e1a6f432-bc3c-438e-a07b-ce35095de79a   \n",
       "1  governor  c0b43294-f8b9-4bbb-8a25-b5773d7b23b1   \n",
       "2  governor  1a11c997-d9c2-4d3c-abe4-3d85190d02f2   \n",
       "3  governor  e1a6f432-bc3c-438e-a07b-ce35095de79a   \n",
       "4  governor  32b7bb94-fbc9-4172-9219-0ed422edf0ce   \n",
       "\n",
       "                                platform_proposal_id  \\\n",
       "0     0xec568fffba86c094cf06b22134b23074dfe2252c-110   \n",
       "1      0xdbd27635a534a3d3169ef0498beb56fb9c937489-49   \n",
       "2      0x3d5fc645320be0a085a32885f078f7121e5e5375-26   \n",
       "3     0xec568fffba86c094cf06b22134b23074dfe2252c-147   \n",
       "4  1062472272376004331395813518426159754568225993...   \n",
       "\n",
       "                                       author                 date  \\\n",
       "0  0x55b16934c3661e1990939bc57322554d9b09f262  2022-10-19 18:10:11   \n",
       "1  0x4be88f63f919324210ea3a2ccad4ff0734425f91  2023-03-08 18:29:11   \n",
       "2  0xe8ea8bae250028a8709a3841e0ae1a44820d677b  2022-09-16 15:07:59   \n",
       "3  0xf71fc92e2949ccf6a5fd369a0b402ba80bc61e02  2023-01-23 10:48:11   \n",
       "4  0x17768cfd6030e2b65eb5086e34a512fde5dc1f1f  2023-02-21 20:14:47   \n",
       "\n",
       "   votes_count                                    id  \\\n",
       "0          124  d5a626a1-ffde-52ea-ae01-7e601190023d   \n",
       "1           98  75f7c6ce-d1f1-5555-9cdb-ed0985d05413   \n",
       "2            9  e0eb32d9-981e-5dce-bc96-1ecce11606e2   \n",
       "3          413  c4248568-428a-5d5a-b605-b84d03128ba8   \n",
       "4            3  822ce19d-ab93-52ac-9939-49c228dc5564   \n",
       "\n",
       "                  platform_deployment_id_to_hash  \\\n",
       "0  governor_e1a6f432-bc3c-438e-a07b-ce35095de79a   \n",
       "1  governor_c0b43294-f8b9-4bbb-8a25-b5773d7b23b1   \n",
       "2  governor_1a11c997-d9c2-4d3c-abe4-3d85190d02f2   \n",
       "3  governor_e1a6f432-bc3c-438e-a07b-ce35095de79a   \n",
       "4  governor_32b7bb94-fbc9-4172-9219-0ed422edf0ce   \n",
       "\n",
       "                          deployment_id  \n",
       "0  cff38513-293c-55b1-862f-7b4b4fa29e5f  \n",
       "1  a3220258-b849-5c9c-80e2-a26096c42035  \n",
       "2  6f91cad0-d222-56ae-948d-8f7c305208dd  \n",
       "3  cff38513-293c-55b1-862f-7b4b4fa29e5f  \n",
       "4  b777ef1d-879e-5f51-abf5-3b6984d5add4  "
      ]
     },
     "execution_count": 156,
     "metadata": {},
     "output_type": "execute_result"
    }
   ],
   "source": [
    "# make deployment_id\n",
    "df['platform_deployment_id_to_hash'] = df.apply(lambda row: row['platform'] + '_' + str(row['platform_deployment_id']), axis=1)\n",
    "df['deployment_id'] = df.apply(lambda row: str(uuid.uuid5(uuid.NAMESPACE_OID, row['platform_deployment_id_to_hash'])), axis=1)\n",
    "df.head()"
   ]
  },
  {
   "cell_type": "code",
   "execution_count": 157,
   "metadata": {},
   "outputs": [
    {
     "data": {
      "text/html": [
       "<div>\n",
       "<style scoped>\n",
       "    .dataframe tbody tr th:only-of-type {\n",
       "        vertical-align: middle;\n",
       "    }\n",
       "\n",
       "    .dataframe tbody tr th {\n",
       "        vertical-align: top;\n",
       "    }\n",
       "\n",
       "    .dataframe thead th {\n",
       "        text-align: right;\n",
       "    }\n",
       "</style>\n",
       "<table border=\"1\" class=\"dataframe\">\n",
       "  <thead>\n",
       "    <tr style=\"text-align: right;\">\n",
       "      <th></th>\n",
       "      <th>platform</th>\n",
       "      <th>platform_deployment_id</th>\n",
       "      <th>platform_proposal_id</th>\n",
       "      <th>author</th>\n",
       "      <th>date</th>\n",
       "      <th>votes_count</th>\n",
       "      <th>id</th>\n",
       "      <th>platform_deployment_id_to_hash</th>\n",
       "      <th>deployment_id</th>\n",
       "      <th>new_count</th>\n",
       "    </tr>\n",
       "  </thead>\n",
       "  <tbody>\n",
       "    <tr>\n",
       "      <th>0</th>\n",
       "      <td>governor</td>\n",
       "      <td>e1a6f432-bc3c-438e-a07b-ce35095de79a</td>\n",
       "      <td>0xec568fffba86c094cf06b22134b23074dfe2252c-110</td>\n",
       "      <td>0x55b16934c3661e1990939bc57322554d9b09f262</td>\n",
       "      <td>2022-10-19 18:10:11</td>\n",
       "      <td>124</td>\n",
       "      <td>d5a626a1-ffde-52ea-ae01-7e601190023d</td>\n",
       "      <td>governor_e1a6f432-bc3c-438e-a07b-ce35095de79a</td>\n",
       "      <td>cff38513-293c-55b1-862f-7b4b4fa29e5f</td>\n",
       "      <td>120.0</td>\n",
       "    </tr>\n",
       "    <tr>\n",
       "      <th>1</th>\n",
       "      <td>governor</td>\n",
       "      <td>c0b43294-f8b9-4bbb-8a25-b5773d7b23b1</td>\n",
       "      <td>0xdbd27635a534a3d3169ef0498beb56fb9c937489-49</td>\n",
       "      <td>0x4be88f63f919324210ea3a2ccad4ff0734425f91</td>\n",
       "      <td>2023-03-08 18:29:11</td>\n",
       "      <td>98</td>\n",
       "      <td>75f7c6ce-d1f1-5555-9cdb-ed0985d05413</td>\n",
       "      <td>governor_c0b43294-f8b9-4bbb-8a25-b5773d7b23b1</td>\n",
       "      <td>a3220258-b849-5c9c-80e2-a26096c42035</td>\n",
       "      <td>98.0</td>\n",
       "    </tr>\n",
       "    <tr>\n",
       "      <th>2</th>\n",
       "      <td>governor</td>\n",
       "      <td>1a11c997-d9c2-4d3c-abe4-3d85190d02f2</td>\n",
       "      <td>0x3d5fc645320be0a085a32885f078f7121e5e5375-26</td>\n",
       "      <td>0xe8ea8bae250028a8709a3841e0ae1a44820d677b</td>\n",
       "      <td>2022-09-16 15:07:59</td>\n",
       "      <td>9</td>\n",
       "      <td>e0eb32d9-981e-5dce-bc96-1ecce11606e2</td>\n",
       "      <td>governor_1a11c997-d9c2-4d3c-abe4-3d85190d02f2</td>\n",
       "      <td>6f91cad0-d222-56ae-948d-8f7c305208dd</td>\n",
       "      <td>9.0</td>\n",
       "    </tr>\n",
       "    <tr>\n",
       "      <th>3</th>\n",
       "      <td>governor</td>\n",
       "      <td>e1a6f432-bc3c-438e-a07b-ce35095de79a</td>\n",
       "      <td>0xec568fffba86c094cf06b22134b23074dfe2252c-147</td>\n",
       "      <td>0xf71fc92e2949ccf6a5fd369a0b402ba80bc61e02</td>\n",
       "      <td>2023-01-23 10:48:11</td>\n",
       "      <td>413</td>\n",
       "      <td>c4248568-428a-5d5a-b605-b84d03128ba8</td>\n",
       "      <td>governor_e1a6f432-bc3c-438e-a07b-ce35095de79a</td>\n",
       "      <td>cff38513-293c-55b1-862f-7b4b4fa29e5f</td>\n",
       "      <td>404.0</td>\n",
       "    </tr>\n",
       "    <tr>\n",
       "      <th>4</th>\n",
       "      <td>governor</td>\n",
       "      <td>32b7bb94-fbc9-4172-9219-0ed422edf0ce</td>\n",
       "      <td>1062472272376004331395813518426159754568225993...</td>\n",
       "      <td>0x17768cfd6030e2b65eb5086e34a512fde5dc1f1f</td>\n",
       "      <td>2023-02-21 20:14:47</td>\n",
       "      <td>3</td>\n",
       "      <td>822ce19d-ab93-52ac-9939-49c228dc5564</td>\n",
       "      <td>governor_32b7bb94-fbc9-4172-9219-0ed422edf0ce</td>\n",
       "      <td>b777ef1d-879e-5f51-abf5-3b6984d5add4</td>\n",
       "      <td>3.0</td>\n",
       "    </tr>\n",
       "  </tbody>\n",
       "</table>\n",
       "</div>"
      ],
      "text/plain": [
       "   platform                platform_deployment_id  \\\n",
       "0  governor  e1a6f432-bc3c-438e-a07b-ce35095de79a   \n",
       "1  governor  c0b43294-f8b9-4bbb-8a25-b5773d7b23b1   \n",
       "2  governor  1a11c997-d9c2-4d3c-abe4-3d85190d02f2   \n",
       "3  governor  e1a6f432-bc3c-438e-a07b-ce35095de79a   \n",
       "4  governor  32b7bb94-fbc9-4172-9219-0ed422edf0ce   \n",
       "\n",
       "                                platform_proposal_id  \\\n",
       "0     0xec568fffba86c094cf06b22134b23074dfe2252c-110   \n",
       "1      0xdbd27635a534a3d3169ef0498beb56fb9c937489-49   \n",
       "2      0x3d5fc645320be0a085a32885f078f7121e5e5375-26   \n",
       "3     0xec568fffba86c094cf06b22134b23074dfe2252c-147   \n",
       "4  1062472272376004331395813518426159754568225993...   \n",
       "\n",
       "                                       author                 date  \\\n",
       "0  0x55b16934c3661e1990939bc57322554d9b09f262  2022-10-19 18:10:11   \n",
       "1  0x4be88f63f919324210ea3a2ccad4ff0734425f91  2023-03-08 18:29:11   \n",
       "2  0xe8ea8bae250028a8709a3841e0ae1a44820d677b  2022-09-16 15:07:59   \n",
       "3  0xf71fc92e2949ccf6a5fd369a0b402ba80bc61e02  2023-01-23 10:48:11   \n",
       "4  0x17768cfd6030e2b65eb5086e34a512fde5dc1f1f  2023-02-21 20:14:47   \n",
       "\n",
       "   votes_count                                    id  \\\n",
       "0          124  d5a626a1-ffde-52ea-ae01-7e601190023d   \n",
       "1           98  75f7c6ce-d1f1-5555-9cdb-ed0985d05413   \n",
       "2            9  e0eb32d9-981e-5dce-bc96-1ecce11606e2   \n",
       "3          413  c4248568-428a-5d5a-b605-b84d03128ba8   \n",
       "4            3  822ce19d-ab93-52ac-9939-49c228dc5564   \n",
       "\n",
       "                  platform_deployment_id_to_hash  \\\n",
       "0  governor_e1a6f432-bc3c-438e-a07b-ce35095de79a   \n",
       "1  governor_c0b43294-f8b9-4bbb-8a25-b5773d7b23b1   \n",
       "2  governor_1a11c997-d9c2-4d3c-abe4-3d85190d02f2   \n",
       "3  governor_e1a6f432-bc3c-438e-a07b-ce35095de79a   \n",
       "4  governor_32b7bb94-fbc9-4172-9219-0ed422edf0ce   \n",
       "\n",
       "                          deployment_id  new_count  \n",
       "0  cff38513-293c-55b1-862f-7b4b4fa29e5f      120.0  \n",
       "1  a3220258-b849-5c9c-80e2-a26096c42035       98.0  \n",
       "2  6f91cad0-d222-56ae-948d-8f7c305208dd        9.0  \n",
       "3  cff38513-293c-55b1-862f-7b4b4fa29e5f      404.0  \n",
       "4  b777ef1d-879e-5f51-abf5-3b6984d5add4        3.0  "
      ]
     },
     "execution_count": 157,
     "metadata": {},
     "output_type": "execute_result"
    }
   ],
   "source": [
    "# join df and proposals_with_updated_count\n",
    "df = df.merge(proposals_with_updated_count, on='id', how='left')\n",
    "df.head()"
   ]
  },
  {
   "cell_type": "code",
   "execution_count": 158,
   "metadata": {},
   "outputs": [
    {
     "data": {
      "text/plain": [
       "Index(['platform', 'platform_deployment_id', 'platform_proposal_id', 'author',\n",
       "       'date', 'votes_count', 'id', 'platform_deployment_id_to_hash',\n",
       "       'deployment_id', 'new_count'],\n",
       "      dtype='object')"
      ]
     },
     "execution_count": 158,
     "metadata": {},
     "output_type": "execute_result"
    }
   ],
   "source": [
    "# clean up columns\n",
    "df.columns"
   ]
  },
  {
   "cell_type": "markdown",
   "metadata": {},
   "source": [
    "compare votes count and new votes count"
   ]
  },
  {
   "cell_type": "code",
   "execution_count": 159,
   "metadata": {},
   "outputs": [
    {
     "data": {
      "text/plain": [
       "<Axes: xlabel='votes_count', ylabel='new_count'>"
      ]
     },
     "execution_count": 159,
     "metadata": {},
     "output_type": "execute_result"
    },
    {
     "data": {
      "image/png": "[encoded data removed]",
      "text/plain": [
       "<Figure size 640x480 with 1 Axes>"
      ]
     },
     "metadata": {},
     "output_type": "display_data"
    }
   ],
   "source": [
    "df.plot.scatter(x='votes_count', y='new_count', loglog=True, alpha=0.15)"
   ]
  },
  {
   "cell_type": "code",
   "execution_count": 160,
   "metadata": {},
   "outputs": [
    {
     "data": {
      "text/plain": [
       "0.9999993083184247"
      ]
     },
     "execution_count": 160,
     "metadata": {},
     "output_type": "execute_result"
    }
   ],
   "source": [
    "df['votes_count'].corr(df['new_count'])"
   ]
  },
  {
   "cell_type": "code",
   "execution_count": 161,
   "metadata": {},
   "outputs": [
    {
     "data": {
      "text/plain": [
       "(0, 10)"
      ]
     },
     "execution_count": 161,
     "metadata": {},
     "output_type": "execute_result"
    }
   ],
   "source": [
    "# how many have a votes_count value but no new_count value?\n",
    "df[(df['votes_count'] > 0) & (df['new_count'].isnull())].shape"
   ]
  },
  {
   "cell_type": "code",
   "execution_count": 162,
   "metadata": {},
   "outputs": [],
   "source": [
    "# drop votes_count\n",
    "df.drop(columns=['votes_count'], inplace=True)\n",
    "# rename new_count to votes_count\n",
    "df.rename(columns={'new_count': 'votes_count'}, inplace=True)"
   ]
  },
  {
   "cell_type": "code",
   "execution_count": 163,
   "metadata": {},
   "outputs": [
    {
     "data": {
      "text/html": [
       "<div>\n",
       "<style scoped>\n",
       "    .dataframe tbody tr th:only-of-type {\n",
       "        vertical-align: middle;\n",
       "    }\n",
       "\n",
       "    .dataframe tbody tr th {\n",
       "        vertical-align: top;\n",
       "    }\n",
       "\n",
       "    .dataframe thead th {\n",
       "        text-align: right;\n",
       "    }\n",
       "</style>\n",
       "<table border=\"1\" class=\"dataframe\">\n",
       "  <thead>\n",
       "    <tr style=\"text-align: right;\">\n",
       "      <th></th>\n",
       "      <th>id</th>\n",
       "      <th>deployment_id</th>\n",
       "      <th>platform_proposal_id</th>\n",
       "      <th>author</th>\n",
       "      <th>date</th>\n",
       "      <th>votes_count</th>\n",
       "      <th>platform</th>\n",
       "    </tr>\n",
       "  </thead>\n",
       "  <tbody>\n",
       "    <tr>\n",
       "      <th>0</th>\n",
       "      <td>d5a626a1-ffde-52ea-ae01-7e601190023d</td>\n",
       "      <td>cff38513-293c-55b1-862f-7b4b4fa29e5f</td>\n",
       "      <td>0xec568fffba86c094cf06b22134b23074dfe2252c-110</td>\n",
       "      <td>0x55b16934c3661e1990939bc57322554d9b09f262</td>\n",
       "      <td>2022-10-19 18:10:11</td>\n",
       "      <td>120.0</td>\n",
       "      <td>governor</td>\n",
       "    </tr>\n",
       "    <tr>\n",
       "      <th>1</th>\n",
       "      <td>75f7c6ce-d1f1-5555-9cdb-ed0985d05413</td>\n",
       "      <td>a3220258-b849-5c9c-80e2-a26096c42035</td>\n",
       "      <td>0xdbd27635a534a3d3169ef0498beb56fb9c937489-49</td>\n",
       "      <td>0x4be88f63f919324210ea3a2ccad4ff0734425f91</td>\n",
       "      <td>2023-03-08 18:29:11</td>\n",
       "      <td>98.0</td>\n",
       "      <td>governor</td>\n",
       "    </tr>\n",
       "    <tr>\n",
       "      <th>2</th>\n",
       "      <td>e0eb32d9-981e-5dce-bc96-1ecce11606e2</td>\n",
       "      <td>6f91cad0-d222-56ae-948d-8f7c305208dd</td>\n",
       "      <td>0x3d5fc645320be0a085a32885f078f7121e5e5375-26</td>\n",
       "      <td>0xe8ea8bae250028a8709a3841e0ae1a44820d677b</td>\n",
       "      <td>2022-09-16 15:07:59</td>\n",
       "      <td>9.0</td>\n",
       "      <td>governor</td>\n",
       "    </tr>\n",
       "    <tr>\n",
       "      <th>3</th>\n",
       "      <td>c4248568-428a-5d5a-b605-b84d03128ba8</td>\n",
       "      <td>cff38513-293c-55b1-862f-7b4b4fa29e5f</td>\n",
       "      <td>0xec568fffba86c094cf06b22134b23074dfe2252c-147</td>\n",
       "      <td>0xf71fc92e2949ccf6a5fd369a0b402ba80bc61e02</td>\n",
       "      <td>2023-01-23 10:48:11</td>\n",
       "      <td>404.0</td>\n",
       "      <td>governor</td>\n",
       "    </tr>\n",
       "    <tr>\n",
       "      <th>4</th>\n",
       "      <td>822ce19d-ab93-52ac-9939-49c228dc5564</td>\n",
       "      <td>b777ef1d-879e-5f51-abf5-3b6984d5add4</td>\n",
       "      <td>1062472272376004331395813518426159754568225993...</td>\n",
       "      <td>0x17768cfd6030e2b65eb5086e34a512fde5dc1f1f</td>\n",
       "      <td>2023-02-21 20:14:47</td>\n",
       "      <td>3.0</td>\n",
       "      <td>governor</td>\n",
       "    </tr>\n",
       "  </tbody>\n",
       "</table>\n",
       "</div>"
      ],
      "text/plain": [
       "                                     id                         deployment_id  \\\n",
       "0  d5a626a1-ffde-52ea-ae01-7e601190023d  cff38513-293c-55b1-862f-7b4b4fa29e5f   \n",
       "1  75f7c6ce-d1f1-5555-9cdb-ed0985d05413  a3220258-b849-5c9c-80e2-a26096c42035   \n",
       "2  e0eb32d9-981e-5dce-bc96-1ecce11606e2  6f91cad0-d222-56ae-948d-8f7c305208dd   \n",
       "3  c4248568-428a-5d5a-b605-b84d03128ba8  cff38513-293c-55b1-862f-7b4b4fa29e5f   \n",
       "4  822ce19d-ab93-52ac-9939-49c228dc5564  b777ef1d-879e-5f51-abf5-3b6984d5add4   \n",
       "\n",
       "                                platform_proposal_id  \\\n",
       "0     0xec568fffba86c094cf06b22134b23074dfe2252c-110   \n",
       "1      0xdbd27635a534a3d3169ef0498beb56fb9c937489-49   \n",
       "2      0x3d5fc645320be0a085a32885f078f7121e5e5375-26   \n",
       "3     0xec568fffba86c094cf06b22134b23074dfe2252c-147   \n",
       "4  1062472272376004331395813518426159754568225993...   \n",
       "\n",
       "                                       author                 date  \\\n",
       "0  0x55b16934c3661e1990939bc57322554d9b09f262  2022-10-19 18:10:11   \n",
       "1  0x4be88f63f919324210ea3a2ccad4ff0734425f91  2023-03-08 18:29:11   \n",
       "2  0xe8ea8bae250028a8709a3841e0ae1a44820d677b  2022-09-16 15:07:59   \n",
       "3  0xf71fc92e2949ccf6a5fd369a0b402ba80bc61e02  2023-01-23 10:48:11   \n",
       "4  0x17768cfd6030e2b65eb5086e34a512fde5dc1f1f  2023-02-21 20:14:47   \n",
       "\n",
       "   votes_count  platform  \n",
       "0        120.0  governor  \n",
       "1         98.0  governor  \n",
       "2          9.0  governor  \n",
       "3        404.0  governor  \n",
       "4          3.0  governor  "
      ]
     },
     "execution_count": 163,
     "metadata": {},
     "output_type": "execute_result"
    }
   ],
   "source": [
    "df = df[[\n",
    "    'id',\n",
    "    'deployment_id',\n",
    "    'platform_proposal_id',\n",
    "    'author',\n",
    "    'date',\n",
    "    'votes_count',\n",
    "    'platform',\n",
    "]]\n",
    "df.head()"
   ]
  },
  {
   "cell_type": "markdown",
   "metadata": {},
   "source": [
    "confirm the merge with votes works ok"
   ]
  },
  {
   "cell_type": "code",
   "execution_count": 164,
   "metadata": {},
   "outputs": [
    {
     "data": {
      "text/plain": [
       "pyarrow.Table\n",
       "id: string\n",
       "----\n",
       "id: [[\"6755eb11-f57b-5841-961b-ededa4411a91\",\"0c79521b-223f-5174-8e00-e7b96bc1b871\",\"e9895866-0f92-5fd7-945f-3c04dd3692c1\",\"e1aada30-aa76-57f1-85d3-9c06da614245\",\"2de4240a-700a-5621-a09b-b57057538f2b\",...,\"699c5e2f-e76e-5cd5-98c5-cc724b12155a\",\"6cacadf7-b086-5ccf-875b-7ae4fe8323eb\",\"1f2a24e3-2439-576b-9276-8263a7e0a1de\",\"c51b295b-067a-579d-9117-4ccc41a28928\",\"a836fefb-3466-5d29-89e3-584a32bfb4c5\"],[\"e3f51cfb-4958-5f9a-8439-0d7293ed6238\",\"d8b24d9d-ef1c-582e-bad4-782fb4c781fb\",\"12f64992-5482-5f6d-b487-42ae40465c47\",\"2ecbf225-d7e0-5715-b17f-d0741c9ceae6\",\"606f1946-420d-537c-a6fa-5613a7f08040\",...,\"5bd5e01a-0fd7-5b07-a7ce-01f8de03320c\",\"b9dd903b-503e-578e-95e2-9580ddd598be\",\"d58f91ac-a78c-5547-bea4-45b5e46bd17f\",\"2eb7a5db-1d31-5164-8033-7f7a219dfa1a\",\"a6f5f554-733e-51cd-95f3-1b51cfc22cea\"],...,[\"deefdcd8-79f5-5937-9ba4-881cfc05ca09\",\"dad5989f-653c-53cc-a766-5f48a0e5681c\",\"2476193f-e383-5b44-bc26-09a6abad188f\",\"1d7901e7-d3b2-5716-99b3-b1c46fd62385\",\"b179c57a-f0b1-54c2-aa4b-5a59c205a98b\",...,\"f0bb0948-977a-5117-ba86-266c0c0f43e1\",\"eac90234-14c3-5b41-86fd-47a9cbd4750c\",\"5f1f48d5-10c3-5ee6-bb0a-1be3fdc0c4cb\",\"9934ff9a-955d-5962-917d-71c3c2fb9e5c\",\"7827c4c9-adcf-5cd4-9413-4778e38e08d0\"],[\"249731e3-b160-54f4-9bc1-88bd2ddf2dbb\",\"a54635cc-4889-5e76-aae1-b0a0d528fa03\",\"9268905f-3679-5d37-b1ca-b51ccbf6643b\",\"cf0b6f6d-b11c-5e73-bafe-ae76c715e614\",\"d8feeb83-e5ae-5f09-be80-79da146da155\",...,\"ae7e9de0-172c-56bb-8bb9-85a31636b5ef\",\"1ad57cfc-b059-5198-9754-d2e82cff95ff\",\"4efa0f69-9e79-5b22-8b06-9c8260218465\",\"3b5db3ab-6666-567a-8809-9e3f02f92478\",\"9513c836-0a93-55f9-a142-cbb90c9a435f\"]]"
      ]
     },
     "execution_count": 164,
     "metadata": {},
     "output_type": "execute_result"
    }
   ],
   "source": [
    "# open ../parquets_version5/deployments.parquet as pyarrow\n",
    "import pyarrow.parquet as pq\n",
    "deploys_df = pq.read_table('../parquets_version5/votes.parquet', columns=['id'])\n",
    "deploys_df"
   ]
  },
  {
   "cell_type": "code",
   "execution_count": 165,
   "metadata": {},
   "outputs": [
    {
     "data": {
      "text/plain": [
       "['d5a626a1-ffde-52ea-ae01-7e601190023d',\n",
       " '75f7c6ce-d1f1-5555-9cdb-ed0985d05413',\n",
       " 'e0eb32d9-981e-5dce-bc96-1ecce11606e2',\n",
       " 'c4248568-428a-5d5a-b605-b84d03128ba8',\n",
       " '822ce19d-ab93-52ac-9939-49c228dc5564']"
      ]
     },
     "execution_count": 165,
     "metadata": {},
     "output_type": "execute_result"
    }
   ],
   "source": [
    "list_of_ids = df['id'].to_list()\n",
    "list_of_ids[:5]"
   ]
  },
  {
   "cell_type": "code",
   "execution_count": 166,
   "metadata": {},
   "outputs": [
    {
     "data": {
      "text/plain": [
       "740"
      ]
     },
     "execution_count": 166,
     "metadata": {},
     "output_type": "execute_result"
    }
   ],
   "source": [
    "len(list_of_ids)"
   ]
  },
  {
   "cell_type": "code",
   "execution_count": 167,
   "metadata": {},
   "outputs": [
    {
     "data": {
      "text/plain": [
       "0       120.0\n",
       "1        98.0\n",
       "2         9.0\n",
       "3       404.0\n",
       "4         3.0\n",
       "        ...  \n",
       "735       9.0\n",
       "736       7.0\n",
       "737    1248.0\n",
       "738      22.0\n",
       "739       1.0\n",
       "Name: votes_count, Length: 740, dtype: float64"
      ]
     },
     "execution_count": 167,
     "metadata": {},
     "output_type": "execute_result"
    }
   ],
   "source": [
    "df['votes_count']"
   ]
  },
  {
   "cell_type": "code",
   "execution_count": 168,
   "metadata": {},
   "outputs": [
    {
     "data": {
      "text/plain": [
       "414813.0"
      ]
     },
     "execution_count": 168,
     "metadata": {},
     "output_type": "execute_result"
    }
   ],
   "source": [
    "df.votes_count.sum()"
   ]
  },
  {
   "cell_type": "code",
   "execution_count": 169,
   "metadata": {},
   "outputs": [
    {
     "data": {
      "text/plain": [
       "[(412714,)]"
      ]
     },
     "execution_count": 169,
     "metadata": {},
     "output_type": "execute_result"
    }
   ],
   "source": [
    "# make a duckdb query where id in list_of_ids, get count\n",
    "import duckdb\n",
    "conn = duckdb.connect(database=':memory:', read_only=False)\n",
    "# filename is ../parquets_version5/votes.parquet\n",
    "conn.execute(\"CREATE TABLE votes AS SELECT * FROM parquet_scan('../parquets_version5/votes.parquet')\")\n",
    "query = \"SELECT count(*) FROM votes WHERE proposal_id IN ({})\".format(','.join('?'*len(list_of_ids)))\n",
    "conn.execute(query, list_of_ids).fetchall()"
   ]
  },
  {
   "cell_type": "code",
   "execution_count": 170,
   "metadata": {},
   "outputs": [
    {
     "name": "stderr",
     "output_type": "stream",
     "text": [
      "/var/folders/yn/b6240_995k3gl4vwtnbzzy480000gq/T/ipykernel_14944/446454408.py:2: SettingWithCopyWarning: \n",
      "A value is trying to be set on a copy of a slice from a DataFrame.\n",
      "Try using .loc[row_indexer,col_indexer] = value instead\n",
      "\n",
      "See the caveats in the documentation: https://pandas.pydata.org/pandas-docs/stable/user_guide/indexing.html#returning-a-view-versus-a-copy\n",
      "  df['votes_count'] = df['votes_count'].fillna(0)\n",
      "/var/folders/yn/b6240_995k3gl4vwtnbzzy480000gq/T/ipykernel_14944/446454408.py:4: SettingWithCopyWarning: \n",
      "A value is trying to be set on a copy of a slice from a DataFrame.\n",
      "Try using .loc[row_indexer,col_indexer] = value instead\n",
      "\n",
      "See the caveats in the documentation: https://pandas.pydata.org/pandas-docs/stable/user_guide/indexing.html#returning-a-view-versus-a-copy\n",
      "  df['votes_count'] = df['votes_count'].astype(int)\n"
     ]
    }
   ],
   "source": [
    "# fill votes_count nans with 0\n",
    "df['votes_count'] = df['votes_count'].fillna(0)\n",
    "# make votes_count int\n",
    "df['votes_count'] = df['votes_count'].astype(int)"
   ]
  },
  {
   "cell_type": "code",
   "execution_count": 171,
   "metadata": {},
   "outputs": [
    {
     "data": {
      "text/html": [
       "<div>\n",
       "<style scoped>\n",
       "    .dataframe tbody tr th:only-of-type {\n",
       "        vertical-align: middle;\n",
       "    }\n",
       "\n",
       "    .dataframe tbody tr th {\n",
       "        vertical-align: top;\n",
       "    }\n",
       "\n",
       "    .dataframe thead th {\n",
       "        text-align: right;\n",
       "    }\n",
       "</style>\n",
       "<table border=\"1\" class=\"dataframe\">\n",
       "  <thead>\n",
       "    <tr style=\"text-align: right;\">\n",
       "      <th></th>\n",
       "      <th>id</th>\n",
       "      <th>deployment_id</th>\n",
       "      <th>platform_proposal_id</th>\n",
       "      <th>author</th>\n",
       "      <th>date</th>\n",
       "      <th>votes_count</th>\n",
       "      <th>platform</th>\n",
       "    </tr>\n",
       "  </thead>\n",
       "  <tbody>\n",
       "    <tr>\n",
       "      <th>0</th>\n",
       "      <td>d5a626a1-ffde-52ea-ae01-7e601190023d</td>\n",
       "      <td>cff38513-293c-55b1-862f-7b4b4fa29e5f</td>\n",
       "      <td>0xec568fffba86c094cf06b22134b23074dfe2252c-110</td>\n",
       "      <td>0x55b16934c3661e1990939bc57322554d9b09f262</td>\n",
       "      <td>2022-10-19 18:10:11</td>\n",
       "      <td>120</td>\n",
       "      <td>governor</td>\n",
       "    </tr>\n",
       "    <tr>\n",
       "      <th>1</th>\n",
       "      <td>75f7c6ce-d1f1-5555-9cdb-ed0985d05413</td>\n",
       "      <td>a3220258-b849-5c9c-80e2-a26096c42035</td>\n",
       "      <td>0xdbd27635a534a3d3169ef0498beb56fb9c937489-49</td>\n",
       "      <td>0x4be88f63f919324210ea3a2ccad4ff0734425f91</td>\n",
       "      <td>2023-03-08 18:29:11</td>\n",
       "      <td>98</td>\n",
       "      <td>governor</td>\n",
       "    </tr>\n",
       "    <tr>\n",
       "      <th>2</th>\n",
       "      <td>e0eb32d9-981e-5dce-bc96-1ecce11606e2</td>\n",
       "      <td>6f91cad0-d222-56ae-948d-8f7c305208dd</td>\n",
       "      <td>0x3d5fc645320be0a085a32885f078f7121e5e5375-26</td>\n",
       "      <td>0xe8ea8bae250028a8709a3841e0ae1a44820d677b</td>\n",
       "      <td>2022-09-16 15:07:59</td>\n",
       "      <td>9</td>\n",
       "      <td>governor</td>\n",
       "    </tr>\n",
       "    <tr>\n",
       "      <th>3</th>\n",
       "      <td>c4248568-428a-5d5a-b605-b84d03128ba8</td>\n",
       "      <td>cff38513-293c-55b1-862f-7b4b4fa29e5f</td>\n",
       "      <td>0xec568fffba86c094cf06b22134b23074dfe2252c-147</td>\n",
       "      <td>0xf71fc92e2949ccf6a5fd369a0b402ba80bc61e02</td>\n",
       "      <td>2023-01-23 10:48:11</td>\n",
       "      <td>404</td>\n",
       "      <td>governor</td>\n",
       "    </tr>\n",
       "    <tr>\n",
       "      <th>4</th>\n",
       "      <td>822ce19d-ab93-52ac-9939-49c228dc5564</td>\n",
       "      <td>b777ef1d-879e-5f51-abf5-3b6984d5add4</td>\n",
       "      <td>1062472272376004331395813518426159754568225993...</td>\n",
       "      <td>0x17768cfd6030e2b65eb5086e34a512fde5dc1f1f</td>\n",
       "      <td>2023-02-21 20:14:47</td>\n",
       "      <td>3</td>\n",
       "      <td>governor</td>\n",
       "    </tr>\n",
       "  </tbody>\n",
       "</table>\n",
       "</div>"
      ],
      "text/plain": [
       "                                     id                         deployment_id  \\\n",
       "0  d5a626a1-ffde-52ea-ae01-7e601190023d  cff38513-293c-55b1-862f-7b4b4fa29e5f   \n",
       "1  75f7c6ce-d1f1-5555-9cdb-ed0985d05413  a3220258-b849-5c9c-80e2-a26096c42035   \n",
       "2  e0eb32d9-981e-5dce-bc96-1ecce11606e2  6f91cad0-d222-56ae-948d-8f7c305208dd   \n",
       "3  c4248568-428a-5d5a-b605-b84d03128ba8  cff38513-293c-55b1-862f-7b4b4fa29e5f   \n",
       "4  822ce19d-ab93-52ac-9939-49c228dc5564  b777ef1d-879e-5f51-abf5-3b6984d5add4   \n",
       "\n",
       "                                platform_proposal_id  \\\n",
       "0     0xec568fffba86c094cf06b22134b23074dfe2252c-110   \n",
       "1      0xdbd27635a534a3d3169ef0498beb56fb9c937489-49   \n",
       "2      0x3d5fc645320be0a085a32885f078f7121e5e5375-26   \n",
       "3     0xec568fffba86c094cf06b22134b23074dfe2252c-147   \n",
       "4  1062472272376004331395813518426159754568225993...   \n",
       "\n",
       "                                       author                 date  \\\n",
       "0  0x55b16934c3661e1990939bc57322554d9b09f262  2022-10-19 18:10:11   \n",
       "1  0x4be88f63f919324210ea3a2ccad4ff0734425f91  2023-03-08 18:29:11   \n",
       "2  0xe8ea8bae250028a8709a3841e0ae1a44820d677b  2022-09-16 15:07:59   \n",
       "3  0xf71fc92e2949ccf6a5fd369a0b402ba80bc61e02  2023-01-23 10:48:11   \n",
       "4  0x17768cfd6030e2b65eb5086e34a512fde5dc1f1f  2023-02-21 20:14:47   \n",
       "\n",
       "   votes_count  platform  \n",
       "0          120  governor  \n",
       "1           98  governor  \n",
       "2            9  governor  \n",
       "3          404  governor  \n",
       "4            3  governor  "
      ]
     },
     "execution_count": 171,
     "metadata": {},
     "output_type": "execute_result"
    }
   ],
   "source": [
    "df.head()"
   ]
  },
  {
   "cell_type": "code",
   "execution_count": 172,
   "metadata": {},
   "outputs": [
    {
     "data": {
      "text/plain": [
       "id: string\n",
       "deployment_id: string\n",
       "platform_proposal_id: string\n",
       "author: string\n",
       "date: string\n",
       "votes_count: int64\n",
       "platform: string\n",
       "-- schema metadata --\n",
       "pandas: '{\"index_columns\": [], \"column_indexes\": [], \"columns\": [{\"name\":' + 900"
      ]
     },
     "execution_count": 172,
     "metadata": {},
     "output_type": "execute_result"
    }
   ],
   "source": [
    "import pyarrow as pa\n",
    "# TODO: make proposals_table pyarrow from df\n",
    "proposals_table = pa.Table.from_pandas(df, preserve_index=False)\n",
    "proposals_table.schema"
   ]
  },
  {
   "cell_type": "code",
   "execution_count": 173,
   "metadata": {},
   "outputs": [
    {
     "data": {
      "text/plain": [
       "(740, 7)"
      ]
     },
     "execution_count": 173,
     "metadata": {},
     "output_type": "execute_result"
    }
   ],
   "source": [
    "proposals_table.shape"
   ]
  },
  {
   "cell_type": "code",
   "execution_count": 174,
   "metadata": {},
   "outputs": [
    {
     "data": {
      "text/plain": [
       "id: string\n",
       "deployment_id: string\n",
       "platform_proposal_id: string\n",
       "author: string\n",
       "date: string\n",
       "votes_count: int64\n",
       "platform: string\n",
       "-- schema metadata --\n",
       "pandas: '{\"index_columns\": [{\"kind\": \"range\", \"name\": null, \"start\": 0, \"' + 1089"
      ]
     },
     "execution_count": 174,
     "metadata": {},
     "output_type": "execute_result"
    }
   ],
   "source": [
    "# read ../parquets_version4/proposals.parquet as pyarrow, print schema\n",
    "pq.read_table('../parquets_version4/proposals.parquet').schema"
   ]
  },
  {
   "cell_type": "code",
   "execution_count": 175,
   "metadata": {},
   "outputs": [],
   "source": [
    "import pyarrow.parquet as pq\n",
    "import pyarrow as pa\n",
    "from pyarrow.parquet import ParquetFile\n",
    "proposals_v4_pf = ParquetFile('../parquets_version4/proposals.parquet')\n",
    "for i, record_batch in enumerate(proposals_v4_pf.iter_batches(batch_size=10000)):\n",
    "    # for the first chunk of records\n",
    "    table = pa.Table.from_batches([record_batch])\n",
    "    if i == 0:\n",
    "        # create a parquet write object giving it an output file\n",
    "        pqwriter = pq.ParquetWriter('../parquets_version5/proposals.parquet', table.schema)            \n",
    "    pqwriter.write_table(table)\n",
    "\n",
    "pqwriter.write_table(proposals_table)\n",
    "\n",
    "# close the parquet writer\n",
    "pqwriter.close()"
   ]
  },
  {
   "cell_type": "code",
   "execution_count": 176,
   "metadata": {},
   "outputs": [
    {
     "name": "stdout",
     "output_type": "stream",
     "text": [
      "Number of rows: 205321\n",
      "Number of columns: 7\n"
     ]
    }
   ],
   "source": [
    "# read '../parquets_version4/proposals.parquet' size without opening\n",
    "with pq.ParquetFile('../parquets_version4/proposals.parquet') as pf:\n",
    "    num_rows = pf.metadata.num_rows\n",
    "    num_columns = len(pf.metadata.schema.names)\n",
    "    print(f'Number of rows: {num_rows}')\n",
    "    print(f'Number of columns: {num_columns}')"
   ]
  },
  {
   "cell_type": "code",
   "execution_count": 177,
   "metadata": {},
   "outputs": [
    {
     "name": "stdout",
     "output_type": "stream",
     "text": [
      "Number of rows: 206061\n",
      "Number of columns: 7\n"
     ]
    }
   ],
   "source": [
    "# read '../parquets_version5/proposals.parquet' size without opening\n",
    "with pq.ParquetFile('../parquets_version5/proposals.parquet') as pf:\n",
    "    num_rows = pf.metadata.num_rows\n",
    "    num_columns = len(pf.metadata.schema.names)\n",
    "    print(f'Number of rows: {num_rows}')\n",
    "    print(f'Number of columns: {num_columns}')"
   ]
  }
 ],
 "metadata": {
  "kernelspec": {
   "display_name": "Python 3",
   "language": "python",
   "name": "python3"
  },
  "language_info": {
   "codemirror_mode": {
    "name": "ipython",
    "version": 3
   },
   "file_extension": ".py",
   "mimetype": "text/x-python",
   "name": "python",
   "nbconvert_exporter": "python",
   "pygments_lexer": "ipython3",
   "version": "3.11.4"
  },
  "orig_nbformat": 4
 },
 "nbformat": 4,
 "nbformat_minor": 2
}
