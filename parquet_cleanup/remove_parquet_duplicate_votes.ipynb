{
 "cells": [
  {
   "cell_type": "code",
   "execution_count": 22,
   "metadata": {},
   "outputs": [],
   "source": [
    "filename = '../parquets_version2/votes.parquet'"
   ]
  },
  {
   "cell_type": "code",
   "execution_count": 23,
   "metadata": {},
   "outputs": [],
   "source": [
    "import pyarrow.parquet as pq\n",
    "votes = pq.read_table(filename)"
   ]
  },
  {
   "cell_type": "code",
   "execution_count": 24,
   "metadata": {},
   "outputs": [
    {
     "data": {
      "text/plain": [
       "pyarrow.lib.Table"
      ]
     },
     "execution_count": 24,
     "metadata": {},
     "output_type": "execute_result"
    }
   ],
   "source": [
    "type(votes)"
   ]
  },
  {
   "cell_type": "code",
   "execution_count": 25,
   "metadata": {},
   "outputs": [],
   "source": [
    "# keep only 100000 rows\n",
    "# votes = votes[:100000]"
   ]
  },
  {
   "cell_type": "code",
   "execution_count": 26,
   "metadata": {},
   "outputs": [
    {
     "data": {
      "text/plain": [
       "21867988"
      ]
     },
     "execution_count": 26,
     "metadata": {},
     "output_type": "execute_result"
    }
   ],
   "source": [
    "votes_length = votes.shape[0]\n",
    "votes_length"
   ]
  },
  {
   "cell_type": "code",
   "execution_count": 27,
   "metadata": {},
   "outputs": [],
   "source": [
    "# make a pa array that just counts up from 0 to the length of the votes table\n",
    "\n",
    "import pyarrow as pa\n",
    "votes_length_array = pa.array(range(votes_length))"
   ]
  },
  {
   "cell_type": "code",
   "execution_count": 28,
   "metadata": {},
   "outputs": [
    {
     "data": {
      "text/plain": [
       "pyarrow.Table\n",
       "platform: string\n",
       "platform_deployment_id: string\n",
       "proposal_id: string\n",
       "vote_id: string\n",
       "voter: string\n",
       "date: timestamp[us]\n",
       "choice: string\n",
       "weight: decimal128(38, 4)\n",
       "temp_id: int64\n",
       "----\n",
       "platform: [[\"realms\",\"realms\",\"realms\",\"realms\",\"realms\",...,\"tally\",\"tally\",\"tally\",\"tally\",\"tally\"],[\"tally\",\"tally\",\"tally\",\"tally\",\"tally\",...,\"tally\",\"tally\",\"tally\",\"tally\",\"tally\"],...,[\"snapshot\",\"snapshot\",\"snapshot\",\"snapshot\",\"snapshot\",...,\"snapshot\",\"snapshot\",\"snapshot\",\"snapshot\",\"snapshot\"],[\"snapshot\",\"snapshot\",\"snapshot\",\"snapshot\",\"snapshot\",...,\"snapshot\",\"snapshot\",\"snapshot\",\"snapshot\",\"snapshot\"]]\n",
       "platform_deployment_id: [[\"84pGFuy1Y27ApK67ApethaPvexeDWA66zNV8gm38TVeQ\",\"84pGFuy1Y27ApK67ApethaPvexeDWA66zNV8gm38TVeQ\",\"84pGFuy1Y27ApK67ApethaPvexeDWA66zNV8gm38TVeQ\",\"84pGFuy1Y27ApK67ApethaPvexeDWA66zNV8gm38TVeQ\",\"84pGFuy1Y27ApK67ApethaPvexeDWA66zNV8gm38TVeQ\",...,\"eip155:1:0x6f3E6272A167e8AcCb32072d08E0957F9c79223d\",\"eip155:1:0x6f3E6272A167e8AcCb32072d08E0957F9c79223d\",\"eip155:1:0x6f3E6272A167e8AcCb32072d08E0957F9c79223d\",\"eip155:1:0x6f3E6272A167e8AcCb32072d08E0957F9c79223d\",\"eip155:1:0x6f3E6272A167e8AcCb32072d08E0957F9c79223d\"],[\"eip155:1:0x6f3E6272A167e8AcCb32072d08E0957F9c79223d\",\"eip155:1:0x6f3E6272A167e8AcCb32072d08E0957F9c79223d\",\"eip155:1:0x6f3E6272A167e8AcCb32072d08E0957F9c79223d\",\"eip155:1:0x6f3E6272A167e8AcCb32072d08E0957F9c79223d\",\"eip155:1:0x6f3E6272A167e8AcCb32072d08E0957F9c79223d\",...,\"eip155:10:0xcDF27F107725988f2261Ce2256bDfCdE8B382B10\",\"eip155:10:0xcDF27F107725988f2261Ce2256bDfCdE8B382B10\",\"eip155:10:0xcDF27F107725988f2261Ce2256bDfCdE8B382B10\",\"eip155:10:0xcDF27F107725988f2261Ce2256bDfCdE8B382B10\",\"eip155:10:0xcDF27F107725988f2261Ce2256bDfCdE8B382B10\"],...,[\"linea-build.eth\",\"linea-build.eth\",\"linea-build.eth\",\"linea-build.eth\",\"linea-build.eth\",...,\"linea-build.eth\",\"linea-build.eth\",\"linea-build.eth\",\"linea-build.eth\",\"linea-build.eth\"],[\"linea-build.eth\",\"linea-build.eth\",\"linea-build.eth\",\"linea-build.eth\",\"linea-build.eth\",...,\"linea-build.eth\",\"linea-build.eth\",\"linea-build.eth\",\"linea-build.eth\",\"linea-build.eth\"]]\n",
       "proposal_id: [[\"Bc7C6bycdbTSpd21NtVqHo2jn3N7GCMYz8PZz3pz6Kob\",\"Bc7C6bycdbTSpd21NtVqHo2jn3N7GCMYz8PZz3pz6Kob\",\"Bc7C6bycdbTSpd21NtVqHo2jn3N7GCMYz8PZz3pz6Kob\",\"Bc7C6bycdbTSpd21NtVqHo2jn3N7GCMYz8PZz3pz6Kob\",\"Bc7C6bycdbTSpd21NtVqHo2jn3N7GCMYz8PZz3pz6Kob\",...,\"303\",\"303\",\"303\",\"303\",\"303\"],[\"303\",\"303\",\"303\",\"303\",\"303\",...,\"103695324913424597802389181312722993037601032681914451632412140667432224173014\",\"103695324913424597802389181312722993037601032681914451632412140667432224173014\",\"103695324913424597802389181312722993037601032681914451632412140667432224173014\",\"103695324913424597802389181312722993037601032681914451632412140667432224173014\",\"103695324913424597802389181312722993037601032681914451632412140667432224173014\"],...,[\"0xda4f201a37ea08cf1892418e7b9e88f5687a68dbdc96c3ab22abaa1c7244648e\",\"0xda4f201a37ea08cf1892418e7b9e88f5687a68dbdc96c3ab22abaa1c7244648e\",\"0xda4f201a37ea08cf1892418e7b9e88f5687a68dbdc96c3ab22abaa1c7244648e\",\"0xda4f201a37ea08cf1892418e7b9e88f5687a68dbdc96c3ab22abaa1c7244648e\",\"0xda4f201a37ea08cf1892418e7b9e88f5687a68dbdc96c3ab22abaa1c7244648e\",...,\"0xda4f201a37ea08cf1892418e7b9e88f5687a68dbdc96c3ab22abaa1c7244648e\",\"0xda4f201a37ea08cf1892418e7b9e88f5687a68dbdc96c3ab22abaa1c7244648e\",\"0xda4f201a37ea08cf1892418e7b9e88f5687a68dbdc96c3ab22abaa1c7244648e\",\"0xda4f201a37ea08cf1892418e7b9e88f5687a68dbdc96c3ab22abaa1c7244648e\",\"0xda4f201a37ea08cf1892418e7b9e88f5687a68dbdc96c3ab22abaa1c7244648e\"],[\"0xda4f201a37ea08cf1892418e7b9e88f5687a68dbdc96c3ab22abaa1c7244648e\",\"0xda4f201a37ea08cf1892418e7b9e88f5687a68dbdc96c3ab22abaa1c7244648e\",\"0xda4f201a37ea08cf1892418e7b9e88f5687a68dbdc96c3ab22abaa1c7244648e\",\"0xda4f201a37ea08cf1892418e7b9e88f5687a68dbdc96c3ab22abaa1c7244648e\",\"0xda4f201a37ea08cf1892418e7b9e88f5687a68dbdc96c3ab22abaa1c7244648e\",...,\"0xda4f201a37ea08cf1892418e7b9e88f5687a68dbdc96c3ab22abaa1c7244648e\",\"0xda4f201a37ea08cf1892418e7b9e88f5687a68dbdc96c3ab22abaa1c7244648e\",\"0xda4f201a37ea08cf1892418e7b9e88f5687a68dbdc96c3ab22abaa1c7244648e\",\"0xda4f201a37ea08cf1892418e7b9e88f5687a68dbdc96c3ab22abaa1c7244648e\",\"0xda4f201a37ea08cf1892418e7b9e88f5687a68dbdc96c3ab22abaa1c7244648e\"]]\n",
       "vote_id: [[\"HFhP5bFDBq6sP54RrkxCir75793686LFCCqbrFRAzgAM\",\"7Cw6ukhy4wuUnFwgqDAA7m7VkVV5QWiGtDRwVmadx5aZ\",\"91z2tkWCnEBo7SyoHogqnnRQURQgi1LEKevwwpa5s3UV\",\"C2E43Xunhb4xPwcqrb5fvg9MXktJbvUNHGdLiXNKHrci\",\"AvywQhmbye96npitAKK41ETVWHLqXvDarGpVqGfEcTMG\",...,\"eip155:1:0x6f3E6272A167e8AcCb32072d08E0957F9c79223d/303|eip155:1:0xe412186A1865c4fE54A79e0AdcB08b81233DF674\",\"eip155:1:0x6f3E6272A167e8AcCb32072d08E0957F9c79223d/303|eip155:1:0xE26D78c6bFF297Bbc2dA3f80FEA9a42028a4260F\",\"eip155:1:0x6f3E6272A167e8AcCb32072d08E0957F9c79223d/303|eip155:1:0xe085327c5AD2F77147F10973Fed45Fb19d734F7e\",\"eip155:1:0x6f3E6272A167e8AcCb32072d08E0957F9c79223d/303|eip155:1:0xDCb4117e3A00632efCaC3C169E0B23959f555E5e\",\"eip155:1:0x6f3E6272A167e8AcCb32072d08E0957F9c79223d/303|eip155:1:0xD25973a3Df7d2341DDEa48303a3E6AdDEc6184Bf\"],[\"eip155:1:0x6f3E6272A167e8AcCb32072d08E0957F9c79223d/303|eip155:1:0xCEEd9585854F12F81A0103861b83b995A64AD915\",\"eip155:1:0x6f3E6272A167e8AcCb32072d08E0957F9c79223d/303|eip155:1:0xcC2688350d29623E2A0844Cc8885F9050F0f6Ed5\",\"eip155:1:0x6f3E6272A167e8AcCb32072d08E0957F9c79223d/303|eip155:1:0xbc3ed6B537f2980e66f396Fe14210A56ba3f72C4\",\"eip155:1:0x6f3E6272A167e8AcCb32072d08E0957F9c79223d/303|eip155:1:0xba2b9804FbffA8F1A8F7DC8dd600E21268beF09F\",\"eip155:1:0x6f3E6272A167e8AcCb32072d08E0957F9c79223d/303|eip155:1:0xb8a9Ed8D008FA1F161809f15a11F4161FB8b717e\",...,\"eip155:10:0xcDF27F107725988f2261Ce2256bDfCdE8B382B10/103695324913424597802389181312722993037601032681914451632412140667432224173014|eip155:10:0x183B55b55127d35D3424e838aaD045692045A144\",\"eip155:10:0xcDF27F107725988f2261Ce2256bDfCdE8B382B10/103695324913424597802389181312722993037601032681914451632412140667432224173014|eip155:10:0x183967850D9e1c617b9135620190Dcc19b32AE63\",\"eip155:10:0xcDF27F107725988f2261Ce2256bDfCdE8B382B10/103695324913424597802389181312722993037601032681914451632412140667432224173014|eip155:10:0x1836C5927D429c055A3cC2614dA3Cf28630A0Fd3\",\"eip155:10:0xcDF27F107725988f2261Ce2256bDfCdE8B382B10/103695324913424597802389181312722993037601032681914451632412140667432224173014|eip155:10:0x1833Cf799102327A7eF11874E9083D505CB5e16b\",\"eip155:10:0xcDF27F107725988f2261Ce2256bDfCdE8B382B10/103695324913424597802389181312722993037601032681914451632412140667432224173014|eip155:10:0x1833AF687cE06637C2c56969521dBD36BC4Fc5e6\"],...,[\"0x800bd4d4c136da9c33e8d3aed588eebd7b326c754d9ea7da9ae4c7387b9136f0\",\"0xbc7d7d0ac8b3d4c7b15a5388b52a07dba9433aa491f7ca16b9f3e215965b8521\",\"0xc9f0ceab207ef19c0ab1896098ba06a8c10c0f19cc7e4206d306ce6a6b82ebe8\",\"0xca895329bdeaa66e0152f8bd187e8eecfe3fc0cf5dafbec75eeae4e9362ab492\",\"0xd672636917018d94dec9087810c0bfd3e823ad7036a0415df329d9f6351a8ff2\",...,\"0x91b8519844174499e01d0e6ce077356a1341ac153a984b997da6a6328420f71a\",\"0x9a7e15e6ab41f8215d9d735061fa1d2f485dbf8f093e8c548d4b64bdb5305afe\",\"0xa024a4befde892012033df022f68a11b4a1be36f4d7738e8304189a4689ea6b4\",\"0xa53a54ce5daeb35cbc186139684edbf125b68401554eda9e4d57fe23caeca0ac\",\"0xae96d890283f799278a3f1bb0c7db425630c535f25d6d664c8fa2e45f72569d8\"],[\"0xaf2e407060ccd8607f7d273074bf6e4f21bf39c6d7a90d131b24a4944bff8649\",\"0xcdd889c2bffba450b9cf8cdaeb4fee2c36ea336aa6a526f073234fb82a329495\",\"0xcf414303dbfa14791dc21b671bbed56dd3fd38a956129d57a55300afd13933a4\",\"0xe04f8564ff4a8f9d1a9eeb47298b0f8d18091ed03a97e5a83dd07c641220f903\",\"0xe1b53aa93a590217f96067e57f245e67f0b49fda1d9e3d1c6880dbd32d2e3011\",...,\"0xbb22a5881c87b072286f1e2eec12a07af0338408dd256372a8f7e5fd2fb45945\",\"0xc4aac53b478768393d35db472d1009f1872b0502ee8443f22efa5c13e054b531\",\"0xc6a4ecb1a2936de0326e315c3be2d85f44d00fefbd891bd40fce3f3ea92f1128\",\"0xdd033c6e65519c06b597067ae396b7bf3312468d59ead2f6f3acec5e32493d5c\",\"0xf7e2243738279a7888d2212b0515198dd24252f34b8feb9fbcdf2e80b3e711b9\"]]\n",
       "voter: [[\"96ZVN79M5QKsJcvXkxuEx9wYWoCYZHtuP1Y8EJhrJyw\",\"SQ2t2hU2g5nofFt3D5MhNfaey7QSjEHe5pBEFCPP2F7\",\"568F8CYYDE9BuKPqw5MzYFqwafDSWagPQMz8XQi19RXq\",\"5qAnY8pqRa4ZyLDmXv8t9eChN52EtZs63SiCPY9KdWJh\",\"8oETCEBmvajGi3G2tLfm4gesigxuE1z7eyLgArRgbU56\",...,\"eip155:1:0xe412186A1865c4fE54A79e0AdcB08b81233DF674\",\"eip155:1:0xE26D78c6bFF297Bbc2dA3f80FEA9a42028a4260F\",\"eip155:1:0xe085327c5AD2F77147F10973Fed45Fb19d734F7e\",\"eip155:1:0xDCb4117e3A00632efCaC3C169E0B23959f555E5e\",\"eip155:1:0xD25973a3Df7d2341DDEa48303a3E6AdDEc6184Bf\"],[\"eip155:1:0xCEEd9585854F12F81A0103861b83b995A64AD915\",\"eip155:1:0xcC2688350d29623E2A0844Cc8885F9050F0f6Ed5\",\"eip155:1:0xbc3ed6B537f2980e66f396Fe14210A56ba3f72C4\",\"eip155:1:0xba2b9804FbffA8F1A8F7DC8dd600E21268beF09F\",\"eip155:1:0xb8a9Ed8D008FA1F161809f15a11F4161FB8b717e\",...,\"eip155:10:0x183B55b55127d35D3424e838aaD045692045A144\",\"eip155:10:0x183967850D9e1c617b9135620190Dcc19b32AE63\",\"eip155:10:0x1836C5927D429c055A3cC2614dA3Cf28630A0Fd3\",\"eip155:10:0x1833Cf799102327A7eF11874E9083D505CB5e16b\",\"eip155:10:0x1833AF687cE06637C2c56969521dBD36BC4Fc5e6\"],...,[\"0x0Ca527964Fb33F39bfCEf1C3a31ea3EFc6779466\",\"0xcEcb69EA159e122FA4Fd22fd0E00F4965D85A77b\",\"0xd3f0abBc6F4EDce8fbBD3EE47A6317CfB783524E\",\"0x2B130124452F6109f988426eD16b1a26A44C24f8\",\"0x5A59A88d016a357935D0Eb1911Eef9A2dd8069b9\",...,\"0x34b58BDA9eb16Cd1BaDc786D31cf658366422e42\",\"0xD155eca56d9695eeB8E2B9AB73F29Ed0434931e2\",\"0x1A053D0FDC3249925924be37820862D5510792C0\",\"0x6be2C28F54af7EE97Fa722b5288111BcDf38A17E\",\"0x768e6730b269d33D2E03D630562fCE323639D8b7\"],[\"0x5F35Dd9446cA2D25E1638Ac3230AcD13DCF8f160\",\"0xcaC8832de6e7f25f27391E24C27E36256F49c687\",\"0x4b71cDf68C2Ea7b8eF72807ba362C57d24f9f6Fb\",\"0x1A5473FB8f2F6BF1915Df19892bc526E8ae3EE99\",\"0xc7cD8fbfe82af5f476cA090bbF0d0F13c4148Fd1\",...,\"0xDee535B2C4857fb9c909620F24f242fa63a97c93\",\"0x56b308996C6247A3C71705ae0B99F8Ed95243FC3\",\"0xfF6276765909015bb03E72c4fFbbf1F72a5A7Ab5\",\"0x1614136845099402996b6Fd824181B87A45ba809\",\"0x00d2025Cdb8fE9D1Cb3F1eEEca831c2f110A837C\"]]\n",
       "date: [[null,null,null,null,null,...,2023-06-10 01:48:11.000000,2023-06-11 16:40:23.000000,2023-06-08 13:54:11.000000,2023-06-12 16:55:35.000000,2023-06-09 00:40:59.000000],[2023-06-11 05:18:23.000000,2023-06-11 05:55:35.000000,2023-06-12 16:20:47.000000,2023-06-12 16:53:47.000000,2023-06-09 19:07:35.000000,...,2023-04-29 13:56:12.000000,2023-05-04 15:51:27.000000,2023-05-09 03:05:28.000000,2023-04-28 14:51:04.000000,2023-04-29 03:51:07.000000],...,[2023-05-26 06:29:12.000000,2023-05-26 06:29:12.000000,2023-05-26 06:29:12.000000,2023-05-26 06:29:12.000000,2023-05-26 06:29:12.000000,...,2023-05-25 08:46:35.000000,2023-05-25 08:46:35.000000,2023-05-25 08:46:35.000000,2023-05-25 08:46:35.000000,2023-05-25 08:46:35.000000],[2023-05-25 08:46:35.000000,2023-05-25 08:46:35.000000,2023-05-25 08:46:35.000000,2023-05-25 08:46:35.000000,2023-05-25 08:46:35.000000,...,2023-05-28 23:01:19.000000,2023-05-28 23:01:19.000000,2023-05-28 23:01:19.000000,2023-05-28 23:01:19.000000,2023-05-28 23:01:19.000000]]\n",
       "choice: [[\"[{'rank': 0, 'weightPercentage': 100}]\",\"[{'rank': 0, 'weightPercentage': 100}]\",\"[{'rank': 0, 'weightPercentage': 100}]\",\"[{'rank': 0, 'weightPercentage': 100}]\",\"[{'rank': 0, 'weightPercentage': 100}]\",...,\"FOR\",\"FOR\",\"FOR\",\"FOR\",\"AGAINST\"],[\"FOR\",\"FOR\",\"FOR\",\"FOR\",\"FOR\",...,\"FOR\",\"FOR\",\"FOR\",\"FOR\",\"FOR\"],...,[\"[1]\",\"[1]\",\"[1]\",\"[1]\",\"[1]\",...,\"[1]\",\"[1]\",\"[1]\",\"[1]\",\"[1]\"],[\"[1]\",\"[1]\",\"[1]\",\"[1]\",\"[1]\",...,\"[1]\",\"[1]\",\"[1]\",\"[1]\",\"[1]\"]]\n",
       "weight: [[1.0000,1.0000,1.0000,1.0000,1.0000,...,2.0000,4.0000,3.0000,17.0000,18.0000],[2.0000,7.0000,2.0000,3.0000,1.0000,...,4005235979391935359956.1826,2111000000000000057.4619,2145857025666720608.3411,3012552272573825617.4101,3910617790962462772.6909],...,[1.0000,1.0000,1.0000,1.0000,1.0000,...,1.0000,1.0000,1.0000,1.0000,1.0000],[1.0000,1.0000,1.0000,1.0000,1.0000,...,1.0000,1.0000,1.0000,1.0000,1.0000]]\n",
       "temp_id: [[0,1,2,3,4,...,21867983,21867984,21867985,21867986,21867987]]"
      ]
     },
     "execution_count": 28,
     "metadata": {},
     "output_type": "execute_result"
    }
   ],
   "source": [
    "import pyarrow as pa\n",
    "# add a temp uuid column to the votes table\n",
    "# add as empty column\n",
    "votes = votes.append_column('temp_id', votes_length_array)\n",
    "votes"
   ]
  },
  {
   "cell_type": "code",
   "execution_count": 29,
   "metadata": {},
   "outputs": [],
   "source": [
    "# use duckdb to remove duplicate votes\n",
    "\n",
    "query = \"\"\"\n",
    "SELECT\n",
    "    *\n",
    "FROM\n",
    "    votes\n",
    "WHERE\n",
    "    temp_id IN (\n",
    "        SELECT\n",
    "            MIN(temp_id)\n",
    "        FROM\n",
    "            votes\n",
    "        GROUP BY\n",
    "            platform, platform_deployment_id, proposal_id, vote_id\n",
    "    )\n",
    "\"\"\"\n",
    "\n",
    "import duckdb\n",
    "con = duckdb.connect(database=':memory:', read_only=False)\n",
    "con.register('votes', votes)\n",
    "clean = con.execute(query).fetch_arrow_table()"
   ]
  },
  {
   "cell_type": "code",
   "execution_count": 30,
   "metadata": {},
   "outputs": [],
   "source": [
    "# drop column temp_id\n",
    "clean = clean.drop('temp_id')"
   ]
  },
  {
   "cell_type": "code",
   "execution_count": 31,
   "metadata": {},
   "outputs": [
    {
     "data": {
      "text/plain": [
       "platform: string\n",
       "platform_deployment_id: string\n",
       "proposal_id: string\n",
       "vote_id: string\n",
       "voter: string\n",
       "date: timestamp[us]\n",
       "choice: string\n",
       "weight: decimal128(38, 4)"
      ]
     },
     "execution_count": 31,
     "metadata": {},
     "output_type": "execute_result"
    }
   ],
   "source": [
    "clean.schema"
   ]
  },
  {
   "cell_type": "code",
   "execution_count": 32,
   "metadata": {},
   "outputs": [],
   "source": [
    "# save\n",
    "pq.write_table(clean, '../parquets_version2/votes_clean.parquet')"
   ]
  },
  {
   "cell_type": "code",
   "execution_count": 33,
   "metadata": {},
   "outputs": [
    {
     "data": {
      "text/plain": [
       "(21617900, 8)"
      ]
     },
     "execution_count": 33,
     "metadata": {},
     "output_type": "execute_result"
    }
   ],
   "source": [
    "clean.shape"
   ]
  },
  {
   "cell_type": "code",
   "execution_count": 35,
   "metadata": {},
   "outputs": [
    {
     "name": "stdout",
     "output_type": "stream",
     "text": [
      "250088 duplicate votes removed\n",
      "1.1436260162571883 pct removed\n"
     ]
    }
   ],
   "source": [
    "21867988\n",
    "print(21867988 - clean.shape[0], 'duplicate votes removed')\n",
    "print((21867988 - clean.shape[0]) / 21867988 * 100, 'pct removed')"
   ]
  }
 ],
 "metadata": {
  "kernelspec": {
   "display_name": "Python 3",
   "language": "python",
   "name": "python3"
  },
  "language_info": {
   "codemirror_mode": {
    "name": "ipython",
    "version": 3
   },
   "file_extension": ".py",
   "mimetype": "text/x-python",
   "name": "python",
   "nbconvert_exporter": "python",
   "pygments_lexer": "ipython3",
   "version": "3.11.4"
  },
  "orig_nbformat": 4
 },
 "nbformat": 4,
 "nbformat_minor": 2
}
