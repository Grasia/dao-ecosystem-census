{
 "cells": [
  {
   "cell_type": "markdown",
   "metadata": {},
   "source": [
    "deployments"
   ]
  },
  {
   "cell_type": "code",
   "execution_count": 16,
   "metadata": {},
   "outputs": [
    {
     "data": {
      "text/html": [
       "<div>\n",
       "<style scoped>\n",
       "    .dataframe tbody tr th:only-of-type {\n",
       "        vertical-align: middle;\n",
       "    }\n",
       "\n",
       "    .dataframe tbody tr th {\n",
       "        vertical-align: top;\n",
       "    }\n",
       "\n",
       "    .dataframe thead th {\n",
       "        text-align: right;\n",
       "    }\n",
       "</style>\n",
       "<table border=\"1\" class=\"dataframe\">\n",
       "  <thead>\n",
       "    <tr style=\"text-align: right;\">\n",
       "      <th></th>\n",
       "      <th>platform</th>\n",
       "      <th>platform_id</th>\n",
       "      <th>name</th>\n",
       "      <th>website</th>\n",
       "      <th>additional</th>\n",
       "      <th>votes_count</th>\n",
       "      <th>proposals_count</th>\n",
       "    </tr>\n",
       "  </thead>\n",
       "  <tbody>\n",
       "    <tr>\n",
       "      <th>0</th>\n",
       "      <td>governor</td>\n",
       "      <td>00233765-eb17-4e75-954f-82258bb990aa</td>\n",
       "      <td>Shell Protocol</td>\n",
       "      <td>NaN</td>\n",
       "      <td>NaN</td>\n",
       "      <td>0</td>\n",
       "      <td>0</td>\n",
       "    </tr>\n",
       "    <tr>\n",
       "      <th>1</th>\n",
       "      <td>governor</td>\n",
       "      <td>0032e64d-5105-4369-89c4-46f05247c684</td>\n",
       "      <td>Free Company</td>\n",
       "      <td>NaN</td>\n",
       "      <td>NaN</td>\n",
       "      <td>0</td>\n",
       "      <td>0</td>\n",
       "    </tr>\n",
       "    <tr>\n",
       "      <th>2</th>\n",
       "      <td>governor</td>\n",
       "      <td>00453db4-685a-4221-9ad1-fda0d82c3a8a</td>\n",
       "      <td>Cream Finance</td>\n",
       "      <td>NaN</td>\n",
       "      <td>NaN</td>\n",
       "      <td>0</td>\n",
       "      <td>46</td>\n",
       "    </tr>\n",
       "    <tr>\n",
       "      <th>3</th>\n",
       "      <td>governor</td>\n",
       "      <td>004556b2-f0c0-4843-887c-4b539140ee43</td>\n",
       "      <td>Bleeps DAO</td>\n",
       "      <td>NaN</td>\n",
       "      <td>NaN</td>\n",
       "      <td>0</td>\n",
       "      <td>0</td>\n",
       "    </tr>\n",
       "    <tr>\n",
       "      <th>4</th>\n",
       "      <td>governor</td>\n",
       "      <td>0050d8cf-2650-4d66-94dc-77d871b0d755</td>\n",
       "      <td>Psychedelic</td>\n",
       "      <td>NaN</td>\n",
       "      <td>NaN</td>\n",
       "      <td>0</td>\n",
       "      <td>0</td>\n",
       "    </tr>\n",
       "  </tbody>\n",
       "</table>\n",
       "</div>"
      ],
      "text/plain": [
       "   platform                           platform_id            name  website  \\\n",
       "0  governor  00233765-eb17-4e75-954f-82258bb990aa  Shell Protocol      NaN   \n",
       "1  governor  0032e64d-5105-4369-89c4-46f05247c684    Free Company      NaN   \n",
       "2  governor  00453db4-685a-4221-9ad1-fda0d82c3a8a   Cream Finance      NaN   \n",
       "3  governor  004556b2-f0c0-4843-887c-4b539140ee43      Bleeps DAO      NaN   \n",
       "4  governor  0050d8cf-2650-4d66-94dc-77d871b0d755     Psychedelic      NaN   \n",
       "\n",
       "   additional  votes_count  proposals_count  \n",
       "0         NaN            0                0  \n",
       "1         NaN            0                0  \n",
       "2         NaN            0               46  \n",
       "3         NaN            0                0  \n",
       "4         NaN            0                0  "
      ]
     },
     "execution_count": 16,
     "metadata": {},
     "output_type": "execute_result"
    }
   ],
   "source": [
    "import pandas as pd\n",
    "governor_deployments_df = pd.read_csv('../deployments/governor/governor_deployments.csv')\n",
    "governor_deployments_df.head()"
   ]
  },
  {
   "cell_type": "code",
   "execution_count": 17,
   "metadata": {},
   "outputs": [
    {
     "data": {
      "text/plain": [
       "id: string\n",
       "platform: string\n",
       "platform_deployment_id: string\n",
       "name: string\n",
       "website: string\n",
       "additional: string\n",
       "votes_count: int64\n",
       "proposals_count: int64\n",
       "-- schema metadata --\n",
       "pandas: '{\"index_columns\": [{\"kind\": \"range\", \"name\": null, \"start\": 0, \"' + 1215"
      ]
     },
     "execution_count": 17,
     "metadata": {},
     "output_type": "execute_result"
    }
   ],
   "source": [
    "import pyarrow.parquet as pq\n",
    "\n",
    "# Read in the parquet file from v4, then we'll write to v5\n",
    "deployments = pq.read_table('../parquets_version4/deployments.parquet')\n",
    "deployments.schema"
   ]
  },
  {
   "cell_type": "code",
   "execution_count": 18,
   "metadata": {},
   "outputs": [
    {
     "data": {
      "text/plain": [
       "pyarrow.Table\n",
       "platform: string\n",
       "platform_id: string\n",
       "name: string\n",
       "website: string\n",
       "additional: string\n",
       "votes_count: int64\n",
       "proposals_count: int64\n",
       "----\n",
       "platform: [[\"governor\",\"governor\",\"governor\",\"governor\",\"governor\",...,\"governor\",\"governor\",\"governor\",\"governor\",\"governor\"]]\n",
       "platform_id: [[\"00233765-eb17-4e75-954f-82258bb990aa\",\"0032e64d-5105-4369-89c4-46f05247c684\",\"00453db4-685a-4221-9ad1-fda0d82c3a8a\",\"004556b2-f0c0-4843-887c-4b539140ee43\",\"0050d8cf-2650-4d66-94dc-77d871b0d755\",...,\"fe5f7e1a-67b9-4203-84bc-4b909280fbae\",\"fe72217c-ae9a-4cbd-9921-fc67592e05ce\",\"ff096de6-9ca7-4ec8-ab64-73100204c703\",\"ff3fdb73-2356-436f-bc03-ec3029248677\",\"ff8b3dc9-7b53-41d4-9aa9-93797c0d8587\"]]\n",
       "name: [[\"Shell Protocol\",\"Free Company\",\"Cream Finance\",\"Bleeps DAO\",\"Psychedelic\",...,\"dOrg\",\"Information Token DAO\",\"Eco DAO\",\"Measurable Data Token\",\"Seed Club\"]]\n",
       "website: [[\"nan\",\"nan\",\"nan\",\"nan\",\"nan\",...,\"nan\",\"nan\",\"nan\",\"nan\",\"nan\"]]\n",
       "additional: [[\"nan\",\"nan\",\"nan\",\"nan\",\"nan\",...,\"nan\",\"nan\",\"nan\",\"nan\",\"nan\"]]\n",
       "votes_count: [[0,0,0,0,0,...,0,0,0,0,0]]\n",
       "proposals_count: [[0,0,46,0,0,...,0,0,0,0,0]]"
      ]
     },
     "execution_count": 18,
     "metadata": {},
     "output_type": "execute_result"
    }
   ],
   "source": [
    "import pyarrow as pa\n",
    "# make website type a string\n",
    "governor_deployments_df['website'] = governor_deployments_df['website'].astype(str)\n",
    "# make additional type a string\n",
    "governor_deployments_df['additional'] = governor_deployments_df['additional'].astype(str)\n",
    "governor_deployments_table = pa.Table.from_pandas(governor_deployments_df, preserve_index=False)\n",
    "governor_deployments_table"
   ]
  },
  {
   "cell_type": "code",
   "execution_count": 20,
   "metadata": {},
   "outputs": [],
   "source": [
    "# TODO: gotta generate IDs before adding!\n",
    "# TODO: count proposals and votes from the parquet files"
   ]
  }
 ],
 "metadata": {
  "kernelspec": {
   "display_name": "Python 3",
   "language": "python",
   "name": "python3"
  },
  "language_info": {
   "codemirror_mode": {
    "name": "ipython",
    "version": 3
   },
   "file_extension": ".py",
   "mimetype": "text/x-python",
   "name": "python",
   "nbconvert_exporter": "python",
   "pygments_lexer": "ipython3",
   "version": "3.11.4"
  },
  "orig_nbformat": 4
 },
 "nbformat": 4,
 "nbformat_minor": 2
}
