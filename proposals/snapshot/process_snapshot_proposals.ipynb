{
 "cells": [
  {
   "cell_type": "code",
   "execution_count": 1,
   "metadata": {},
   "outputs": [
    {
     "data": {
      "text/plain": [
       "137"
      ]
     },
     "execution_count": 1,
     "metadata": {},
     "output_type": "execute_result"
    }
   ],
   "source": [
    "# get all of the json files in proposals_out_2023_07_21\n",
    "# read them all as one big dataframe\n",
    "\n",
    "import pandas as pd\n",
    "import glob\n",
    "\n",
    "# get all of the json files in proposals_out_2023_07_21\n",
    "file_names = glob.glob('proposals_out_2023_07_21/*.json')\n",
    "len(file_names)"
   ]
  },
  {
   "cell_type": "code",
   "execution_count": 2,
   "metadata": {},
   "outputs": [],
   "source": [
    "# monkeypatch json\n",
    "# monkeypatch using standard python json module\n",
    "\n",
    "import json\n",
    "\n",
    "pd.io.json._json.loads = lambda s, *a, **kw: json.loads(s)\n",
    "\n",
    "# monkeypatch using faster simplejson module\n",
    "import simplejson\n",
    "pd.io.json._json.loads = lambda s, *a, **kw: simplejson.loads(s)\n",
    "\n",
    "# normalising (unnesting) at the same time (for nested jsons)\n",
    "pd.io.json._json.loads = lambda s, *a, **kw: pd.json_normalize(simplejson.loads(s))"
   ]
  },
  {
   "cell_type": "code",
   "execution_count": 3,
   "metadata": {},
   "outputs": [
    {
     "data": {
      "text/plain": [
       "(125025, 5)"
      ]
     },
     "execution_count": 3,
     "metadata": {},
     "output_type": "execute_result"
    }
   ],
   "source": [
    "# read them all as one big dataframe\n",
    "df = pd.concat([pd.read_json(f) for f in file_names], ignore_index=True)\n",
    "df.shape"
   ]
  },
  {
   "cell_type": "code",
   "execution_count": 4,
   "metadata": {},
   "outputs": [
    {
     "data": {
      "text/html": [
       "<div>\n",
       "<style scoped>\n",
       "    .dataframe tbody tr th:only-of-type {\n",
       "        vertical-align: middle;\n",
       "    }\n",
       "\n",
       "    .dataframe tbody tr th {\n",
       "        vertical-align: top;\n",
       "    }\n",
       "\n",
       "    .dataframe thead th {\n",
       "        text-align: right;\n",
       "    }\n",
       "</style>\n",
       "<table border=\"1\" class=\"dataframe\">\n",
       "  <thead>\n",
       "    <tr style=\"text-align: right;\">\n",
       "      <th></th>\n",
       "      <th>id</th>\n",
       "      <th>author</th>\n",
       "      <th>created</th>\n",
       "      <th>votes</th>\n",
       "      <th>space.id</th>\n",
       "    </tr>\n",
       "  </thead>\n",
       "  <tbody>\n",
       "    <tr>\n",
       "      <th>0</th>\n",
       "      <td>0x6e3a5607e6cbe144fcea443f837a580c4fd7bfd19795...</td>\n",
       "      <td>0x167539702B5501aADd9B0B85E53532Fd57cC71a9</td>\n",
       "      <td>1689715693</td>\n",
       "      <td>6</td>\n",
       "      <td>paragonscouncil.eth</td>\n",
       "    </tr>\n",
       "    <tr>\n",
       "      <th>1</th>\n",
       "      <td>0x08808d7641cda26238b34dfcf2983fdb4f26b8fbd1a5...</td>\n",
       "      <td>0x806F0e3d1DD6e8499c2471d7e36f6cCA9723bd15</td>\n",
       "      <td>1689696851</td>\n",
       "      <td>1</td>\n",
       "      <td>tle-dao.eth</td>\n",
       "    </tr>\n",
       "    <tr>\n",
       "      <th>2</th>\n",
       "      <td>0x9a209c9e8147327d50b6b9bb33206c992aaa75d287d7...</td>\n",
       "      <td>0x86D95b07eB8BF038EFD9e1e3fAD8a389244F58e7</td>\n",
       "      <td>1689694511</td>\n",
       "      <td>1</td>\n",
       "      <td>tle-dao.eth</td>\n",
       "    </tr>\n",
       "    <tr>\n",
       "      <th>3</th>\n",
       "      <td>0x1d6eefccb4fb4aea18f6abcc649c5f1678ccfd5e403d...</td>\n",
       "      <td>0x4e14C2cFF2579925B686b5F2081F152802940214</td>\n",
       "      <td>1689692232</td>\n",
       "      <td>1</td>\n",
       "      <td>tle-dao.eth</td>\n",
       "    </tr>\n",
       "    <tr>\n",
       "      <th>4</th>\n",
       "      <td>0xce737a7023702de7a12badf7f075dff909cfe228e9ed...</td>\n",
       "      <td>0xF71ACA0452E9eB7d5f025Bf10e1711d7d3b90Aa6</td>\n",
       "      <td>1689691582</td>\n",
       "      <td>1</td>\n",
       "      <td>002688.eth</td>\n",
       "    </tr>\n",
       "  </tbody>\n",
       "</table>\n",
       "</div>"
      ],
      "text/plain": [
       "                                                  id  \\\n",
       "0  0x6e3a5607e6cbe144fcea443f837a580c4fd7bfd19795...   \n",
       "1  0x08808d7641cda26238b34dfcf2983fdb4f26b8fbd1a5...   \n",
       "2  0x9a209c9e8147327d50b6b9bb33206c992aaa75d287d7...   \n",
       "3  0x1d6eefccb4fb4aea18f6abcc649c5f1678ccfd5e403d...   \n",
       "4  0xce737a7023702de7a12badf7f075dff909cfe228e9ed...   \n",
       "\n",
       "                                       author     created  votes  \\\n",
       "0  0x167539702B5501aADd9B0B85E53532Fd57cC71a9  1689715693      6   \n",
       "1  0x806F0e3d1DD6e8499c2471d7e36f6cCA9723bd15  1689696851      1   \n",
       "2  0x86D95b07eB8BF038EFD9e1e3fAD8a389244F58e7  1689694511      1   \n",
       "3  0x4e14C2cFF2579925B686b5F2081F152802940214  1689692232      1   \n",
       "4  0xF71ACA0452E9eB7d5f025Bf10e1711d7d3b90Aa6  1689691582      1   \n",
       "\n",
       "              space.id  \n",
       "0  paragonscouncil.eth  \n",
       "1          tle-dao.eth  \n",
       "2          tle-dao.eth  \n",
       "3          tle-dao.eth  \n",
       "4           002688.eth  "
      ]
     },
     "execution_count": 4,
     "metadata": {},
     "output_type": "execute_result"
    }
   ],
   "source": [
    "df.head()"
   ]
  },
  {
   "cell_type": "code",
   "execution_count": 5,
   "metadata": {},
   "outputs": [
    {
     "data": {
      "text/plain": [
       "id          0x359abe8eca09aa2bb45a4a9a21b4f89ea64e619ff68e...\n",
       "author             0x954b73548737af212Ec87CC07aA79A41668696AF\n",
       "created                                            1689578365\n",
       "votes                                                       1\n",
       "space.id                                         mihail0z.eth\n",
       "Name: 40, dtype: object"
      ]
     },
     "execution_count": 5,
     "metadata": {},
     "output_type": "execute_result"
    }
   ],
   "source": [
    "df.iloc[40]"
   ]
  },
  {
   "cell_type": "code",
   "execution_count": 6,
   "metadata": {},
   "outputs": [
    {
     "data": {
      "text/plain": [
       "Index(['id', 'author', 'created', 'votes', 'space.id'], dtype='object')"
      ]
     },
     "execution_count": 6,
     "metadata": {},
     "output_type": "execute_result"
    }
   ],
   "source": [
    "df.columns"
   ]
  },
  {
   "cell_type": "code",
   "execution_count": 7,
   "metadata": {},
   "outputs": [
    {
     "data": {
      "text/html": [
       "<div>\n",
       "<style scoped>\n",
       "    .dataframe tbody tr th:only-of-type {\n",
       "        vertical-align: middle;\n",
       "    }\n",
       "\n",
       "    .dataframe tbody tr th {\n",
       "        vertical-align: top;\n",
       "    }\n",
       "\n",
       "    .dataframe thead th {\n",
       "        text-align: right;\n",
       "    }\n",
       "</style>\n",
       "<table border=\"1\" class=\"dataframe\">\n",
       "  <thead>\n",
       "    <tr style=\"text-align: right;\">\n",
       "      <th></th>\n",
       "      <th>platform</th>\n",
       "      <th>platform_deployment_id</th>\n",
       "      <th>proposal_id</th>\n",
       "      <th>author</th>\n",
       "      <th>date</th>\n",
       "      <th>votes_count</th>\n",
       "    </tr>\n",
       "  </thead>\n",
       "  <tbody>\n",
       "    <tr>\n",
       "      <th>0</th>\n",
       "      <td>snapshot</td>\n",
       "      <td>paragonscouncil.eth</td>\n",
       "      <td>0x6e3a5607e6cbe144fcea443f837a580c4fd7bfd19795...</td>\n",
       "      <td>0x167539702B5501aADd9B0B85E53532Fd57cC71a9</td>\n",
       "      <td>1689715693</td>\n",
       "      <td>6</td>\n",
       "    </tr>\n",
       "    <tr>\n",
       "      <th>1</th>\n",
       "      <td>snapshot</td>\n",
       "      <td>tle-dao.eth</td>\n",
       "      <td>0x08808d7641cda26238b34dfcf2983fdb4f26b8fbd1a5...</td>\n",
       "      <td>0x806F0e3d1DD6e8499c2471d7e36f6cCA9723bd15</td>\n",
       "      <td>1689696851</td>\n",
       "      <td>1</td>\n",
       "    </tr>\n",
       "    <tr>\n",
       "      <th>2</th>\n",
       "      <td>snapshot</td>\n",
       "      <td>tle-dao.eth</td>\n",
       "      <td>0x9a209c9e8147327d50b6b9bb33206c992aaa75d287d7...</td>\n",
       "      <td>0x86D95b07eB8BF038EFD9e1e3fAD8a389244F58e7</td>\n",
       "      <td>1689694511</td>\n",
       "      <td>1</td>\n",
       "    </tr>\n",
       "    <tr>\n",
       "      <th>3</th>\n",
       "      <td>snapshot</td>\n",
       "      <td>tle-dao.eth</td>\n",
       "      <td>0x1d6eefccb4fb4aea18f6abcc649c5f1678ccfd5e403d...</td>\n",
       "      <td>0x4e14C2cFF2579925B686b5F2081F152802940214</td>\n",
       "      <td>1689692232</td>\n",
       "      <td>1</td>\n",
       "    </tr>\n",
       "    <tr>\n",
       "      <th>4</th>\n",
       "      <td>snapshot</td>\n",
       "      <td>002688.eth</td>\n",
       "      <td>0xce737a7023702de7a12badf7f075dff909cfe228e9ed...</td>\n",
       "      <td>0xF71ACA0452E9eB7d5f025Bf10e1711d7d3b90Aa6</td>\n",
       "      <td>1689691582</td>\n",
       "      <td>1</td>\n",
       "    </tr>\n",
       "  </tbody>\n",
       "</table>\n",
       "</div>"
      ],
      "text/plain": [
       "   platform platform_deployment_id  \\\n",
       "0  snapshot    paragonscouncil.eth   \n",
       "1  snapshot            tle-dao.eth   \n",
       "2  snapshot            tle-dao.eth   \n",
       "3  snapshot            tle-dao.eth   \n",
       "4  snapshot             002688.eth   \n",
       "\n",
       "                                         proposal_id  \\\n",
       "0  0x6e3a5607e6cbe144fcea443f837a580c4fd7bfd19795...   \n",
       "1  0x08808d7641cda26238b34dfcf2983fdb4f26b8fbd1a5...   \n",
       "2  0x9a209c9e8147327d50b6b9bb33206c992aaa75d287d7...   \n",
       "3  0x1d6eefccb4fb4aea18f6abcc649c5f1678ccfd5e403d...   \n",
       "4  0xce737a7023702de7a12badf7f075dff909cfe228e9ed...   \n",
       "\n",
       "                                       author        date  votes_count  \n",
       "0  0x167539702B5501aADd9B0B85E53532Fd57cC71a9  1689715693            6  \n",
       "1  0x806F0e3d1DD6e8499c2471d7e36f6cCA9723bd15  1689696851            1  \n",
       "2  0x86D95b07eB8BF038EFD9e1e3fAD8a389244F58e7  1689694511            1  \n",
       "3  0x4e14C2cFF2579925B686b5F2081F152802940214  1689692232            1  \n",
       "4  0xF71ACA0452E9eB7d5f025Bf10e1711d7d3b90Aa6  1689691582            1  "
      ]
     },
     "execution_count": 7,
     "metadata": {},
     "output_type": "execute_result"
    }
   ],
   "source": [
    "# * platform\n",
    "df['platform'] = 'snapshot'\n",
    "# * rename space.id to platform_deployment_id\n",
    "df.rename(columns={'space.id': 'platform_deployment_id'}, inplace=True)\n",
    "# * rename id to proposal_id\n",
    "df.rename(columns={'id': 'proposal_id'}, inplace=True)\n",
    "# * author no chg\n",
    "# * rename created to date\n",
    "df.rename(columns={'created': 'date'}, inplace=True)\n",
    "# * votes to votes_count\n",
    "df.rename(columns={'votes': 'votes_count'}, inplace=True)\n",
    "\n",
    "# keep only these cols\n",
    "df = df[['platform', 'platform_deployment_id', 'proposal_id', 'author', 'date', 'votes_count']]\n",
    "df.head()"
   ]
  },
  {
   "cell_type": "code",
   "execution_count": 8,
   "metadata": {},
   "outputs": [
    {
     "data": {
      "text/html": [
       "<div>\n",
       "<style scoped>\n",
       "    .dataframe tbody tr th:only-of-type {\n",
       "        vertical-align: middle;\n",
       "    }\n",
       "\n",
       "    .dataframe tbody tr th {\n",
       "        vertical-align: top;\n",
       "    }\n",
       "\n",
       "    .dataframe thead th {\n",
       "        text-align: right;\n",
       "    }\n",
       "</style>\n",
       "<table border=\"1\" class=\"dataframe\">\n",
       "  <thead>\n",
       "    <tr style=\"text-align: right;\">\n",
       "      <th></th>\n",
       "      <th>platform</th>\n",
       "      <th>platform_deployment_id</th>\n",
       "      <th>proposal_id</th>\n",
       "      <th>author</th>\n",
       "      <th>date</th>\n",
       "      <th>votes_count</th>\n",
       "    </tr>\n",
       "  </thead>\n",
       "  <tbody>\n",
       "    <tr>\n",
       "      <th>0</th>\n",
       "      <td>snapshot</td>\n",
       "      <td>paragonscouncil.eth</td>\n",
       "      <td>0x6e3a5607e6cbe144fcea443f837a580c4fd7bfd19795...</td>\n",
       "      <td>0x167539702B5501aADd9B0B85E53532Fd57cC71a9</td>\n",
       "      <td>2023-07-18 21:28:13</td>\n",
       "      <td>6</td>\n",
       "    </tr>\n",
       "    <tr>\n",
       "      <th>1</th>\n",
       "      <td>snapshot</td>\n",
       "      <td>tle-dao.eth</td>\n",
       "      <td>0x08808d7641cda26238b34dfcf2983fdb4f26b8fbd1a5...</td>\n",
       "      <td>0x806F0e3d1DD6e8499c2471d7e36f6cCA9723bd15</td>\n",
       "      <td>2023-07-18 16:14:11</td>\n",
       "      <td>1</td>\n",
       "    </tr>\n",
       "    <tr>\n",
       "      <th>2</th>\n",
       "      <td>snapshot</td>\n",
       "      <td>tle-dao.eth</td>\n",
       "      <td>0x9a209c9e8147327d50b6b9bb33206c992aaa75d287d7...</td>\n",
       "      <td>0x86D95b07eB8BF038EFD9e1e3fAD8a389244F58e7</td>\n",
       "      <td>2023-07-18 15:35:11</td>\n",
       "      <td>1</td>\n",
       "    </tr>\n",
       "    <tr>\n",
       "      <th>3</th>\n",
       "      <td>snapshot</td>\n",
       "      <td>tle-dao.eth</td>\n",
       "      <td>0x1d6eefccb4fb4aea18f6abcc649c5f1678ccfd5e403d...</td>\n",
       "      <td>0x4e14C2cFF2579925B686b5F2081F152802940214</td>\n",
       "      <td>2023-07-18 14:57:12</td>\n",
       "      <td>1</td>\n",
       "    </tr>\n",
       "    <tr>\n",
       "      <th>4</th>\n",
       "      <td>snapshot</td>\n",
       "      <td>002688.eth</td>\n",
       "      <td>0xce737a7023702de7a12badf7f075dff909cfe228e9ed...</td>\n",
       "      <td>0xF71ACA0452E9eB7d5f025Bf10e1711d7d3b90Aa6</td>\n",
       "      <td>2023-07-18 14:46:22</td>\n",
       "      <td>1</td>\n",
       "    </tr>\n",
       "  </tbody>\n",
       "</table>\n",
       "</div>"
      ],
      "text/plain": [
       "   platform platform_deployment_id  \\\n",
       "0  snapshot    paragonscouncil.eth   \n",
       "1  snapshot            tle-dao.eth   \n",
       "2  snapshot            tle-dao.eth   \n",
       "3  snapshot            tle-dao.eth   \n",
       "4  snapshot             002688.eth   \n",
       "\n",
       "                                         proposal_id  \\\n",
       "0  0x6e3a5607e6cbe144fcea443f837a580c4fd7bfd19795...   \n",
       "1  0x08808d7641cda26238b34dfcf2983fdb4f26b8fbd1a5...   \n",
       "2  0x9a209c9e8147327d50b6b9bb33206c992aaa75d287d7...   \n",
       "3  0x1d6eefccb4fb4aea18f6abcc649c5f1678ccfd5e403d...   \n",
       "4  0xce737a7023702de7a12badf7f075dff909cfe228e9ed...   \n",
       "\n",
       "                                       author                date  votes_count  \n",
       "0  0x167539702B5501aADd9B0B85E53532Fd57cC71a9 2023-07-18 21:28:13            6  \n",
       "1  0x806F0e3d1DD6e8499c2471d7e36f6cCA9723bd15 2023-07-18 16:14:11            1  \n",
       "2  0x86D95b07eB8BF038EFD9e1e3fAD8a389244F58e7 2023-07-18 15:35:11            1  \n",
       "3  0x4e14C2cFF2579925B686b5F2081F152802940214 2023-07-18 14:57:12            1  \n",
       "4  0xF71ACA0452E9eB7d5f025Bf10e1711d7d3b90Aa6 2023-07-18 14:46:22            1  "
      ]
     },
     "execution_count": 8,
     "metadata": {},
     "output_type": "execute_result"
    }
   ],
   "source": [
    "# read date as pd date, it's a seconds epoch timestamp\n",
    "df['date'] = pd.to_datetime(df['date'], unit='s')\n",
    "df.head()"
   ]
  },
  {
   "cell_type": "code",
   "execution_count": 9,
   "metadata": {},
   "outputs": [],
   "source": [
    "# save\n",
    "df.to_csv('snapshot_proposals.csv', index=False)"
   ]
  }
 ],
 "metadata": {
  "kernelspec": {
   "display_name": "Python 3",
   "language": "python",
   "name": "python3"
  },
  "language_info": {
   "codemirror_mode": {
    "name": "ipython",
    "version": 3
   },
   "file_extension": ".py",
   "mimetype": "text/x-python",
   "name": "python",
   "nbconvert_exporter": "python",
   "pygments_lexer": "ipython3",
   "version": "3.11.4"
  },
  "orig_nbformat": 4
 },
 "nbformat": 4,
 "nbformat_minor": 2
}
