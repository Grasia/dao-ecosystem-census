{
 "cells": [
  {
   "cell_type": "code",
   "execution_count": 50,
   "metadata": {},
   "outputs": [
    {
     "data": {
      "text/plain": [
       "139"
      ]
     },
     "execution_count": 50,
     "metadata": {},
     "output_type": "execute_result"
    }
   ],
   "source": [
    "# get all of the json files in proposals_out_2023_07_20\n",
    "# read them all as one big dataframe\n",
    "\n",
    "import pandas as pd\n",
    "import glob\n",
    "\n",
    "# get all of the json files in proposals_out_2023_07_20\n",
    "file_names = glob.glob('proposals_out_2023_07_20/*.json')\n",
    "len(file_names)"
   ]
  },
  {
   "cell_type": "code",
   "execution_count": 51,
   "metadata": {},
   "outputs": [],
   "source": [
    "# monkeypatch json\n",
    "# monkeypatch using standard python json module\n",
    "\n",
    "import json\n",
    "\n",
    "pd.io.json._json.loads = lambda s, *a, **kw: json.loads(s)\n",
    "\n",
    "# monkeypatch using faster simplejson module\n",
    "import simplejson\n",
    "pd.io.json._json.loads = lambda s, *a, **kw: simplejson.loads(s)\n",
    "\n",
    "# normalising (unnesting) at the same time (for nested jsons)\n",
    "pd.io.json._json.loads = lambda s, *a, **kw: pd.json_normalize(simplejson.loads(s))"
   ]
  },
  {
   "cell_type": "code",
   "execution_count": 52,
   "metadata": {},
   "outputs": [
    {
     "data": {
      "text/plain": [
       "(124634, 5)"
      ]
     },
     "execution_count": 52,
     "metadata": {},
     "output_type": "execute_result"
    }
   ],
   "source": [
    "# read them all as one big dataframe\n",
    "df = pd.concat([pd.read_json(f) for f in file_names], ignore_index=True)\n",
    "df.shape"
   ]
  },
  {
   "cell_type": "code",
   "execution_count": 53,
   "metadata": {},
   "outputs": [
    {
     "data": {
      "text/html": [
       "<div>\n",
       "<style scoped>\n",
       "    .dataframe tbody tr th:only-of-type {\n",
       "        vertical-align: middle;\n",
       "    }\n",
       "\n",
       "    .dataframe tbody tr th {\n",
       "        vertical-align: top;\n",
       "    }\n",
       "\n",
       "    .dataframe thead th {\n",
       "        text-align: right;\n",
       "    }\n",
       "</style>\n",
       "<table border=\"1\" class=\"dataframe\">\n",
       "  <thead>\n",
       "    <tr style=\"text-align: right;\">\n",
       "      <th></th>\n",
       "      <th>id</th>\n",
       "      <th>author</th>\n",
       "      <th>created</th>\n",
       "      <th>votes</th>\n",
       "      <th>space.id</th>\n",
       "    </tr>\n",
       "  </thead>\n",
       "  <tbody>\n",
       "    <tr>\n",
       "      <th>0</th>\n",
       "      <td>0xa3361c15ebb91e731146b652da16242384bd7a5679d8...</td>\n",
       "      <td>0x0242834979411FfCE95cDA74a5b00d0107a92d75</td>\n",
       "      <td>1689871931</td>\n",
       "      <td>1</td>\n",
       "      <td>798777.eth</td>\n",
       "    </tr>\n",
       "    <tr>\n",
       "      <th>1</th>\n",
       "      <td>0x753a316234628e0e97bbc04c7513deec517fa99671fd...</td>\n",
       "      <td>0xCDCbFFa97EDaF82Abd6C02D2aB12D59D7A700a01</td>\n",
       "      <td>1689870878</td>\n",
       "      <td>1</td>\n",
       "      <td>798777.eth</td>\n",
       "    </tr>\n",
       "    <tr>\n",
       "      <th>2</th>\n",
       "      <td>0x0e2ba26f4512e9ccc90491a1b9f64f395d6834a5eb2d...</td>\n",
       "      <td>0xF509B73e606A54281147711a51Cf8572BBE9987b</td>\n",
       "      <td>1689869558</td>\n",
       "      <td>1</td>\n",
       "      <td>798777.eth</td>\n",
       "    </tr>\n",
       "    <tr>\n",
       "      <th>3</th>\n",
       "      <td>0x08fbbc7bbcfb0b972dcd6d5b4f60ee9a5be4470f0f43...</td>\n",
       "      <td>0x483a15A333eDC0A2C2D9Bbd986e6692A0FFA8471</td>\n",
       "      <td>1689865290</td>\n",
       "      <td>1</td>\n",
       "      <td>798777.eth</td>\n",
       "    </tr>\n",
       "    <tr>\n",
       "      <th>4</th>\n",
       "      <td>0x61c7c68e5bd50cbb1ee45f3804eef83f0bc1be0d428f...</td>\n",
       "      <td>0x483a15A333eDC0A2C2D9Bbd986e6692A0FFA8471</td>\n",
       "      <td>1689865267</td>\n",
       "      <td>1</td>\n",
       "      <td>798777.eth</td>\n",
       "    </tr>\n",
       "  </tbody>\n",
       "</table>\n",
       "</div>"
      ],
      "text/plain": [
       "                                                  id  \\\n",
       "0  0xa3361c15ebb91e731146b652da16242384bd7a5679d8...   \n",
       "1  0x753a316234628e0e97bbc04c7513deec517fa99671fd...   \n",
       "2  0x0e2ba26f4512e9ccc90491a1b9f64f395d6834a5eb2d...   \n",
       "3  0x08fbbc7bbcfb0b972dcd6d5b4f60ee9a5be4470f0f43...   \n",
       "4  0x61c7c68e5bd50cbb1ee45f3804eef83f0bc1be0d428f...   \n",
       "\n",
       "                                       author     created  votes    space.id  \n",
       "0  0x0242834979411FfCE95cDA74a5b00d0107a92d75  1689871931      1  798777.eth  \n",
       "1  0xCDCbFFa97EDaF82Abd6C02D2aB12D59D7A700a01  1689870878      1  798777.eth  \n",
       "2  0xF509B73e606A54281147711a51Cf8572BBE9987b  1689869558      1  798777.eth  \n",
       "3  0x483a15A333eDC0A2C2D9Bbd986e6692A0FFA8471  1689865290      1  798777.eth  \n",
       "4  0x483a15A333eDC0A2C2D9Bbd986e6692A0FFA8471  1689865267      1  798777.eth  "
      ]
     },
     "execution_count": 53,
     "metadata": {},
     "output_type": "execute_result"
    }
   ],
   "source": [
    "df.head()"
   ]
  },
  {
   "cell_type": "code",
   "execution_count": 54,
   "metadata": {},
   "outputs": [
    {
     "data": {
      "text/plain": [
       "id          0x9a528ab6196315854f95bffc8edc305cd20781c692e3...\n",
       "author             0x677Ef61298372e2B56757Cae32F01B350B6013Bc\n",
       "created                                            1689577850\n",
       "votes                                                       1\n",
       "space.id                               computers.freesubs.eth\n",
       "Name: 40, dtype: object"
      ]
     },
     "execution_count": 54,
     "metadata": {},
     "output_type": "execute_result"
    }
   ],
   "source": [
    "df.iloc[40]"
   ]
  },
  {
   "cell_type": "code",
   "execution_count": 55,
   "metadata": {},
   "outputs": [
    {
     "data": {
      "text/plain": [
       "Index(['id', 'author', 'created', 'votes', 'space.id'], dtype='object')"
      ]
     },
     "execution_count": 55,
     "metadata": {},
     "output_type": "execute_result"
    }
   ],
   "source": [
    "df.columns"
   ]
  },
  {
   "cell_type": "code",
   "execution_count": 56,
   "metadata": {},
   "outputs": [
    {
     "data": {
      "text/html": [
       "<div>\n",
       "<style scoped>\n",
       "    .dataframe tbody tr th:only-of-type {\n",
       "        vertical-align: middle;\n",
       "    }\n",
       "\n",
       "    .dataframe tbody tr th {\n",
       "        vertical-align: top;\n",
       "    }\n",
       "\n",
       "    .dataframe thead th {\n",
       "        text-align: right;\n",
       "    }\n",
       "</style>\n",
       "<table border=\"1\" class=\"dataframe\">\n",
       "  <thead>\n",
       "    <tr style=\"text-align: right;\">\n",
       "      <th></th>\n",
       "      <th>platform</th>\n",
       "      <th>platform_deployment_id</th>\n",
       "      <th>proposal_id</th>\n",
       "      <th>author</th>\n",
       "      <th>date</th>\n",
       "      <th>votes_count</th>\n",
       "    </tr>\n",
       "  </thead>\n",
       "  <tbody>\n",
       "    <tr>\n",
       "      <th>0</th>\n",
       "      <td>snapshot</td>\n",
       "      <td>798777.eth</td>\n",
       "      <td>0xa3361c15ebb91e731146b652da16242384bd7a5679d8...</td>\n",
       "      <td>0x0242834979411FfCE95cDA74a5b00d0107a92d75</td>\n",
       "      <td>1689871931</td>\n",
       "      <td>1</td>\n",
       "    </tr>\n",
       "    <tr>\n",
       "      <th>1</th>\n",
       "      <td>snapshot</td>\n",
       "      <td>798777.eth</td>\n",
       "      <td>0x753a316234628e0e97bbc04c7513deec517fa99671fd...</td>\n",
       "      <td>0xCDCbFFa97EDaF82Abd6C02D2aB12D59D7A700a01</td>\n",
       "      <td>1689870878</td>\n",
       "      <td>1</td>\n",
       "    </tr>\n",
       "    <tr>\n",
       "      <th>2</th>\n",
       "      <td>snapshot</td>\n",
       "      <td>798777.eth</td>\n",
       "      <td>0x0e2ba26f4512e9ccc90491a1b9f64f395d6834a5eb2d...</td>\n",
       "      <td>0xF509B73e606A54281147711a51Cf8572BBE9987b</td>\n",
       "      <td>1689869558</td>\n",
       "      <td>1</td>\n",
       "    </tr>\n",
       "    <tr>\n",
       "      <th>3</th>\n",
       "      <td>snapshot</td>\n",
       "      <td>798777.eth</td>\n",
       "      <td>0x08fbbc7bbcfb0b972dcd6d5b4f60ee9a5be4470f0f43...</td>\n",
       "      <td>0x483a15A333eDC0A2C2D9Bbd986e6692A0FFA8471</td>\n",
       "      <td>1689865290</td>\n",
       "      <td>1</td>\n",
       "    </tr>\n",
       "    <tr>\n",
       "      <th>4</th>\n",
       "      <td>snapshot</td>\n",
       "      <td>798777.eth</td>\n",
       "      <td>0x61c7c68e5bd50cbb1ee45f3804eef83f0bc1be0d428f...</td>\n",
       "      <td>0x483a15A333eDC0A2C2D9Bbd986e6692A0FFA8471</td>\n",
       "      <td>1689865267</td>\n",
       "      <td>1</td>\n",
       "    </tr>\n",
       "  </tbody>\n",
       "</table>\n",
       "</div>"
      ],
      "text/plain": [
       "   platform platform_deployment_id  \\\n",
       "0  snapshot             798777.eth   \n",
       "1  snapshot             798777.eth   \n",
       "2  snapshot             798777.eth   \n",
       "3  snapshot             798777.eth   \n",
       "4  snapshot             798777.eth   \n",
       "\n",
       "                                         proposal_id  \\\n",
       "0  0xa3361c15ebb91e731146b652da16242384bd7a5679d8...   \n",
       "1  0x753a316234628e0e97bbc04c7513deec517fa99671fd...   \n",
       "2  0x0e2ba26f4512e9ccc90491a1b9f64f395d6834a5eb2d...   \n",
       "3  0x08fbbc7bbcfb0b972dcd6d5b4f60ee9a5be4470f0f43...   \n",
       "4  0x61c7c68e5bd50cbb1ee45f3804eef83f0bc1be0d428f...   \n",
       "\n",
       "                                       author        date  votes_count  \n",
       "0  0x0242834979411FfCE95cDA74a5b00d0107a92d75  1689871931            1  \n",
       "1  0xCDCbFFa97EDaF82Abd6C02D2aB12D59D7A700a01  1689870878            1  \n",
       "2  0xF509B73e606A54281147711a51Cf8572BBE9987b  1689869558            1  \n",
       "3  0x483a15A333eDC0A2C2D9Bbd986e6692A0FFA8471  1689865290            1  \n",
       "4  0x483a15A333eDC0A2C2D9Bbd986e6692A0FFA8471  1689865267            1  "
      ]
     },
     "execution_count": 56,
     "metadata": {},
     "output_type": "execute_result"
    }
   ],
   "source": [
    "# * platform\n",
    "df['platform'] = 'snapshot'\n",
    "# * rename space.id to platform_deployment_id\n",
    "df.rename(columns={'space.id': 'platform_deployment_id'}, inplace=True)\n",
    "# * rename id to proposal_id\n",
    "df.rename(columns={'id': 'proposal_id'}, inplace=True)\n",
    "# * author no chg\n",
    "# * rename created to date\n",
    "df.rename(columns={'created': 'date'}, inplace=True)\n",
    "# * votes to votes_count\n",
    "df.rename(columns={'votes': 'votes_count'}, inplace=True)\n",
    "\n",
    "# keep only these cols\n",
    "df = df[['platform', 'platform_deployment_id', 'proposal_id', 'author', 'date', 'votes_count']]\n",
    "df.head()"
   ]
  },
  {
   "cell_type": "code",
   "execution_count": 57,
   "metadata": {},
   "outputs": [
    {
     "data": {
      "text/html": [
       "<div>\n",
       "<style scoped>\n",
       "    .dataframe tbody tr th:only-of-type {\n",
       "        vertical-align: middle;\n",
       "    }\n",
       "\n",
       "    .dataframe tbody tr th {\n",
       "        vertical-align: top;\n",
       "    }\n",
       "\n",
       "    .dataframe thead th {\n",
       "        text-align: right;\n",
       "    }\n",
       "</style>\n",
       "<table border=\"1\" class=\"dataframe\">\n",
       "  <thead>\n",
       "    <tr style=\"text-align: right;\">\n",
       "      <th></th>\n",
       "      <th>platform</th>\n",
       "      <th>platform_deployment_id</th>\n",
       "      <th>proposal_id</th>\n",
       "      <th>author</th>\n",
       "      <th>date</th>\n",
       "      <th>votes_count</th>\n",
       "    </tr>\n",
       "  </thead>\n",
       "  <tbody>\n",
       "    <tr>\n",
       "      <th>0</th>\n",
       "      <td>snapshot</td>\n",
       "      <td>798777.eth</td>\n",
       "      <td>0xa3361c15ebb91e731146b652da16242384bd7a5679d8...</td>\n",
       "      <td>0x0242834979411FfCE95cDA74a5b00d0107a92d75</td>\n",
       "      <td>2023-07-20 16:52:11</td>\n",
       "      <td>1</td>\n",
       "    </tr>\n",
       "    <tr>\n",
       "      <th>1</th>\n",
       "      <td>snapshot</td>\n",
       "      <td>798777.eth</td>\n",
       "      <td>0x753a316234628e0e97bbc04c7513deec517fa99671fd...</td>\n",
       "      <td>0xCDCbFFa97EDaF82Abd6C02D2aB12D59D7A700a01</td>\n",
       "      <td>2023-07-20 16:34:38</td>\n",
       "      <td>1</td>\n",
       "    </tr>\n",
       "    <tr>\n",
       "      <th>2</th>\n",
       "      <td>snapshot</td>\n",
       "      <td>798777.eth</td>\n",
       "      <td>0x0e2ba26f4512e9ccc90491a1b9f64f395d6834a5eb2d...</td>\n",
       "      <td>0xF509B73e606A54281147711a51Cf8572BBE9987b</td>\n",
       "      <td>2023-07-20 16:12:38</td>\n",
       "      <td>1</td>\n",
       "    </tr>\n",
       "    <tr>\n",
       "      <th>3</th>\n",
       "      <td>snapshot</td>\n",
       "      <td>798777.eth</td>\n",
       "      <td>0x08fbbc7bbcfb0b972dcd6d5b4f60ee9a5be4470f0f43...</td>\n",
       "      <td>0x483a15A333eDC0A2C2D9Bbd986e6692A0FFA8471</td>\n",
       "      <td>2023-07-20 15:01:30</td>\n",
       "      <td>1</td>\n",
       "    </tr>\n",
       "    <tr>\n",
       "      <th>4</th>\n",
       "      <td>snapshot</td>\n",
       "      <td>798777.eth</td>\n",
       "      <td>0x61c7c68e5bd50cbb1ee45f3804eef83f0bc1be0d428f...</td>\n",
       "      <td>0x483a15A333eDC0A2C2D9Bbd986e6692A0FFA8471</td>\n",
       "      <td>2023-07-20 15:01:07</td>\n",
       "      <td>1</td>\n",
       "    </tr>\n",
       "  </tbody>\n",
       "</table>\n",
       "</div>"
      ],
      "text/plain": [
       "   platform platform_deployment_id  \\\n",
       "0  snapshot             798777.eth   \n",
       "1  snapshot             798777.eth   \n",
       "2  snapshot             798777.eth   \n",
       "3  snapshot             798777.eth   \n",
       "4  snapshot             798777.eth   \n",
       "\n",
       "                                         proposal_id  \\\n",
       "0  0xa3361c15ebb91e731146b652da16242384bd7a5679d8...   \n",
       "1  0x753a316234628e0e97bbc04c7513deec517fa99671fd...   \n",
       "2  0x0e2ba26f4512e9ccc90491a1b9f64f395d6834a5eb2d...   \n",
       "3  0x08fbbc7bbcfb0b972dcd6d5b4f60ee9a5be4470f0f43...   \n",
       "4  0x61c7c68e5bd50cbb1ee45f3804eef83f0bc1be0d428f...   \n",
       "\n",
       "                                       author                date  votes_count  \n",
       "0  0x0242834979411FfCE95cDA74a5b00d0107a92d75 2023-07-20 16:52:11            1  \n",
       "1  0xCDCbFFa97EDaF82Abd6C02D2aB12D59D7A700a01 2023-07-20 16:34:38            1  \n",
       "2  0xF509B73e606A54281147711a51Cf8572BBE9987b 2023-07-20 16:12:38            1  \n",
       "3  0x483a15A333eDC0A2C2D9Bbd986e6692A0FFA8471 2023-07-20 15:01:30            1  \n",
       "4  0x483a15A333eDC0A2C2D9Bbd986e6692A0FFA8471 2023-07-20 15:01:07            1  "
      ]
     },
     "execution_count": 57,
     "metadata": {},
     "output_type": "execute_result"
    }
   ],
   "source": [
    "# read date as pd date, it's a seconds epoch timestamp\n",
    "df['date'] = pd.to_datetime(df['date'], unit='s')\n",
    "df.head()"
   ]
  },
  {
   "cell_type": "code",
   "execution_count": 58,
   "metadata": {},
   "outputs": [],
   "source": [
    "# save\n",
    "df.to_csv('snapshot_proposals.csv', index=False)"
   ]
  }
 ],
 "metadata": {
  "kernelspec": {
   "display_name": "Python 3",
   "language": "python",
   "name": "python3"
  },
  "language_info": {
   "codemirror_mode": {
    "name": "ipython",
    "version": 3
   },
   "file_extension": ".py",
   "mimetype": "text/x-python",
   "name": "python",
   "nbconvert_exporter": "python",
   "pygments_lexer": "ipython3",
   "version": "3.11.4"
  },
  "orig_nbformat": 4
 },
 "nbformat": 4,
 "nbformat_minor": 2
}
