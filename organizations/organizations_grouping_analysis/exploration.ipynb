{
 "cells": [
  {
   "cell_type": "markdown",
   "metadata": {},
   "source": [
    "# gather data"
   ]
  },
  {
   "cell_type": "code",
   "execution_count": 31,
   "metadata": {},
   "outputs": [
    {
     "data": {
      "text/plain": [
       "['../DATA/deployments/realms_deployments.csv',\n",
       " '../DATA/deployments/tally_deployments.csv',\n",
       " '../DATA/deployments/daostack_deployments.csv',\n",
       " '../DATA/deployments/daohaus_deployments.csv',\n",
       " '../DATA/deployments/snapshot_deployments.csv',\n",
       " '../DATA/deployments/aragon_deployments.csv']"
      ]
     },
     "execution_count": 31,
     "metadata": {},
     "output_type": "execute_result"
    }
   ],
   "source": [
    "import pandas as pd\n",
    "import glob\n",
    "\n",
    "# find the *_deployments.csv files in ../DATA/deployments\n",
    "deployments_csvs = glob.glob('../DATA/deployments/*_deployments.csv')\n",
    "deployments_csvs"
   ]
  },
  {
   "cell_type": "code",
   "execution_count": 32,
   "metadata": {},
   "outputs": [
    {
     "data": {
      "text/html": [
       "<div>\n",
       "<style scoped>\n",
       "    .dataframe tbody tr th:only-of-type {\n",
       "        vertical-align: middle;\n",
       "    }\n",
       "\n",
       "    .dataframe tbody tr th {\n",
       "        vertical-align: top;\n",
       "    }\n",
       "\n",
       "    .dataframe thead th {\n",
       "        text-align: right;\n",
       "    }\n",
       "</style>\n",
       "<table border=\"1\" class=\"dataframe\">\n",
       "  <thead>\n",
       "    <tr style=\"text-align: right;\">\n",
       "      <th></th>\n",
       "      <th>platform</th>\n",
       "      <th>platform_id</th>\n",
       "      <th>name</th>\n",
       "      <th>website</th>\n",
       "      <th>additional</th>\n",
       "      <th>votes_count</th>\n",
       "      <th>proposals_count</th>\n",
       "    </tr>\n",
       "  </thead>\n",
       "  <tbody>\n",
       "    <tr>\n",
       "      <th>0</th>\n",
       "      <td>realms</td>\n",
       "      <td>ynQy8iEbJiFuYA4Nom6j7AjV3E7mPYzz9JoMWBfsNMw</td>\n",
       "      <td>sol test</td>\n",
       "      <td>NaN</td>\n",
       "      <td>NaN</td>\n",
       "      <td>0</td>\n",
       "      <td>0</td>\n",
       "    </tr>\n",
       "    <tr>\n",
       "      <th>1</th>\n",
       "      <td>realms</td>\n",
       "      <td>2RQ9KQUJocKasNeNniAqwuDL3tPVsyxuPPtgjHgcKaYG</td>\n",
       "      <td>ckvt22w62754511zol5hax8y16</td>\n",
       "      <td>NaN</td>\n",
       "      <td>NaN</td>\n",
       "      <td>0</td>\n",
       "      <td>0</td>\n",
       "    </tr>\n",
       "    <tr>\n",
       "      <th>2</th>\n",
       "      <td>realms</td>\n",
       "      <td>BDKmQnKFJHaAtiFwwFpyzYWt4y7zHjCHkXXKhfgswymn</td>\n",
       "      <td>test 6666</td>\n",
       "      <td>NaN</td>\n",
       "      <td>NaN</td>\n",
       "      <td>0</td>\n",
       "      <td>0</td>\n",
       "    </tr>\n",
       "    <tr>\n",
       "      <th>3</th>\n",
       "      <td>realms</td>\n",
       "      <td>7ageSmQoFTanbXNMgEYb45ap7bNCc4KL2dzyYDzakXTx</td>\n",
       "      <td>Panda Patrol DAO</td>\n",
       "      <td>NaN</td>\n",
       "      <td>NaN</td>\n",
       "      <td>0</td>\n",
       "      <td>0</td>\n",
       "    </tr>\n",
       "    <tr>\n",
       "      <th>4</th>\n",
       "      <td>realms</td>\n",
       "      <td>9dab9rwkk2uPn2SBKhWuH174VpZG5pD4Jci5zveoa7ug</td>\n",
       "      <td>Bitmon Treasury DAO</td>\n",
       "      <td>NaN</td>\n",
       "      <td>NaN</td>\n",
       "      <td>0</td>\n",
       "      <td>0</td>\n",
       "    </tr>\n",
       "  </tbody>\n",
       "</table>\n",
       "</div>"
      ],
      "text/plain": [
       "  platform                                   platform_id  \\\n",
       "0   realms   ynQy8iEbJiFuYA4Nom6j7AjV3E7mPYzz9JoMWBfsNMw   \n",
       "1   realms  2RQ9KQUJocKasNeNniAqwuDL3tPVsyxuPPtgjHgcKaYG   \n",
       "2   realms  BDKmQnKFJHaAtiFwwFpyzYWt4y7zHjCHkXXKhfgswymn   \n",
       "3   realms  7ageSmQoFTanbXNMgEYb45ap7bNCc4KL2dzyYDzakXTx   \n",
       "4   realms  9dab9rwkk2uPn2SBKhWuH174VpZG5pD4Jci5zveoa7ug   \n",
       "\n",
       "                         name website additional  votes_count  proposals_count  \n",
       "0                    sol test     NaN        NaN            0                0  \n",
       "1  ckvt22w62754511zol5hax8y16     NaN        NaN            0                0  \n",
       "2                   test 6666     NaN        NaN            0                0  \n",
       "3            Panda Patrol DAO     NaN        NaN            0                0  \n",
       "4         Bitmon Treasury DAO     NaN        NaN            0                0  "
      ]
     },
     "execution_count": 32,
     "metadata": {},
     "output_type": "execute_result"
    }
   ],
   "source": [
    "# read the deployments into a single concatenated dataframe\n",
    "deployments = pd.concat([pd.read_csv(f) for f in deployments_csvs])\n",
    "deployments.head()"
   ]
  },
  {
   "cell_type": "code",
   "execution_count": 33,
   "metadata": {},
   "outputs": [
    {
     "data": {
      "text/plain": [
       "snapshot    15017\n",
       "daohaus      3528\n",
       "aragon       2386\n",
       "realms       2165\n",
       "tally         580\n",
       "daostack       58\n",
       "Name: platform, dtype: int64"
      ]
     },
     "execution_count": 33,
     "metadata": {},
     "output_type": "execute_result"
    }
   ],
   "source": [
    "# val counts of platform\n",
    "deployments['platform'].value_counts()"
   ]
  },
  {
   "cell_type": "code",
   "execution_count": 34,
   "metadata": {},
   "outputs": [
    {
     "data": {
      "text/html": [
       "<div>\n",
       "<style scoped>\n",
       "    .dataframe tbody tr th:only-of-type {\n",
       "        vertical-align: middle;\n",
       "    }\n",
       "\n",
       "    .dataframe tbody tr th {\n",
       "        vertical-align: top;\n",
       "    }\n",
       "\n",
       "    .dataframe thead th {\n",
       "        text-align: right;\n",
       "    }\n",
       "</style>\n",
       "<table border=\"1\" class=\"dataframe\">\n",
       "  <thead>\n",
       "    <tr style=\"text-align: right;\">\n",
       "      <th></th>\n",
       "      <th>deepdao_deployment_id</th>\n",
       "      <th>deepdao_organization_id</th>\n",
       "      <th>name</th>\n",
       "      <th>website</th>\n",
       "      <th>platform</th>\n",
       "      <th>platform_id_source</th>\n",
       "      <th>platform_id</th>\n",
       "    </tr>\n",
       "  </thead>\n",
       "  <tbody>\n",
       "    <tr>\n",
       "      <th>0</th>\n",
       "      <td>242e652c-9f58-4953-ba59-18c49d51cdc2</td>\n",
       "      <td>000de27d-b92a-495f-89be-554d022bb498</td>\n",
       "      <td>ZooGang Dao</td>\n",
       "      <td>https://snapshot.org/#/zoogangdao.eth</td>\n",
       "      <td>snapshot</td>\n",
       "      <td>automatic</td>\n",
       "      <td>zoogangdao.eth</td>\n",
       "    </tr>\n",
       "    <tr>\n",
       "      <th>1</th>\n",
       "      <td>d3b7fce7-4715-4ad1-a316-412b1293eaef</td>\n",
       "      <td>004799ea-ef9e-432e-ae94-55a60f754f91</td>\n",
       "      <td>rugpullindex</td>\n",
       "      <td>https://snapshot.org/#/rugpullindex.eth</td>\n",
       "      <td>snapshot</td>\n",
       "      <td>automatic</td>\n",
       "      <td>rugpullindex.eth</td>\n",
       "    </tr>\n",
       "    <tr>\n",
       "      <th>2</th>\n",
       "      <td>a1e8e3cd-3bae-4239-8586-bd62d7c0fa0c</td>\n",
       "      <td>004d7017-ab61-40d3-aa6d-b546bb3dcd86</td>\n",
       "      <td>Komet Finance</td>\n",
       "      <td>https://snapshot.org/#/komet.eth</td>\n",
       "      <td>snapshot</td>\n",
       "      <td>automatic</td>\n",
       "      <td>komet.eth</td>\n",
       "    </tr>\n",
       "    <tr>\n",
       "      <th>3</th>\n",
       "      <td>e6cecf71-58ad-43ad-a5b6-d88228f123d6</td>\n",
       "      <td>0058e059-756c-4cf0-be93-2ea101e2cbff</td>\n",
       "      <td>Nftorbit</td>\n",
       "      <td>https://snapshot.org/#/nftorbit.eth</td>\n",
       "      <td>snapshot</td>\n",
       "      <td>automatic</td>\n",
       "      <td>nftorbit.eth</td>\n",
       "    </tr>\n",
       "    <tr>\n",
       "      <th>4</th>\n",
       "      <td>1815c9c4-690c-4092-a526-4d641bf24b4e</td>\n",
       "      <td>005ea4e2-624a-46f0-a7cd-1967d95d4092</td>\n",
       "      <td>JAMM</td>\n",
       "      <td>https://snapshot.org/#/jamm</td>\n",
       "      <td>snapshot</td>\n",
       "      <td>automatic</td>\n",
       "      <td>jamm</td>\n",
       "    </tr>\n",
       "  </tbody>\n",
       "</table>\n",
       "</div>"
      ],
      "text/plain": [
       "                  deepdao_deployment_id               deepdao_organization_id  \\\n",
       "0  242e652c-9f58-4953-ba59-18c49d51cdc2  000de27d-b92a-495f-89be-554d022bb498   \n",
       "1  d3b7fce7-4715-4ad1-a316-412b1293eaef  004799ea-ef9e-432e-ae94-55a60f754f91   \n",
       "2  a1e8e3cd-3bae-4239-8586-bd62d7c0fa0c  004d7017-ab61-40d3-aa6d-b546bb3dcd86   \n",
       "3  e6cecf71-58ad-43ad-a5b6-d88228f123d6  0058e059-756c-4cf0-be93-2ea101e2cbff   \n",
       "4  1815c9c4-690c-4092-a526-4d641bf24b4e  005ea4e2-624a-46f0-a7cd-1967d95d4092   \n",
       "\n",
       "            name                                  website  platform  \\\n",
       "0    ZooGang Dao    https://snapshot.org/#/zoogangdao.eth  snapshot   \n",
       "1   rugpullindex  https://snapshot.org/#/rugpullindex.eth  snapshot   \n",
       "2  Komet Finance         https://snapshot.org/#/komet.eth  snapshot   \n",
       "3       Nftorbit      https://snapshot.org/#/nftorbit.eth  snapshot   \n",
       "4           JAMM              https://snapshot.org/#/jamm  snapshot   \n",
       "\n",
       "  platform_id_source       platform_id  \n",
       "0          automatic    zoogangdao.eth  \n",
       "1          automatic  rugpullindex.eth  \n",
       "2          automatic         komet.eth  \n",
       "3          automatic      nftorbit.eth  \n",
       "4          automatic              jamm  "
      ]
     },
     "execution_count": 34,
     "metadata": {},
     "output_type": "execute_result"
    }
   ],
   "source": [
    "# deepdao deployments\n",
    "deepdao_deployments = pd.read_csv('deepdao_deployments_by_platform_with_platform_ids.csv')\n",
    "deepdao_deployments.head()"
   ]
  },
  {
   "cell_type": "markdown",
   "metadata": {},
   "source": [
    "# begin analysis"
   ]
  },
  {
   "cell_type": "code",
   "execution_count": 35,
   "metadata": {},
   "outputs": [
    {
     "data": {
      "text/html": [
       "<div>\n",
       "<style scoped>\n",
       "    .dataframe tbody tr th:only-of-type {\n",
       "        vertical-align: middle;\n",
       "    }\n",
       "\n",
       "    .dataframe tbody tr th {\n",
       "        vertical-align: top;\n",
       "    }\n",
       "\n",
       "    .dataframe thead th {\n",
       "        text-align: right;\n",
       "    }\n",
       "</style>\n",
       "<table border=\"1\" class=\"dataframe\">\n",
       "  <thead>\n",
       "    <tr style=\"text-align: right;\">\n",
       "      <th></th>\n",
       "      <th>platform_id</th>\n",
       "      <th>platform</th>\n",
       "      <th>platform_id_source</th>\n",
       "      <th>deepdao_organization_id</th>\n",
       "    </tr>\n",
       "  </thead>\n",
       "  <tbody>\n",
       "    <tr>\n",
       "      <th>0</th>\n",
       "      <td>zoogangdao.eth</td>\n",
       "      <td>snapshot</td>\n",
       "      <td>automatic</td>\n",
       "      <td>000de27d-b92a-495f-89be-554d022bb498</td>\n",
       "    </tr>\n",
       "    <tr>\n",
       "      <th>1</th>\n",
       "      <td>rugpullindex.eth</td>\n",
       "      <td>snapshot</td>\n",
       "      <td>automatic</td>\n",
       "      <td>004799ea-ef9e-432e-ae94-55a60f754f91</td>\n",
       "    </tr>\n",
       "    <tr>\n",
       "      <th>2</th>\n",
       "      <td>komet.eth</td>\n",
       "      <td>snapshot</td>\n",
       "      <td>automatic</td>\n",
       "      <td>004d7017-ab61-40d3-aa6d-b546bb3dcd86</td>\n",
       "    </tr>\n",
       "    <tr>\n",
       "      <th>3</th>\n",
       "      <td>nftorbit.eth</td>\n",
       "      <td>snapshot</td>\n",
       "      <td>automatic</td>\n",
       "      <td>0058e059-756c-4cf0-be93-2ea101e2cbff</td>\n",
       "    </tr>\n",
       "    <tr>\n",
       "      <th>4</th>\n",
       "      <td>jamm</td>\n",
       "      <td>snapshot</td>\n",
       "      <td>automatic</td>\n",
       "      <td>005ea4e2-624a-46f0-a7cd-1967d95d4092</td>\n",
       "    </tr>\n",
       "  </tbody>\n",
       "</table>\n",
       "</div>"
      ],
      "text/plain": [
       "        platform_id  platform platform_id_source  \\\n",
       "0    zoogangdao.eth  snapshot          automatic   \n",
       "1  rugpullindex.eth  snapshot          automatic   \n",
       "2         komet.eth  snapshot          automatic   \n",
       "3      nftorbit.eth  snapshot          automatic   \n",
       "4              jamm  snapshot          automatic   \n",
       "\n",
       "                deepdao_organization_id  \n",
       "0  000de27d-b92a-495f-89be-554d022bb498  \n",
       "1  004799ea-ef9e-432e-ae94-55a60f754f91  \n",
       "2  004d7017-ab61-40d3-aa6d-b546bb3dcd86  \n",
       "3  0058e059-756c-4cf0-be93-2ea101e2cbff  \n",
       "4  005ea4e2-624a-46f0-a7cd-1967d95d4092  "
      ]
     },
     "execution_count": 35,
     "metadata": {},
     "output_type": "execute_result"
    }
   ],
   "source": [
    "deepdao_deployments_to_merge = deepdao_deployments[['platform_id', 'platform', 'platform_id_source', 'deepdao_organization_id']]\n",
    "deepdao_deployments_to_merge.head()"
   ]
  },
  {
   "cell_type": "code",
   "execution_count": 36,
   "metadata": {},
   "outputs": [],
   "source": [
    "# remove duplicate combos of platform and platform_id\n",
    "deepdao_deployments_to_merge = deepdao_deployments_to_merge.drop_duplicates(['platform', 'platform_id'])"
   ]
  },
  {
   "cell_type": "code",
   "execution_count": 37,
   "metadata": {},
   "outputs": [
    {
     "data": {
      "text/plain": [
       "(23734, 7)"
      ]
     },
     "execution_count": 37,
     "metadata": {},
     "output_type": "execute_result"
    }
   ],
   "source": [
    "deployments.shape"
   ]
  },
  {
   "cell_type": "code",
   "execution_count": 38,
   "metadata": {},
   "outputs": [
    {
     "data": {
      "text/plain": [
       "(23721, 7)"
      ]
     },
     "execution_count": 38,
     "metadata": {},
     "output_type": "execute_result"
    }
   ],
   "source": [
    "deployments.drop_duplicates(['platform', 'platform_id']).shape"
   ]
  },
  {
   "cell_type": "code",
   "execution_count": 39,
   "metadata": {},
   "outputs": [],
   "source": [
    "# drop duplicates\n",
    "deployments = deployments.drop_duplicates(['platform', 'platform_id'])"
   ]
  },
  {
   "cell_type": "code",
   "execution_count": 40,
   "metadata": {},
   "outputs": [
    {
     "data": {
      "text/html": [
       "<div>\n",
       "<style scoped>\n",
       "    .dataframe tbody tr th:only-of-type {\n",
       "        vertical-align: middle;\n",
       "    }\n",
       "\n",
       "    .dataframe tbody tr th {\n",
       "        vertical-align: top;\n",
       "    }\n",
       "\n",
       "    .dataframe thead th {\n",
       "        text-align: right;\n",
       "    }\n",
       "</style>\n",
       "<table border=\"1\" class=\"dataframe\">\n",
       "  <thead>\n",
       "    <tr style=\"text-align: right;\">\n",
       "      <th></th>\n",
       "      <th>platform</th>\n",
       "      <th>platform_id</th>\n",
       "      <th>name</th>\n",
       "      <th>website</th>\n",
       "      <th>additional</th>\n",
       "      <th>votes_count</th>\n",
       "      <th>proposals_count</th>\n",
       "      <th>platform_id_source</th>\n",
       "      <th>deepdao_organization_id</th>\n",
       "    </tr>\n",
       "  </thead>\n",
       "  <tbody>\n",
       "    <tr>\n",
       "      <th>0</th>\n",
       "      <td>realms</td>\n",
       "      <td>ynQy8iEbJiFuYA4Nom6j7AjV3E7mPYzz9JoMWBfsNMw</td>\n",
       "      <td>sol test</td>\n",
       "      <td>NaN</td>\n",
       "      <td>NaN</td>\n",
       "      <td>0</td>\n",
       "      <td>0</td>\n",
       "      <td>NaN</td>\n",
       "      <td>NaN</td>\n",
       "    </tr>\n",
       "    <tr>\n",
       "      <th>1</th>\n",
       "      <td>realms</td>\n",
       "      <td>2RQ9KQUJocKasNeNniAqwuDL3tPVsyxuPPtgjHgcKaYG</td>\n",
       "      <td>ckvt22w62754511zol5hax8y16</td>\n",
       "      <td>NaN</td>\n",
       "      <td>NaN</td>\n",
       "      <td>0</td>\n",
       "      <td>0</td>\n",
       "      <td>NaN</td>\n",
       "      <td>NaN</td>\n",
       "    </tr>\n",
       "    <tr>\n",
       "      <th>2</th>\n",
       "      <td>realms</td>\n",
       "      <td>BDKmQnKFJHaAtiFwwFpyzYWt4y7zHjCHkXXKhfgswymn</td>\n",
       "      <td>test 6666</td>\n",
       "      <td>NaN</td>\n",
       "      <td>NaN</td>\n",
       "      <td>0</td>\n",
       "      <td>0</td>\n",
       "      <td>NaN</td>\n",
       "      <td>NaN</td>\n",
       "    </tr>\n",
       "    <tr>\n",
       "      <th>3</th>\n",
       "      <td>realms</td>\n",
       "      <td>7ageSmQoFTanbXNMgEYb45ap7bNCc4KL2dzyYDzakXTx</td>\n",
       "      <td>Panda Patrol DAO</td>\n",
       "      <td>NaN</td>\n",
       "      <td>NaN</td>\n",
       "      <td>0</td>\n",
       "      <td>0</td>\n",
       "      <td>NaN</td>\n",
       "      <td>NaN</td>\n",
       "    </tr>\n",
       "    <tr>\n",
       "      <th>4</th>\n",
       "      <td>realms</td>\n",
       "      <td>9dab9rwkk2uPn2SBKhWuH174VpZG5pD4Jci5zveoa7ug</td>\n",
       "      <td>Bitmon Treasury DAO</td>\n",
       "      <td>NaN</td>\n",
       "      <td>NaN</td>\n",
       "      <td>0</td>\n",
       "      <td>0</td>\n",
       "      <td>NaN</td>\n",
       "      <td>NaN</td>\n",
       "    </tr>\n",
       "  </tbody>\n",
       "</table>\n",
       "</div>"
      ],
      "text/plain": [
       "  platform                                   platform_id  \\\n",
       "0   realms   ynQy8iEbJiFuYA4Nom6j7AjV3E7mPYzz9JoMWBfsNMw   \n",
       "1   realms  2RQ9KQUJocKasNeNniAqwuDL3tPVsyxuPPtgjHgcKaYG   \n",
       "2   realms  BDKmQnKFJHaAtiFwwFpyzYWt4y7zHjCHkXXKhfgswymn   \n",
       "3   realms  7ageSmQoFTanbXNMgEYb45ap7bNCc4KL2dzyYDzakXTx   \n",
       "4   realms  9dab9rwkk2uPn2SBKhWuH174VpZG5pD4Jci5zveoa7ug   \n",
       "\n",
       "                         name website additional  votes_count  \\\n",
       "0                    sol test     NaN        NaN            0   \n",
       "1  ckvt22w62754511zol5hax8y16     NaN        NaN            0   \n",
       "2                   test 6666     NaN        NaN            0   \n",
       "3            Panda Patrol DAO     NaN        NaN            0   \n",
       "4         Bitmon Treasury DAO     NaN        NaN            0   \n",
       "\n",
       "   proposals_count platform_id_source deepdao_organization_id  \n",
       "0                0                NaN                     NaN  \n",
       "1                0                NaN                     NaN  \n",
       "2                0                NaN                     NaN  \n",
       "3                0                NaN                     NaN  \n",
       "4                0                NaN                     NaN  "
      ]
     },
     "execution_count": 40,
     "metadata": {},
     "output_type": "execute_result"
    }
   ],
   "source": [
    "deployments_with_deepdao = pd.merge(deployments, deepdao_deployments_to_merge, on=['platform', 'platform_id'], how='left', validate='1:1')\n",
    "deployments_with_deepdao.head()"
   ]
  },
  {
   "cell_type": "code",
   "execution_count": 41,
   "metadata": {},
   "outputs": [
    {
     "data": {
      "text/plain": [
       "False    21791\n",
       "True      1930\n",
       "Name: deepdao_organization_id, dtype: int64"
      ]
     },
     "execution_count": 41,
     "metadata": {},
     "output_type": "execute_result"
    }
   ],
   "source": [
    "# count number of deployments with deepdao\n",
    "deployments_with_deepdao['deepdao_organization_id'].notnull().value_counts()"
   ]
  },
  {
   "cell_type": "markdown",
   "metadata": {},
   "source": [
    "## only the deepdao orgs..."
   ]
  },
  {
   "cell_type": "code",
   "execution_count": 42,
   "metadata": {},
   "outputs": [
    {
     "data": {
      "text/html": [
       "<div>\n",
       "<style scoped>\n",
       "    .dataframe tbody tr th:only-of-type {\n",
       "        vertical-align: middle;\n",
       "    }\n",
       "\n",
       "    .dataframe tbody tr th {\n",
       "        vertical-align: top;\n",
       "    }\n",
       "\n",
       "    .dataframe thead th {\n",
       "        text-align: right;\n",
       "    }\n",
       "</style>\n",
       "<table border=\"1\" class=\"dataframe\">\n",
       "  <thead>\n",
       "    <tr style=\"text-align: right;\">\n",
       "      <th></th>\n",
       "      <th>platform</th>\n",
       "      <th>platform_id</th>\n",
       "      <th>name</th>\n",
       "      <th>website</th>\n",
       "      <th>additional</th>\n",
       "      <th>votes_count</th>\n",
       "      <th>proposals_count</th>\n",
       "      <th>platform_id_source</th>\n",
       "      <th>deepdao_organization_id</th>\n",
       "    </tr>\n",
       "  </thead>\n",
       "  <tbody>\n",
       "    <tr>\n",
       "      <th>11</th>\n",
       "      <td>realms</td>\n",
       "      <td>GBXLYo4ycRNfzuzYeudu6y2ng4afNeW14WcpM2E4JJSL</td>\n",
       "      <td>UXDProtocol</td>\n",
       "      <td>NaN</td>\n",
       "      <td>NaN</td>\n",
       "      <td>0</td>\n",
       "      <td>898</td>\n",
       "      <td>https://app.realms.today/dao/GBXLYo4ycRNfzuzYe...</td>\n",
       "      <td>b84755f3-f21f-4290-9d56-af77e9060690</td>\n",
       "    </tr>\n",
       "    <tr>\n",
       "      <th>20</th>\n",
       "      <td>realms</td>\n",
       "      <td>EPB9JbK5NiHoHkrRmpo9v4oJ2bKSVjfA731jeBModC1e</td>\n",
       "      <td>metaCOLLECTIVE</td>\n",
       "      <td>NaN</td>\n",
       "      <td>NaN</td>\n",
       "      <td>0</td>\n",
       "      <td>108</td>\n",
       "      <td>https://app.realms.today/dao/EPB9JbK5NiHoHkrRm...</td>\n",
       "      <td>f80d6ddf-ab0a-468a-a9e2-863dfa403f7f</td>\n",
       "    </tr>\n",
       "    <tr>\n",
       "      <th>22</th>\n",
       "      <td>realms</td>\n",
       "      <td>Dn5yLFi6ZNhkD25CX4c8qq1MV3CC2vcrH2Qujfzy22rT</td>\n",
       "      <td>21DAO</td>\n",
       "      <td>NaN</td>\n",
       "      <td>NaN</td>\n",
       "      <td>0</td>\n",
       "      <td>59</td>\n",
       "      <td>https://app.realms.today/dao/Dn5yLFi6ZNhkD25CX...</td>\n",
       "      <td>e82dae06-27ba-4c15-89ec-24530beb1737</td>\n",
       "    </tr>\n",
       "    <tr>\n",
       "      <th>31</th>\n",
       "      <td>realms</td>\n",
       "      <td>3WZ9nP9KT7KSdfjL9acovwdmTMFmW5of946Sxt2LwnaY</td>\n",
       "      <td>Lido</td>\n",
       "      <td>NaN</td>\n",
       "      <td>NaN</td>\n",
       "      <td>512</td>\n",
       "      <td>250</td>\n",
       "      <td>https://app.realms.today/dao/3WZ9nP9KT7KSdfjL9...</td>\n",
       "      <td>fd991dca-141d-4e23-a23b-5d908110c337</td>\n",
       "    </tr>\n",
       "    <tr>\n",
       "      <th>34</th>\n",
       "      <td>realms</td>\n",
       "      <td>97jKDX5Uxh5xSPbmmfhiFodHEajSVdKkknTzzgf8GBAr</td>\n",
       "      <td>MonkeVentures</td>\n",
       "      <td>NaN</td>\n",
       "      <td>NaN</td>\n",
       "      <td>0</td>\n",
       "      <td>53</td>\n",
       "      <td>https://app.realms.today/dao/97jKDX5Uxh5xSPbmm...</td>\n",
       "      <td>83d7c45b-b20b-4255-80b8-8344298e1c36</td>\n",
       "    </tr>\n",
       "  </tbody>\n",
       "</table>\n",
       "</div>"
      ],
      "text/plain": [
       "   platform                                   platform_id            name  \\\n",
       "11   realms  GBXLYo4ycRNfzuzYeudu6y2ng4afNeW14WcpM2E4JJSL     UXDProtocol   \n",
       "20   realms  EPB9JbK5NiHoHkrRmpo9v4oJ2bKSVjfA731jeBModC1e  metaCOLLECTIVE   \n",
       "22   realms  Dn5yLFi6ZNhkD25CX4c8qq1MV3CC2vcrH2Qujfzy22rT           21DAO   \n",
       "31   realms  3WZ9nP9KT7KSdfjL9acovwdmTMFmW5of946Sxt2LwnaY            Lido   \n",
       "34   realms  97jKDX5Uxh5xSPbmmfhiFodHEajSVdKkknTzzgf8GBAr   MonkeVentures   \n",
       "\n",
       "   website additional  votes_count  proposals_count  \\\n",
       "11     NaN        NaN            0              898   \n",
       "20     NaN        NaN            0              108   \n",
       "22     NaN        NaN            0               59   \n",
       "31     NaN        NaN          512              250   \n",
       "34     NaN        NaN            0               53   \n",
       "\n",
       "                                   platform_id_source  \\\n",
       "11  https://app.realms.today/dao/GBXLYo4ycRNfzuzYe...   \n",
       "20  https://app.realms.today/dao/EPB9JbK5NiHoHkrRm...   \n",
       "22  https://app.realms.today/dao/Dn5yLFi6ZNhkD25CX...   \n",
       "31  https://app.realms.today/dao/3WZ9nP9KT7KSdfjL9...   \n",
       "34  https://app.realms.today/dao/97jKDX5Uxh5xSPbmm...   \n",
       "\n",
       "                 deepdao_organization_id  \n",
       "11  b84755f3-f21f-4290-9d56-af77e9060690  \n",
       "20  f80d6ddf-ab0a-468a-a9e2-863dfa403f7f  \n",
       "22  e82dae06-27ba-4c15-89ec-24530beb1737  \n",
       "31  fd991dca-141d-4e23-a23b-5d908110c337  \n",
       "34  83d7c45b-b20b-4255-80b8-8344298e1c36  "
      ]
     },
     "execution_count": 42,
     "metadata": {},
     "output_type": "execute_result"
    }
   ],
   "source": [
    "deployments_on_deepdao = deployments_with_deepdao[deployments_with_deepdao['deepdao_organization_id'].notnull()]\n",
    "deployments_on_deepdao.head()"
   ]
  },
  {
   "cell_type": "code",
   "execution_count": 43,
   "metadata": {},
   "outputs": [
    {
     "data": {
      "text/plain": [
       "(1930, 9)"
      ]
     },
     "execution_count": 43,
     "metadata": {},
     "output_type": "execute_result"
    }
   ],
   "source": [
    "deployments_on_deepdao.shape\n",
    "# 1930 deployments on deepdao"
   ]
  },
  {
   "cell_type": "code",
   "execution_count": 44,
   "metadata": {},
   "outputs": [
    {
     "data": {
      "text/plain": [
       "<Axes: >"
      ]
     },
     "execution_count": 44,
     "metadata": {},
     "output_type": "execute_result"
    },
    {
     "data": {
      "image/png": "[encoded data removed]",
      "text/plain": [
       "<Figure size 640x480 with 1 Axes>"
      ]
     },
     "metadata": {},
     "output_type": "display_data"
    }
   ],
   "source": [
    "# hist of platform\n",
    "deployments_on_deepdao['platform'].value_counts().plot(kind='bar', logy=True)"
   ]
  },
  {
   "cell_type": "code",
   "execution_count": 45,
   "metadata": {},
   "outputs": [
    {
     "data": {
      "text/plain": [
       "(1805,)"
      ]
     },
     "execution_count": 45,
     "metadata": {},
     "output_type": "execute_result"
    }
   ],
   "source": [
    "deployments_on_deepdao.groupby('deepdao_organization_id').size().shape\n",
    "# 1805 organizations on deepdao"
   ]
  },
  {
   "cell_type": "code",
   "execution_count": 46,
   "metadata": {},
   "outputs": [
    {
     "data": {
      "text/plain": [
       "<Axes: >"
      ]
     },
     "execution_count": 46,
     "metadata": {},
     "output_type": "execute_result"
    },
    {
     "data": {
      "image/png": "[encoded data removed]",
      "text/plain": [
       "<Figure size 640x480 with 1 Axes>"
      ]
     },
     "metadata": {},
     "output_type": "display_data"
    }
   ],
   "source": [
    "deployments_on_deepdao.groupby('deepdao_organization_id').size().hist(log=True)\n",
    "# basically all have only 1 deployment"
   ]
  },
  {
   "cell_type": "markdown",
   "metadata": {},
   "source": [
    "## only the non-deepdao orgs..."
   ]
  },
  {
   "cell_type": "code",
   "execution_count": 47,
   "metadata": {},
   "outputs": [
    {
     "data": {
      "text/html": [
       "<div>\n",
       "<style scoped>\n",
       "    .dataframe tbody tr th:only-of-type {\n",
       "        vertical-align: middle;\n",
       "    }\n",
       "\n",
       "    .dataframe tbody tr th {\n",
       "        vertical-align: top;\n",
       "    }\n",
       "\n",
       "    .dataframe thead th {\n",
       "        text-align: right;\n",
       "    }\n",
       "</style>\n",
       "<table border=\"1\" class=\"dataframe\">\n",
       "  <thead>\n",
       "    <tr style=\"text-align: right;\">\n",
       "      <th></th>\n",
       "      <th>platform</th>\n",
       "      <th>platform_id</th>\n",
       "      <th>name</th>\n",
       "      <th>website</th>\n",
       "      <th>additional</th>\n",
       "      <th>votes_count</th>\n",
       "      <th>proposals_count</th>\n",
       "      <th>platform_id_source</th>\n",
       "      <th>deepdao_organization_id</th>\n",
       "    </tr>\n",
       "  </thead>\n",
       "  <tbody>\n",
       "    <tr>\n",
       "      <th>0</th>\n",
       "      <td>realms</td>\n",
       "      <td>ynQy8iEbJiFuYA4Nom6j7AjV3E7mPYzz9JoMWBfsNMw</td>\n",
       "      <td>sol test</td>\n",
       "      <td>NaN</td>\n",
       "      <td>NaN</td>\n",
       "      <td>0</td>\n",
       "      <td>0</td>\n",
       "      <td>NaN</td>\n",
       "      <td>NaN</td>\n",
       "    </tr>\n",
       "    <tr>\n",
       "      <th>1</th>\n",
       "      <td>realms</td>\n",
       "      <td>2RQ9KQUJocKasNeNniAqwuDL3tPVsyxuPPtgjHgcKaYG</td>\n",
       "      <td>ckvt22w62754511zol5hax8y16</td>\n",
       "      <td>NaN</td>\n",
       "      <td>NaN</td>\n",
       "      <td>0</td>\n",
       "      <td>0</td>\n",
       "      <td>NaN</td>\n",
       "      <td>NaN</td>\n",
       "    </tr>\n",
       "    <tr>\n",
       "      <th>2</th>\n",
       "      <td>realms</td>\n",
       "      <td>BDKmQnKFJHaAtiFwwFpyzYWt4y7zHjCHkXXKhfgswymn</td>\n",
       "      <td>test 6666</td>\n",
       "      <td>NaN</td>\n",
       "      <td>NaN</td>\n",
       "      <td>0</td>\n",
       "      <td>0</td>\n",
       "      <td>NaN</td>\n",
       "      <td>NaN</td>\n",
       "    </tr>\n",
       "    <tr>\n",
       "      <th>3</th>\n",
       "      <td>realms</td>\n",
       "      <td>7ageSmQoFTanbXNMgEYb45ap7bNCc4KL2dzyYDzakXTx</td>\n",
       "      <td>Panda Patrol DAO</td>\n",
       "      <td>NaN</td>\n",
       "      <td>NaN</td>\n",
       "      <td>0</td>\n",
       "      <td>0</td>\n",
       "      <td>NaN</td>\n",
       "      <td>NaN</td>\n",
       "    </tr>\n",
       "    <tr>\n",
       "      <th>4</th>\n",
       "      <td>realms</td>\n",
       "      <td>9dab9rwkk2uPn2SBKhWuH174VpZG5pD4Jci5zveoa7ug</td>\n",
       "      <td>Bitmon Treasury DAO</td>\n",
       "      <td>NaN</td>\n",
       "      <td>NaN</td>\n",
       "      <td>0</td>\n",
       "      <td>0</td>\n",
       "      <td>NaN</td>\n",
       "      <td>NaN</td>\n",
       "    </tr>\n",
       "  </tbody>\n",
       "</table>\n",
       "</div>"
      ],
      "text/plain": [
       "  platform                                   platform_id  \\\n",
       "0   realms   ynQy8iEbJiFuYA4Nom6j7AjV3E7mPYzz9JoMWBfsNMw   \n",
       "1   realms  2RQ9KQUJocKasNeNniAqwuDL3tPVsyxuPPtgjHgcKaYG   \n",
       "2   realms  BDKmQnKFJHaAtiFwwFpyzYWt4y7zHjCHkXXKhfgswymn   \n",
       "3   realms  7ageSmQoFTanbXNMgEYb45ap7bNCc4KL2dzyYDzakXTx   \n",
       "4   realms  9dab9rwkk2uPn2SBKhWuH174VpZG5pD4Jci5zveoa7ug   \n",
       "\n",
       "                         name website additional  votes_count  \\\n",
       "0                    sol test     NaN        NaN            0   \n",
       "1  ckvt22w62754511zol5hax8y16     NaN        NaN            0   \n",
       "2                   test 6666     NaN        NaN            0   \n",
       "3            Panda Patrol DAO     NaN        NaN            0   \n",
       "4         Bitmon Treasury DAO     NaN        NaN            0   \n",
       "\n",
       "   proposals_count platform_id_source deepdao_organization_id  \n",
       "0                0                NaN                     NaN  \n",
       "1                0                NaN                     NaN  \n",
       "2                0                NaN                     NaN  \n",
       "3                0                NaN                     NaN  \n",
       "4                0                NaN                     NaN  "
      ]
     },
     "execution_count": 47,
     "metadata": {},
     "output_type": "execute_result"
    }
   ],
   "source": [
    "deployments_not_on_deepdao = deployments_with_deepdao[deployments_with_deepdao['deepdao_organization_id'].isnull()]\n",
    "deployments_not_on_deepdao.head()"
   ]
  },
  {
   "cell_type": "code",
   "execution_count": 48,
   "metadata": {},
   "outputs": [],
   "source": [
    "import pandas as pd\n",
    "from sentence_transformers import SentenceTransformer"
   ]
  },
  {
   "cell_type": "code",
   "execution_count": 49,
   "metadata": {},
   "outputs": [],
   "source": [
    "# transform name column\n",
    "model = SentenceTransformer('sentence-transformers/all-MiniLM-L6-v2')\n",
    "# https://huggingface.co/sentence-transformers/all-MiniLM-L6-v2"
   ]
  },
  {
   "cell_type": "code",
   "execution_count": 50,
   "metadata": {},
   "outputs": [
    {
     "data": {
      "text/plain": [
       "True     18659\n",
       "False     3132\n",
       "Name: name, dtype: int64"
      ]
     },
     "execution_count": 50,
     "metadata": {},
     "output_type": "execute_result"
    }
   ],
   "source": [
    "deployments_not_on_deepdao['name'].notna().value_counts()"
   ]
  },
  {
   "cell_type": "code",
   "execution_count": 51,
   "metadata": {},
   "outputs": [
    {
     "data": {
      "text/plain": [
       "17516"
      ]
     },
     "execution_count": 51,
     "metadata": {},
     "output_type": "execute_result"
    }
   ],
   "source": [
    "deployments_not_on_deepdao_names = deployments_not_on_deepdao[deployments_not_on_deepdao['name'].notna()]['name']\n",
    "deployments_not_on_deepdao_names = deployments_not_on_deepdao_names.drop_duplicates().to_list()\n",
    "len(deployments_not_on_deepdao_names)"
   ]
  },
  {
   "cell_type": "code",
   "execution_count": null,
   "metadata": {},
   "outputs": [
    {
     "name": "stderr",
     "output_type": "stream",
     "text": [
      "/var/folders/yn/b6240_995k3gl4vwtnbzzy480000gq/T/ipykernel_9020/3285566627.py:3: SettingWithCopyWarning: \n",
      "A value is trying to be set on a copy of a slice from a DataFrame.\n",
      "Try using .loc[row_indexer,col_indexer] = value instead\n",
      "\n",
      "See the caveats in the documentation: https://pandas.pydata.org/pandas-docs/stable/user_guide/indexing.html#returning-a-view-versus-a-copy\n",
      "  deployments_not_on_deepdao['id'] = deployments_not_on_deepdao.apply(lambda x: uuid.uuid5(uuid.NAMESPACE_DNS, f\"{x['platform']}:{x['platform_id']}\"), axis=1)\n"
     ]
    }
   ],
   "source": [
    "# add an id column that's a uuid hash of the platform and platform_id\n",
    "import uuid\n",
    "deployments_not_on_deepdao['id'] = deployments_not_on_deepdao.apply(lambda x: uuid.uuid5(uuid.NAMESPACE_DNS, f\"{x['platform']}:{x['platform_id']}\"), axis=1)"
   ]
  },
  {
   "cell_type": "code",
   "execution_count": 110,
   "metadata": {},
   "outputs": [],
   "source": [
    "deployments_not_on_deepdao_ids = deployments_not_on_deepdao['id'].to_list()"
   ]
  },
  {
   "cell_type": "code",
   "execution_count": 111,
   "metadata": {},
   "outputs": [
    {
     "ename": "NameError",
     "evalue": "name 'embeddings' is not defined",
     "output_type": "error",
     "traceback": [
      "\u001b[0;31m---------------------------------------------------------------------------\u001b[0m",
      "\u001b[0;31mNameError\u001b[0m                                 Traceback (most recent call last)",
      "Cell \u001b[0;32mIn[111], line 3\u001b[0m\n\u001b[1;32m      1\u001b[0m \u001b[39m# # make a df with a column for the name and a column for the embedding\u001b[39;00m\n\u001b[1;32m      2\u001b[0m deployments_not_on_deepdao_ids_and_embeddings \u001b[39m=\u001b[39m pd\u001b[39m.\u001b[39mDataFrame({\u001b[39m'\u001b[39m\u001b[39mid\u001b[39m\u001b[39m'\u001b[39m: deployments_not_on_deepdao_ids})\n\u001b[0;32m----> 3\u001b[0m deployments_not_on_deepdao_ids_and_embeddings[\u001b[39m'\u001b[39m\u001b[39mname_embedding\u001b[39m\u001b[39m'\u001b[39m] \u001b[39m=\u001b[39m [e \u001b[39mfor\u001b[39;00m e \u001b[39min\u001b[39;00m embeddings]\n\u001b[1;32m      4\u001b[0m \u001b[39m# # save as pickle\u001b[39;00m\n\u001b[1;32m      5\u001b[0m deployments_not_on_deepdao_ids_and_embeddings\u001b[39m.\u001b[39mto_pickle(\u001b[39m'\u001b[39m\u001b[39mdeployments_not_on_deepdao_ids_and_embeddings.pkl\u001b[39m\u001b[39m'\u001b[39m)\n",
      "\u001b[0;31mNameError\u001b[0m: name 'embeddings' is not defined"
     ]
    }
   ],
   "source": [
    "# # make a df with a column for the name and a column for the embedding\n",
    "deployments_not_on_deepdao_ids_and_embeddings = pd.DataFrame({'id': deployments_not_on_deepdao_ids})\n",
    "deployments_not_on_deepdao_ids_and_embeddings['name_embedding'] = [e for e in embeddings]\n",
    "# # save as pickle\n",
    "deployments_not_on_deepdao_ids_and_embeddings.to_pickle('deployments_not_on_deepdao_ids_and_embeddings.pkl')\n",
    "# read pickle\n",
    "deployments_not_on_deepdao_ids_and_embeddings = pd.read_pickle('deployments_not_on_deepdao_ids_and_embeddings.pkl')\n",
    "deployments_not_on_deepdao_ids_and_embeddings.head()"
   ]
  },
  {
   "cell_type": "code",
   "execution_count": null,
   "metadata": {},
   "outputs": [
    {
     "data": {
      "text/html": [
       "<div>\n",
       "<style scoped>\n",
       "    .dataframe tbody tr th:only-of-type {\n",
       "        vertical-align: middle;\n",
       "    }\n",
       "\n",
       "    .dataframe tbody tr th {\n",
       "        vertical-align: top;\n",
       "    }\n",
       "\n",
       "    .dataframe thead th {\n",
       "        text-align: right;\n",
       "    }\n",
       "</style>\n",
       "<table border=\"1\" class=\"dataframe\">\n",
       "  <thead>\n",
       "    <tr style=\"text-align: right;\">\n",
       "      <th></th>\n",
       "      <th>platform</th>\n",
       "      <th>platform_id</th>\n",
       "      <th>name</th>\n",
       "      <th>id</th>\n",
       "    </tr>\n",
       "  </thead>\n",
       "  <tbody>\n",
       "    <tr>\n",
       "      <th>0</th>\n",
       "      <td>realms</td>\n",
       "      <td>ynQy8iEbJiFuYA4Nom6j7AjV3E7mPYzz9JoMWBfsNMw</td>\n",
       "      <td>sol test</td>\n",
       "      <td>d07997f5-6ecd-53d5-9adb-d67e494e2a07</td>\n",
       "    </tr>\n",
       "    <tr>\n",
       "      <th>1</th>\n",
       "      <td>realms</td>\n",
       "      <td>2RQ9KQUJocKasNeNniAqwuDL3tPVsyxuPPtgjHgcKaYG</td>\n",
       "      <td>ckvt22w62754511zol5hax8y16</td>\n",
       "      <td>5bd17ba9-a2c5-5e4d-83f6-562cbebe3161</td>\n",
       "    </tr>\n",
       "    <tr>\n",
       "      <th>2</th>\n",
       "      <td>realms</td>\n",
       "      <td>BDKmQnKFJHaAtiFwwFpyzYWt4y7zHjCHkXXKhfgswymn</td>\n",
       "      <td>test 6666</td>\n",
       "      <td>15baea14-a757-51ac-a7f6-af98a75175b4</td>\n",
       "    </tr>\n",
       "    <tr>\n",
       "      <th>3</th>\n",
       "      <td>realms</td>\n",
       "      <td>7ageSmQoFTanbXNMgEYb45ap7bNCc4KL2dzyYDzakXTx</td>\n",
       "      <td>Panda Patrol DAO</td>\n",
       "      <td>7bf65b50-6c89-5477-ba10-1e3cf06848c1</td>\n",
       "    </tr>\n",
       "    <tr>\n",
       "      <th>4</th>\n",
       "      <td>realms</td>\n",
       "      <td>9dab9rwkk2uPn2SBKhWuH174VpZG5pD4Jci5zveoa7ug</td>\n",
       "      <td>Bitmon Treasury DAO</td>\n",
       "      <td>02c85106-2baf-555f-b440-b5ad2063653d</td>\n",
       "    </tr>\n",
       "  </tbody>\n",
       "</table>\n",
       "</div>"
      ],
      "text/plain": [
       "  platform                                   platform_id  \\\n",
       "0   realms   ynQy8iEbJiFuYA4Nom6j7AjV3E7mPYzz9JoMWBfsNMw   \n",
       "1   realms  2RQ9KQUJocKasNeNniAqwuDL3tPVsyxuPPtgjHgcKaYG   \n",
       "2   realms  BDKmQnKFJHaAtiFwwFpyzYWt4y7zHjCHkXXKhfgswymn   \n",
       "3   realms  7ageSmQoFTanbXNMgEYb45ap7bNCc4KL2dzyYDzakXTx   \n",
       "4   realms  9dab9rwkk2uPn2SBKhWuH174VpZG5pD4Jci5zveoa7ug   \n",
       "\n",
       "                         name                                    id  \n",
       "0                    sol test  d07997f5-6ecd-53d5-9adb-d67e494e2a07  \n",
       "1  ckvt22w62754511zol5hax8y16  5bd17ba9-a2c5-5e4d-83f6-562cbebe3161  \n",
       "2                   test 6666  15baea14-a757-51ac-a7f6-af98a75175b4  \n",
       "3            Panda Patrol DAO  7bf65b50-6c89-5477-ba10-1e3cf06848c1  \n",
       "4         Bitmon Treasury DAO  02c85106-2baf-555f-b440-b5ad2063653d  "
      ]
     },
     "execution_count": 106,
     "metadata": {},
     "output_type": "execute_result"
    }
   ],
   "source": [
    "pre_merge_deployments_df = deployments_not_on_deepdao[['platform', 'platform_id', 'name', 'id']]\n",
    "# drop nan names\n",
    "pre_merge_deployments_df = pre_merge_deployments_df[pre_merge_deployments_df['name'].notna()]\n",
    "pre_merge_deployments_df.head()"
   ]
  },
  {
   "cell_type": "code",
   "execution_count": null,
   "metadata": {},
   "outputs": [
    {
     "data": {
      "text/html": [
       "<div>\n",
       "<style scoped>\n",
       "    .dataframe tbody tr th:only-of-type {\n",
       "        vertical-align: middle;\n",
       "    }\n",
       "\n",
       "    .dataframe tbody tr th {\n",
       "        vertical-align: top;\n",
       "    }\n",
       "\n",
       "    .dataframe thead th {\n",
       "        text-align: right;\n",
       "    }\n",
       "</style>\n",
       "<table border=\"1\" class=\"dataframe\">\n",
       "  <thead>\n",
       "    <tr style=\"text-align: right;\">\n",
       "      <th></th>\n",
       "      <th>platform</th>\n",
       "      <th>platform_id</th>\n",
       "      <th>name</th>\n",
       "      <th>id</th>\n",
       "    </tr>\n",
       "  </thead>\n",
       "  <tbody>\n",
       "    <tr>\n",
       "      <th>0</th>\n",
       "      <td>realms</td>\n",
       "      <td>ynQy8iEbJiFuYA4Nom6j7AjV3E7mPYzz9JoMWBfsNMw</td>\n",
       "      <td>sol test</td>\n",
       "      <td>d07997f5-6ecd-53d5-9adb-d67e494e2a07</td>\n",
       "    </tr>\n",
       "    <tr>\n",
       "      <th>1</th>\n",
       "      <td>realms</td>\n",
       "      <td>2RQ9KQUJocKasNeNniAqwuDL3tPVsyxuPPtgjHgcKaYG</td>\n",
       "      <td>ckvt22w62754511zol5hax8y16</td>\n",
       "      <td>5bd17ba9-a2c5-5e4d-83f6-562cbebe3161</td>\n",
       "    </tr>\n",
       "    <tr>\n",
       "      <th>2</th>\n",
       "      <td>realms</td>\n",
       "      <td>BDKmQnKFJHaAtiFwwFpyzYWt4y7zHjCHkXXKhfgswymn</td>\n",
       "      <td>test 6666</td>\n",
       "      <td>15baea14-a757-51ac-a7f6-af98a75175b4</td>\n",
       "    </tr>\n",
       "    <tr>\n",
       "      <th>3</th>\n",
       "      <td>realms</td>\n",
       "      <td>7ageSmQoFTanbXNMgEYb45ap7bNCc4KL2dzyYDzakXTx</td>\n",
       "      <td>Panda Patrol DAO</td>\n",
       "      <td>7bf65b50-6c89-5477-ba10-1e3cf06848c1</td>\n",
       "    </tr>\n",
       "    <tr>\n",
       "      <th>4</th>\n",
       "      <td>realms</td>\n",
       "      <td>9dab9rwkk2uPn2SBKhWuH174VpZG5pD4Jci5zveoa7ug</td>\n",
       "      <td>Bitmon Treasury DAO</td>\n",
       "      <td>02c85106-2baf-555f-b440-b5ad2063653d</td>\n",
       "    </tr>\n",
       "  </tbody>\n",
       "</table>\n",
       "</div>"
      ],
      "text/plain": [
       "  platform                                   platform_id  \\\n",
       "0   realms   ynQy8iEbJiFuYA4Nom6j7AjV3E7mPYzz9JoMWBfsNMw   \n",
       "1   realms  2RQ9KQUJocKasNeNniAqwuDL3tPVsyxuPPtgjHgcKaYG   \n",
       "2   realms  BDKmQnKFJHaAtiFwwFpyzYWt4y7zHjCHkXXKhfgswymn   \n",
       "3   realms  7ageSmQoFTanbXNMgEYb45ap7bNCc4KL2dzyYDzakXTx   \n",
       "4   realms  9dab9rwkk2uPn2SBKhWuH174VpZG5pD4Jci5zveoa7ug   \n",
       "\n",
       "                         name                                    id  \n",
       "0                    sol test  d07997f5-6ecd-53d5-9adb-d67e494e2a07  \n",
       "1  ckvt22w62754511zol5hax8y16  5bd17ba9-a2c5-5e4d-83f6-562cbebe3161  \n",
       "2                   test 6666  15baea14-a757-51ac-a7f6-af98a75175b4  \n",
       "3            Panda Patrol DAO  7bf65b50-6c89-5477-ba10-1e3cf06848c1  \n",
       "4         Bitmon Treasury DAO  02c85106-2baf-555f-b440-b5ad2063653d  "
      ]
     },
     "execution_count": 107,
     "metadata": {},
     "output_type": "execute_result"
    }
   ],
   "source": [
    "# make the id a string\n",
    "pre_merge_deployments_df['id'] = pre_merge_deployments_df['id'].astype(str)\n",
    "pre_merge_deployments_df.head()"
   ]
  },
  {
   "cell_type": "code",
   "execution_count": null,
   "metadata": {},
   "outputs": [
    {
     "data": {
      "text/plain": [
       "(18659, 3)"
      ]
     },
     "execution_count": 73,
     "metadata": {},
     "output_type": "execute_result"
    }
   ],
   "source": [
    "pre_merge_pairs_df.shape"
   ]
  },
  {
   "cell_type": "code",
   "execution_count": null,
   "metadata": {},
   "outputs": [
    {
     "ename": "KeyError",
     "evalue": "'id'",
     "output_type": "error",
     "traceback": [
      "\u001b[0;31m---------------------------------------------------------------------------\u001b[0m",
      "\u001b[0;31mKeyError\u001b[0m                                  Traceback (most recent call last)",
      "File \u001b[0;32m/opt/homebrew/lib/python3.11/site-packages/pandas/core/indexes/base.py:3802\u001b[0m, in \u001b[0;36mIndex.get_loc\u001b[0;34m(self, key, method, tolerance)\u001b[0m\n\u001b[1;32m   3801\u001b[0m \u001b[39mtry\u001b[39;00m:\n\u001b[0;32m-> 3802\u001b[0m     \u001b[39mreturn\u001b[39;00m \u001b[39mself\u001b[39;49m\u001b[39m.\u001b[39;49m_engine\u001b[39m.\u001b[39;49mget_loc(casted_key)\n\u001b[1;32m   3803\u001b[0m \u001b[39mexcept\u001b[39;00m \u001b[39mKeyError\u001b[39;00m \u001b[39mas\u001b[39;00m err:\n",
      "File \u001b[0;32m/opt/homebrew/lib/python3.11/site-packages/pandas/_libs/index.pyx:138\u001b[0m, in \u001b[0;36mpandas._libs.index.IndexEngine.get_loc\u001b[0;34m()\u001b[0m\n",
      "File \u001b[0;32m/opt/homebrew/lib/python3.11/site-packages/pandas/_libs/index.pyx:165\u001b[0m, in \u001b[0;36mpandas._libs.index.IndexEngine.get_loc\u001b[0;34m()\u001b[0m\n",
      "File \u001b[0;32mpandas/_libs/hashtable_class_helper.pxi:5745\u001b[0m, in \u001b[0;36mpandas._libs.hashtable.PyObjectHashTable.get_item\u001b[0;34m()\u001b[0m\n",
      "File \u001b[0;32mpandas/_libs/hashtable_class_helper.pxi:5753\u001b[0m, in \u001b[0;36mpandas._libs.hashtable.PyObjectHashTable.get_item\u001b[0;34m()\u001b[0m\n",
      "\u001b[0;31mKeyError\u001b[0m: 'id'",
      "\nThe above exception was the direct cause of the following exception:\n",
      "\u001b[0;31mKeyError\u001b[0m                                  Traceback (most recent call last)",
      "Cell \u001b[0;32mIn[108], line 2\u001b[0m\n\u001b[1;32m      1\u001b[0m \u001b[39m# make embeddings into a dict\u001b[39;00m\n\u001b[0;32m----> 2\u001b[0m embedding_lookup_dict \u001b[39m=\u001b[39m \u001b[39mdict\u001b[39m(\u001b[39mzip\u001b[39m(deployments_not_on_deepdao_names_and_embeddings[\u001b[39m'\u001b[39;49m\u001b[39mid\u001b[39;49m\u001b[39m'\u001b[39;49m], deployments_not_on_deepdao_names_and_embeddings[\u001b[39m'\u001b[39m\u001b[39mname_embedding\u001b[39m\u001b[39m'\u001b[39m]))\n\u001b[1;32m      3\u001b[0m embedding_lookup_dict\n",
      "File \u001b[0;32m/opt/homebrew/lib/python3.11/site-packages/pandas/core/frame.py:3807\u001b[0m, in \u001b[0;36mDataFrame.__getitem__\u001b[0;34m(self, key)\u001b[0m\n\u001b[1;32m   3805\u001b[0m \u001b[39mif\u001b[39;00m \u001b[39mself\u001b[39m\u001b[39m.\u001b[39mcolumns\u001b[39m.\u001b[39mnlevels \u001b[39m>\u001b[39m \u001b[39m1\u001b[39m:\n\u001b[1;32m   3806\u001b[0m     \u001b[39mreturn\u001b[39;00m \u001b[39mself\u001b[39m\u001b[39m.\u001b[39m_getitem_multilevel(key)\n\u001b[0;32m-> 3807\u001b[0m indexer \u001b[39m=\u001b[39m \u001b[39mself\u001b[39;49m\u001b[39m.\u001b[39;49mcolumns\u001b[39m.\u001b[39;49mget_loc(key)\n\u001b[1;32m   3808\u001b[0m \u001b[39mif\u001b[39;00m is_integer(indexer):\n\u001b[1;32m   3809\u001b[0m     indexer \u001b[39m=\u001b[39m [indexer]\n",
      "File \u001b[0;32m/opt/homebrew/lib/python3.11/site-packages/pandas/core/indexes/base.py:3804\u001b[0m, in \u001b[0;36mIndex.get_loc\u001b[0;34m(self, key, method, tolerance)\u001b[0m\n\u001b[1;32m   3802\u001b[0m     \u001b[39mreturn\u001b[39;00m \u001b[39mself\u001b[39m\u001b[39m.\u001b[39m_engine\u001b[39m.\u001b[39mget_loc(casted_key)\n\u001b[1;32m   3803\u001b[0m \u001b[39mexcept\u001b[39;00m \u001b[39mKeyError\u001b[39;00m \u001b[39mas\u001b[39;00m err:\n\u001b[0;32m-> 3804\u001b[0m     \u001b[39mraise\u001b[39;00m \u001b[39mKeyError\u001b[39;00m(key) \u001b[39mfrom\u001b[39;00m \u001b[39merr\u001b[39;00m\n\u001b[1;32m   3805\u001b[0m \u001b[39mexcept\u001b[39;00m \u001b[39mTypeError\u001b[39;00m:\n\u001b[1;32m   3806\u001b[0m     \u001b[39m# If we have a listlike key, _check_indexing_error will raise\u001b[39;00m\n\u001b[1;32m   3807\u001b[0m     \u001b[39m#  InvalidIndexError. Otherwise we fall through and re-raise\u001b[39;00m\n\u001b[1;32m   3808\u001b[0m     \u001b[39m#  the TypeError.\u001b[39;00m\n\u001b[1;32m   3809\u001b[0m     \u001b[39mself\u001b[39m\u001b[39m.\u001b[39m_check_indexing_error(key)\n",
      "\u001b[0;31mKeyError\u001b[0m: 'id'"
     ]
    }
   ],
   "source": [
    "# make embeddings into a dict\n",
    "embedding_lookup_dict = dict(zip(deployments_not_on_deepdao_names_and_embeddings['id'], deployments_not_on_deepdao_names_and_embeddings['name_embedding']))\n",
    "embedding_lookup_dict"
   ]
  },
  {
   "cell_type": "code",
   "execution_count": null,
   "metadata": {},
   "outputs": [
    {
     "data": {
      "text/plain": [
       "array(['d07997f5-6ecd-53d5-9adb-d67e494e2a07',\n",
       "       '5bd17ba9-a2c5-5e4d-83f6-562cbebe3161',\n",
       "       '15baea14-a757-51ac-a7f6-af98a75175b4', ...,\n",
       "       '8d3a64b1-6cb5-5d79-be7d-c4a5eb82ccaa',\n",
       "       '3c151eed-dd52-54d6-95a5-e3fa3caa35bc',\n",
       "       'bc45ca4c-c840-55ac-92b4-527e5ec4ce73'], dtype=object)"
      ]
     },
     "execution_count": 75,
     "metadata": {},
     "output_type": "execute_result"
    }
   ],
   "source": [
    "pre_merge_deployments_df_array = pre_merge_deployments_df['id'].to_numpy()\n",
    "pre_merge_deployments_df_array"
   ]
  },
  {
   "cell_type": "code",
   "execution_count": null,
   "metadata": {},
   "outputs": [
    {
     "data": {
      "text/plain": [
       "38"
      ]
     },
     "execution_count": 98,
     "metadata": {},
     "output_type": "execute_result"
    }
   ],
   "source": [
    "# break into chunks of 500\n",
    "pre_merge_deployments_df_chunks = [pre_merge_deployments_df_array[i:i + 500] for i in range(0, len(pre_merge_deployments_df_array), 500)]\n",
    "len(pre_merge_deployments_df_chunks)"
   ]
  },
  {
   "cell_type": "code",
   "execution_count": null,
   "metadata": {},
   "outputs": [
    {
     "data": {
      "text/plain": [
       "159"
      ]
     },
     "execution_count": 100,
     "metadata": {},
     "output_type": "execute_result"
    }
   ],
   "source": [
    "len(pre_merge_deployments_df_chunks[-1])"
   ]
  },
  {
   "cell_type": "code",
   "execution_count": null,
   "metadata": {},
   "outputs": [
    {
     "data": {
      "text/plain": [
       "500"
      ]
     },
     "execution_count": 101,
     "metadata": {},
     "output_type": "execute_result"
    }
   ],
   "source": [
    "len(pre_merge_deployments_df_chunks[3])"
   ]
  },
  {
   "cell_type": "code",
   "execution_count": null,
   "metadata": {},
   "outputs": [
    {
     "data": {
      "text/plain": [
       "array([['d07997f5-6ecd-53d5-9adb-d67e494e2a07',\n",
       "        '5bd17ba9-a2c5-5e4d-83f6-562cbebe3161'],\n",
       "       ['d07997f5-6ecd-53d5-9adb-d67e494e2a07',\n",
       "        '15baea14-a757-51ac-a7f6-af98a75175b4'],\n",
       "       ['d07997f5-6ecd-53d5-9adb-d67e494e2a07',\n",
       "        '7bf65b50-6c89-5477-ba10-1e3cf06848c1'],\n",
       "       ...,\n",
       "       ['b052dcbc-1299-5687-b6c7-7f9443dee895',\n",
       "        '27492299-2558-533e-a0ac-23be287339e5'],\n",
       "       ['b052dcbc-1299-5687-b6c7-7f9443dee895',\n",
       "        '5d01254d-f73e-5d94-8118-9fbcaf71c72a'],\n",
       "       ['27492299-2558-533e-a0ac-23be287339e5',\n",
       "        '5d01254d-f73e-5d94-8118-9fbcaf71c72a']], dtype='<U36')"
      ]
     },
     "execution_count": 102,
     "metadata": {},
     "output_type": "execute_result"
    }
   ],
   "source": [
    "import itertools\n",
    "np.array(list(itertools.combinations(pre_merge_deployments_df_chunks[0], 2)))"
   ]
  },
  {
   "cell_type": "code",
   "execution_count": null,
   "metadata": {},
   "outputs": [
    {
     "name": "stdout",
     "output_type": "stream",
     "text": [
      "0\n",
      "(124750, 2)\n",
      "1\n",
      "(124750, 2)\n",
      "2\n",
      "(124750, 2)\n",
      "3\n",
      "(124750, 2)\n",
      "4\n",
      "(124750, 2)\n",
      "5\n",
      "(124750, 2)\n",
      "6\n",
      "(124750, 2)\n",
      "7\n",
      "(124750, 2)\n",
      "8\n",
      "(124750, 2)\n",
      "9\n",
      "(124750, 2)\n",
      "10\n",
      "(124750, 2)\n",
      "11\n",
      "(124750, 2)\n",
      "12\n",
      "(124750, 2)\n",
      "13\n",
      "(124750, 2)\n",
      "14\n",
      "(124750, 2)\n",
      "15\n",
      "(124750, 2)\n",
      "16\n",
      "(124750, 2)\n",
      "17\n",
      "(124750, 2)\n",
      "18\n",
      "(124750, 2)\n",
      "19\n",
      "(124750, 2)\n",
      "20\n",
      "(124750, 2)\n",
      "21\n",
      "(124750, 2)\n",
      "22\n",
      "(124750, 2)\n",
      "23\n",
      "(124750, 2)\n",
      "24\n",
      "(124750, 2)\n",
      "25\n",
      "(124750, 2)\n",
      "26\n",
      "(124750, 2)\n",
      "27\n",
      "(124750, 2)\n",
      "28\n",
      "(124750, 2)\n",
      "29\n",
      "(124750, 2)\n",
      "30\n",
      "(124750, 2)\n",
      "31\n",
      "(124750, 2)\n",
      "32\n",
      "(124750, 2)\n",
      "33\n",
      "(124750, 2)\n",
      "34\n",
      "(124750, 2)\n",
      "35\n",
      "(124750, 2)\n",
      "36\n",
      "(124750, 2)\n",
      "37\n",
      "(12561, 2)\n"
     ]
    }
   ],
   "source": [
    "# make a dir chunks\n",
    "import os\n",
    "os.mkdir('deployment_pairs_chunks')\n",
    "# generate the pairs for each chunk\n",
    "for i, chunk in enumerate(pre_merge_deployments_df_chunks):\n",
    "    print(i)\n",
    "    pairs = np.array(list(itertools.combinations(chunk, 2)))\n",
    "    print(pairs.shape)\n",
    "    np.save(f'chunks/{i}.npy', pairs)"
   ]
  },
  {
   "cell_type": "code",
   "execution_count": null,
   "metadata": {},
   "outputs": [],
   "source": [
    "# import cosine_similarity\n",
    "from sklearn.metrics.pairwise import cosine_similarity\n",
    "def calculate_similarity(name1, name2):\n",
    "    embedding1 = embedding_lookup_dict[name1]\n",
    "    embedding2 = embedding_lookup_dict[name2]\n",
    "    similarity = cosine_similarity([embedding1], [embedding2])[0][0]\n",
    "    return similarity"
   ]
  },
  {
   "cell_type": "code",
   "execution_count": null,
   "metadata": {},
   "outputs": [
    {
     "data": {
      "text/html": [
       "<div>\n",
       "<style scoped>\n",
       "    .dataframe tbody tr th:only-of-type {\n",
       "        vertical-align: middle;\n",
       "    }\n",
       "\n",
       "    .dataframe tbody tr th {\n",
       "        vertical-align: top;\n",
       "    }\n",
       "\n",
       "    .dataframe thead th {\n",
       "        text-align: right;\n",
       "    }\n",
       "</style>\n",
       "<table border=\"1\" class=\"dataframe\">\n",
       "  <thead>\n",
       "    <tr style=\"text-align: right;\">\n",
       "      <th></th>\n",
       "      <th>left_platform</th>\n",
       "      <th>left_platform_id</th>\n",
       "      <th>left_name</th>\n",
       "      <th>right_platform</th>\n",
       "      <th>right_platform_id</th>\n",
       "      <th>right_name</th>\n",
       "      <th>similarity</th>\n",
       "    </tr>\n",
       "  </thead>\n",
       "  <tbody>\n",
       "    <tr>\n",
       "      <th>1</th>\n",
       "      <td>realms</td>\n",
       "      <td>ynQy8iEbJiFuYA4Nom6j7AjV3E7mPYzz9JoMWBfsNMw</td>\n",
       "      <td>sol test</td>\n",
       "      <td>realms</td>\n",
       "      <td>2RQ9KQUJocKasNeNniAqwuDL3tPVsyxuPPtgjHgcKaYG</td>\n",
       "      <td>ckvt22w62754511zol5hax8y16</td>\n",
       "      <td>0.119305</td>\n",
       "    </tr>\n",
       "    <tr>\n",
       "      <th>2</th>\n",
       "      <td>realms</td>\n",
       "      <td>ynQy8iEbJiFuYA4Nom6j7AjV3E7mPYzz9JoMWBfsNMw</td>\n",
       "      <td>sol test</td>\n",
       "      <td>realms</td>\n",
       "      <td>BDKmQnKFJHaAtiFwwFpyzYWt4y7zHjCHkXXKhfgswymn</td>\n",
       "      <td>test 6666</td>\n",
       "      <td>0.358358</td>\n",
       "    </tr>\n",
       "    <tr>\n",
       "      <th>3</th>\n",
       "      <td>realms</td>\n",
       "      <td>ynQy8iEbJiFuYA4Nom6j7AjV3E7mPYzz9JoMWBfsNMw</td>\n",
       "      <td>sol test</td>\n",
       "      <td>realms</td>\n",
       "      <td>7ageSmQoFTanbXNMgEYb45ap7bNCc4KL2dzyYDzakXTx</td>\n",
       "      <td>Panda Patrol DAO</td>\n",
       "      <td>0.019956</td>\n",
       "    </tr>\n",
       "    <tr>\n",
       "      <th>4</th>\n",
       "      <td>realms</td>\n",
       "      <td>ynQy8iEbJiFuYA4Nom6j7AjV3E7mPYzz9JoMWBfsNMw</td>\n",
       "      <td>sol test</td>\n",
       "      <td>realms</td>\n",
       "      <td>9dab9rwkk2uPn2SBKhWuH174VpZG5pD4Jci5zveoa7ug</td>\n",
       "      <td>Bitmon Treasury DAO</td>\n",
       "      <td>0.003927</td>\n",
       "    </tr>\n",
       "    <tr>\n",
       "      <th>5</th>\n",
       "      <td>realms</td>\n",
       "      <td>ynQy8iEbJiFuYA4Nom6j7AjV3E7mPYzz9JoMWBfsNMw</td>\n",
       "      <td>sol test</td>\n",
       "      <td>realms</td>\n",
       "      <td>UBWNtt8r6YVdh2tR3KQ1k4yGyY45wWTfCUFR8vwPpFc</td>\n",
       "      <td>sdfi</td>\n",
       "      <td>0.142297</td>\n",
       "    </tr>\n",
       "  </tbody>\n",
       "</table>\n",
       "</div>"
      ],
      "text/plain": [
       "  left_platform                             left_platform_id left_name  \\\n",
       "1        realms  ynQy8iEbJiFuYA4Nom6j7AjV3E7mPYzz9JoMWBfsNMw  sol test   \n",
       "2        realms  ynQy8iEbJiFuYA4Nom6j7AjV3E7mPYzz9JoMWBfsNMw  sol test   \n",
       "3        realms  ynQy8iEbJiFuYA4Nom6j7AjV3E7mPYzz9JoMWBfsNMw  sol test   \n",
       "4        realms  ynQy8iEbJiFuYA4Nom6j7AjV3E7mPYzz9JoMWBfsNMw  sol test   \n",
       "5        realms  ynQy8iEbJiFuYA4Nom6j7AjV3E7mPYzz9JoMWBfsNMw  sol test   \n",
       "\n",
       "  right_platform                             right_platform_id  \\\n",
       "1         realms  2RQ9KQUJocKasNeNniAqwuDL3tPVsyxuPPtgjHgcKaYG   \n",
       "2         realms  BDKmQnKFJHaAtiFwwFpyzYWt4y7zHjCHkXXKhfgswymn   \n",
       "3         realms  7ageSmQoFTanbXNMgEYb45ap7bNCc4KL2dzyYDzakXTx   \n",
       "4         realms  9dab9rwkk2uPn2SBKhWuH174VpZG5pD4Jci5zveoa7ug   \n",
       "5         realms   UBWNtt8r6YVdh2tR3KQ1k4yGyY45wWTfCUFR8vwPpFc   \n",
       "\n",
       "                   right_name  similarity  \n",
       "1  ckvt22w62754511zol5hax8y16    0.119305  \n",
       "2                   test 6666    0.358358  \n",
       "3            Panda Patrol DAO    0.019956  \n",
       "4         Bitmon Treasury DAO    0.003927  \n",
       "5                        sdfi    0.142297  "
      ]
     },
     "execution_count": 333,
     "metadata": {},
     "output_type": "execute_result"
    }
   ],
   "source": [
    "# calculate similarity, save in df\n",
    "pre_merge_pairs_df['similarity'] = pre_merge_pairs_df.apply(lambda row: calculate_similarity(row['left_name'], row['right_name']), axis=1)\n",
    "pre_merge_pairs_df.head()"
   ]
  },
  {
   "cell_type": "code",
   "execution_count": null,
   "metadata": {},
   "outputs": [
    {
     "data": {
      "text/html": [
       "<div>\n",
       "<style scoped>\n",
       "    .dataframe tbody tr th:only-of-type {\n",
       "        vertical-align: middle;\n",
       "    }\n",
       "\n",
       "    .dataframe tbody tr th {\n",
       "        vertical-align: top;\n",
       "    }\n",
       "\n",
       "    .dataframe thead th {\n",
       "        text-align: right;\n",
       "    }\n",
       "</style>\n",
       "<table border=\"1\" class=\"dataframe\">\n",
       "  <thead>\n",
       "    <tr style=\"text-align: right;\">\n",
       "      <th></th>\n",
       "      <th>left_platform</th>\n",
       "      <th>left_platform_id</th>\n",
       "      <th>left_name</th>\n",
       "      <th>right_platform</th>\n",
       "      <th>right_platform_id</th>\n",
       "      <th>right_name</th>\n",
       "      <th>similarity</th>\n",
       "    </tr>\n",
       "  </thead>\n",
       "  <tbody>\n",
       "    <tr>\n",
       "      <th>8442</th>\n",
       "      <td>realms</td>\n",
       "      <td>9Xe5qW76XPhyohKaz8joecybGnKrgT4N6JNEuM5ZZwa9</td>\n",
       "      <td>1Sol Dao</td>\n",
       "      <td>realms</td>\n",
       "      <td>26yUdUTWSfpwpNMshahupbXoQKi2NkaTECSyE45VMutU</td>\n",
       "      <td>1Sol DAO</td>\n",
       "      <td>1.000000</td>\n",
       "    </tr>\n",
       "    <tr>\n",
       "      <th>4284</th>\n",
       "      <td>realms</td>\n",
       "      <td>26yUdUTWSfpwpNMshahupbXoQKi2NkaTECSyE45VMutU</td>\n",
       "      <td>1Sol DAO</td>\n",
       "      <td>realms</td>\n",
       "      <td>9Xe5qW76XPhyohKaz8joecybGnKrgT4N6JNEuM5ZZwa9</td>\n",
       "      <td>1Sol Dao</td>\n",
       "      <td>1.000000</td>\n",
       "    </tr>\n",
       "    <tr>\n",
       "      <th>5352</th>\n",
       "      <td>realms</td>\n",
       "      <td>39aX7mDZ1VLpZcPWstBhQBoqwNkhf5f1KDACguvrryi6</td>\n",
       "      <td>MonkOG DAO</td>\n",
       "      <td>realms</td>\n",
       "      <td>Eg2SufZBj3q1JyQNoJk2AkMtiXFF1gn1wpoCHf9c8qZH</td>\n",
       "      <td>Monkog DAO</td>\n",
       "      <td>1.000000</td>\n",
       "    </tr>\n",
       "    <tr>\n",
       "      <th>5253</th>\n",
       "      <td>realms</td>\n",
       "      <td>Eg2SufZBj3q1JyQNoJk2AkMtiXFF1gn1wpoCHf9c8qZH</td>\n",
       "      <td>Monkog DAO</td>\n",
       "      <td>realms</td>\n",
       "      <td>39aX7mDZ1VLpZcPWstBhQBoqwNkhf5f1KDACguvrryi6</td>\n",
       "      <td>MonkOG DAO</td>\n",
       "      <td>1.000000</td>\n",
       "    </tr>\n",
       "    <tr>\n",
       "      <th>8136</th>\n",
       "      <td>realms</td>\n",
       "      <td>2aia1CN3YoFergRxyDTPed5Kup4LDmZMEgWxEzZ7vaKB</td>\n",
       "      <td>test</td>\n",
       "      <td>realms</td>\n",
       "      <td>EDs2sLrUuPvGwpJH3G2Q3d6cBHtEWS8ryhoP3zR88DPD</td>\n",
       "      <td>testing</td>\n",
       "      <td>0.908599</td>\n",
       "    </tr>\n",
       "    <tr>\n",
       "      <th>3681</th>\n",
       "      <td>realms</td>\n",
       "      <td>EDs2sLrUuPvGwpJH3G2Q3d6cBHtEWS8ryhoP3zR88DPD</td>\n",
       "      <td>testing</td>\n",
       "      <td>realms</td>\n",
       "      <td>2aia1CN3YoFergRxyDTPed5Kup4LDmZMEgWxEzZ7vaKB</td>\n",
       "      <td>test</td>\n",
       "      <td>0.908599</td>\n",
       "    </tr>\n",
       "    <tr>\n",
       "      <th>193</th>\n",
       "      <td>realms</td>\n",
       "      <td>2RQ9KQUJocKasNeNniAqwuDL3tPVsyxuPPtgjHgcKaYG</td>\n",
       "      <td>ckvt22w62754511zol5hax8y16</td>\n",
       "      <td>realms</td>\n",
       "      <td>6E7RUhSYnYidySEpGFMhwfG1jDYnWqYBu6sHadmFRPXt</td>\n",
       "      <td>ckvt6lxqy1513151zoliqfz8w17</td>\n",
       "      <td>0.897009</td>\n",
       "    </tr>\n",
       "    <tr>\n",
       "      <th>9301</th>\n",
       "      <td>realms</td>\n",
       "      <td>6E7RUhSYnYidySEpGFMhwfG1jDYnWqYBu6sHadmFRPXt</td>\n",
       "      <td>ckvt6lxqy1513151zoliqfz8w17</td>\n",
       "      <td>realms</td>\n",
       "      <td>2RQ9KQUJocKasNeNniAqwuDL3tPVsyxuPPtgjHgcKaYG</td>\n",
       "      <td>ckvt22w62754511zol5hax8y16</td>\n",
       "      <td>0.897009</td>\n",
       "    </tr>\n",
       "    <tr>\n",
       "      <th>9527</th>\n",
       "      <td>realms</td>\n",
       "      <td>EPfaFw1wXRv1vVB4BqvPAAxHoBpetiJHAA2JTx6J7J7m</td>\n",
       "      <td>TestDAO</td>\n",
       "      <td>realms</td>\n",
       "      <td>5W7SsbSUMtCsfN4r4ocV97q7crDRCgqHcG9AnpNFWgaw</td>\n",
       "      <td>testerdao</td>\n",
       "      <td>0.885327</td>\n",
       "    </tr>\n",
       "    <tr>\n",
       "      <th>2795</th>\n",
       "      <td>realms</td>\n",
       "      <td>5W7SsbSUMtCsfN4r4ocV97q7crDRCgqHcG9AnpNFWgaw</td>\n",
       "      <td>testerdao</td>\n",
       "      <td>realms</td>\n",
       "      <td>EPfaFw1wXRv1vVB4BqvPAAxHoBpetiJHAA2JTx6J7J7m</td>\n",
       "      <td>TestDAO</td>\n",
       "      <td>0.885327</td>\n",
       "    </tr>\n",
       "    <tr>\n",
       "      <th>3501</th>\n",
       "      <td>realms</td>\n",
       "      <td>HtV3PXqDhuPoCTDfYhaWxrs5e7oYk96zYpiWSrWCj6FC</td>\n",
       "      <td>ckvj15fia05551yltdf04m56z</td>\n",
       "      <td>realms</td>\n",
       "      <td>2RQ9KQUJocKasNeNniAqwuDL3tPVsyxuPPtgjHgcKaYG</td>\n",
       "      <td>ckvt22w62754511zol5hax8y16</td>\n",
       "      <td>0.875225</td>\n",
       "    </tr>\n",
       "    <tr>\n",
       "      <th>135</th>\n",
       "      <td>realms</td>\n",
       "      <td>2RQ9KQUJocKasNeNniAqwuDL3tPVsyxuPPtgjHgcKaYG</td>\n",
       "      <td>ckvt22w62754511zol5hax8y16</td>\n",
       "      <td>realms</td>\n",
       "      <td>HtV3PXqDhuPoCTDfYhaWxrs5e7oYk96zYpiWSrWCj6FC</td>\n",
       "      <td>ckvj15fia05551yltdf04m56z</td>\n",
       "      <td>0.875225</td>\n",
       "    </tr>\n",
       "    <tr>\n",
       "      <th>6268</th>\n",
       "      <td>realms</td>\n",
       "      <td>98hsdTteLBUTiBCLq399QGZJr3bLQMoZe4TYyzNhRkDF</td>\n",
       "      <td>ckvmp1j9g11018120gku1g4oupx</td>\n",
       "      <td>realms</td>\n",
       "      <td>DVYnCzaXVi8LeARnMUbMHTF9K7eN9AM8oVxvJLNmwABe</td>\n",
       "      <td>ckvtvbqy614431zp5au4ppw3x</td>\n",
       "      <td>0.859205</td>\n",
       "    </tr>\n",
       "    <tr>\n",
       "      <th>6862</th>\n",
       "      <td>realms</td>\n",
       "      <td>DVYnCzaXVi8LeARnMUbMHTF9K7eN9AM8oVxvJLNmwABe</td>\n",
       "      <td>ckvtvbqy614431zp5au4ppw3x</td>\n",
       "      <td>realms</td>\n",
       "      <td>98hsdTteLBUTiBCLq399QGZJr3bLQMoZe4TYyzNhRkDF</td>\n",
       "      <td>ckvmp1j9g11018120gku1g4oupx</td>\n",
       "      <td>0.859205</td>\n",
       "    </tr>\n",
       "    <tr>\n",
       "      <th>6830</th>\n",
       "      <td>realms</td>\n",
       "      <td>DVYnCzaXVi8LeARnMUbMHTF9K7eN9AM8oVxvJLNmwABe</td>\n",
       "      <td>ckvtvbqy614431zp5au4ppw3x</td>\n",
       "      <td>realms</td>\n",
       "      <td>4Q1s1vQkgfnyZNWdhehQ8q8jwy4zAtFnznzRVqs72VF3</td>\n",
       "      <td>ckvmdtrxf6985220gkjskywfzb</td>\n",
       "      <td>0.858611</td>\n",
       "    </tr>\n",
       "    <tr>\n",
       "      <th>3068</th>\n",
       "      <td>realms</td>\n",
       "      <td>4Q1s1vQkgfnyZNWdhehQ8q8jwy4zAtFnznzRVqs72VF3</td>\n",
       "      <td>ckvmdtrxf6985220gkjskywfzb</td>\n",
       "      <td>realms</td>\n",
       "      <td>DVYnCzaXVi8LeARnMUbMHTF9K7eN9AM8oVxvJLNmwABe</td>\n",
       "      <td>ckvtvbqy614431zp5au4ppw3x</td>\n",
       "      <td>0.858611</td>\n",
       "    </tr>\n",
       "    <tr>\n",
       "      <th>137</th>\n",
       "      <td>realms</td>\n",
       "      <td>2RQ9KQUJocKasNeNniAqwuDL3tPVsyxuPPtgjHgcKaYG</td>\n",
       "      <td>ckvt22w62754511zol5hax8y16</td>\n",
       "      <td>realms</td>\n",
       "      <td>24PDx9UiyVKsgHdtb17mdjngNDk1ZQ9ASNG3cKSWRqsU</td>\n",
       "      <td>ckvsrlz58237501yl3eax32no6</td>\n",
       "      <td>0.857328</td>\n",
       "    </tr>\n",
       "    <tr>\n",
       "      <th>3701</th>\n",
       "      <td>realms</td>\n",
       "      <td>24PDx9UiyVKsgHdtb17mdjngNDk1ZQ9ASNG3cKSWRqsU</td>\n",
       "      <td>ckvsrlz58237501yl3eax32no6</td>\n",
       "      <td>realms</td>\n",
       "      <td>2RQ9KQUJocKasNeNniAqwuDL3tPVsyxuPPtgjHgcKaYG</td>\n",
       "      <td>ckvt22w62754511zol5hax8y16</td>\n",
       "      <td>0.857328</td>\n",
       "    </tr>\n",
       "    <tr>\n",
       "      <th>3993</th>\n",
       "      <td>realms</td>\n",
       "      <td>DgYzfAF8uh5QQTXREYaUZK7P6crNPrWDGqLBBbytkKGs</td>\n",
       "      <td>ckvtqqctp5019011zol41h2pst6</td>\n",
       "      <td>realms</td>\n",
       "      <td>6E7RUhSYnYidySEpGFMhwfG1jDYnWqYBu6sHadmFRPXt</td>\n",
       "      <td>ckvt6lxqy1513151zoliqfz8w17</td>\n",
       "      <td>0.856503</td>\n",
       "    </tr>\n",
       "    <tr>\n",
       "      <th>9339</th>\n",
       "      <td>realms</td>\n",
       "      <td>6E7RUhSYnYidySEpGFMhwfG1jDYnWqYBu6sHadmFRPXt</td>\n",
       "      <td>ckvt6lxqy1513151zoliqfz8w17</td>\n",
       "      <td>realms</td>\n",
       "      <td>DgYzfAF8uh5QQTXREYaUZK7P6crNPrWDGqLBBbytkKGs</td>\n",
       "      <td>ckvtqqctp5019011zol41h2pst6</td>\n",
       "      <td>0.856503</td>\n",
       "    </tr>\n",
       "  </tbody>\n",
       "</table>\n",
       "</div>"
      ],
      "text/plain": [
       "     left_platform                              left_platform_id  \\\n",
       "8442        realms  9Xe5qW76XPhyohKaz8joecybGnKrgT4N6JNEuM5ZZwa9   \n",
       "4284        realms  26yUdUTWSfpwpNMshahupbXoQKi2NkaTECSyE45VMutU   \n",
       "5352        realms  39aX7mDZ1VLpZcPWstBhQBoqwNkhf5f1KDACguvrryi6   \n",
       "5253        realms  Eg2SufZBj3q1JyQNoJk2AkMtiXFF1gn1wpoCHf9c8qZH   \n",
       "8136        realms  2aia1CN3YoFergRxyDTPed5Kup4LDmZMEgWxEzZ7vaKB   \n",
       "3681        realms  EDs2sLrUuPvGwpJH3G2Q3d6cBHtEWS8ryhoP3zR88DPD   \n",
       "193         realms  2RQ9KQUJocKasNeNniAqwuDL3tPVsyxuPPtgjHgcKaYG   \n",
       "9301        realms  6E7RUhSYnYidySEpGFMhwfG1jDYnWqYBu6sHadmFRPXt   \n",
       "9527        realms  EPfaFw1wXRv1vVB4BqvPAAxHoBpetiJHAA2JTx6J7J7m   \n",
       "2795        realms  5W7SsbSUMtCsfN4r4ocV97q7crDRCgqHcG9AnpNFWgaw   \n",
       "3501        realms  HtV3PXqDhuPoCTDfYhaWxrs5e7oYk96zYpiWSrWCj6FC   \n",
       "135         realms  2RQ9KQUJocKasNeNniAqwuDL3tPVsyxuPPtgjHgcKaYG   \n",
       "6268        realms  98hsdTteLBUTiBCLq399QGZJr3bLQMoZe4TYyzNhRkDF   \n",
       "6862        realms  DVYnCzaXVi8LeARnMUbMHTF9K7eN9AM8oVxvJLNmwABe   \n",
       "6830        realms  DVYnCzaXVi8LeARnMUbMHTF9K7eN9AM8oVxvJLNmwABe   \n",
       "3068        realms  4Q1s1vQkgfnyZNWdhehQ8q8jwy4zAtFnznzRVqs72VF3   \n",
       "137         realms  2RQ9KQUJocKasNeNniAqwuDL3tPVsyxuPPtgjHgcKaYG   \n",
       "3701        realms  24PDx9UiyVKsgHdtb17mdjngNDk1ZQ9ASNG3cKSWRqsU   \n",
       "3993        realms  DgYzfAF8uh5QQTXREYaUZK7P6crNPrWDGqLBBbytkKGs   \n",
       "9339        realms  6E7RUhSYnYidySEpGFMhwfG1jDYnWqYBu6sHadmFRPXt   \n",
       "\n",
       "                        left_name right_platform  \\\n",
       "8442                     1Sol Dao         realms   \n",
       "4284                     1Sol DAO         realms   \n",
       "5352                   MonkOG DAO         realms   \n",
       "5253                   Monkog DAO         realms   \n",
       "8136                         test         realms   \n",
       "3681                      testing         realms   \n",
       "193    ckvt22w62754511zol5hax8y16         realms   \n",
       "9301  ckvt6lxqy1513151zoliqfz8w17         realms   \n",
       "9527                      TestDAO         realms   \n",
       "2795                    testerdao         realms   \n",
       "3501    ckvj15fia05551yltdf04m56z         realms   \n",
       "135    ckvt22w62754511zol5hax8y16         realms   \n",
       "6268  ckvmp1j9g11018120gku1g4oupx         realms   \n",
       "6862    ckvtvbqy614431zp5au4ppw3x         realms   \n",
       "6830    ckvtvbqy614431zp5au4ppw3x         realms   \n",
       "3068   ckvmdtrxf6985220gkjskywfzb         realms   \n",
       "137    ckvt22w62754511zol5hax8y16         realms   \n",
       "3701   ckvsrlz58237501yl3eax32no6         realms   \n",
       "3993  ckvtqqctp5019011zol41h2pst6         realms   \n",
       "9339  ckvt6lxqy1513151zoliqfz8w17         realms   \n",
       "\n",
       "                                 right_platform_id  \\\n",
       "8442  26yUdUTWSfpwpNMshahupbXoQKi2NkaTECSyE45VMutU   \n",
       "4284  9Xe5qW76XPhyohKaz8joecybGnKrgT4N6JNEuM5ZZwa9   \n",
       "5352  Eg2SufZBj3q1JyQNoJk2AkMtiXFF1gn1wpoCHf9c8qZH   \n",
       "5253  39aX7mDZ1VLpZcPWstBhQBoqwNkhf5f1KDACguvrryi6   \n",
       "8136  EDs2sLrUuPvGwpJH3G2Q3d6cBHtEWS8ryhoP3zR88DPD   \n",
       "3681  2aia1CN3YoFergRxyDTPed5Kup4LDmZMEgWxEzZ7vaKB   \n",
       "193   6E7RUhSYnYidySEpGFMhwfG1jDYnWqYBu6sHadmFRPXt   \n",
       "9301  2RQ9KQUJocKasNeNniAqwuDL3tPVsyxuPPtgjHgcKaYG   \n",
       "9527  5W7SsbSUMtCsfN4r4ocV97q7crDRCgqHcG9AnpNFWgaw   \n",
       "2795  EPfaFw1wXRv1vVB4BqvPAAxHoBpetiJHAA2JTx6J7J7m   \n",
       "3501  2RQ9KQUJocKasNeNniAqwuDL3tPVsyxuPPtgjHgcKaYG   \n",
       "135   HtV3PXqDhuPoCTDfYhaWxrs5e7oYk96zYpiWSrWCj6FC   \n",
       "6268  DVYnCzaXVi8LeARnMUbMHTF9K7eN9AM8oVxvJLNmwABe   \n",
       "6862  98hsdTteLBUTiBCLq399QGZJr3bLQMoZe4TYyzNhRkDF   \n",
       "6830  4Q1s1vQkgfnyZNWdhehQ8q8jwy4zAtFnznzRVqs72VF3   \n",
       "3068  DVYnCzaXVi8LeARnMUbMHTF9K7eN9AM8oVxvJLNmwABe   \n",
       "137   24PDx9UiyVKsgHdtb17mdjngNDk1ZQ9ASNG3cKSWRqsU   \n",
       "3701  2RQ9KQUJocKasNeNniAqwuDL3tPVsyxuPPtgjHgcKaYG   \n",
       "3993  6E7RUhSYnYidySEpGFMhwfG1jDYnWqYBu6sHadmFRPXt   \n",
       "9339  DgYzfAF8uh5QQTXREYaUZK7P6crNPrWDGqLBBbytkKGs   \n",
       "\n",
       "                       right_name  similarity  \n",
       "8442                     1Sol DAO    1.000000  \n",
       "4284                     1Sol Dao    1.000000  \n",
       "5352                   Monkog DAO    1.000000  \n",
       "5253                   MonkOG DAO    1.000000  \n",
       "8136                      testing    0.908599  \n",
       "3681                         test    0.908599  \n",
       "193   ckvt6lxqy1513151zoliqfz8w17    0.897009  \n",
       "9301   ckvt22w62754511zol5hax8y16    0.897009  \n",
       "9527                    testerdao    0.885327  \n",
       "2795                      TestDAO    0.885327  \n",
       "3501   ckvt22w62754511zol5hax8y16    0.875225  \n",
       "135     ckvj15fia05551yltdf04m56z    0.875225  \n",
       "6268    ckvtvbqy614431zp5au4ppw3x    0.859205  \n",
       "6862  ckvmp1j9g11018120gku1g4oupx    0.859205  \n",
       "6830   ckvmdtrxf6985220gkjskywfzb    0.858611  \n",
       "3068    ckvtvbqy614431zp5au4ppw3x    0.858611  \n",
       "137    ckvsrlz58237501yl3eax32no6    0.857328  \n",
       "3701   ckvt22w62754511zol5hax8y16    0.857328  \n",
       "3993  ckvt6lxqy1513151zoliqfz8w17    0.856503  \n",
       "9339  ckvtqqctp5019011zol41h2pst6    0.856503  "
      ]
     },
     "execution_count": 334,
     "metadata": {},
     "output_type": "execute_result"
    }
   ],
   "source": [
    "# sort by similarity\n",
    "pre_merge_pairs_df = pre_merge_pairs_df.sort_values(by='similarity', ascending=False)\n",
    "# ignore where the platform_ids are the same\n",
    "pre_merge_pairs_df = pre_merge_pairs_df[pre_merge_pairs_df['left_platform_id'] != pre_merge_pairs_df['right_platform_id']]\n",
    "pre_merge_pairs_df.head(20)"
   ]
  },
  {
   "cell_type": "code",
   "execution_count": null,
   "metadata": {},
   "outputs": [],
   "source": [
    "# tokenizer = BertTokenizer.from_pretrained('bert-base-uncased')\n",
    "# model = BertModel.from_pretrained('bert-base-uncased')"
   ]
  },
  {
   "cell_type": "code",
   "execution_count": null,
   "metadata": {},
   "outputs": [],
   "source": [
    "# def encode_text_with_bert(text):\n",
    "#     if text is None or pd.isnull(text):\n",
    "#         return None\n",
    "#     input_ids = tokenizer.encode(text, add_special_tokens=True)\n",
    "#     input_ids = torch.tensor([input_ids])\n",
    "#     with torch.no_grad():\n",
    "#         embeddings = model(input_ids)[0]\n",
    "#     print('.', end='')\n",
    "#     return embeddings.squeeze().numpy()"
   ]
  },
  {
   "cell_type": "code",
   "execution_count": null,
   "metadata": {},
   "outputs": [],
   "source": [
    "# deployments_not_on_deepdao['name_embeddings'] = deployments_not_on_deepdao['name'].apply(encode_text_with_bert)"
   ]
  },
  {
   "cell_type": "code",
   "execution_count": null,
   "metadata": {},
   "outputs": [],
   "source": [
    "# save as pickle with name_embeddings\n",
    "# deployments_not_on_deepdao.to_pickle('deployments_not_on_deepdao_with_name_embeddings.pkl')"
   ]
  },
  {
   "cell_type": "code",
   "execution_count": null,
   "metadata": {},
   "outputs": [],
   "source": [
    "# make a dataframe of pairs of deployments not on deepdao\n",
    "# calculate similarity of name embeddings\n",
    "# pairs_of_deployments_not_on_deepdao = pd.merge(deployments_not_on_deepdao, deployments_not_on_deepdao, on='platform', suffixes=('_1', '_2'))\n",
    "# pairs_of_deployments_not_on_deepdao.head()"
   ]
  },
  {
   "cell_type": "code",
   "execution_count": null,
   "metadata": {},
   "outputs": [],
   "source": [
    "# pairs_of_deployments_not_on_deepdao.shape"
   ]
  },
  {
   "cell_type": "code",
   "execution_count": null,
   "metadata": {},
   "outputs": [
    {
     "ename": "NameError",
     "evalue": "name 'pairs_of_deployments_not_on_deepdao' is not defined",
     "output_type": "error",
     "traceback": [
      "\u001b[0;31m---------------------------------------------------------------------------\u001b[0m",
      "\u001b[0;31mNameError\u001b[0m                                 Traceback (most recent call last)",
      "Cell \u001b[0;32mIn[341], line 2\u001b[0m\n\u001b[1;32m      1\u001b[0m \u001b[39m# calculate similarity for each pair using the calculate_similarity method above\u001b[39;00m\n\u001b[0;32m----> 2\u001b[0m pairs_of_deployments_not_on_deepdao[\u001b[39m'\u001b[39m\u001b[39msimilarity\u001b[39m\u001b[39m'\u001b[39m] \u001b[39m=\u001b[39m pairs_of_deployments_not_on_deepdao\u001b[39m.\u001b[39mapply(\u001b[39mlambda\u001b[39;00m row: calculate_similarity(row[\u001b[39m'\u001b[39m\u001b[39mname_embeddings_1\u001b[39m\u001b[39m'\u001b[39m], row[\u001b[39m'\u001b[39m\u001b[39mname_embeddings_2\u001b[39m\u001b[39m'\u001b[39m]), axis\u001b[39m=\u001b[39m\u001b[39m1\u001b[39m)\n",
      "\u001b[0;31mNameError\u001b[0m: name 'pairs_of_deployments_not_on_deepdao' is not defined"
     ]
    }
   ],
   "source": [
    "# calculate similarity for each pair using the calculate_similarity method above\n",
    "pairs_of_deployments_not_on_deepdao['similarity'] = pairs_of_deployments_not_on_deepdao.apply(lambda row: calculate_similarity(row['name_embeddings_1'], row['name_embeddings_2']), axis=1)"
   ]
  }
 ],
 "metadata": {
  "kernelspec": {
   "display_name": "Python 3",
   "language": "python",
   "name": "python3"
  },
  "language_info": {
   "codemirror_mode": {
    "name": "ipython",
    "version": 3
   },
   "file_extension": ".py",
   "mimetype": "text/x-python",
   "name": "python",
   "nbconvert_exporter": "python",
   "pygments_lexer": "ipython3",
   "version": "3.11.3"
  },
  "orig_nbformat": 4
 },
 "nbformat": 4,
 "nbformat_minor": 2
}
