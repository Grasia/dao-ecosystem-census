{
 "cells": [
  {
   "cell_type": "code",
   "execution_count": 9,
   "metadata": {},
   "outputs": [
    {
     "name": "stdout",
     "output_type": "stream",
     "text": [
      "number of rows: 93529599\n",
      "<pyarrow._parquet.ParquetSchema object at 0x1072131c0>\n",
      "required group field_id=-1 schema {\n",
      "  optional binary field_id=-1 census_id (String);\n",
      "  optional binary field_id=-1 deepdao_organization_id (String);\n",
      "  optional binary field_id=-1 deepdao_name (String);\n",
      "  optional binary field_id=-1 census_name (String);\n",
      "  optional binary field_id=-1 row_id (String);\n",
      "  optional float field_id=-1 similarity;\n",
      "}\n",
      "\n"
     ]
    }
   ],
   "source": [
    "filename = 'pairs_with_similarity_merged_from_server.parquet'\n",
    "# filename = 'pairs_with_similarity/out_4.parquet'\n",
    "\n",
    "\n",
    "# get number of rows with parquetfile\n",
    "import pyarrow.parquet as pq\n",
    "parquet_file = pq.ParquetFile(filename)\n",
    "print('number of rows: ' + str(parquet_file.metadata.num_rows))\n",
    "print(parquet_file.metadata.schema)"
   ]
  },
  {
   "cell_type": "code",
   "execution_count": 12,
   "metadata": {},
   "outputs": [],
   "source": [
    "import duckdb\n",
    "\n",
    "con = duckdb.connect(database=':memory:', read_only=False)"
   ]
  },
  {
   "cell_type": "code",
   "execution_count": 13,
   "metadata": {},
   "outputs": [
    {
     "data": {
      "text/html": [
       "<div>\n",
       "<style scoped>\n",
       "    .dataframe tbody tr th:only-of-type {\n",
       "        vertical-align: middle;\n",
       "    }\n",
       "\n",
       "    .dataframe tbody tr th {\n",
       "        vertical-align: top;\n",
       "    }\n",
       "\n",
       "    .dataframe thead th {\n",
       "        text-align: right;\n",
       "    }\n",
       "</style>\n",
       "<table border=\"1\" class=\"dataframe\">\n",
       "  <thead>\n",
       "    <tr style=\"text-align: right;\">\n",
       "      <th></th>\n",
       "      <th>count_star()</th>\n",
       "    </tr>\n",
       "  </thead>\n",
       "  <tbody>\n",
       "    <tr>\n",
       "      <th>0</th>\n",
       "      <td>93529599</td>\n",
       "    </tr>\n",
       "  </tbody>\n",
       "</table>\n",
       "</div>"
      ],
      "text/plain": [
       "   count_star()\n",
       "0      93529599"
      ]
     },
     "execution_count": 13,
     "metadata": {},
     "output_type": "execute_result"
    }
   ],
   "source": [
    "con.execute(f'select count(*) from {filename}').df()"
   ]
  },
  {
   "cell_type": "code",
   "execution_count": 20,
   "metadata": {},
   "outputs": [
    {
     "ename": "OutOfMemoryException",
     "evalue": "Out of Memory Error: failed to allocate data of size 2.0MB (6.8GB/6.8GB used)",
     "output_type": "error",
     "traceback": [
      "\u001b[0;31m---------------------------------------------------------------------------\u001b[0m",
      "\u001b[0;31mOutOfMemoryException\u001b[0m                      Traceback (most recent call last)",
      "Cell \u001b[0;32mIn[20], line 2\u001b[0m\n\u001b[1;32m      1\u001b[0m \u001b[39m# count distinct rows\u001b[39;00m\n\u001b[0;32m----> 2\u001b[0m con\u001b[39m.\u001b[39;49mexecute(\u001b[39mf\u001b[39;49m\u001b[39m'\u001b[39;49m\u001b[39mselect count(distinct row_id) from \u001b[39;49m\u001b[39m{\u001b[39;49;00mfilename\u001b[39m}\u001b[39;49;00m\u001b[39m'\u001b[39;49m)\u001b[39m.\u001b[39mdf()\n",
      "\u001b[0;31mOutOfMemoryException\u001b[0m: Out of Memory Error: failed to allocate data of size 2.0MB (6.8GB/6.8GB used)"
     ]
    }
   ],
   "source": [
    "# count distinct rows\n",
    "con.execute(f'select count(distinct row_id) from {filename}').df()"
   ]
  },
  {
   "cell_type": "code",
   "execution_count": 15,
   "metadata": {},
   "outputs": [
    {
     "data": {
      "text/html": [
       "<div>\n",
       "<style scoped>\n",
       "    .dataframe tbody tr th:only-of-type {\n",
       "        vertical-align: middle;\n",
       "    }\n",
       "\n",
       "    .dataframe tbody tr th {\n",
       "        vertical-align: top;\n",
       "    }\n",
       "\n",
       "    .dataframe thead th {\n",
       "        text-align: right;\n",
       "    }\n",
       "</style>\n",
       "<table border=\"1\" class=\"dataframe\">\n",
       "  <thead>\n",
       "    <tr style=\"text-align: right;\">\n",
       "      <th></th>\n",
       "      <th>census_id</th>\n",
       "      <th>deepdao_organization_id</th>\n",
       "      <th>deepdao_name</th>\n",
       "      <th>census_name</th>\n",
       "      <th>row_id</th>\n",
       "      <th>similarity</th>\n",
       "    </tr>\n",
       "  </thead>\n",
       "  <tbody>\n",
       "    <tr>\n",
       "      <th>0</th>\n",
       "      <td>30f80d86-7669-50de-83ec-ec1343a2ea54</td>\n",
       "      <td>61e9839b-f517-4141-a379-12b1f4e9085c</td>\n",
       "      <td>Tough Turtles Tribe</td>\n",
       "      <td>FstSwap</td>\n",
       "      <td>30f80d86-7669-50de-83ec-ec1343a2ea54_61e9839b-...</td>\n",
       "      <td>0.178658</td>\n",
       "    </tr>\n",
       "    <tr>\n",
       "      <th>1</th>\n",
       "      <td>30f80d86-7669-50de-83ec-ec1343a2ea54</td>\n",
       "      <td>015b39b2-98fe-4183-a4c9-1b9aec49b1fd</td>\n",
       "      <td>toweb3</td>\n",
       "      <td>FstSwap</td>\n",
       "      <td>30f80d86-7669-50de-83ec-ec1343a2ea54_015b39b2-...</td>\n",
       "      <td>0.208167</td>\n",
       "    </tr>\n",
       "    <tr>\n",
       "      <th>2</th>\n",
       "      <td>30f80d86-7669-50de-83ec-ec1343a2ea54</td>\n",
       "      <td>4fce2184-7330-411b-ad69-34bdfe5aa481</td>\n",
       "      <td>TPT DAO</td>\n",
       "      <td>FstSwap</td>\n",
       "      <td>30f80d86-7669-50de-83ec-ec1343a2ea54_4fce2184-...</td>\n",
       "      <td>0.272460</td>\n",
       "    </tr>\n",
       "    <tr>\n",
       "      <th>3</th>\n",
       "      <td>30f80d86-7669-50de-83ec-ec1343a2ea54</td>\n",
       "      <td>f533f01e-a196-4cb7-9303-50528c7317a2</td>\n",
       "      <td>Trips</td>\n",
       "      <td>FstSwap</td>\n",
       "      <td>30f80d86-7669-50de-83ec-ec1343a2ea54_f533f01e-...</td>\n",
       "      <td>0.159215</td>\n",
       "    </tr>\n",
       "    <tr>\n",
       "      <th>4</th>\n",
       "      <td>30f80d86-7669-50de-83ec-ec1343a2ea54</td>\n",
       "      <td>6107a8fa-d2e3-45ea-8619-1ab59203e093</td>\n",
       "      <td>UkraineDAO</td>\n",
       "      <td>FstSwap</td>\n",
       "      <td>30f80d86-7669-50de-83ec-ec1343a2ea54_6107a8fa-...</td>\n",
       "      <td>0.197024</td>\n",
       "    </tr>\n",
       "  </tbody>\n",
       "</table>\n",
       "</div>"
      ],
      "text/plain": [
       "                              census_id               deepdao_organization_id  \\\n",
       "0  30f80d86-7669-50de-83ec-ec1343a2ea54  61e9839b-f517-4141-a379-12b1f4e9085c   \n",
       "1  30f80d86-7669-50de-83ec-ec1343a2ea54  015b39b2-98fe-4183-a4c9-1b9aec49b1fd   \n",
       "2  30f80d86-7669-50de-83ec-ec1343a2ea54  4fce2184-7330-411b-ad69-34bdfe5aa481   \n",
       "3  30f80d86-7669-50de-83ec-ec1343a2ea54  f533f01e-a196-4cb7-9303-50528c7317a2   \n",
       "4  30f80d86-7669-50de-83ec-ec1343a2ea54  6107a8fa-d2e3-45ea-8619-1ab59203e093   \n",
       "\n",
       "          deepdao_name census_name  \\\n",
       "0  Tough Turtles Tribe     FstSwap   \n",
       "1               toweb3     FstSwap   \n",
       "2              TPT DAO     FstSwap   \n",
       "3                Trips     FstSwap   \n",
       "4           UkraineDAO     FstSwap   \n",
       "\n",
       "                                              row_id  similarity  \n",
       "0  30f80d86-7669-50de-83ec-ec1343a2ea54_61e9839b-...    0.178658  \n",
       "1  30f80d86-7669-50de-83ec-ec1343a2ea54_015b39b2-...    0.208167  \n",
       "2  30f80d86-7669-50de-83ec-ec1343a2ea54_4fce2184-...    0.272460  \n",
       "3  30f80d86-7669-50de-83ec-ec1343a2ea54_f533f01e-...    0.159215  \n",
       "4  30f80d86-7669-50de-83ec-ec1343a2ea54_6107a8fa-...    0.197024  "
      ]
     },
     "execution_count": 15,
     "metadata": {},
     "output_type": "execute_result"
    }
   ],
   "source": [
    "con.execute(f'select * from {filename} limit 5').df()"
   ]
  },
  {
   "cell_type": "code",
   "execution_count": 23,
   "metadata": {},
   "outputs": [
    {
     "data": {
      "text/html": [
       "<div>\n",
       "<style scoped>\n",
       "    .dataframe tbody tr th:only-of-type {\n",
       "        vertical-align: middle;\n",
       "    }\n",
       "\n",
       "    .dataframe tbody tr th {\n",
       "        vertical-align: top;\n",
       "    }\n",
       "\n",
       "    .dataframe thead th {\n",
       "        text-align: right;\n",
       "    }\n",
       "</style>\n",
       "<table border=\"1\" class=\"dataframe\">\n",
       "  <thead>\n",
       "    <tr style=\"text-align: right;\">\n",
       "      <th></th>\n",
       "      <th>count(DISTINCT row_id)</th>\n",
       "    </tr>\n",
       "  </thead>\n",
       "  <tbody>\n",
       "    <tr>\n",
       "      <th>0</th>\n",
       "      <td>2955</td>\n",
       "    </tr>\n",
       "  </tbody>\n",
       "</table>\n",
       "</div>"
      ],
      "text/plain": [
       "   count(DISTINCT row_id)\n",
       "0                    2955"
      ]
     },
     "execution_count": 23,
     "metadata": {},
     "output_type": "execute_result"
    }
   ],
   "source": [
    "query = f\"\"\"\n",
    "SELECT\n",
    "    count(distinct row_id)\n",
    "FROM\n",
    "    {filename}\n",
    "WHERE\n",
    "    similarity > 0.85\n",
    "\"\"\"\n",
    "con.execute(query).df()"
   ]
  },
  {
   "cell_type": "code",
   "execution_count": 26,
   "metadata": {},
   "outputs": [
    {
     "data": {
      "text/html": [
       "<div>\n",
       "<style scoped>\n",
       "    .dataframe tbody tr th:only-of-type {\n",
       "        vertical-align: middle;\n",
       "    }\n",
       "\n",
       "    .dataframe tbody tr th {\n",
       "        vertical-align: top;\n",
       "    }\n",
       "\n",
       "    .dataframe thead th {\n",
       "        text-align: right;\n",
       "    }\n",
       "</style>\n",
       "<table border=\"1\" class=\"dataframe\">\n",
       "  <thead>\n",
       "    <tr style=\"text-align: right;\">\n",
       "      <th></th>\n",
       "      <th>count(DISTINCT row_id)</th>\n",
       "    </tr>\n",
       "  </thead>\n",
       "  <tbody>\n",
       "    <tr>\n",
       "      <th>0</th>\n",
       "      <td>311</td>\n",
       "    </tr>\n",
       "  </tbody>\n",
       "</table>\n",
       "</div>"
      ],
      "text/plain": [
       "   count(DISTINCT row_id)\n",
       "0                     311"
      ]
     },
     "execution_count": 26,
     "metadata": {},
     "output_type": "execute_result"
    }
   ],
   "source": [
    "query = f\"\"\"\n",
    "SELECT\n",
    "    count(distinct row_id)\n",
    "FROM\n",
    "    {filename}\n",
    "WHERE\n",
    "    similarity == 1\n",
    "\"\"\"\n",
    "con.execute(query).df()"
   ]
  },
  {
   "cell_type": "code",
   "execution_count": null,
   "metadata": {},
   "outputs": [],
   "source": [
    "# there are 2955 potential matches of deepdao names < - > census names that\n",
    "# we should review manually"
   ]
  }
 ],
 "metadata": {
  "kernelspec": {
   "display_name": "Python 3",
   "language": "python",
   "name": "python3"
  },
  "language_info": {
   "codemirror_mode": {
    "name": "ipython",
    "version": 3
   },
   "file_extension": ".py",
   "mimetype": "text/x-python",
   "name": "python",
   "nbconvert_exporter": "python",
   "pygments_lexer": "ipython3",
   "version": "3.11.4"
  },
  "orig_nbformat": 4
 },
 "nbformat": 4,
 "nbformat_minor": 2
}
