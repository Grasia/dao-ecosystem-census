{
 "cells": [
  {
   "cell_type": "code",
   "execution_count": 26,
   "metadata": {},
   "outputs": [
    {
     "name": "stdout",
     "output_type": "stream",
     "text": [
      "number of rows: 93529599\n",
      "<pyarrow._parquet.ParquetSchema object at 0x10b21a480>\n",
      "required group field_id=-1 schema {\n",
      "  optional binary field_id=-1 census_id (String);\n",
      "  optional binary field_id=-1 deepdao_organization_id (String);\n",
      "  optional binary field_id=-1 deepdao_name (String);\n",
      "  optional binary field_id=-1 census_name (String);\n",
      "  optional binary field_id=-1 row_id (String);\n",
      "  optional float field_id=-1 similarity;\n",
      "}\n",
      "\n"
     ]
    }
   ],
   "source": [
    "filename = 'pairs_with_similarity_merged_from_server.parquet'\n",
    "# filename = 'pairs_with_similarity/out_4.parquet'\n",
    "\n",
    "\n",
    "# get number of rows with parquetfile\n",
    "import pyarrow.parquet as pq\n",
    "parquet_file = pq.ParquetFile(filename)\n",
    "print('number of rows: ' + str(parquet_file.metadata.num_rows))\n",
    "print(parquet_file.metadata.schema)"
   ]
  },
  {
   "cell_type": "code",
   "execution_count": 27,
   "metadata": {},
   "outputs": [],
   "source": [
    "import duckdb\n",
    "\n",
    "con = duckdb.connect(database=':memory:', read_only=False)"
   ]
  },
  {
   "cell_type": "code",
   "execution_count": 28,
   "metadata": {},
   "outputs": [
    {
     "data": {
      "text/html": [
       "<div>\n",
       "<style scoped>\n",
       "    .dataframe tbody tr th:only-of-type {\n",
       "        vertical-align: middle;\n",
       "    }\n",
       "\n",
       "    .dataframe tbody tr th {\n",
       "        vertical-align: top;\n",
       "    }\n",
       "\n",
       "    .dataframe thead th {\n",
       "        text-align: right;\n",
       "    }\n",
       "</style>\n",
       "<table border=\"1\" class=\"dataframe\">\n",
       "  <thead>\n",
       "    <tr style=\"text-align: right;\">\n",
       "      <th></th>\n",
       "      <th>count_star()</th>\n",
       "    </tr>\n",
       "  </thead>\n",
       "  <tbody>\n",
       "    <tr>\n",
       "      <th>0</th>\n",
       "      <td>93529599</td>\n",
       "    </tr>\n",
       "  </tbody>\n",
       "</table>\n",
       "</div>"
      ],
      "text/plain": [
       "   count_star()\n",
       "0      93529599"
      ]
     },
     "execution_count": 28,
     "metadata": {},
     "output_type": "execute_result"
    }
   ],
   "source": [
    "con.execute(f'select count(*) from {filename}').df()"
   ]
  },
  {
   "cell_type": "code",
   "execution_count": 29,
   "metadata": {},
   "outputs": [],
   "source": [
    "# count distinct rows\n",
    "# con.execute(f'select count(distinct row_id) from {filename}').df()"
   ]
  },
  {
   "cell_type": "code",
   "execution_count": 30,
   "metadata": {},
   "outputs": [
    {
     "data": {
      "text/html": [
       "<div>\n",
       "<style scoped>\n",
       "    .dataframe tbody tr th:only-of-type {\n",
       "        vertical-align: middle;\n",
       "    }\n",
       "\n",
       "    .dataframe tbody tr th {\n",
       "        vertical-align: top;\n",
       "    }\n",
       "\n",
       "    .dataframe thead th {\n",
       "        text-align: right;\n",
       "    }\n",
       "</style>\n",
       "<table border=\"1\" class=\"dataframe\">\n",
       "  <thead>\n",
       "    <tr style=\"text-align: right;\">\n",
       "      <th></th>\n",
       "      <th>census_id</th>\n",
       "      <th>deepdao_organization_id</th>\n",
       "      <th>deepdao_name</th>\n",
       "      <th>census_name</th>\n",
       "      <th>row_id</th>\n",
       "      <th>similarity</th>\n",
       "    </tr>\n",
       "  </thead>\n",
       "  <tbody>\n",
       "    <tr>\n",
       "      <th>0</th>\n",
       "      <td>30f80d86-7669-50de-83ec-ec1343a2ea54</td>\n",
       "      <td>61e9839b-f517-4141-a379-12b1f4e9085c</td>\n",
       "      <td>Tough Turtles Tribe</td>\n",
       "      <td>FstSwap</td>\n",
       "      <td>30f80d86-7669-50de-83ec-ec1343a2ea54_61e9839b-...</td>\n",
       "      <td>0.178658</td>\n",
       "    </tr>\n",
       "    <tr>\n",
       "      <th>1</th>\n",
       "      <td>30f80d86-7669-50de-83ec-ec1343a2ea54</td>\n",
       "      <td>015b39b2-98fe-4183-a4c9-1b9aec49b1fd</td>\n",
       "      <td>toweb3</td>\n",
       "      <td>FstSwap</td>\n",
       "      <td>30f80d86-7669-50de-83ec-ec1343a2ea54_015b39b2-...</td>\n",
       "      <td>0.208167</td>\n",
       "    </tr>\n",
       "    <tr>\n",
       "      <th>2</th>\n",
       "      <td>30f80d86-7669-50de-83ec-ec1343a2ea54</td>\n",
       "      <td>4fce2184-7330-411b-ad69-34bdfe5aa481</td>\n",
       "      <td>TPT DAO</td>\n",
       "      <td>FstSwap</td>\n",
       "      <td>30f80d86-7669-50de-83ec-ec1343a2ea54_4fce2184-...</td>\n",
       "      <td>0.272460</td>\n",
       "    </tr>\n",
       "    <tr>\n",
       "      <th>3</th>\n",
       "      <td>30f80d86-7669-50de-83ec-ec1343a2ea54</td>\n",
       "      <td>f533f01e-a196-4cb7-9303-50528c7317a2</td>\n",
       "      <td>Trips</td>\n",
       "      <td>FstSwap</td>\n",
       "      <td>30f80d86-7669-50de-83ec-ec1343a2ea54_f533f01e-...</td>\n",
       "      <td>0.159215</td>\n",
       "    </tr>\n",
       "    <tr>\n",
       "      <th>4</th>\n",
       "      <td>30f80d86-7669-50de-83ec-ec1343a2ea54</td>\n",
       "      <td>6107a8fa-d2e3-45ea-8619-1ab59203e093</td>\n",
       "      <td>UkraineDAO</td>\n",
       "      <td>FstSwap</td>\n",
       "      <td>30f80d86-7669-50de-83ec-ec1343a2ea54_6107a8fa-...</td>\n",
       "      <td>0.197024</td>\n",
       "    </tr>\n",
       "  </tbody>\n",
       "</table>\n",
       "</div>"
      ],
      "text/plain": [
       "                              census_id               deepdao_organization_id  \\\n",
       "0  30f80d86-7669-50de-83ec-ec1343a2ea54  61e9839b-f517-4141-a379-12b1f4e9085c   \n",
       "1  30f80d86-7669-50de-83ec-ec1343a2ea54  015b39b2-98fe-4183-a4c9-1b9aec49b1fd   \n",
       "2  30f80d86-7669-50de-83ec-ec1343a2ea54  4fce2184-7330-411b-ad69-34bdfe5aa481   \n",
       "3  30f80d86-7669-50de-83ec-ec1343a2ea54  f533f01e-a196-4cb7-9303-50528c7317a2   \n",
       "4  30f80d86-7669-50de-83ec-ec1343a2ea54  6107a8fa-d2e3-45ea-8619-1ab59203e093   \n",
       "\n",
       "          deepdao_name census_name  \\\n",
       "0  Tough Turtles Tribe     FstSwap   \n",
       "1               toweb3     FstSwap   \n",
       "2              TPT DAO     FstSwap   \n",
       "3                Trips     FstSwap   \n",
       "4           UkraineDAO     FstSwap   \n",
       "\n",
       "                                              row_id  similarity  \n",
       "0  30f80d86-7669-50de-83ec-ec1343a2ea54_61e9839b-...    0.178658  \n",
       "1  30f80d86-7669-50de-83ec-ec1343a2ea54_015b39b2-...    0.208167  \n",
       "2  30f80d86-7669-50de-83ec-ec1343a2ea54_4fce2184-...    0.272460  \n",
       "3  30f80d86-7669-50de-83ec-ec1343a2ea54_f533f01e-...    0.159215  \n",
       "4  30f80d86-7669-50de-83ec-ec1343a2ea54_6107a8fa-...    0.197024  "
      ]
     },
     "execution_count": 30,
     "metadata": {},
     "output_type": "execute_result"
    }
   ],
   "source": [
    "con.execute(f'select * from {filename} limit 5').df()"
   ]
  },
  {
   "cell_type": "code",
   "execution_count": 31,
   "metadata": {},
   "outputs": [
    {
     "data": {
      "text/html": [
       "<div>\n",
       "<style scoped>\n",
       "    .dataframe tbody tr th:only-of-type {\n",
       "        vertical-align: middle;\n",
       "    }\n",
       "\n",
       "    .dataframe tbody tr th {\n",
       "        vertical-align: top;\n",
       "    }\n",
       "\n",
       "    .dataframe thead th {\n",
       "        text-align: right;\n",
       "    }\n",
       "</style>\n",
       "<table border=\"1\" class=\"dataframe\">\n",
       "  <thead>\n",
       "    <tr style=\"text-align: right;\">\n",
       "      <th></th>\n",
       "      <th>count(DISTINCT row_id)</th>\n",
       "    </tr>\n",
       "  </thead>\n",
       "  <tbody>\n",
       "    <tr>\n",
       "      <th>0</th>\n",
       "      <td>2955</td>\n",
       "    </tr>\n",
       "  </tbody>\n",
       "</table>\n",
       "</div>"
      ],
      "text/plain": [
       "   count(DISTINCT row_id)\n",
       "0                    2955"
      ]
     },
     "execution_count": 31,
     "metadata": {},
     "output_type": "execute_result"
    }
   ],
   "source": [
    "query = f\"\"\"\n",
    "SELECT\n",
    "    count(distinct row_id)\n",
    "FROM\n",
    "    {filename}\n",
    "WHERE\n",
    "    similarity > 0.85\n",
    "\"\"\"\n",
    "con.execute(query).df()"
   ]
  },
  {
   "cell_type": "code",
   "execution_count": 32,
   "metadata": {},
   "outputs": [
    {
     "data": {
      "text/html": [
       "<div>\n",
       "<style scoped>\n",
       "    .dataframe tbody tr th:only-of-type {\n",
       "        vertical-align: middle;\n",
       "    }\n",
       "\n",
       "    .dataframe tbody tr th {\n",
       "        vertical-align: top;\n",
       "    }\n",
       "\n",
       "    .dataframe thead th {\n",
       "        text-align: right;\n",
       "    }\n",
       "</style>\n",
       "<table border=\"1\" class=\"dataframe\">\n",
       "  <thead>\n",
       "    <tr style=\"text-align: right;\">\n",
       "      <th></th>\n",
       "      <th>count(DISTINCT row_id)</th>\n",
       "    </tr>\n",
       "  </thead>\n",
       "  <tbody>\n",
       "    <tr>\n",
       "      <th>0</th>\n",
       "      <td>311</td>\n",
       "    </tr>\n",
       "  </tbody>\n",
       "</table>\n",
       "</div>"
      ],
      "text/plain": [
       "   count(DISTINCT row_id)\n",
       "0                     311"
      ]
     },
     "execution_count": 32,
     "metadata": {},
     "output_type": "execute_result"
    }
   ],
   "source": [
    "query = f\"\"\"\n",
    "SELECT\n",
    "    count(distinct row_id)\n",
    "FROM\n",
    "    {filename}\n",
    "WHERE\n",
    "    similarity == 1\n",
    "\"\"\"\n",
    "con.execute(query).df()"
   ]
  },
  {
   "cell_type": "code",
   "execution_count": 33,
   "metadata": {},
   "outputs": [],
   "source": [
    "# there are 2955 potential matches of deepdao names < - > census names that\n",
    "# we should review manually"
   ]
  },
  {
   "cell_type": "code",
   "execution_count": 34,
   "metadata": {},
   "outputs": [
    {
     "data": {
      "text/plain": [
       "(2955, 6)"
      ]
     },
     "execution_count": 34,
     "metadata": {},
     "output_type": "execute_result"
    }
   ],
   "source": [
    "query = f\"\"\"\n",
    "SELECT\n",
    "    distinct row_id,\n",
    "    census_id,\n",
    "    deepdao_organization_id,\n",
    "    similarity,\n",
    "    deepdao_name,\n",
    "    census_name,\n",
    "FROM\n",
    "    {filename}\n",
    "WHERE\n",
    "    similarity > 0.85\n",
    "ORDER BY\n",
    "    similarity DESC\n",
    "\"\"\"\n",
    "over_85_similarity = con.execute(query).df()\n",
    "over_85_similarity.shape"
   ]
  },
  {
   "cell_type": "code",
   "execution_count": 35,
   "metadata": {},
   "outputs": [
    {
     "data": {
      "text/html": [
       "<div>\n",
       "<style scoped>\n",
       "    .dataframe tbody tr th:only-of-type {\n",
       "        vertical-align: middle;\n",
       "    }\n",
       "\n",
       "    .dataframe tbody tr th {\n",
       "        vertical-align: top;\n",
       "    }\n",
       "\n",
       "    .dataframe thead th {\n",
       "        text-align: right;\n",
       "    }\n",
       "</style>\n",
       "<table border=\"1\" class=\"dataframe\">\n",
       "  <thead>\n",
       "    <tr style=\"text-align: right;\">\n",
       "      <th></th>\n",
       "      <th>row_id</th>\n",
       "      <th>census_id</th>\n",
       "      <th>deepdao_organization_id</th>\n",
       "      <th>similarity</th>\n",
       "      <th>deepdao_name</th>\n",
       "      <th>census_name</th>\n",
       "    </tr>\n",
       "  </thead>\n",
       "  <tbody>\n",
       "    <tr>\n",
       "      <th>0</th>\n",
       "      <td>6d7ddfc3-45c2-5d97-89a4-2eb58ab2ac89_309c23fe-...</td>\n",
       "      <td>6d7ddfc3-45c2-5d97-89a4-2eb58ab2ac89</td>\n",
       "      <td>309c23fe-7ac9-4dee-b0a4-9554f892080d</td>\n",
       "      <td>1.000001</td>\n",
       "      <td>Infinity DAO</td>\n",
       "      <td>Infinity DAO</td>\n",
       "    </tr>\n",
       "    <tr>\n",
       "      <th>1</th>\n",
       "      <td>4c314aee-f42d-5561-bb7d-aa973f1aaa15_4d87c6cc-...</td>\n",
       "      <td>4c314aee-f42d-5561-bb7d-aa973f1aaa15</td>\n",
       "      <td>4d87c6cc-c5da-4e0b-8e58-0b0a9415ec4c</td>\n",
       "      <td>1.000001</td>\n",
       "      <td>SIL</td>\n",
       "      <td>SIL</td>\n",
       "    </tr>\n",
       "    <tr>\n",
       "      <th>2</th>\n",
       "      <td>7be6f774-43d7-5918-999b-64012eabb221_d11f1261-...</td>\n",
       "      <td>7be6f774-43d7-5918-999b-64012eabb221</td>\n",
       "      <td>d11f1261-975b-49b5-a801-25af19bf941d</td>\n",
       "      <td>1.000001</td>\n",
       "      <td>Futera United</td>\n",
       "      <td>Futera United</td>\n",
       "    </tr>\n",
       "    <tr>\n",
       "      <th>3</th>\n",
       "      <td>4e9da6a1-25d4-59fc-b5b5-499df7bb8066_4906405c-...</td>\n",
       "      <td>4e9da6a1-25d4-59fc-b5b5-499df7bb8066</td>\n",
       "      <td>4906405c-5416-4191-b93d-8226521f81ce</td>\n",
       "      <td>1.000001</td>\n",
       "      <td>Prosper</td>\n",
       "      <td>Prosper</td>\n",
       "    </tr>\n",
       "    <tr>\n",
       "      <th>4</th>\n",
       "      <td>46776176-4ad2-59c6-9419-9107aeb88830_7383071b-...</td>\n",
       "      <td>46776176-4ad2-59c6-9419-9107aeb88830</td>\n",
       "      <td>7383071b-5c36-4917-8ecd-a70d2b8b42cd</td>\n",
       "      <td>1.000001</td>\n",
       "      <td>Genesis Blocks</td>\n",
       "      <td>Genesis Blocks</td>\n",
       "    </tr>\n",
       "  </tbody>\n",
       "</table>\n",
       "</div>"
      ],
      "text/plain": [
       "                                              row_id  \\\n",
       "0  6d7ddfc3-45c2-5d97-89a4-2eb58ab2ac89_309c23fe-...   \n",
       "1  4c314aee-f42d-5561-bb7d-aa973f1aaa15_4d87c6cc-...   \n",
       "2  7be6f774-43d7-5918-999b-64012eabb221_d11f1261-...   \n",
       "3  4e9da6a1-25d4-59fc-b5b5-499df7bb8066_4906405c-...   \n",
       "4  46776176-4ad2-59c6-9419-9107aeb88830_7383071b-...   \n",
       "\n",
       "                              census_id               deepdao_organization_id  \\\n",
       "0  6d7ddfc3-45c2-5d97-89a4-2eb58ab2ac89  309c23fe-7ac9-4dee-b0a4-9554f892080d   \n",
       "1  4c314aee-f42d-5561-bb7d-aa973f1aaa15  4d87c6cc-c5da-4e0b-8e58-0b0a9415ec4c   \n",
       "2  7be6f774-43d7-5918-999b-64012eabb221  d11f1261-975b-49b5-a801-25af19bf941d   \n",
       "3  4e9da6a1-25d4-59fc-b5b5-499df7bb8066  4906405c-5416-4191-b93d-8226521f81ce   \n",
       "4  46776176-4ad2-59c6-9419-9107aeb88830  7383071b-5c36-4917-8ecd-a70d2b8b42cd   \n",
       "\n",
       "   similarity    deepdao_name     census_name  \n",
       "0    1.000001    Infinity DAO    Infinity DAO  \n",
       "1    1.000001             SIL             SIL  \n",
       "2    1.000001   Futera United   Futera United  \n",
       "3    1.000001         Prosper         Prosper  \n",
       "4    1.000001  Genesis Blocks  Genesis Blocks  "
      ]
     },
     "execution_count": 35,
     "metadata": {},
     "output_type": "execute_result"
    }
   ],
   "source": [
    "over_85_similarity.head()"
   ]
  },
  {
   "cell_type": "code",
   "execution_count": 36,
   "metadata": {},
   "outputs": [],
   "source": [
    "# save to excel\n",
    "over_85_similarity.to_excel('over_85_similarity.xlsx')"
   ]
  }
 ],
 "metadata": {
  "kernelspec": {
   "display_name": "Python 3",
   "language": "python",
   "name": "python3"
  },
  "language_info": {
   "codemirror_mode": {
    "name": "ipython",
    "version": 3
   },
   "file_extension": ".py",
   "mimetype": "text/x-python",
   "name": "python",
   "nbconvert_exporter": "python",
   "pygments_lexer": "ipython3",
   "version": "3.11.4"
  },
  "orig_nbformat": 4
 },
 "nbformat": 4,
 "nbformat_minor": 2
}
