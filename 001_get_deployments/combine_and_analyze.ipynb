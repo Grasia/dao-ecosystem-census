{
 "cells": [
  {
   "cell_type": "code",
   "execution_count": 52,
   "metadata": {},
   "outputs": [
    {
     "data": {
      "text/plain": [
       "['./snapshot/snapshot_deployments.csv',\n",
       " './aragon/aragon_deployments.csv',\n",
       " './daostack/daostack_deployments.csv',\n",
       " './realms/realm_deployments.csv',\n",
       " './tally/tally_deployments.csv',\n",
       " './daohaus/dao_deployments.csv']"
      ]
     },
     "execution_count": 52,
     "metadata": {},
     "output_type": "execute_result"
    }
   ],
   "source": [
    "# get all the csvs that end with _deployments.csv in this directory\n",
    "import glob\n",
    "csvs = glob.glob('./*/[a-z]*_deployments.csv')\n",
    "csvs"
   ]
  },
  {
   "cell_type": "code",
   "execution_count": 53,
   "metadata": {},
   "outputs": [
    {
     "data": {
      "text/html": [
       "<div>\n",
       "<style scoped>\n",
       "    .dataframe tbody tr th:only-of-type {\n",
       "        vertical-align: middle;\n",
       "    }\n",
       "\n",
       "    .dataframe tbody tr th {\n",
       "        vertical-align: top;\n",
       "    }\n",
       "\n",
       "    .dataframe thead th {\n",
       "        text-align: right;\n",
       "    }\n",
       "</style>\n",
       "<table border=\"1\" class=\"dataframe\">\n",
       "  <thead>\n",
       "    <tr style=\"text-align: right;\">\n",
       "      <th></th>\n",
       "      <th>platform</th>\n",
       "      <th>platform_id</th>\n",
       "      <th>name</th>\n",
       "      <th>additional</th>\n",
       "      <th>website</th>\n",
       "    </tr>\n",
       "  </thead>\n",
       "  <tbody>\n",
       "    <tr>\n",
       "      <th>0</th>\n",
       "      <td>snapshot</td>\n",
       "      <td>odidao.eth</td>\n",
       "      <td>ODI DAO</td>\n",
       "      <td>NaN</td>\n",
       "      <td>https://snapshot.org/#/odidao.eth</td>\n",
       "    </tr>\n",
       "    <tr>\n",
       "      <th>1</th>\n",
       "      <td>snapshot</td>\n",
       "      <td>olodao.eth</td>\n",
       "      <td>YING TG</td>\n",
       "      <td>https://www.partybid.app/buy/0xB74BE402fEfE6bb...</td>\n",
       "      <td>https://snapshot.org/#/olodao.eth</td>\n",
       "    </tr>\n",
       "    <tr>\n",
       "      <th>2</th>\n",
       "      <td>snapshot</td>\n",
       "      <td>onearth.eth</td>\n",
       "      <td>OnEarth DAO</td>\n",
       "      <td>kevinonearth999, https://imagineonearth.xpandr...</td>\n",
       "      <td>https://snapshot.org/#/onearth.eth</td>\n",
       "    </tr>\n",
       "    <tr>\n",
       "      <th>3</th>\n",
       "      <td>snapshot</td>\n",
       "      <td>opyn11.eth</td>\n",
       "      <td>opyn11</td>\n",
       "      <td>NaN</td>\n",
       "      <td>https://snapshot.org/#/opyn11.eth</td>\n",
       "    </tr>\n",
       "    <tr>\n",
       "      <th>4</th>\n",
       "      <td>snapshot</td>\n",
       "      <td>partyplanningdao.eth</td>\n",
       "      <td>Party Planning DAO</td>\n",
       "      <td>NaN</td>\n",
       "      <td>https://snapshot.org/#/partyplanningdao.eth</td>\n",
       "    </tr>\n",
       "    <tr>\n",
       "      <th>...</th>\n",
       "      <td>...</td>\n",
       "      <td>...</td>\n",
       "      <td>...</td>\n",
       "      <td>...</td>\n",
       "      <td>...</td>\n",
       "    </tr>\n",
       "    <tr>\n",
       "      <th>21994</th>\n",
       "      <td>daohaus</td>\n",
       "      <td>0xff07943f171b826b3618982a6213f157fbc5e226</td>\n",
       "      <td>NaN</td>\n",
       "      <td>network: xdai version: 2.1</td>\n",
       "      <td>NaN</td>\n",
       "    </tr>\n",
       "    <tr>\n",
       "      <th>21995</th>\n",
       "      <td>daohaus</td>\n",
       "      <td>0xff3f8c0b98454306fb0bda57e5ae38cbfa66cc0d</td>\n",
       "      <td>array.finance CCO</td>\n",
       "      <td>network: xdai version: 2.1</td>\n",
       "      <td>NaN</td>\n",
       "    </tr>\n",
       "    <tr>\n",
       "      <th>21996</th>\n",
       "      <td>daohaus</td>\n",
       "      <td>0xff4b20d48a1e8f93bf6745de388547e731f96fd0</td>\n",
       "      <td>PRIDEdao</td>\n",
       "      <td>network: xdai version: 2.1</td>\n",
       "      <td>NaN</td>\n",
       "    </tr>\n",
       "    <tr>\n",
       "      <th>21997</th>\n",
       "      <td>daohaus</td>\n",
       "      <td>0xffb676765d521518ac5c0d4f4067a9db9b72901b</td>\n",
       "      <td>EmpanaDAO</td>\n",
       "      <td>network: xdai version: 2.0</td>\n",
       "      <td>NaN</td>\n",
       "    </tr>\n",
       "    <tr>\n",
       "      <th>21998</th>\n",
       "      <td>daohaus</td>\n",
       "      <td>0xffe8a8ec2477390c6b97074f44326fac24d7f6dd</td>\n",
       "      <td>Kokonut Network</td>\n",
       "      <td>network: xdai version: 2.1</td>\n",
       "      <td>NaN</td>\n",
       "    </tr>\n",
       "  </tbody>\n",
       "</table>\n",
       "<p>21999 rows × 5 columns</p>\n",
       "</div>"
      ],
      "text/plain": [
       "       platform                                 platform_id  \\\n",
       "0      snapshot                                  odidao.eth   \n",
       "1      snapshot                                  olodao.eth   \n",
       "2      snapshot                                 onearth.eth   \n",
       "3      snapshot                                  opyn11.eth   \n",
       "4      snapshot                        partyplanningdao.eth   \n",
       "...         ...                                         ...   \n",
       "21994   daohaus  0xff07943f171b826b3618982a6213f157fbc5e226   \n",
       "21995   daohaus  0xff3f8c0b98454306fb0bda57e5ae38cbfa66cc0d   \n",
       "21996   daohaus  0xff4b20d48a1e8f93bf6745de388547e731f96fd0   \n",
       "21997   daohaus  0xffb676765d521518ac5c0d4f4067a9db9b72901b   \n",
       "21998   daohaus  0xffe8a8ec2477390c6b97074f44326fac24d7f6dd   \n",
       "\n",
       "                     name                                         additional  \\\n",
       "0                 ODI DAO                                                NaN   \n",
       "1                 YING TG  https://www.partybid.app/buy/0xB74BE402fEfE6bb...   \n",
       "2             OnEarth DAO  kevinonearth999, https://imagineonearth.xpandr...   \n",
       "3                  opyn11                                                NaN   \n",
       "4      Party Planning DAO                                                NaN   \n",
       "...                   ...                                                ...   \n",
       "21994                 NaN                         network: xdai version: 2.1   \n",
       "21995   array.finance CCO                         network: xdai version: 2.1   \n",
       "21996           PRIDEdao                          network: xdai version: 2.1   \n",
       "21997           EmpanaDAO                         network: xdai version: 2.0   \n",
       "21998     Kokonut Network                         network: xdai version: 2.1   \n",
       "\n",
       "                                           website  \n",
       "0                https://snapshot.org/#/odidao.eth  \n",
       "1                https://snapshot.org/#/olodao.eth  \n",
       "2               https://snapshot.org/#/onearth.eth  \n",
       "3                https://snapshot.org/#/opyn11.eth  \n",
       "4      https://snapshot.org/#/partyplanningdao.eth  \n",
       "...                                            ...  \n",
       "21994                                          NaN  \n",
       "21995                                          NaN  \n",
       "21996                                          NaN  \n",
       "21997                                          NaN  \n",
       "21998                                          NaN  \n",
       "\n",
       "[21999 rows x 5 columns]"
      ]
     },
     "execution_count": 53,
     "metadata": {},
     "output_type": "execute_result"
    }
   ],
   "source": [
    "# concat into one dataframe\n",
    "import pandas as pd\n",
    "df = pd.concat([pd.read_csv(csv) for csv in csvs])\n",
    "# reindex\n",
    "df = df.reset_index(drop=True)\n",
    "df"
   ]
  },
  {
   "cell_type": "code",
   "execution_count": 54,
   "metadata": {},
   "outputs": [],
   "source": [
    "# save to csv\n",
    "df.to_csv('all_deployments.csv', index=False)"
   ]
  },
  {
   "cell_type": "code",
   "execution_count": 55,
   "metadata": {},
   "outputs": [
    {
     "data": {
      "text/plain": [
       "0.8574026092095095"
      ]
     },
     "execution_count": 55,
     "metadata": {},
     "output_type": "execute_result"
    }
   ],
   "source": [
    "# what pct have names?\n",
    "df[df['name'].notnull()].shape[0] / df.shape[0]"
   ]
  },
  {
   "cell_type": "code",
   "execution_count": 56,
   "metadata": {},
   "outputs": [
    {
     "data": {
      "image/png": "[encoded data removed]",
      "text/plain": [
       "<Figure size 640x480 with 1 Axes>"
      ]
     },
     "metadata": {},
     "output_type": "display_data"
    }
   ],
   "source": [
    "# platform vlaue counts annotated with count\n",
    "import matplotlib.pyplot as plt\n",
    "df['platform'].value_counts().plot(kind='bar')\n",
    "# annotate\n",
    "for i, v in enumerate(df['platform'].value_counts()):\n",
    "    plt.text(i - .25, v + 200, str(v))\n",
    "# title\n",
    "plt.suptitle('Deployments by platform, no filtering')\n",
    "plt.title('Note: snapshot maxed out at 16k deployments', fontsize=8)\n",
    "plt.show()"
   ]
  }
 ],
 "metadata": {
  "kernelspec": {
   "display_name": "Python 3",
   "language": "python",
   "name": "python3"
  },
  "language_info": {
   "codemirror_mode": {
    "name": "ipython",
    "version": 3
   },
   "file_extension": ".py",
   "mimetype": "text/x-python",
   "name": "python",
   "nbconvert_exporter": "python",
   "pygments_lexer": "ipython3",
   "version": "3.11.3"
  },
  "orig_nbformat": 4
 },
 "nbformat": 4,
 "nbformat_minor": 2
}
