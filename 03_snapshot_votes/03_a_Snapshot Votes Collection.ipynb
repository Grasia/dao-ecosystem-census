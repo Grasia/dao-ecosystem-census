{
 "cells": [
  {
   "cell_type": "code",
   "execution_count": 11,
   "metadata": {},
   "outputs": [],
   "source": [
    "file_name = '../02_snapshot_proposals/1687517391_snapshot_proposals.csv'"
   ]
  },
  {
   "cell_type": "code",
   "execution_count": 12,
   "metadata": {},
   "outputs": [
    {
     "data": {
      "text/html": [
       "<div>\n",
       "<style scoped>\n",
       "    .dataframe tbody tr th:only-of-type {\n",
       "        vertical-align: middle;\n",
       "    }\n",
       "\n",
       "    .dataframe tbody tr th {\n",
       "        vertical-align: top;\n",
       "    }\n",
       "\n",
       "    .dataframe thead th {\n",
       "        text-align: right;\n",
       "    }\n",
       "</style>\n",
       "<table border=\"1\" class=\"dataframe\">\n",
       "  <thead>\n",
       "    <tr style=\"text-align: right;\">\n",
       "      <th></th>\n",
       "      <th>snapshotProposalId</th>\n",
       "      <th>ipfs</th>\n",
       "      <th>author</th>\n",
       "      <th>created</th>\n",
       "      <th>network</th>\n",
       "      <th>symbol</th>\n",
       "      <th>type</th>\n",
       "      <th>strategies</th>\n",
       "      <th>validation</th>\n",
       "      <th>plugins</th>\n",
       "      <th>...</th>\n",
       "      <th>app</th>\n",
       "      <th>scores</th>\n",
       "      <th>scores_by_strategy</th>\n",
       "      <th>scores_state</th>\n",
       "      <th>scores_total</th>\n",
       "      <th>scores_updated</th>\n",
       "      <th>votes</th>\n",
       "      <th>flagged</th>\n",
       "      <th>snapshotSpaceId</th>\n",
       "      <th>deepdaoDaoId</th>\n",
       "    </tr>\n",
       "  </thead>\n",
       "  <tbody>\n",
       "    <tr>\n",
       "      <th>0</th>\n",
       "      <td>0x24e4d8cb2153905edbda35621485bc2f1e7b16284715...</td>\n",
       "      <td>bafkreic6rtcenuvo5gin7evl2geaehukczi5k45hgtmgc...</td>\n",
       "      <td>0x0B49F78013B66F87D16b47d8903B134dA52320eC</td>\n",
       "      <td>2023-04-19 09:44:22</td>\n",
       "      <td>1.0</td>\n",
       "      <td>VOTE</td>\n",
       "      <td>single-choice</td>\n",
       "      <td>[{'network': '1', 'params': {'symbol': 'VOTE'}}]</td>\n",
       "      <td>{'params': {}}</td>\n",
       "      <td>{}</td>\n",
       "      <td>...</td>\n",
       "      <td>snapshot</td>\n",
       "      <td>[1, 1]</td>\n",
       "      <td>[[1], [1]]</td>\n",
       "      <td>final</td>\n",
       "      <td>2.000000e+00</td>\n",
       "      <td>2023-04-24 09:44:41</td>\n",
       "      <td>2.0</td>\n",
       "      <td>False</td>\n",
       "      <td>0888o.eth</td>\n",
       "      <td>3421106f-3e13-4c11-a190-7fa72cc23775</td>\n",
       "    </tr>\n",
       "    <tr>\n",
       "      <th>1</th>\n",
       "      <td>0xe59b47fbe39d277ec11c623e14ecd017b29749676899...</td>\n",
       "      <td>bafkreiaalano6gc2ogwlpa4uqe7qkygngfuvhjbt75woe...</td>\n",
       "      <td>0x63a370ABfC8Ed6132025f6dC8244DDF6205C174B</td>\n",
       "      <td>2022-12-14 06:28:19</td>\n",
       "      <td>1.0</td>\n",
       "      <td>VOTE</td>\n",
       "      <td>single-choice</td>\n",
       "      <td>[{'network': '1', 'params': {'symbol': 'VOTE'}}]</td>\n",
       "      <td>{'params': {}}</td>\n",
       "      <td>{}</td>\n",
       "      <td>...</td>\n",
       "      <td>snapshot</td>\n",
       "      <td>[3, 0]</td>\n",
       "      <td>[[3], [0]]</td>\n",
       "      <td>final</td>\n",
       "      <td>3.000000e+00</td>\n",
       "      <td>2022-12-17 06:28:22</td>\n",
       "      <td>3.0</td>\n",
       "      <td>False</td>\n",
       "      <td>0888o.eth</td>\n",
       "      <td>3421106f-3e13-4c11-a190-7fa72cc23775</td>\n",
       "    </tr>\n",
       "    <tr>\n",
       "      <th>2</th>\n",
       "      <td>0x912cf4df1d5c68d54aaebf2e8caaec512a963c66d5dd...</td>\n",
       "      <td>bafkreihe7kokanxqpm6qfa4a5upuc6wvy6r6hjr2ipdki...</td>\n",
       "      <td>0xe5F6Dbc39334f3E79C149efB8C8c9c8dEc474aF1</td>\n",
       "      <td>2023-06-19 08:46:45</td>\n",
       "      <td>137.0</td>\n",
       "      <td>GHST</td>\n",
       "      <td>weighted</td>\n",
       "      <td>[{'network': '137', 'params': {'limit': 200, '...</td>\n",
       "      <td>{'params': {}}</td>\n",
       "      <td>{}</td>\n",
       "      <td>...</td>\n",
       "      <td>snapshot</td>\n",
       "      <td>[1958026.574724768, 2845594.997544297]</td>\n",
       "      <td>[[1177.6593202962, 1285748.425, 50291.06664695...</td>\n",
       "      <td>pending</td>\n",
       "      <td>4.803622e+06</td>\n",
       "      <td>2023-06-23 10:39:07</td>\n",
       "      <td>1081.0</td>\n",
       "      <td>False</td>\n",
       "      <td>aavegotchi.eth</td>\n",
       "      <td>f41dad8c-b3c4-4884-864b-eadb7f1b85d8</td>\n",
       "    </tr>\n",
       "    <tr>\n",
       "      <th>3</th>\n",
       "      <td>0x3b8609c0632f23ea329f97d7c1de18f84313158aabd1...</td>\n",
       "      <td>bafkreia7mtnuw6zbpd62v7x54qzlmrklnmi6kyvztnlvc...</td>\n",
       "      <td>0x10B989914A478Ed7DE2d2C4CC4e835bbd3de229b</td>\n",
       "      <td>2023-06-16 15:52:59</td>\n",
       "      <td>137.0</td>\n",
       "      <td>GHST</td>\n",
       "      <td>weighted</td>\n",
       "      <td>[{'network': '137', 'params': {'limit': 200, '...</td>\n",
       "      <td>{'params': {}}</td>\n",
       "      <td>{}</td>\n",
       "      <td>...</td>\n",
       "      <td>snapshot</td>\n",
       "      <td>[11156303.562149806, 1312800.545762527]</td>\n",
       "      <td>[[1318.7395875470163, 6823112.267142851, 52913...</td>\n",
       "      <td>pending</td>\n",
       "      <td>1.246910e+07</td>\n",
       "      <td>2023-06-23 10:37:11</td>\n",
       "      <td>1272.0</td>\n",
       "      <td>False</td>\n",
       "      <td>aavegotchi.eth</td>\n",
       "      <td>f41dad8c-b3c4-4884-864b-eadb7f1b85d8</td>\n",
       "    </tr>\n",
       "    <tr>\n",
       "      <th>4</th>\n",
       "      <td>0x00c00dc576a8729214934ecf329ef86c4a78428111b0...</td>\n",
       "      <td>bafkreibf3kr6avz4vmw3smkchfrn3owikvwwmi5h5gsam...</td>\n",
       "      <td>0x20906e454A9D20181350630EAD131d8DfA21dD3F</td>\n",
       "      <td>2023-06-12 19:54:19</td>\n",
       "      <td>137.0</td>\n",
       "      <td>GHST</td>\n",
       "      <td>weighted</td>\n",
       "      <td>[{'network': '137', 'params': {'limit': 200, '...</td>\n",
       "      <td>{'params': {}}</td>\n",
       "      <td>{}</td>\n",
       "      <td>...</td>\n",
       "      <td>snapshot</td>\n",
       "      <td>[10505943.585287862, 3433694.9350017686]</td>\n",
       "      <td>[[9014.318137468226, 6611444.059999985, 117117...</td>\n",
       "      <td>final</td>\n",
       "      <td>1.393964e+07</td>\n",
       "      <td>2023-06-19 21:00:18</td>\n",
       "      <td>1272.0</td>\n",
       "      <td>False</td>\n",
       "      <td>aavegotchi.eth</td>\n",
       "      <td>f41dad8c-b3c4-4884-864b-eadb7f1b85d8</td>\n",
       "    </tr>\n",
       "  </tbody>\n",
       "</table>\n",
       "<p>5 rows × 30 columns</p>\n",
       "</div>"
      ],
      "text/plain": [
       "                                  snapshotProposalId  \\\n",
       "0  0x24e4d8cb2153905edbda35621485bc2f1e7b16284715...   \n",
       "1  0xe59b47fbe39d277ec11c623e14ecd017b29749676899...   \n",
       "2  0x912cf4df1d5c68d54aaebf2e8caaec512a963c66d5dd...   \n",
       "3  0x3b8609c0632f23ea329f97d7c1de18f84313158aabd1...   \n",
       "4  0x00c00dc576a8729214934ecf329ef86c4a78428111b0...   \n",
       "\n",
       "                                                ipfs  \\\n",
       "0  bafkreic6rtcenuvo5gin7evl2geaehukczi5k45hgtmgc...   \n",
       "1  bafkreiaalano6gc2ogwlpa4uqe7qkygngfuvhjbt75woe...   \n",
       "2  bafkreihe7kokanxqpm6qfa4a5upuc6wvy6r6hjr2ipdki...   \n",
       "3  bafkreia7mtnuw6zbpd62v7x54qzlmrklnmi6kyvztnlvc...   \n",
       "4  bafkreibf3kr6avz4vmw3smkchfrn3owikvwwmi5h5gsam...   \n",
       "\n",
       "                                       author              created  network  \\\n",
       "0  0x0B49F78013B66F87D16b47d8903B134dA52320eC  2023-04-19 09:44:22      1.0   \n",
       "1  0x63a370ABfC8Ed6132025f6dC8244DDF6205C174B  2022-12-14 06:28:19      1.0   \n",
       "2  0xe5F6Dbc39334f3E79C149efB8C8c9c8dEc474aF1  2023-06-19 08:46:45    137.0   \n",
       "3  0x10B989914A478Ed7DE2d2C4CC4e835bbd3de229b  2023-06-16 15:52:59    137.0   \n",
       "4  0x20906e454A9D20181350630EAD131d8DfA21dD3F  2023-06-12 19:54:19    137.0   \n",
       "\n",
       "  symbol           type                                         strategies  \\\n",
       "0   VOTE  single-choice   [{'network': '1', 'params': {'symbol': 'VOTE'}}]   \n",
       "1   VOTE  single-choice   [{'network': '1', 'params': {'symbol': 'VOTE'}}]   \n",
       "2   GHST       weighted  [{'network': '137', 'params': {'limit': 200, '...   \n",
       "3   GHST       weighted  [{'network': '137', 'params': {'limit': 200, '...   \n",
       "4   GHST       weighted  [{'network': '137', 'params': {'limit': 200, '...   \n",
       "\n",
       "       validation plugins  ...       app  \\\n",
       "0  {'params': {}}      {}  ...  snapshot   \n",
       "1  {'params': {}}      {}  ...  snapshot   \n",
       "2  {'params': {}}      {}  ...  snapshot   \n",
       "3  {'params': {}}      {}  ...  snapshot   \n",
       "4  {'params': {}}      {}  ...  snapshot   \n",
       "\n",
       "                                     scores  \\\n",
       "0                                    [1, 1]   \n",
       "1                                    [3, 0]   \n",
       "2    [1958026.574724768, 2845594.997544297]   \n",
       "3   [11156303.562149806, 1312800.545762527]   \n",
       "4  [10505943.585287862, 3433694.9350017686]   \n",
       "\n",
       "                                  scores_by_strategy scores_state  \\\n",
       "0                                         [[1], [1]]        final   \n",
       "1                                         [[3], [0]]        final   \n",
       "2  [[1177.6593202962, 1285748.425, 50291.06664695...      pending   \n",
       "3  [[1318.7395875470163, 6823112.267142851, 52913...      pending   \n",
       "4  [[9014.318137468226, 6611444.059999985, 117117...        final   \n",
       "\n",
       "   scores_total       scores_updated   votes  flagged snapshotSpaceId  \\\n",
       "0  2.000000e+00  2023-04-24 09:44:41     2.0    False       0888o.eth   \n",
       "1  3.000000e+00  2022-12-17 06:28:22     3.0    False       0888o.eth   \n",
       "2  4.803622e+06  2023-06-23 10:39:07  1081.0    False  aavegotchi.eth   \n",
       "3  1.246910e+07  2023-06-23 10:37:11  1272.0    False  aavegotchi.eth   \n",
       "4  1.393964e+07  2023-06-19 21:00:18  1272.0    False  aavegotchi.eth   \n",
       "\n",
       "                           deepdaoDaoId  \n",
       "0  3421106f-3e13-4c11-a190-7fa72cc23775  \n",
       "1  3421106f-3e13-4c11-a190-7fa72cc23775  \n",
       "2  f41dad8c-b3c4-4884-864b-eadb7f1b85d8  \n",
       "3  f41dad8c-b3c4-4884-864b-eadb7f1b85d8  \n",
       "4  f41dad8c-b3c4-4884-864b-eadb7f1b85d8  \n",
       "\n",
       "[5 rows x 30 columns]"
      ]
     },
     "execution_count": 12,
     "metadata": {},
     "output_type": "execute_result"
    }
   ],
   "source": [
    "import pandas as pd\n",
    "proposals_df = pd.read_csv(file_name)\n",
    "# rename daoId to deepdaoDaoId\n",
    "proposals_df = proposals_df.rename(columns={'daoId': 'deepdaoDaoId'})\n",
    "proposals_df.head()"
   ]
  },
  {
   "cell_type": "code",
   "execution_count": 13,
   "metadata": {},
   "outputs": [
    {
     "data": {
      "text/html": [
       "<div>\n",
       "<style scoped>\n",
       "    .dataframe tbody tr th:only-of-type {\n",
       "        vertical-align: middle;\n",
       "    }\n",
       "\n",
       "    .dataframe tbody tr th {\n",
       "        vertical-align: top;\n",
       "    }\n",
       "\n",
       "    .dataframe thead th {\n",
       "        text-align: right;\n",
       "    }\n",
       "</style>\n",
       "<table border=\"1\" class=\"dataframe\">\n",
       "  <thead>\n",
       "    <tr style=\"text-align: right;\">\n",
       "      <th></th>\n",
       "      <th>deepdaoDaoId</th>\n",
       "      <th>snapshotProposalId</th>\n",
       "      <th>snapshotSpaceId</th>\n",
       "      <th>title</th>\n",
       "    </tr>\n",
       "  </thead>\n",
       "  <tbody>\n",
       "    <tr>\n",
       "      <th>0</th>\n",
       "      <td>3421106f-3e13-4c11-a190-7fa72cc23775</td>\n",
       "      <td>0x24e4d8cb2153905edbda35621485bc2f1e7b16284715...</td>\n",
       "      <td>0888o.eth</td>\n",
       "      <td>TitusWinters</td>\n",
       "    </tr>\n",
       "    <tr>\n",
       "      <th>1</th>\n",
       "      <td>3421106f-3e13-4c11-a190-7fa72cc23775</td>\n",
       "      <td>0xe59b47fbe39d277ec11c623e14ecd017b29749676899...</td>\n",
       "      <td>0888o.eth</td>\n",
       "      <td>fggh</td>\n",
       "    </tr>\n",
       "    <tr>\n",
       "      <th>2</th>\n",
       "      <td>f41dad8c-b3c4-4884-864b-eadb7f1b85d8</td>\n",
       "      <td>0x912cf4df1d5c68d54aaebf2e8caaec512a963c66d5dd...</td>\n",
       "      <td>aavegotchi.eth</td>\n",
       "      <td>Gotchiverse Environment in Music Parkour</td>\n",
       "    </tr>\n",
       "    <tr>\n",
       "      <th>3</th>\n",
       "      <td>f41dad8c-b3c4-4884-864b-eadb7f1b85d8</td>\n",
       "      <td>0x3b8609c0632f23ea329f97d7c1de18f84313158aabd1...</td>\n",
       "      <td>aavegotchi.eth</td>\n",
       "      <td>Gotchi Battler funding</td>\n",
       "    </tr>\n",
       "    <tr>\n",
       "      <th>4</th>\n",
       "      <td>f41dad8c-b3c4-4884-864b-eadb7f1b85d8</td>\n",
       "      <td>0x00c00dc576a8729214934ecf329ef86c4a78428111b0...</td>\n",
       "      <td>aavegotchi.eth</td>\n",
       "      <td>[AGIP 85] Schedule all Act 1 Parcel Surveys (r...</td>\n",
       "    </tr>\n",
       "  </tbody>\n",
       "</table>\n",
       "</div>"
      ],
      "text/plain": [
       "                           deepdaoDaoId  \\\n",
       "0  3421106f-3e13-4c11-a190-7fa72cc23775   \n",
       "1  3421106f-3e13-4c11-a190-7fa72cc23775   \n",
       "2  f41dad8c-b3c4-4884-864b-eadb7f1b85d8   \n",
       "3  f41dad8c-b3c4-4884-864b-eadb7f1b85d8   \n",
       "4  f41dad8c-b3c4-4884-864b-eadb7f1b85d8   \n",
       "\n",
       "                                  snapshotProposalId snapshotSpaceId  \\\n",
       "0  0x24e4d8cb2153905edbda35621485bc2f1e7b16284715...       0888o.eth   \n",
       "1  0xe59b47fbe39d277ec11c623e14ecd017b29749676899...       0888o.eth   \n",
       "2  0x912cf4df1d5c68d54aaebf2e8caaec512a963c66d5dd...  aavegotchi.eth   \n",
       "3  0x3b8609c0632f23ea329f97d7c1de18f84313158aabd1...  aavegotchi.eth   \n",
       "4  0x00c00dc576a8729214934ecf329ef86c4a78428111b0...  aavegotchi.eth   \n",
       "\n",
       "                                               title  \n",
       "0                                       TitusWinters  \n",
       "1                                               fggh  \n",
       "2           Gotchiverse Environment in Music Parkour  \n",
       "3                             Gotchi Battler funding  \n",
       "4  [AGIP 85] Schedule all Act 1 Parcel Surveys (r...  "
      ]
     },
     "execution_count": 13,
     "metadata": {},
     "output_type": "execute_result"
    }
   ],
   "source": [
    "# only keep the id and title columns\n",
    "proposals_df = proposals_df[['deepdaoDaoId', 'snapshotProposalId', 'snapshotSpaceId', 'title']]\n",
    "proposals_df.head()"
   ]
  },
  {
   "cell_type": "code",
   "execution_count": 14,
   "metadata": {},
   "outputs": [
    {
     "data": {
      "text/plain": [
       "(2063, 4)"
      ]
     },
     "execution_count": 14,
     "metadata": {},
     "output_type": "execute_result"
    }
   ],
   "source": [
    "proposals_df.shape"
   ]
  },
  {
   "cell_type": "code",
   "execution_count": 15,
   "metadata": {},
   "outputs": [],
   "source": [
    "def generate_query(proposalId, first, skip):\n",
    "    base = \"\"\"\n",
    "        query Votes {\n",
    "          votes (\n",
    "            where: {\n",
    "              proposal: \"%s\"\n",
    "            }\n",
    "            first: %s\n",
    "            skip: %s\n",
    "            orderBy: \"created\",\n",
    "            orderDirection: desc\n",
    "          ) {\n",
    "            id\n",
    "            ipfs\n",
    "            voter\n",
    "            created\n",
    "            choice\n",
    "            metadata\n",
    "            reason\n",
    "            app\n",
    "            vp\n",
    "            vp_by_strategy\n",
    "            vp_state\n",
    "          }\n",
    "        }\n",
    "    \"\"\"\n",
    "    return base % (proposalId, first, skip)"
   ]
  },
  {
   "cell_type": "code",
   "execution_count": 16,
   "metadata": {},
   "outputs": [],
   "source": [
    "import requests\n",
    "import json\n",
    "import pandas as pd\n",
    "\n",
    "import random\n",
    "import time\n",
    "\n",
    "URL = \"https://hub.snapshot.org/graphql\"\n",
    "\n",
    "\n",
    "def get_all_votes(proposalId):\n",
    "    all_votes = []\n",
    "\n",
    "    has_next_page = True\n",
    "    skip = 0\n",
    "    while has_next_page:\n",
    "        print('.')\n",
    "\n",
    "        query = generate_query(proposalId, 1000, skip)\n",
    "        r = requests.post(URL, json={'query': query})\n",
    "        try:\n",
    "            data = json.loads(r.text)\n",
    "        except:\n",
    "            print(r.text)\n",
    "            raise Exception('failed to parse json')\n",
    "\n",
    "        votes = data['data']['votes']\n",
    "        if len(votes) == 0:\n",
    "            has_next_page = False\n",
    "            break\n",
    "        all_votes += votes\n",
    "\n",
    "        if len(votes) < 1000:\n",
    "            has_next_page = False\n",
    "            break\n",
    "        wait_time = random.randint(1, 10)\n",
    "        print(f'waiting {wait_time} seconds')\n",
    "        time.sleep(wait_time)\n",
    "\n",
    "        skip += 1000\n",
    "\n",
    "\n",
    "    all_votes_df = pd.DataFrame(all_votes)\n",
    "\n",
    "    # add proposalId to the df\n",
    "    all_votes_df['proposalId'] = proposalId\n",
    "    return all_votes_df\n"
   ]
  },
  {
   "cell_type": "code",
   "execution_count": 17,
   "metadata": {},
   "outputs": [],
   "source": [
    "# get the current epoch and make a directory\n",
    "import time\n",
    "import datetime\n",
    "now = datetime.datetime.now()\n",
    "EPOCH = int(time.mktime(now.timetuple()))\n",
    "EPOCH\n",
    "# make a directory\n",
    "import os\n",
    "directory = f'./{EPOCH}'\n",
    "if not os.path.exists(directory):\n",
    "    os.makedirs(directory)\n",
    "\n",
    "# make a directory for each of the deepdaoDaoIds\n",
    "for deepdaoDaoId in proposals_df['deepdaoDaoId'].unique():\n",
    "    subdir = f'./{EPOCH}/{deepdaoDaoId}'\n",
    "    if not os.path.exists(subdir):\n",
    "        os.makedirs(subdir)\n"
   ]
  },
  {
   "cell_type": "code",
   "execution_count": 19,
   "metadata": {},
   "outputs": [
    {
     "name": "stderr",
     "output_type": "stream",
     "text": [
      "  0%|          | 0/2063 [00:00<?, ?it/s]"
     ]
    },
    {
     "name": "stdout",
     "output_type": "stream",
     "text": [
      ".\n",
      "saving to ./1687517567/3421106f-3e13-4c11-a190-7fa72cc23775/0x24e4d8cb2153905edbda35621485bc2f1e7b16284715d5c63c71dc5240f172b2.csv\n",
      "waiting 2 seconds\n"
     ]
    },
    {
     "name": "stderr",
     "output_type": "stream",
     "text": [
      "  0%|          | 1/2063 [00:02<1:17:29,  2.25s/it]"
     ]
    },
    {
     "name": "stdout",
     "output_type": "stream",
     "text": [
      ".\n",
      "saving to ./1687517567/3421106f-3e13-4c11-a190-7fa72cc23775/0xe59b47fbe39d277ec11c623e14ecd017b29749676899e495a99c0ff2afce2d3b.csv\n",
      "waiting 6 seconds\n"
     ]
    },
    {
     "name": "stderr",
     "output_type": "stream",
     "text": [
      "  0%|          | 2/2063 [00:08<2:38:10,  4.60s/it]"
     ]
    },
    {
     "name": "stdout",
     "output_type": "stream",
     "text": [
      ".\n",
      "waiting 10 seconds\n",
      ".\n",
      "saving to ./1687517567/f41dad8c-b3c4-4884-864b-eadb7f1b85d8/0x912cf4df1d5c68d54aaebf2e8caaec512a963c66d5dd4f1c522c8b59714343cb.csv\n",
      "waiting 2 seconds\n"
     ]
    },
    {
     "name": "stderr",
     "output_type": "stream",
     "text": [
      "  0%|          | 3/2063 [00:21<4:50:42,  8.47s/it]"
     ]
    },
    {
     "name": "stdout",
     "output_type": "stream",
     "text": [
      ".\n",
      "waiting 8 seconds\n",
      ".\n",
      "saving to ./1687517567/f41dad8c-b3c4-4884-864b-eadb7f1b85d8/0x3b8609c0632f23ea329f97d7c1de18f84313158aabd173f285c8494285636380.csv\n",
      "waiting 10 seconds\n"
     ]
    },
    {
     "name": "stderr",
     "output_type": "stream",
     "text": [
      "  0%|          | 4/2063 [00:40<7:18:40, 12.78s/it]"
     ]
    },
    {
     "name": "stdout",
     "output_type": "stream",
     "text": [
      ".\n",
      "waiting 8 seconds\n",
      ".\n",
      "saving to ./1687517567/f41dad8c-b3c4-4884-864b-eadb7f1b85d8/0x00c00dc576a8729214934ecf329ef86c4a78428111b030af6fa49a60807c973b.csv\n",
      "waiting 2 seconds\n"
     ]
    },
    {
     "name": "stderr",
     "output_type": "stream",
     "text": [
      "  0%|          | 5/2063 [00:52<7:00:46, 12.27s/it]"
     ]
    },
    {
     "name": "stdout",
     "output_type": "stream",
     "text": [
      ".\n",
      "waiting 2 seconds\n",
      ".\n",
      "saving to ./1687517567/f41dad8c-b3c4-4884-864b-eadb7f1b85d8/0x861986d8a9b4962d0ebf378268f9e3dbb1bbe4e014b4bb87101e408e1b46bd65.csv\n",
      "waiting 9 seconds\n"
     ]
    },
    {
     "name": "stderr",
     "output_type": "stream",
     "text": [
      "  0%|          | 6/2063 [01:04<7:01:23, 12.29s/it]"
     ]
    },
    {
     "name": "stdout",
     "output_type": "stream",
     "text": [
      ".\n",
      "waiting 6 seconds\n",
      ".\n",
      "saving to ./1687517567/f41dad8c-b3c4-4884-864b-eadb7f1b85d8/0x17b63fde4c0045768a12dc14c8a09b2a2bc6a5a7df7ef392e82e291904784e02.csv\n",
      "waiting 8 seconds\n"
     ]
    },
    {
     "name": "stderr",
     "output_type": "stream",
     "text": [
      "  0%|          | 7/2063 [01:20<7:36:32, 13.32s/it]"
     ]
    },
    {
     "name": "stdout",
     "output_type": "stream",
     "text": [
      ".\n",
      "saving to ./1687517567/f41dad8c-b3c4-4884-864b-eadb7f1b85d8/0x0a5b7e0c7fb2137cfcb5a546c27f5ddcef066631e79b9d77d1b16e3a501f9e2f.csv\n",
      "waiting 8 seconds\n"
     ]
    },
    {
     "name": "stderr",
     "output_type": "stream",
     "text": [
      "  0%|          | 8/2063 [01:28<6:45:40, 11.84s/it]"
     ]
    },
    {
     "name": "stdout",
     "output_type": "stream",
     "text": [
      ".\n",
      "waiting 5 seconds\n",
      ".\n",
      "saving to ./1687517567/f41dad8c-b3c4-4884-864b-eadb7f1b85d8/0x3bfc06502a93f307a272e3574209918ac9001e7996c06a06dcc5d8e567b19b63.csv\n",
      "waiting 4 seconds\n"
     ]
    },
    {
     "name": "stderr",
     "output_type": "stream",
     "text": [
      "  0%|          | 9/2063 [01:39<6:29:46, 11.39s/it]"
     ]
    },
    {
     "name": "stdout",
     "output_type": "stream",
     "text": [
      ".\n",
      "waiting 3 seconds\n",
      ".\n",
      "saving to ./1687517567/f41dad8c-b3c4-4884-864b-eadb7f1b85d8/0xf33876893f7b6b4e753684ae234cd52a05d0ade8fedcfebe49c0cd884180b17f.csv\n",
      "waiting 1 seconds\n"
     ]
    },
    {
     "name": "stderr",
     "output_type": "stream",
     "text": [
      "  0%|          | 10/2063 [01:44<5:28:27,  9.60s/it]"
     ]
    },
    {
     "name": "stdout",
     "output_type": "stream",
     "text": [
      ".\n",
      "waiting 5 seconds\n",
      ".\n",
      "saving to ./1687517567/f41dad8c-b3c4-4884-864b-eadb7f1b85d8/0xb78e62609b02040049c304fb9f0d745a49b32b62a239a965c14ea07263019f0f.csv\n",
      "waiting 5 seconds\n"
     ]
    },
    {
     "name": "stderr",
     "output_type": "stream",
     "text": [
      "  1%|          | 11/2063 [01:55<5:44:48, 10.08s/it]"
     ]
    },
    {
     "name": "stdout",
     "output_type": "stream",
     "text": [
      ".\n",
      "waiting 8 seconds\n",
      ".\n",
      "saving to ./1687517567/f41dad8c-b3c4-4884-864b-eadb7f1b85d8/0x91189c9e91aca85013b212166163098fa72dbc9e1b9f4260fc08f4075560e3c8.csv\n",
      "waiting 6 seconds\n"
     ]
    },
    {
     "name": "stderr",
     "output_type": "stream",
     "text": [
      "  1%|          | 12/2063 [02:11<6:37:34, 11.63s/it]"
     ]
    },
    {
     "name": "stdout",
     "output_type": "stream",
     "text": [
      ".\n",
      "waiting 9 seconds\n",
      ".\n",
      "saving to ./1687517567/f41dad8c-b3c4-4884-864b-eadb7f1b85d8/0x9c4951fcf5371ca2641b7db5ea4d31b64aac4f1f3dbcbc7c7f68a5889ea4b577.csv\n",
      "waiting 3 seconds\n"
     ]
    },
    {
     "name": "stderr",
     "output_type": "stream",
     "text": [
      "  1%|          | 13/2063 [02:24<6:55:54, 12.17s/it]"
     ]
    },
    {
     "name": "stdout",
     "output_type": "stream",
     "text": [
      ".\n",
      "waiting 7 seconds\n",
      ".\n",
      "saving to ./1687517567/f41dad8c-b3c4-4884-864b-eadb7f1b85d8/0x368446c881fbea341027014c1aba0004f33af0d2eb769a1a99ad86a665ffeedb.csv\n",
      "waiting 6 seconds\n"
     ]
    },
    {
     "name": "stderr",
     "output_type": "stream",
     "text": [
      "  1%|          | 14/2063 [02:38<7:19:05, 12.86s/it]"
     ]
    },
    {
     "name": "stdout",
     "output_type": "stream",
     "text": [
      ".\n",
      "waiting 3 seconds\n",
      ".\n",
      "saving to ./1687517567/f41dad8c-b3c4-4884-864b-eadb7f1b85d8/0xade68c6cf0285a55e4cf914266761b9a505389ef4686e7972ad5426ac49cd238.csv\n",
      "waiting 1 seconds\n"
     ]
    },
    {
     "name": "stderr",
     "output_type": "stream",
     "text": [
      "  1%|          | 15/2063 [02:44<6:02:43, 10.63s/it]"
     ]
    },
    {
     "name": "stdout",
     "output_type": "stream",
     "text": [
      ".\n",
      "waiting 8 seconds\n",
      ".\n",
      "saving to ./1687517567/f41dad8c-b3c4-4884-864b-eadb7f1b85d8/0x28700326fc76752543f263d05770fea9534cff73c107cf8775760bdba9ca1f1e.csv\n",
      "waiting 1 seconds\n"
     ]
    },
    {
     "name": "stderr",
     "output_type": "stream",
     "text": [
      "  1%|          | 16/2063 [02:54<5:59:37, 10.54s/it]"
     ]
    },
    {
     "name": "stdout",
     "output_type": "stream",
     "text": [
      ".\n",
      "waiting 2 seconds\n",
      ".\n",
      "saving to ./1687517567/f41dad8c-b3c4-4884-864b-eadb7f1b85d8/0x19110d25764ffa927cbfc41297fd4c55f35d33a85c805f1cecc6326760f1b6bf.csv\n",
      "waiting 5 seconds\n"
     ]
    },
    {
     "name": "stderr",
     "output_type": "stream",
     "text": [
      "  1%|          | 17/2063 [03:03<5:38:30,  9.93s/it]"
     ]
    },
    {
     "name": "stdout",
     "output_type": "stream",
     "text": [
      ".\n",
      "waiting 3 seconds\n",
      ".\n",
      "saving to ./1687517567/f41dad8c-b3c4-4884-864b-eadb7f1b85d8/0xb07be37d556302c873bee9b232c8a54d5ab8925af72ce9f38828e91fdb6ab5a4.csv\n",
      "waiting 4 seconds\n"
     ]
    },
    {
     "name": "stderr",
     "output_type": "stream",
     "text": [
      "  1%|          | 18/2063 [03:11<5:24:56,  9.53s/it]"
     ]
    },
    {
     "name": "stdout",
     "output_type": "stream",
     "text": [
      ".\n",
      "waiting 9 seconds\n",
      ".\n",
      "saving to ./1687517567/f41dad8c-b3c4-4884-864b-eadb7f1b85d8/0xb7b45e605373b2835b92ee570b6aaf06219a1c8042e6a0a467d06c02da17b727.csv\n",
      "waiting 9 seconds\n"
     ]
    },
    {
     "name": "stderr",
     "output_type": "stream",
     "text": [
      "  1%|          | 19/2063 [03:31<7:08:18, 12.57s/it]"
     ]
    },
    {
     "name": "stdout",
     "output_type": "stream",
     "text": [
      ".\n",
      "waiting 5 seconds\n",
      ".\n",
      "saving to ./1687517567/f41dad8c-b3c4-4884-864b-eadb7f1b85d8/0xbf227c513737067b8e3aeb66eecfeb18d52129ac701317ca21c0a1d3ba7181e9.csv\n",
      "waiting 9 seconds\n"
     ]
    },
    {
     "name": "stderr",
     "output_type": "stream",
     "text": [
      "  1%|          | 20/2063 [03:46<7:35:51, 13.39s/it]"
     ]
    },
    {
     "name": "stdout",
     "output_type": "stream",
     "text": [
      ".\n",
      "waiting 4 seconds\n",
      ".\n",
      "saving to ./1687517567/f41dad8c-b3c4-4884-864b-eadb7f1b85d8/0x25c0def94d5fb016fb39ac823755dd2de447bd5de609d25cc108f182391ddcda.csv\n",
      "waiting 1 seconds\n"
     ]
    },
    {
     "name": "stderr",
     "output_type": "stream",
     "text": [
      "  1%|          | 21/2063 [03:53<6:24:55, 11.31s/it]"
     ]
    },
    {
     "name": "stdout",
     "output_type": "stream",
     "text": [
      ".\n",
      "waiting 10 seconds\n",
      ".\n",
      "saving to ./1687517567/f41dad8c-b3c4-4884-864b-eadb7f1b85d8/0x6bccdfa387008a4ce3cd8dd26d08af7ec1c7289c7bac6e6e9578162ceb7c7e30.csv\n",
      "waiting 8 seconds\n"
     ]
    },
    {
     "name": "stderr",
     "output_type": "stream",
     "text": [
      "  1%|          | 22/2063 [04:12<7:46:06, 13.70s/it]"
     ]
    },
    {
     "name": "stdout",
     "output_type": "stream",
     "text": [
      ".\n",
      "waiting 7 seconds\n",
      ".\n",
      "saving to ./1687517567/f41dad8c-b3c4-4884-864b-eadb7f1b85d8/0xa094958ed44a7905f22b97dc48fc230951b915ede0e0c34017cc8cdc795a30c3.csv\n",
      "waiting 6 seconds\n"
     ]
    },
    {
     "name": "stderr",
     "output_type": "stream",
     "text": [
      "  1%|          | 23/2063 [04:26<7:52:20, 13.89s/it]"
     ]
    },
    {
     "name": "stdout",
     "output_type": "stream",
     "text": [
      ".\n",
      "waiting 7 seconds\n",
      ".\n",
      "saving to ./1687517567/f41dad8c-b3c4-4884-864b-eadb7f1b85d8/0x42c3aaf8988a5ca32e5cd035847655af6f9acc2141c3cdaa505a877badf66e41.csv\n",
      "waiting 4 seconds\n"
     ]
    },
    {
     "name": "stderr",
     "output_type": "stream",
     "text": [
      "  1%|          | 24/2063 [04:39<7:36:16, 13.43s/it]"
     ]
    },
    {
     "name": "stdout",
     "output_type": "stream",
     "text": [
      ".\n",
      "waiting 4 seconds\n",
      ".\n",
      "saving to ./1687517567/f41dad8c-b3c4-4884-864b-eadb7f1b85d8/0xba613b2a6b940cab5b3135e8fd431f02bc832872c912177a9205d141d6ba8341.csv\n",
      "waiting 8 seconds\n"
     ]
    },
    {
     "name": "stderr",
     "output_type": "stream",
     "text": [
      "  1%|          | 25/2063 [04:52<7:35:01, 13.40s/it]"
     ]
    },
    {
     "name": "stdout",
     "output_type": "stream",
     "text": [
      ".\n",
      "waiting 2 seconds\n",
      ".\n",
      "saving to ./1687517567/f41dad8c-b3c4-4884-864b-eadb7f1b85d8/0x3aaf1baf461192154a33bd41863e0675341599c45a7a1223d6a1008d6c3f8dda.csv\n",
      "waiting 3 seconds\n"
     ]
    },
    {
     "name": "stderr",
     "output_type": "stream",
     "text": [
      "  1%|▏         | 26/2063 [04:58<6:22:22, 11.26s/it]"
     ]
    },
    {
     "name": "stdout",
     "output_type": "stream",
     "text": [
      ".\n",
      "waiting 8 seconds\n",
      ".\n",
      "saving to ./1687517567/f41dad8c-b3c4-4884-864b-eadb7f1b85d8/0x75c2e9cc1472c6d18709ba53653b8e03f863afd8c42e58c5abb48f2d962069c2.csv\n",
      "waiting 10 seconds\n"
     ]
    },
    {
     "name": "stderr",
     "output_type": "stream",
     "text": [
      "  1%|▏         | 27/2063 [05:18<7:44:08, 13.68s/it]"
     ]
    },
    {
     "name": "stdout",
     "output_type": "stream",
     "text": [
      ".\n",
      "waiting 4 seconds\n"
     ]
    },
    {
     "name": "stderr",
     "output_type": "stream",
     "text": [
      "  1%|▏         | 27/2063 [05:22<6:45:44, 11.96s/it]\n"
     ]
    },
    {
     "ename": "KeyboardInterrupt",
     "evalue": "",
     "output_type": "error",
     "traceback": [
      "\u001b[0;31m---------------------------------------------------------------------------\u001b[0m",
      "\u001b[0;31mKeyboardInterrupt\u001b[0m                         Traceback (most recent call last)",
      "Cell \u001b[0;32mIn[19], line 12\u001b[0m\n\u001b[1;32m     10\u001b[0m     \u001b[39mprint\u001b[39m(\u001b[39mf\u001b[39m\u001b[39m'\u001b[39m\u001b[39m{\u001b[39;00mproposal_id\u001b[39m}\u001b[39;00m\u001b[39m already exists\u001b[39m\u001b[39m'\u001b[39m)\n\u001b[1;32m     11\u001b[0m     \u001b[39mcontinue\u001b[39;00m\n\u001b[0;32m---> 12\u001b[0m votes \u001b[39m=\u001b[39m get_all_votes(proposal_id)\n\u001b[1;32m     14\u001b[0m \u001b[39m# save in the format <epoch>/<deepdaoDaoId>/<proposalId>.csv\u001b[39;00m\n\u001b[1;32m     15\u001b[0m file_name \u001b[39m=\u001b[39m \u001b[39mf\u001b[39m\u001b[39m'\u001b[39m\u001b[39m{\u001b[39;00mdirectory\u001b[39m}\u001b[39;00m\u001b[39m/\u001b[39m\u001b[39m{\u001b[39;00mdeepdao_dao_id\u001b[39m}\u001b[39;00m\u001b[39m/\u001b[39m\u001b[39m{\u001b[39;00mproposal_id\u001b[39m}\u001b[39;00m\u001b[39m.csv\u001b[39m\u001b[39m'\u001b[39m\n",
      "Cell \u001b[0;32mIn[16], line 38\u001b[0m, in \u001b[0;36mget_all_votes\u001b[0;34m(proposalId)\u001b[0m\n\u001b[1;32m     36\u001b[0m     wait_time \u001b[39m=\u001b[39m random\u001b[39m.\u001b[39mrandint(\u001b[39m1\u001b[39m, \u001b[39m10\u001b[39m)\n\u001b[1;32m     37\u001b[0m     \u001b[39mprint\u001b[39m(\u001b[39mf\u001b[39m\u001b[39m'\u001b[39m\u001b[39mwaiting \u001b[39m\u001b[39m{\u001b[39;00mwait_time\u001b[39m}\u001b[39;00m\u001b[39m seconds\u001b[39m\u001b[39m'\u001b[39m)\n\u001b[0;32m---> 38\u001b[0m     time\u001b[39m.\u001b[39msleep(wait_time)\n\u001b[1;32m     40\u001b[0m     skip \u001b[39m+\u001b[39m\u001b[39m=\u001b[39m \u001b[39m1000\u001b[39m\n\u001b[1;32m     43\u001b[0m all_votes_df \u001b[39m=\u001b[39m pd\u001b[39m.\u001b[39mDataFrame(all_votes)\n",
      "\u001b[0;31mKeyboardInterrupt\u001b[0m: "
     ]
    }
   ],
   "source": [
    "# TODO: break this out to a python file, dockerized to run on a server\n",
    "from tqdm import tqdm\n",
    "\n",
    "\n",
    "for row in tqdm(proposals_df.itertuples(), total=proposals_df.shape[0]):\n",
    "    proposal_id = row.snapshotProposalId  # this is the key to query the api\n",
    "    deepdao_dao_id = row.deepdaoDaoId\n",
    "\n",
    "    if os.path.exists(f'{directory}/{deepdao_dao_id}/{proposal_id}.csv'):\n",
    "        print(f'{proposal_id} already exists')\n",
    "        continue\n",
    "    votes = get_all_votes(proposal_id)\n",
    "\n",
    "    # save in the format <epoch>/<deepdaoDaoId>/<proposalId>.csv\n",
    "    file_name = f'{directory}/{deepdao_dao_id}/{proposal_id}.csv'\n",
    "    print(f'saving to {file_name}')\n",
    "    votes.to_csv(file_name, index=False)\n",
    "\n",
    "    # wait between each proposal\n",
    "    wait_time = random.randint(1, 10)\n",
    "    print(f'waiting {wait_time} seconds')\n",
    "    time.sleep(wait_time)"
   ]
  }
 ],
 "metadata": {
  "kernelspec": {
   "display_name": "Python 3",
   "language": "python",
   "name": "python3"
  },
  "language_info": {
   "codemirror_mode": {
    "name": "ipython",
    "version": 3
   },
   "file_extension": ".py",
   "mimetype": "text/x-python",
   "name": "python",
   "nbconvert_exporter": "python",
   "pygments_lexer": "ipython3",
   "version": "3.11.3"
  },
  "orig_nbformat": 4
 },
 "nbformat": 4,
 "nbformat_minor": 2
}
