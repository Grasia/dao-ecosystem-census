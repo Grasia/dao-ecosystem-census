{
 "cells": [
  {
   "cell_type": "code",
   "execution_count": 8,
   "metadata": {},
   "outputs": [],
   "source": [
    "file_name = './1687258058_snapshot_dao_proposals.csv'"
   ]
  },
  {
   "cell_type": "code",
   "execution_count": 9,
   "metadata": {},
   "outputs": [
    {
     "data": {
      "text/html": [
       "<div>\n",
       "<style scoped>\n",
       "    .dataframe tbody tr th:only-of-type {\n",
       "        vertical-align: middle;\n",
       "    }\n",
       "\n",
       "    .dataframe tbody tr th {\n",
       "        vertical-align: top;\n",
       "    }\n",
       "\n",
       "    .dataframe thead th {\n",
       "        text-align: right;\n",
       "    }\n",
       "</style>\n",
       "<table border=\"1\" class=\"dataframe\">\n",
       "  <thead>\n",
       "    <tr style=\"text-align: right;\">\n",
       "      <th></th>\n",
       "      <th>daoId</th>\n",
       "      <th>id</th>\n",
       "      <th>ipfs</th>\n",
       "      <th>author</th>\n",
       "      <th>created</th>\n",
       "      <th>network</th>\n",
       "      <th>symbol</th>\n",
       "      <th>type</th>\n",
       "      <th>strategies</th>\n",
       "      <th>validation</th>\n",
       "      <th>...</th>\n",
       "      <th>link</th>\n",
       "      <th>app</th>\n",
       "      <th>scores</th>\n",
       "      <th>scores_by_strategy</th>\n",
       "      <th>scores_state</th>\n",
       "      <th>scores_total</th>\n",
       "      <th>scores_updated</th>\n",
       "      <th>votes</th>\n",
       "      <th>flagged</th>\n",
       "      <th>snapshotId</th>\n",
       "    </tr>\n",
       "  </thead>\n",
       "  <tbody>\n",
       "    <tr>\n",
       "      <th>0</th>\n",
       "      <td>836bdad7-fe04-4abd-bc92-802b9ebe0b32</td>\n",
       "      <td>0xe4edc89eb176e2b531d3eda52d5f89c8060446d7e3ac...</td>\n",
       "      <td>bafkreihlw75s3slldmybdkl72mihau53pprntegkav3nk...</td>\n",
       "      <td>0xc9049cB9aB542D0Bd0fA099ff8E3e8b3FCa13b13</td>\n",
       "      <td>2023-06-15 03:01:54</td>\n",
       "      <td>1</td>\n",
       "      <td>BADGER</td>\n",
       "      <td>single-choice</td>\n",
       "      <td>[{'network': '1', 'params': {'symbol': 'vsBADG...</td>\n",
       "      <td>{'params': {}}</td>\n",
       "      <td>...</td>\n",
       "      <td>https://snapshot.org/#/badgerdao.eth/proposal/...</td>\n",
       "      <td>snapshot</td>\n",
       "      <td>[10009.66721235065, 257577.18338603884, 2781.2...</td>\n",
       "      <td>[[10009.54249092755, 0, 0.12472142309996546], ...</td>\n",
       "      <td>final</td>\n",
       "      <td>4.714802e+05</td>\n",
       "      <td>2023-06-18 03:01:20</td>\n",
       "      <td>72</td>\n",
       "      <td>False</td>\n",
       "      <td>badgerdao.eth</td>\n",
       "    </tr>\n",
       "    <tr>\n",
       "      <th>1</th>\n",
       "      <td>836bdad7-fe04-4abd-bc92-802b9ebe0b32</td>\n",
       "      <td>0x1b87bb9a12df7211fc0d5520062c5b35b4ed52f62c98...</td>\n",
       "      <td>bafkreicay4yfdbi5rgq5hxfl3iuoukzib2hf4uidiroo3...</td>\n",
       "      <td>0xc9049cB9aB542D0Bd0fA099ff8E3e8b3FCa13b13</td>\n",
       "      <td>2023-06-08 11:39:39</td>\n",
       "      <td>1</td>\n",
       "      <td>BADGER</td>\n",
       "      <td>single-choice</td>\n",
       "      <td>[{'network': '1', 'params': {'symbol': 'vsBADG...</td>\n",
       "      <td>{'params': {}}</td>\n",
       "      <td>...</td>\n",
       "      <td>https://snapshot.org/#/badgerdao.eth/proposal/...</td>\n",
       "      <td>snapshot</td>\n",
       "      <td>[293.05442805913157, 111591.67829856764, 3440....</td>\n",
       "      <td>[[292.91762117700085, 0, 0.13680688213066858],...</td>\n",
       "      <td>final</td>\n",
       "      <td>1.986948e+05</td>\n",
       "      <td>2023-06-11 11:31:16</td>\n",
       "      <td>80</td>\n",
       "      <td>False</td>\n",
       "      <td>badgerdao.eth</td>\n",
       "    </tr>\n",
       "    <tr>\n",
       "      <th>2</th>\n",
       "      <td>836bdad7-fe04-4abd-bc92-802b9ebe0b32</td>\n",
       "      <td>0xa8685d39ecb47f1ca8169bd83385c9c0ffe360625e3b...</td>\n",
       "      <td>bafkreigd45gkbyimvey5kqgtdkumnvn5hbivtnkqpijwn...</td>\n",
       "      <td>0xc9049cB9aB542D0Bd0fA099ff8E3e8b3FCa13b13</td>\n",
       "      <td>2022-10-31 14:29:56</td>\n",
       "      <td>1</td>\n",
       "      <td>BADGER</td>\n",
       "      <td>single-choice</td>\n",
       "      <td>[{'network': '1', 'params': {'symbol': 'vsBADG...</td>\n",
       "      <td>{'params': {}}</td>\n",
       "      <td>...</td>\n",
       "      <td>https://snapshot.org/#/badgerdao.eth/proposal/...</td>\n",
       "      <td>snapshot</td>\n",
       "      <td>[2346807.1659726654, 2762.09203943847]</td>\n",
       "      <td>[[2345225.1238118764, 0, 1582.0421607890698], ...</td>\n",
       "      <td>final</td>\n",
       "      <td>2.349569e+06</td>\n",
       "      <td>2022-11-14 16:00:18</td>\n",
       "      <td>453</td>\n",
       "      <td>False</td>\n",
       "      <td>badgerdao.eth</td>\n",
       "    </tr>\n",
       "    <tr>\n",
       "      <th>3</th>\n",
       "      <td>836bdad7-fe04-4abd-bc92-802b9ebe0b32</td>\n",
       "      <td>0xd12be85ed658f0f1d784c810f24143a181fb125a9b55...</td>\n",
       "      <td>bafkreifhlw64dxhi6tzkfsm35zgnwdvyvff37uzexvpk3...</td>\n",
       "      <td>0xc9049cB9aB542D0Bd0fA099ff8E3e8b3FCa13b13</td>\n",
       "      <td>2022-09-30 16:21:45</td>\n",
       "      <td>1</td>\n",
       "      <td>BADGER</td>\n",
       "      <td>single-choice</td>\n",
       "      <td>[{'network': '1', 'params': {'symbol': 'vsBADG...</td>\n",
       "      <td>{'params': {}}</td>\n",
       "      <td>...</td>\n",
       "      <td>https://snapshot.org/#/badgerdao.eth/proposal/...</td>\n",
       "      <td>snapshot</td>\n",
       "      <td>[41182.954015438074, 2268038.858475377]</td>\n",
       "      <td>[[41167.322890622374, 0, 15.63112481570204], [...</td>\n",
       "      <td>final</td>\n",
       "      <td>2.309222e+06</td>\n",
       "      <td>2022-10-03 16:21:54</td>\n",
       "      <td>226</td>\n",
       "      <td>False</td>\n",
       "      <td>badgerdao.eth</td>\n",
       "    </tr>\n",
       "    <tr>\n",
       "      <th>4</th>\n",
       "      <td>836bdad7-fe04-4abd-bc92-802b9ebe0b32</td>\n",
       "      <td>0x45aefdd421c964c15616274f90284a3d7b0f05344221...</td>\n",
       "      <td>bafkreicuunp7qkqcgyq7vhayw6jzkrcpv5focif67vdsc...</td>\n",
       "      <td>0xc9049cB9aB542D0Bd0fA099ff8E3e8b3FCa13b13</td>\n",
       "      <td>2022-09-30 16:06:43</td>\n",
       "      <td>1</td>\n",
       "      <td>BADGER</td>\n",
       "      <td>single-choice</td>\n",
       "      <td>[{'network': '1', 'params': {'symbol': 'vsBADG...</td>\n",
       "      <td>{'params': {}}</td>\n",
       "      <td>...</td>\n",
       "      <td>https://snapshot.org/#/badgerdao.eth/proposal/...</td>\n",
       "      <td>snapshot</td>\n",
       "      <td>[85937.99541134738, 17.8084468613021]</td>\n",
       "      <td>[[85892.38618546611, 0, 45.60922588126875], [1...</td>\n",
       "      <td>final</td>\n",
       "      <td>8.595580e+04</td>\n",
       "      <td>2022-10-03 16:06:47</td>\n",
       "      <td>224</td>\n",
       "      <td>False</td>\n",
       "      <td>badgerdao.eth</td>\n",
       "    </tr>\n",
       "  </tbody>\n",
       "</table>\n",
       "<p>5 rows × 30 columns</p>\n",
       "</div>"
      ],
      "text/plain": [
       "                                  daoId   \n",
       "0  836bdad7-fe04-4abd-bc92-802b9ebe0b32  \\\n",
       "1  836bdad7-fe04-4abd-bc92-802b9ebe0b32   \n",
       "2  836bdad7-fe04-4abd-bc92-802b9ebe0b32   \n",
       "3  836bdad7-fe04-4abd-bc92-802b9ebe0b32   \n",
       "4  836bdad7-fe04-4abd-bc92-802b9ebe0b32   \n",
       "\n",
       "                                                  id   \n",
       "0  0xe4edc89eb176e2b531d3eda52d5f89c8060446d7e3ac...  \\\n",
       "1  0x1b87bb9a12df7211fc0d5520062c5b35b4ed52f62c98...   \n",
       "2  0xa8685d39ecb47f1ca8169bd83385c9c0ffe360625e3b...   \n",
       "3  0xd12be85ed658f0f1d784c810f24143a181fb125a9b55...   \n",
       "4  0x45aefdd421c964c15616274f90284a3d7b0f05344221...   \n",
       "\n",
       "                                                ipfs   \n",
       "0  bafkreihlw75s3slldmybdkl72mihau53pprntegkav3nk...  \\\n",
       "1  bafkreicay4yfdbi5rgq5hxfl3iuoukzib2hf4uidiroo3...   \n",
       "2  bafkreigd45gkbyimvey5kqgtdkumnvn5hbivtnkqpijwn...   \n",
       "3  bafkreifhlw64dxhi6tzkfsm35zgnwdvyvff37uzexvpk3...   \n",
       "4  bafkreicuunp7qkqcgyq7vhayw6jzkrcpv5focif67vdsc...   \n",
       "\n",
       "                                       author              created  network   \n",
       "0  0xc9049cB9aB542D0Bd0fA099ff8E3e8b3FCa13b13  2023-06-15 03:01:54        1  \\\n",
       "1  0xc9049cB9aB542D0Bd0fA099ff8E3e8b3FCa13b13  2023-06-08 11:39:39        1   \n",
       "2  0xc9049cB9aB542D0Bd0fA099ff8E3e8b3FCa13b13  2022-10-31 14:29:56        1   \n",
       "3  0xc9049cB9aB542D0Bd0fA099ff8E3e8b3FCa13b13  2022-09-30 16:21:45        1   \n",
       "4  0xc9049cB9aB542D0Bd0fA099ff8E3e8b3FCa13b13  2022-09-30 16:06:43        1   \n",
       "\n",
       "   symbol           type                                         strategies   \n",
       "0  BADGER  single-choice  [{'network': '1', 'params': {'symbol': 'vsBADG...  \\\n",
       "1  BADGER  single-choice  [{'network': '1', 'params': {'symbol': 'vsBADG...   \n",
       "2  BADGER  single-choice  [{'network': '1', 'params': {'symbol': 'vsBADG...   \n",
       "3  BADGER  single-choice  [{'network': '1', 'params': {'symbol': 'vsBADG...   \n",
       "4  BADGER  single-choice  [{'network': '1', 'params': {'symbol': 'vsBADG...   \n",
       "\n",
       "       validation  ...                                               link   \n",
       "0  {'params': {}}  ...  https://snapshot.org/#/badgerdao.eth/proposal/...  \\\n",
       "1  {'params': {}}  ...  https://snapshot.org/#/badgerdao.eth/proposal/...   \n",
       "2  {'params': {}}  ...  https://snapshot.org/#/badgerdao.eth/proposal/...   \n",
       "3  {'params': {}}  ...  https://snapshot.org/#/badgerdao.eth/proposal/...   \n",
       "4  {'params': {}}  ...  https://snapshot.org/#/badgerdao.eth/proposal/...   \n",
       "\n",
       "        app                                             scores   \n",
       "0  snapshot  [10009.66721235065, 257577.18338603884, 2781.2...  \\\n",
       "1  snapshot  [293.05442805913157, 111591.67829856764, 3440....   \n",
       "2  snapshot             [2346807.1659726654, 2762.09203943847]   \n",
       "3  snapshot            [41182.954015438074, 2268038.858475377]   \n",
       "4  snapshot              [85937.99541134738, 17.8084468613021]   \n",
       "\n",
       "                                  scores_by_strategy scores_state   \n",
       "0  [[10009.54249092755, 0, 0.12472142309996546], ...        final  \\\n",
       "1  [[292.91762117700085, 0, 0.13680688213066858],...        final   \n",
       "2  [[2345225.1238118764, 0, 1582.0421607890698], ...        final   \n",
       "3  [[41167.322890622374, 0, 15.63112481570204], [...        final   \n",
       "4  [[85892.38618546611, 0, 45.60922588126875], [1...        final   \n",
       "\n",
       "   scores_total       scores_updated  votes  flagged     snapshotId  \n",
       "0  4.714802e+05  2023-06-18 03:01:20     72    False  badgerdao.eth  \n",
       "1  1.986948e+05  2023-06-11 11:31:16     80    False  badgerdao.eth  \n",
       "2  2.349569e+06  2022-11-14 16:00:18    453    False  badgerdao.eth  \n",
       "3  2.309222e+06  2022-10-03 16:21:54    226    False  badgerdao.eth  \n",
       "4  8.595580e+04  2022-10-03 16:06:47    224    False  badgerdao.eth  \n",
       "\n",
       "[5 rows x 30 columns]"
      ]
     },
     "execution_count": 9,
     "metadata": {},
     "output_type": "execute_result"
    }
   ],
   "source": [
    "import pandas as pd\n",
    "proposals_df = pd.read_csv(file_name)\n",
    "proposals_df.head()"
   ]
  },
  {
   "cell_type": "code",
   "execution_count": 10,
   "metadata": {},
   "outputs": [
    {
     "data": {
      "text/html": [
       "<div>\n",
       "<style scoped>\n",
       "    .dataframe tbody tr th:only-of-type {\n",
       "        vertical-align: middle;\n",
       "    }\n",
       "\n",
       "    .dataframe tbody tr th {\n",
       "        vertical-align: top;\n",
       "    }\n",
       "\n",
       "    .dataframe thead th {\n",
       "        text-align: right;\n",
       "    }\n",
       "</style>\n",
       "<table border=\"1\" class=\"dataframe\">\n",
       "  <thead>\n",
       "    <tr style=\"text-align: right;\">\n",
       "      <th></th>\n",
       "      <th>id</th>\n",
       "      <th>title</th>\n",
       "    </tr>\n",
       "  </thead>\n",
       "  <tbody>\n",
       "    <tr>\n",
       "      <th>0</th>\n",
       "      <td>0xe4edc89eb176e2b531d3eda52d5f89c8060446d7e3ac...</td>\n",
       "      <td>BIP 100 - Allocation of Unclaimed ibBTC Reward...</td>\n",
       "    </tr>\n",
       "    <tr>\n",
       "      <th>1</th>\n",
       "      <td>0x1b87bb9a12df7211fc0d5520062c5b35b4ed52f62c98...</td>\n",
       "      <td>BIP 100 - Allocation of Unclaimed ibBTC Rewards</td>\n",
       "    </tr>\n",
       "    <tr>\n",
       "      <th>2</th>\n",
       "      <td>0xa8685d39ecb47f1ca8169bd83385c9c0ffe360625e3b...</td>\n",
       "      <td>BIP 99: Badger Emissions Going Forward</td>\n",
       "    </tr>\n",
       "    <tr>\n",
       "      <th>3</th>\n",
       "      <td>0xd12be85ed658f0f1d784c810f24143a181fb125a9b55...</td>\n",
       "      <td>BIP 98: Restitution Badger Bridge Lost Funds</td>\n",
       "    </tr>\n",
       "    <tr>\n",
       "      <th>4</th>\n",
       "      <td>0x45aefdd421c964c15616274f90284a3d7b0f05344221...</td>\n",
       "      <td>BIP 97: Q4-2022 - Q1-2023 Council Election</td>\n",
       "    </tr>\n",
       "  </tbody>\n",
       "</table>\n",
       "</div>"
      ],
      "text/plain": [
       "                                                  id   \n",
       "0  0xe4edc89eb176e2b531d3eda52d5f89c8060446d7e3ac...  \\\n",
       "1  0x1b87bb9a12df7211fc0d5520062c5b35b4ed52f62c98...   \n",
       "2  0xa8685d39ecb47f1ca8169bd83385c9c0ffe360625e3b...   \n",
       "3  0xd12be85ed658f0f1d784c810f24143a181fb125a9b55...   \n",
       "4  0x45aefdd421c964c15616274f90284a3d7b0f05344221...   \n",
       "\n",
       "                                               title  \n",
       "0  BIP 100 - Allocation of Unclaimed ibBTC Reward...  \n",
       "1    BIP 100 - Allocation of Unclaimed ibBTC Rewards  \n",
       "2             BIP 99: Badger Emissions Going Forward  \n",
       "3       BIP 98: Restitution Badger Bridge Lost Funds  \n",
       "4         BIP 97: Q4-2022 - Q1-2023 Council Election  "
      ]
     },
     "execution_count": 10,
     "metadata": {},
     "output_type": "execute_result"
    }
   ],
   "source": [
    "# only keep the id and title columns\n",
    "proposals_df = proposals_df[['id', 'title']]\n",
    "proposals_df.head()"
   ]
  },
  {
   "cell_type": "code",
   "execution_count": 11,
   "metadata": {},
   "outputs": [
    {
     "data": {
      "text/plain": [
       "(169, 2)"
      ]
     },
     "execution_count": 11,
     "metadata": {},
     "output_type": "execute_result"
    }
   ],
   "source": [
    "proposals_df.shape"
   ]
  },
  {
   "cell_type": "code",
   "execution_count": 12,
   "metadata": {},
   "outputs": [],
   "source": [
    "def generate_query(proposalId, first, skip):\n",
    "    base = \"\"\"\n",
    "        query Votes {\n",
    "          votes (\n",
    "            where: {\n",
    "              proposal: \"%s\"\n",
    "            }\n",
    "            first: %s\n",
    "            skip: %s\n",
    "            orderBy: \"created\",\n",
    "            orderDirection: desc\n",
    "          ) {\n",
    "            id\n",
    "            ipfs\n",
    "            voter\n",
    "            created\n",
    "            choice\n",
    "            metadata\n",
    "            reason\n",
    "            app\n",
    "            vp\n",
    "            vp_by_strategy\n",
    "            vp_state\n",
    "          }\n",
    "        }\n",
    "    \"\"\"\n",
    "    return base % (proposalId, first, skip)"
   ]
  },
  {
   "cell_type": "code",
   "execution_count": 13,
   "metadata": {},
   "outputs": [],
   "source": [
    "import requests\n",
    "import json\n",
    "import pandas as pd\n",
    "\n",
    "import random\n",
    "import time\n",
    "\n",
    "URL = \"https://hub.snapshot.org/graphql\"\n",
    "\n",
    "\n",
    "def get_all_votes(proposalId):\n",
    "    all_votes = []\n",
    "\n",
    "    has_next_page = True\n",
    "    skip = 0\n",
    "    while has_next_page:\n",
    "        print('.')\n",
    "\n",
    "        query = generate_query(proposalId, 1000, skip)\n",
    "        r = requests.post(URL, json={'query': query})\n",
    "        try:\n",
    "            data = json.loads(r.text)\n",
    "        except:\n",
    "            print(r.text)\n",
    "            raise Exception('failed to parse json')\n",
    "\n",
    "        votes = data['data']['votes']\n",
    "        if len(votes) == 0:\n",
    "            has_next_page = False\n",
    "            break\n",
    "        all_votes += votes\n",
    "\n",
    "        if len(votes) < 1000:\n",
    "            has_next_page = False\n",
    "            break\n",
    "        wait_time = random.randint(1, 10)\n",
    "        print(f'waiting {wait_time} seconds')\n",
    "        time.sleep(wait_time)\n",
    "\n",
    "        skip += 1000\n",
    "\n",
    "\n",
    "    all_votes_df = pd.DataFrame(all_votes)\n",
    "\n",
    "    # add proposalId to the df\n",
    "    all_votes_df['proposalId'] = proposalId\n",
    "    return all_votes_df\n"
   ]
  },
  {
   "cell_type": "code",
   "execution_count": 14,
   "metadata": {},
   "outputs": [],
   "source": [
    "# proposal_id = '0xf013f4235b865570e235f902f5d1e2ed1d40a897b0fb837e116a2821b4a9c30c'\n",
    "\n",
    "# test_votes = get_all_votes(proposal_id)\n",
    "# test_votes.shape"
   ]
  },
  {
   "cell_type": "code",
   "execution_count": 15,
   "metadata": {},
   "outputs": [],
   "source": [
    "# test_votes.head()"
   ]
  },
  {
   "cell_type": "code",
   "execution_count": 16,
   "metadata": {},
   "outputs": [],
   "source": [
    "# get the current epoch and make a directory\n",
    "import time\n",
    "import datetime\n",
    "now = datetime.datetime.now()\n",
    "EPOCH = int(time.mktime(now.timetuple()))\n",
    "EPOCH\n",
    "# make a directory\n",
    "import os\n",
    "directory = f'./{EPOCH}'\n",
    "if not os.path.exists(directory):\n",
    "    os.makedirs(directory)"
   ]
  },
  {
   "cell_type": "code",
   "execution_count": 21,
   "metadata": {},
   "outputs": [
    {
     "name": "stderr",
     "output_type": "stream",
     "text": [
      "  0%|          | 0/169 [00:00<?, ?it/s]"
     ]
    },
    {
     "name": "stdout",
     "output_type": "stream",
     "text": [
      "0xe4edc89eb176e2b531d3eda52d5f89c8060446d7e3acb96160c21606850161fa already exists\n",
      "0x1b87bb9a12df7211fc0d5520062c5b35b4ed52f62c982fc3754c546b953deae2 already exists\n",
      "0xa8685d39ecb47f1ca8169bd83385c9c0ffe360625e3b683a2dd79cf8ea9ca048 already exists\n",
      "0xd12be85ed658f0f1d784c810f24143a181fb125a9b550c33886a7268a7cbc4aa already exists\n",
      "0x45aefdd421c964c15616274f90284a3d7b0f05344221094afb935820091f520a already exists\n",
      "0x89b36c1571aa9d55e2c692a3524ec80ce4ef9668b3cb796da42e13c5b3462235 already exists\n",
      "0x6441db7ab103020c379e6b12de08a0d08f5a6553ebdab18d4544bfc4d2688707 already exists\n",
      "0xcc9dcdbba83c5bda480df88e925614c583f5cd6a5ed17a6cdb26f6484245bc97 already exists\n",
      "0x73f8baa4de0387402f8c8b092e579379d705a7441f5db91fb9a92a8feae6f356 already exists\n",
      "0x1c6f12ba0c789b5582772dc01e4a981fc2f8a7495d3b72baf0d454d1015e0fdc already exists\n",
      "0xaee9727ec0319e77da7ac49d5e4db631a75fb034aa27748e688c4bfb8458c349 already exists\n",
      "0x617192f236033eac7439ec0b3ef8765c7b5eaf4279609ff02b195fb248ca20a8 already exists\n",
      "0x7e4a82c045f51625d9d707b09214b77f95ad4697ba06aa5ed9737e662afe5eeb already exists\n",
      "0x3a9fde3ecd262cf9fa900f60185df87015b167b76cc8862a6ede97b8e634ef00 already exists\n",
      "0x2d05c00a62bcf549c0c2aca1a790f2058db647166deba417cd93b81953169ccb already exists\n",
      "0xa5203245338aeab3b5e4141e82282c600acdba14788af7b5852eb13da2d2b42a already exists\n",
      "0x376c47244d414ffc7aa2cc0ffdf563f31842b90df74604551c9bc052f80d1844 already exists\n",
      "0x714af9e0c378f0e8c82267eded4e3f5abae978d2c2a02e4d858754c938ba9a72 already exists\n",
      "0x3a076b285ff586ee9159937a7370d5498347ea3a15995137154f1d66b5b5e01b already exists\n",
      "0x69ba310a132ba3bfa6b4a98a0c0f07a7aeb03ced3a2aae52cc711e663a1f35c1 already exists\n",
      "0xaf9f9c36adb15c898638cdbfbda8a30ca5afdfd184ce69bf447411e4546a6d20 already exists\n",
      "0x949864fb08d32db705123bac0067e938b89a6f4e5b692ad9fc5a0cc9be2540f2 already exists\n",
      "0xf0f2606c06092f265a8b59dd3de7d9ac582ea9fa16f12124a24a3e3be43b96b9 already exists\n",
      "0x1db960e54e07a0057c97083825b95a58b52d272e27229c468c49fe763ab8c3ee already exists\n",
      "0x3db446c52f54bba28b95551dfa8f55ca0a9fda868dbec04d37a46467eb3fc1bf already exists\n",
      "0x38c6e48be58c03da0546b0d4a648d4228cf12e195c53b67a3798a73d3f2578b0 already exists\n",
      "0xe2b29b6ed210b7737c1e397b9a9449035f265475c152986182d29588f1571232 already exists\n",
      "0x65dfb1ee046e6ec37f7b39643d73a4b43153ba3c547588dec16dd0f0c2c9ab16 already exists\n",
      "0x921fee2d0a94984e28fa95c625e4ac6882b33ab999201042b335df92546d9930 already exists\n",
      ".\n",
      "waiting 10 seconds\n"
     ]
    },
    {
     "name": "stderr",
     "output_type": "stream",
     "text": [
      " 18%|█▊        | 30/169 [00:10<00:47,  2.91it/s]"
     ]
    },
    {
     "name": "stdout",
     "output_type": "stream",
     "text": [
      ".\n",
      "waiting 8 seconds\n"
     ]
    },
    {
     "name": "stderr",
     "output_type": "stream",
     "text": [
      " 18%|█▊        | 31/169 [00:18<01:37,  1.42it/s]"
     ]
    },
    {
     "name": "stdout",
     "output_type": "stream",
     "text": [
      ".\n",
      "waiting 8 seconds\n"
     ]
    },
    {
     "name": "stderr",
     "output_type": "stream",
     "text": [
      " 19%|█▉        | 32/169 [00:26<02:39,  1.17s/it]"
     ]
    },
    {
     "name": "stdout",
     "output_type": "stream",
     "text": [
      ".\n",
      "waiting 8 seconds\n"
     ]
    },
    {
     "name": "stderr",
     "output_type": "stream",
     "text": [
      " 20%|█▉        | 33/169 [00:35<03:55,  1.73s/it]"
     ]
    },
    {
     "name": "stdout",
     "output_type": "stream",
     "text": [
      ".\n",
      "waiting 6 seconds\n"
     ]
    },
    {
     "name": "stderr",
     "output_type": "stream",
     "text": [
      " 20%|██        | 34/169 [00:41<04:56,  2.20s/it]"
     ]
    },
    {
     "name": "stdout",
     "output_type": "stream",
     "text": [
      ".\n",
      "waiting 8 seconds\n"
     ]
    },
    {
     "name": "stderr",
     "output_type": "stream",
     "text": [
      " 21%|██        | 35/169 [00:49<06:42,  3.00s/it]"
     ]
    },
    {
     "name": "stdout",
     "output_type": "stream",
     "text": [
      ".\n",
      "waiting 2 seconds\n"
     ]
    },
    {
     "name": "stderr",
     "output_type": "stream",
     "text": [
      " 21%|██▏       | 36/169 [00:52<06:23,  2.89s/it]"
     ]
    },
    {
     "name": "stdout",
     "output_type": "stream",
     "text": [
      ".\n",
      "waiting 1 seconds\n"
     ]
    },
    {
     "name": "stderr",
     "output_type": "stream",
     "text": [
      " 22%|██▏       | 37/169 [00:53<05:42,  2.59s/it]"
     ]
    },
    {
     "name": "stdout",
     "output_type": "stream",
     "text": [
      ".\n",
      "waiting 8 seconds\n"
     ]
    },
    {
     "name": "stderr",
     "output_type": "stream",
     "text": [
      " 22%|██▏       | 38/169 [01:01<08:15,  3.78s/it]"
     ]
    },
    {
     "name": "stdout",
     "output_type": "stream",
     "text": [
      ".\n",
      "waiting 4 seconds\n"
     ]
    },
    {
     "name": "stderr",
     "output_type": "stream",
     "text": [
      " 23%|██▎       | 39/169 [01:06<08:25,  3.89s/it]"
     ]
    },
    {
     "name": "stdout",
     "output_type": "stream",
     "text": [
      ".\n",
      "waiting 9 seconds\n"
     ]
    },
    {
     "name": "stderr",
     "output_type": "stream",
     "text": [
      " 24%|██▎       | 40/169 [01:15<11:11,  5.21s/it]"
     ]
    },
    {
     "name": "stdout",
     "output_type": "stream",
     "text": [
      ".\n",
      "waiting 10 seconds\n"
     ]
    },
    {
     "name": "stderr",
     "output_type": "stream",
     "text": [
      " 24%|██▍       | 41/169 [01:25<13:54,  6.52s/it]"
     ]
    },
    {
     "name": "stdout",
     "output_type": "stream",
     "text": [
      ".\n",
      "waiting 1 seconds\n"
     ]
    },
    {
     "name": "stderr",
     "output_type": "stream",
     "text": [
      " 25%|██▍       | 42/169 [01:26<10:48,  5.11s/it]"
     ]
    },
    {
     "name": "stdout",
     "output_type": "stream",
     "text": [
      ".\n",
      "waiting 7 seconds\n"
     ]
    },
    {
     "name": "stderr",
     "output_type": "stream",
     "text": [
      " 25%|██▌       | 43/169 [01:34<12:09,  5.79s/it]"
     ]
    },
    {
     "name": "stdout",
     "output_type": "stream",
     "text": [
      ".\n",
      "waiting 4 seconds\n"
     ]
    },
    {
     "name": "stderr",
     "output_type": "stream",
     "text": [
      " 26%|██▌       | 44/169 [01:38<11:12,  5.38s/it]"
     ]
    },
    {
     "name": "stdout",
     "output_type": "stream",
     "text": [
      ".\n",
      "waiting 2 seconds\n"
     ]
    },
    {
     "name": "stderr",
     "output_type": "stream",
     "text": [
      " 27%|██▋       | 45/169 [01:41<09:18,  4.50s/it]"
     ]
    },
    {
     "name": "stdout",
     "output_type": "stream",
     "text": [
      ".\n",
      "waiting 6 seconds\n"
     ]
    },
    {
     "name": "stderr",
     "output_type": "stream",
     "text": [
      " 27%|██▋       | 46/169 [01:47<10:17,  5.02s/it]"
     ]
    },
    {
     "name": "stdout",
     "output_type": "stream",
     "text": [
      ".\n",
      "waiting 5 seconds\n"
     ]
    },
    {
     "name": "stderr",
     "output_type": "stream",
     "text": [
      " 28%|██▊       | 47/169 [01:52<10:25,  5.13s/it]"
     ]
    },
    {
     "name": "stdout",
     "output_type": "stream",
     "text": [
      ".\n",
      "waiting 4 seconds\n"
     ]
    },
    {
     "name": "stderr",
     "output_type": "stream",
     "text": [
      " 28%|██▊       | 48/169 [01:57<09:50,  4.88s/it]"
     ]
    },
    {
     "name": "stdout",
     "output_type": "stream",
     "text": [
      ".\n",
      "waiting 5 seconds\n"
     ]
    },
    {
     "name": "stderr",
     "output_type": "stream",
     "text": [
      " 29%|██▉       | 49/169 [02:02<09:58,  4.99s/it]"
     ]
    },
    {
     "name": "stdout",
     "output_type": "stream",
     "text": [
      ".\n",
      "waiting 1 seconds\n"
     ]
    },
    {
     "name": "stderr",
     "output_type": "stream",
     "text": [
      " 30%|██▉       | 50/169 [02:03<07:41,  3.88s/it]"
     ]
    },
    {
     "name": "stdout",
     "output_type": "stream",
     "text": [
      ".\n",
      "waiting 6 seconds\n"
     ]
    },
    {
     "name": "stderr",
     "output_type": "stream",
     "text": [
      " 30%|███       | 51/169 [02:10<09:09,  4.66s/it]"
     ]
    },
    {
     "name": "stdout",
     "output_type": "stream",
     "text": [
      ".\n",
      "waiting 2 seconds\n"
     ]
    },
    {
     "name": "stderr",
     "output_type": "stream",
     "text": [
      " 31%|███       | 52/169 [02:12<07:41,  3.94s/it]"
     ]
    },
    {
     "name": "stdout",
     "output_type": "stream",
     "text": [
      ".\n",
      "waiting 6 seconds\n"
     ]
    },
    {
     "name": "stderr",
     "output_type": "stream",
     "text": [
      " 31%|███▏      | 53/169 [02:18<08:57,  4.64s/it]"
     ]
    },
    {
     "name": "stdout",
     "output_type": "stream",
     "text": [
      ".\n",
      "waiting 4 seconds\n"
     ]
    },
    {
     "name": "stderr",
     "output_type": "stream",
     "text": [
      " 32%|███▏      | 54/169 [02:22<08:43,  4.56s/it]"
     ]
    },
    {
     "name": "stdout",
     "output_type": "stream",
     "text": [
      ".\n",
      "waiting 7 seconds\n"
     ]
    },
    {
     "name": "stderr",
     "output_type": "stream",
     "text": [
      " 33%|███▎      | 55/169 [02:30<10:11,  5.37s/it]"
     ]
    },
    {
     "name": "stdout",
     "output_type": "stream",
     "text": [
      ".\n",
      "waiting 7 seconds\n"
     ]
    },
    {
     "name": "stderr",
     "output_type": "stream",
     "text": [
      " 33%|███▎      | 56/169 [02:37<11:11,  5.94s/it]"
     ]
    },
    {
     "name": "stdout",
     "output_type": "stream",
     "text": [
      ".\n",
      "waiting 6 seconds\n"
     ]
    },
    {
     "name": "stderr",
     "output_type": "stream",
     "text": [
      " 34%|███▎      | 57/169 [02:43<11:16,  6.04s/it]"
     ]
    },
    {
     "name": "stdout",
     "output_type": "stream",
     "text": [
      ".\n",
      "waiting 1 seconds\n"
     ]
    },
    {
     "name": "stderr",
     "output_type": "stream",
     "text": [
      " 34%|███▍      | 58/169 [02:45<08:31,  4.61s/it]"
     ]
    },
    {
     "name": "stdout",
     "output_type": "stream",
     "text": [
      ".\n",
      "waiting 3 seconds\n"
     ]
    },
    {
     "name": "stderr",
     "output_type": "stream",
     "text": [
      " 35%|███▍      | 59/169 [02:48<07:49,  4.26s/it]"
     ]
    },
    {
     "name": "stdout",
     "output_type": "stream",
     "text": [
      ".\n",
      "waiting 10 seconds\n"
     ]
    },
    {
     "name": "stderr",
     "output_type": "stream",
     "text": [
      " 36%|███▌      | 60/169 [02:58<11:00,  6.06s/it]"
     ]
    },
    {
     "name": "stdout",
     "output_type": "stream",
     "text": [
      ".\n",
      "waiting 5 seconds\n"
     ]
    },
    {
     "name": "stderr",
     "output_type": "stream",
     "text": [
      " 36%|███▌      | 61/169 [03:04<10:28,  5.82s/it]"
     ]
    },
    {
     "name": "stdout",
     "output_type": "stream",
     "text": [
      ".\n",
      "waiting 8 seconds\n"
     ]
    },
    {
     "name": "stderr",
     "output_type": "stream",
     "text": [
      " 37%|███▋      | 62/169 [03:12<11:43,  6.57s/it]"
     ]
    },
    {
     "name": "stdout",
     "output_type": "stream",
     "text": [
      ".\n",
      "waiting 8 seconds\n"
     ]
    },
    {
     "name": "stderr",
     "output_type": "stream",
     "text": [
      " 37%|███▋      | 63/169 [03:20<12:30,  7.08s/it]"
     ]
    },
    {
     "name": "stdout",
     "output_type": "stream",
     "text": [
      ".\n",
      "waiting 5 seconds\n"
     ]
    },
    {
     "name": "stderr",
     "output_type": "stream",
     "text": [
      " 38%|███▊      | 64/169 [03:25<11:26,  6.53s/it]"
     ]
    },
    {
     "name": "stdout",
     "output_type": "stream",
     "text": [
      ".\n",
      "waiting 8 seconds\n"
     ]
    },
    {
     "name": "stderr",
     "output_type": "stream",
     "text": [
      " 38%|███▊      | 65/169 [03:34<12:12,  7.04s/it]"
     ]
    },
    {
     "name": "stdout",
     "output_type": "stream",
     "text": [
      ".\n",
      "waiting 4 seconds\n"
     ]
    },
    {
     "name": "stderr",
     "output_type": "stream",
     "text": [
      " 39%|███▉      | 66/169 [03:38<10:44,  6.26s/it]"
     ]
    },
    {
     "name": "stdout",
     "output_type": "stream",
     "text": [
      ".\n",
      "waiting 2 seconds\n"
     ]
    },
    {
     "name": "stderr",
     "output_type": "stream",
     "text": [
      " 40%|███▉      | 67/169 [03:40<08:37,  5.07s/it]"
     ]
    },
    {
     "name": "stdout",
     "output_type": "stream",
     "text": [
      ".\n",
      "waiting 5 seconds\n"
     ]
    },
    {
     "name": "stderr",
     "output_type": "stream",
     "text": [
      " 40%|████      | 68/169 [03:46<08:38,  5.13s/it]"
     ]
    },
    {
     "name": "stdout",
     "output_type": "stream",
     "text": [
      ".\n",
      "waiting 1 seconds\n"
     ]
    },
    {
     "name": "stderr",
     "output_type": "stream",
     "text": [
      " 41%|████      | 69/169 [03:47<06:37,  3.98s/it]"
     ]
    },
    {
     "name": "stdout",
     "output_type": "stream",
     "text": [
      ".\n",
      "waiting 2 seconds\n"
     ]
    },
    {
     "name": "stderr",
     "output_type": "stream",
     "text": [
      " 41%|████▏     | 70/169 [03:49<05:42,  3.46s/it]"
     ]
    },
    {
     "name": "stdout",
     "output_type": "stream",
     "text": [
      ".\n",
      "waiting 1 seconds\n"
     ]
    },
    {
     "name": "stderr",
     "output_type": "stream",
     "text": [
      " 42%|████▏     | 71/169 [03:50<04:36,  2.82s/it]"
     ]
    },
    {
     "name": "stdout",
     "output_type": "stream",
     "text": [
      ".\n",
      "waiting 9 seconds\n"
     ]
    },
    {
     "name": "stderr",
     "output_type": "stream",
     "text": [
      " 43%|████▎     | 72/169 [04:00<07:41,  4.75s/it]"
     ]
    },
    {
     "name": "stdout",
     "output_type": "stream",
     "text": [
      ".\n",
      "waiting 6 seconds\n"
     ]
    },
    {
     "name": "stderr",
     "output_type": "stream",
     "text": [
      " 43%|████▎     | 73/169 [04:06<08:21,  5.22s/it]"
     ]
    },
    {
     "name": "stdout",
     "output_type": "stream",
     "text": [
      ".\n",
      "waiting 4 seconds\n"
     ]
    },
    {
     "name": "stderr",
     "output_type": "stream",
     "text": [
      " 44%|████▍     | 74/169 [04:10<07:53,  4.98s/it]"
     ]
    },
    {
     "name": "stdout",
     "output_type": "stream",
     "text": [
      ".\n",
      "waiting 9 seconds\n"
     ]
    },
    {
     "name": "stderr",
     "output_type": "stream",
     "text": [
      " 44%|████▍     | 75/169 [04:20<09:49,  6.27s/it]"
     ]
    },
    {
     "name": "stdout",
     "output_type": "stream",
     "text": [
      ".\n",
      "waiting 2 seconds\n"
     ]
    },
    {
     "name": "stderr",
     "output_type": "stream",
     "text": [
      " 45%|████▍     | 76/169 [04:22<07:53,  5.09s/it]"
     ]
    },
    {
     "name": "stdout",
     "output_type": "stream",
     "text": [
      ".\n",
      "waiting 7 seconds\n"
     ]
    },
    {
     "name": "stderr",
     "output_type": "stream",
     "text": [
      " 46%|████▌     | 77/169 [04:30<09:04,  5.92s/it]"
     ]
    },
    {
     "name": "stdout",
     "output_type": "stream",
     "text": [
      ".\n",
      "waiting 7 seconds\n"
     ]
    },
    {
     "name": "stderr",
     "output_type": "stream",
     "text": [
      " 46%|████▌     | 78/169 [04:37<09:37,  6.35s/it]"
     ]
    },
    {
     "name": "stdout",
     "output_type": "stream",
     "text": [
      ".\n",
      "waiting 6 seconds\n"
     ]
    },
    {
     "name": "stderr",
     "output_type": "stream",
     "text": [
      " 47%|████▋     | 79/169 [04:44<09:30,  6.34s/it]"
     ]
    },
    {
     "name": "stdout",
     "output_type": "stream",
     "text": [
      ".\n",
      "waiting 9 seconds\n"
     ]
    },
    {
     "name": "stderr",
     "output_type": "stream",
     "text": [
      " 47%|████▋     | 80/169 [04:53<10:42,  7.22s/it]"
     ]
    },
    {
     "name": "stdout",
     "output_type": "stream",
     "text": [
      ".\n",
      "waiting 2 seconds\n"
     ]
    },
    {
     "name": "stderr",
     "output_type": "stream",
     "text": [
      " 48%|████▊     | 81/169 [04:55<08:24,  5.74s/it]"
     ]
    },
    {
     "name": "stdout",
     "output_type": "stream",
     "text": [
      ".\n",
      "waiting 7 seconds\n"
     ]
    },
    {
     "name": "stderr",
     "output_type": "stream",
     "text": [
      " 49%|████▊     | 82/169 [05:02<08:58,  6.20s/it]"
     ]
    },
    {
     "name": "stdout",
     "output_type": "stream",
     "text": [
      ".\n",
      "waiting 8 seconds\n"
     ]
    },
    {
     "name": "stderr",
     "output_type": "stream",
     "text": [
      " 49%|████▉     | 83/169 [05:11<09:45,  6.81s/it]"
     ]
    },
    {
     "name": "stdout",
     "output_type": "stream",
     "text": [
      ".\n",
      "waiting 9 seconds\n"
     ]
    },
    {
     "name": "stderr",
     "output_type": "stream",
     "text": [
      " 50%|████▉     | 84/169 [05:20<10:43,  7.57s/it]"
     ]
    },
    {
     "name": "stdout",
     "output_type": "stream",
     "text": [
      ".\n",
      "waiting 3 seconds\n"
     ]
    },
    {
     "name": "stderr",
     "output_type": "stream",
     "text": [
      " 50%|█████     | 85/169 [05:23<08:47,  6.28s/it]"
     ]
    },
    {
     "name": "stdout",
     "output_type": "stream",
     "text": [
      ".\n",
      "waiting 2 seconds\n"
     ]
    },
    {
     "name": "stderr",
     "output_type": "stream",
     "text": [
      " 51%|█████     | 86/169 [05:26<07:02,  5.09s/it]"
     ]
    },
    {
     "name": "stdout",
     "output_type": "stream",
     "text": [
      ".\n",
      "waiting 4 seconds\n"
     ]
    },
    {
     "name": "stderr",
     "output_type": "stream",
     "text": [
      " 51%|█████▏    | 87/169 [05:30<06:36,  4.84s/it]"
     ]
    },
    {
     "name": "stdout",
     "output_type": "stream",
     "text": [
      ".\n",
      "waiting 6 seconds\n"
     ]
    },
    {
     "name": "stderr",
     "output_type": "stream",
     "text": [
      " 52%|█████▏    | 88/169 [05:36<07:06,  5.27s/it]"
     ]
    },
    {
     "name": "stdout",
     "output_type": "stream",
     "text": [
      ".\n",
      "waiting 2 seconds\n"
     ]
    },
    {
     "name": "stderr",
     "output_type": "stream",
     "text": [
      " 53%|█████▎    | 89/169 [05:38<05:50,  4.38s/it]"
     ]
    },
    {
     "name": "stdout",
     "output_type": "stream",
     "text": [
      ".\n",
      "waiting 6 seconds\n"
     ]
    },
    {
     "name": "stderr",
     "output_type": "stream",
     "text": [
      " 53%|█████▎    | 90/169 [05:45<06:30,  4.94s/it]"
     ]
    },
    {
     "name": "stdout",
     "output_type": "stream",
     "text": [
      ".\n",
      "waiting 10 seconds\n"
     ]
    },
    {
     "name": "stderr",
     "output_type": "stream",
     "text": [
      " 54%|█████▍    | 91/169 [05:55<08:31,  6.56s/it]"
     ]
    },
    {
     "name": "stdout",
     "output_type": "stream",
     "text": [
      ".\n",
      "waiting 6 seconds\n"
     ]
    },
    {
     "name": "stderr",
     "output_type": "stream",
     "text": [
      " 54%|█████▍    | 92/169 [06:01<08:18,  6.48s/it]"
     ]
    },
    {
     "name": "stdout",
     "output_type": "stream",
     "text": [
      ".\n",
      "waiting 6 seconds\n"
     ]
    },
    {
     "name": "stderr",
     "output_type": "stream",
     "text": [
      " 55%|█████▌    | 93/169 [06:08<08:07,  6.41s/it]"
     ]
    },
    {
     "name": "stdout",
     "output_type": "stream",
     "text": [
      ".\n",
      "waiting 2 seconds\n"
     ]
    },
    {
     "name": "stderr",
     "output_type": "stream",
     "text": [
      " 56%|█████▌    | 94/169 [06:10<06:28,  5.18s/it]"
     ]
    },
    {
     "name": "stdout",
     "output_type": "stream",
     "text": [
      ".\n",
      "waiting 9 seconds\n"
     ]
    },
    {
     "name": "stderr",
     "output_type": "stream",
     "text": [
      " 56%|█████▌    | 95/169 [06:19<07:53,  6.40s/it]"
     ]
    },
    {
     "name": "stdout",
     "output_type": "stream",
     "text": [
      ".\n",
      "waiting 1 seconds\n"
     ]
    },
    {
     "name": "stderr",
     "output_type": "stream",
     "text": [
      " 57%|█████▋    | 96/169 [06:20<05:55,  4.87s/it]"
     ]
    },
    {
     "name": "stdout",
     "output_type": "stream",
     "text": [
      ".\n",
      "waiting 3 seconds\n"
     ]
    },
    {
     "name": "stderr",
     "output_type": "stream",
     "text": [
      " 57%|█████▋    | 97/169 [06:24<05:18,  4.43s/it]"
     ]
    },
    {
     "name": "stdout",
     "output_type": "stream",
     "text": [
      ".\n",
      "waiting 9 seconds\n"
     ]
    },
    {
     "name": "stderr",
     "output_type": "stream",
     "text": [
      " 58%|█████▊    | 98/169 [06:33<06:57,  5.89s/it]"
     ]
    },
    {
     "name": "stdout",
     "output_type": "stream",
     "text": [
      ".\n",
      "waiting 9 seconds\n"
     ]
    },
    {
     "name": "stderr",
     "output_type": "stream",
     "text": [
      " 59%|█████▊    | 99/169 [06:42<08:02,  6.90s/it]"
     ]
    },
    {
     "name": "stdout",
     "output_type": "stream",
     "text": [
      ".\n",
      "waiting 4 seconds\n"
     ]
    },
    {
     "name": "stderr",
     "output_type": "stream",
     "text": [
      " 59%|█████▉    | 100/169 [06:47<07:01,  6.11s/it]"
     ]
    },
    {
     "name": "stdout",
     "output_type": "stream",
     "text": [
      ".\n",
      "waiting 7 seconds\n"
     ]
    },
    {
     "name": "stderr",
     "output_type": "stream",
     "text": [
      " 60%|█████▉    | 101/169 [06:54<07:19,  6.46s/it]"
     ]
    },
    {
     "name": "stdout",
     "output_type": "stream",
     "text": [
      ".\n",
      "waiting 8 seconds\n"
     ]
    },
    {
     "name": "stderr",
     "output_type": "stream",
     "text": [
      " 60%|██████    | 102/169 [07:02<07:49,  7.01s/it]"
     ]
    },
    {
     "name": "stdout",
     "output_type": "stream",
     "text": [
      ".\n",
      "waiting 8 seconds\n"
     ]
    },
    {
     "name": "stderr",
     "output_type": "stream",
     "text": [
      " 61%|██████    | 103/169 [07:10<08:07,  7.38s/it]"
     ]
    },
    {
     "name": "stdout",
     "output_type": "stream",
     "text": [
      ".\n",
      "waiting 3 seconds\n"
     ]
    },
    {
     "name": "stderr",
     "output_type": "stream",
     "text": [
      " 62%|██████▏   | 104/169 [07:14<06:40,  6.15s/it]"
     ]
    },
    {
     "name": "stdout",
     "output_type": "stream",
     "text": [
      ".\n",
      "waiting 8 seconds\n"
     ]
    },
    {
     "name": "stderr",
     "output_type": "stream",
     "text": [
      " 62%|██████▏   | 105/169 [07:22<07:14,  6.78s/it]"
     ]
    },
    {
     "name": "stdout",
     "output_type": "stream",
     "text": [
      ".\n",
      "waiting 9 seconds\n"
     ]
    },
    {
     "name": "stderr",
     "output_type": "stream",
     "text": [
      " 63%|██████▎   | 106/169 [07:31<07:54,  7.53s/it]"
     ]
    },
    {
     "name": "stdout",
     "output_type": "stream",
     "text": [
      ".\n",
      "waiting 9 seconds\n"
     ]
    },
    {
     "name": "stderr",
     "output_type": "stream",
     "text": [
      " 63%|██████▎   | 107/169 [07:41<08:19,  8.06s/it]"
     ]
    },
    {
     "name": "stdout",
     "output_type": "stream",
     "text": [
      ".\n",
      "waiting 3 seconds\n"
     ]
    },
    {
     "name": "stderr",
     "output_type": "stream",
     "text": [
      " 64%|██████▍   | 108/169 [07:44<06:44,  6.63s/it]"
     ]
    },
    {
     "name": "stdout",
     "output_type": "stream",
     "text": [
      ".\n",
      "waiting 8 seconds\n"
     ]
    },
    {
     "name": "stderr",
     "output_type": "stream",
     "text": [
      " 64%|██████▍   | 109/169 [07:52<07:11,  7.19s/it]"
     ]
    },
    {
     "name": "stdout",
     "output_type": "stream",
     "text": [
      ".\n",
      "waiting 7 seconds\n"
     ]
    },
    {
     "name": "stderr",
     "output_type": "stream",
     "text": [
      " 65%|██████▌   | 110/169 [08:00<07:10,  7.30s/it]"
     ]
    },
    {
     "name": "stdout",
     "output_type": "stream",
     "text": [
      ".\n",
      "waiting 3 seconds\n"
     ]
    },
    {
     "name": "stderr",
     "output_type": "stream",
     "text": [
      " 66%|██████▌   | 111/169 [08:03<05:53,  6.10s/it]"
     ]
    },
    {
     "name": "stdout",
     "output_type": "stream",
     "text": [
      ".\n",
      "waiting 1 seconds\n"
     ]
    },
    {
     "name": "stderr",
     "output_type": "stream",
     "text": [
      " 66%|██████▋   | 112/169 [08:05<04:25,  4.66s/it]"
     ]
    },
    {
     "name": "stdout",
     "output_type": "stream",
     "text": [
      ".\n",
      "waiting 3 seconds\n"
     ]
    },
    {
     "name": "stderr",
     "output_type": "stream",
     "text": [
      " 67%|██████▋   | 113/169 [08:10<04:32,  4.86s/it]"
     ]
    },
    {
     "name": "stdout",
     "output_type": "stream",
     "text": [
      ".\n",
      "waiting 9 seconds\n"
     ]
    },
    {
     "name": "stderr",
     "output_type": "stream",
     "text": [
      " 67%|██████▋   | 114/169 [08:21<06:08,  6.69s/it]"
     ]
    },
    {
     "name": "stdout",
     "output_type": "stream",
     "text": [
      ".\n",
      "waiting 5 seconds\n"
     ]
    },
    {
     "name": "stderr",
     "output_type": "stream",
     "text": [
      " 68%|██████▊   | 115/169 [08:26<05:38,  6.27s/it]"
     ]
    },
    {
     "name": "stdout",
     "output_type": "stream",
     "text": [
      ".\n",
      "waiting 10 seconds\n"
     ]
    },
    {
     "name": "stderr",
     "output_type": "stream",
     "text": [
      " 69%|██████▊   | 116/169 [08:36<06:36,  7.47s/it]"
     ]
    },
    {
     "name": "stdout",
     "output_type": "stream",
     "text": [
      ".\n",
      "waiting 10 seconds\n"
     ]
    },
    {
     "name": "stderr",
     "output_type": "stream",
     "text": [
      " 69%|██████▉   | 117/169 [08:47<07:12,  8.32s/it]"
     ]
    },
    {
     "name": "stdout",
     "output_type": "stream",
     "text": [
      ".\n",
      "waiting 8 seconds\n"
     ]
    },
    {
     "name": "stderr",
     "output_type": "stream",
     "text": [
      " 70%|██████▉   | 118/169 [08:55<07:03,  8.30s/it]"
     ]
    },
    {
     "name": "stdout",
     "output_type": "stream",
     "text": [
      ".\n",
      "waiting 7 seconds\n"
     ]
    },
    {
     "name": "stderr",
     "output_type": "stream",
     "text": [
      " 70%|███████   | 119/169 [09:02<06:40,  8.00s/it]"
     ]
    },
    {
     "name": "stdout",
     "output_type": "stream",
     "text": [
      ".\n",
      "waiting 1 seconds\n"
     ]
    },
    {
     "name": "stderr",
     "output_type": "stream",
     "text": [
      " 71%|███████   | 120/169 [09:04<04:53,  5.99s/it]"
     ]
    },
    {
     "name": "stdout",
     "output_type": "stream",
     "text": [
      ".\n",
      "waiting 8 seconds\n"
     ]
    },
    {
     "name": "stderr",
     "output_type": "stream",
     "text": [
      " 72%|███████▏  | 121/169 [09:12<05:20,  6.67s/it]"
     ]
    },
    {
     "name": "stdout",
     "output_type": "stream",
     "text": [
      ".\n",
      "waiting 1 seconds\n"
     ]
    },
    {
     "name": "stderr",
     "output_type": "stream",
     "text": [
      " 72%|███████▏  | 122/169 [09:13<03:57,  5.05s/it]"
     ]
    },
    {
     "name": "stdout",
     "output_type": "stream",
     "text": [
      ".\n",
      "waiting 9 seconds\n"
     ]
    },
    {
     "name": "stderr",
     "output_type": "stream",
     "text": [
      " 73%|███████▎  | 123/169 [09:22<04:50,  6.32s/it]"
     ]
    },
    {
     "name": "stdout",
     "output_type": "stream",
     "text": [
      ".\n",
      "waiting 1 seconds\n"
     ]
    },
    {
     "name": "stderr",
     "output_type": "stream",
     "text": [
      " 73%|███████▎  | 124/169 [09:24<03:36,  4.80s/it]"
     ]
    },
    {
     "name": "stdout",
     "output_type": "stream",
     "text": [
      ".\n",
      "waiting 2 seconds\n"
     ]
    },
    {
     "name": "stderr",
     "output_type": "stream",
     "text": [
      " 74%|███████▍  | 125/169 [09:26<02:57,  4.04s/it]"
     ]
    },
    {
     "name": "stdout",
     "output_type": "stream",
     "text": [
      ".\n",
      "waiting 6 seconds\n"
     ]
    },
    {
     "name": "stderr",
     "output_type": "stream",
     "text": [
      " 75%|███████▍  | 126/169 [09:32<03:22,  4.70s/it]"
     ]
    },
    {
     "name": "stdout",
     "output_type": "stream",
     "text": [
      ".\n",
      "waiting 1 seconds\n"
     ]
    },
    {
     "name": "stderr",
     "output_type": "stream",
     "text": [
      " 75%|███████▌  | 127/169 [09:33<02:34,  3.67s/it]"
     ]
    },
    {
     "name": "stdout",
     "output_type": "stream",
     "text": [
      ".\n",
      "waiting 10 seconds\n"
     ]
    },
    {
     "name": "stderr",
     "output_type": "stream",
     "text": [
      " 76%|███████▌  | 128/169 [09:44<03:51,  5.65s/it]"
     ]
    },
    {
     "name": "stdout",
     "output_type": "stream",
     "text": [
      ".\n",
      "waiting 6 seconds\n"
     ]
    },
    {
     "name": "stderr",
     "output_type": "stream",
     "text": [
      " 76%|███████▋  | 129/169 [09:50<03:53,  5.83s/it]"
     ]
    },
    {
     "name": "stdout",
     "output_type": "stream",
     "text": [
      ".\n",
      "waiting 9 seconds\n"
     ]
    },
    {
     "name": "stderr",
     "output_type": "stream",
     "text": [
      " 77%|███████▋  | 130/169 [09:59<04:27,  6.86s/it]"
     ]
    },
    {
     "name": "stdout",
     "output_type": "stream",
     "text": [
      ".\n",
      "waiting 8 seconds\n"
     ]
    },
    {
     "name": "stderr",
     "output_type": "stream",
     "text": [
      " 78%|███████▊  | 131/169 [10:07<04:36,  7.28s/it]"
     ]
    },
    {
     "name": "stdout",
     "output_type": "stream",
     "text": [
      ".\n",
      "waiting 7 seconds\n"
     ]
    },
    {
     "name": "stderr",
     "output_type": "stream",
     "text": [
      " 78%|███████▊  | 132/169 [10:15<04:31,  7.34s/it]"
     ]
    },
    {
     "name": "stdout",
     "output_type": "stream",
     "text": [
      ".\n",
      "waiting 6 seconds\n"
     ]
    },
    {
     "name": "stderr",
     "output_type": "stream",
     "text": [
      " 79%|███████▊  | 133/169 [10:21<04:12,  7.03s/it]"
     ]
    },
    {
     "name": "stdout",
     "output_type": "stream",
     "text": [
      ".\n",
      "waiting 4 seconds\n"
     ]
    },
    {
     "name": "stderr",
     "output_type": "stream",
     "text": [
      " 79%|███████▉  | 134/169 [10:25<03:36,  6.20s/it]"
     ]
    },
    {
     "name": "stdout",
     "output_type": "stream",
     "text": [
      ".\n",
      "waiting 7 seconds\n"
     ]
    },
    {
     "name": "stderr",
     "output_type": "stream",
     "text": [
      " 80%|███████▉  | 135/169 [10:33<03:41,  6.52s/it]"
     ]
    },
    {
     "name": "stdout",
     "output_type": "stream",
     "text": [
      ".\n",
      "waiting 7 seconds\n"
     ]
    },
    {
     "name": "stderr",
     "output_type": "stream",
     "text": [
      " 80%|████████  | 136/169 [10:40<03:42,  6.75s/it]"
     ]
    },
    {
     "name": "stdout",
     "output_type": "stream",
     "text": [
      ".\n",
      "waiting 3 seconds\n"
     ]
    },
    {
     "name": "stderr",
     "output_type": "stream",
     "text": [
      " 81%|████████  | 137/169 [10:43<03:03,  5.73s/it]"
     ]
    },
    {
     "name": "stdout",
     "output_type": "stream",
     "text": [
      ".\n",
      "waiting 9 seconds\n"
     ]
    },
    {
     "name": "stderr",
     "output_type": "stream",
     "text": [
      " 82%|████████▏ | 138/169 [10:53<03:30,  6.78s/it]"
     ]
    },
    {
     "name": "stdout",
     "output_type": "stream",
     "text": [
      ".\n",
      "waiting 9 seconds\n"
     ]
    },
    {
     "name": "stderr",
     "output_type": "stream",
     "text": [
      " 82%|████████▏ | 139/169 [11:02<03:46,  7.54s/it]"
     ]
    },
    {
     "name": "stdout",
     "output_type": "stream",
     "text": [
      ".\n",
      "waiting 6 seconds\n"
     ]
    },
    {
     "name": "stderr",
     "output_type": "stream",
     "text": [
      " 83%|████████▎ | 140/169 [11:08<03:27,  7.17s/it]"
     ]
    },
    {
     "name": "stdout",
     "output_type": "stream",
     "text": [
      ".\n",
      "waiting 8 seconds\n"
     ]
    },
    {
     "name": "stderr",
     "output_type": "stream",
     "text": [
      " 83%|████████▎ | 141/169 [11:17<03:30,  7.51s/it]"
     ]
    },
    {
     "name": "stdout",
     "output_type": "stream",
     "text": [
      ".\n",
      "waiting 6 seconds\n"
     ]
    },
    {
     "name": "stderr",
     "output_type": "stream",
     "text": [
      " 84%|████████▍ | 142/169 [11:23<03:12,  7.15s/it]"
     ]
    },
    {
     "name": "stdout",
     "output_type": "stream",
     "text": [
      ".\n",
      "waiting 6 seconds\n"
     ]
    },
    {
     "name": "stderr",
     "output_type": "stream",
     "text": [
      " 85%|████████▍ | 143/169 [11:29<02:59,  6.91s/it]"
     ]
    },
    {
     "name": "stdout",
     "output_type": "stream",
     "text": [
      ".\n",
      "waiting 9 seconds\n"
     ]
    },
    {
     "name": "stderr",
     "output_type": "stream",
     "text": [
      " 85%|████████▌ | 144/169 [11:38<03:10,  7.63s/it]"
     ]
    },
    {
     "name": "stdout",
     "output_type": "stream",
     "text": [
      ".\n",
      "waiting 5 seconds\n"
     ]
    },
    {
     "name": "stderr",
     "output_type": "stream",
     "text": [
      " 86%|████████▌ | 145/169 [11:44<02:46,  6.93s/it]"
     ]
    },
    {
     "name": "stdout",
     "output_type": "stream",
     "text": [
      ".\n",
      "waiting 5 seconds\n"
     ]
    },
    {
     "name": "stderr",
     "output_type": "stream",
     "text": [
      " 86%|████████▋ | 146/169 [11:49<02:27,  6.42s/it]"
     ]
    },
    {
     "name": "stdout",
     "output_type": "stream",
     "text": [
      ".\n",
      "waiting 6 seconds\n"
     ]
    },
    {
     "name": "stderr",
     "output_type": "stream",
     "text": [
      " 87%|████████▋ | 147/169 [11:55<02:20,  6.37s/it]"
     ]
    },
    {
     "name": "stdout",
     "output_type": "stream",
     "text": [
      ".\n",
      "waiting 8 seconds\n"
     ]
    },
    {
     "name": "stderr",
     "output_type": "stream",
     "text": [
      " 88%|████████▊ | 148/169 [12:04<02:25,  6.94s/it]"
     ]
    },
    {
     "name": "stdout",
     "output_type": "stream",
     "text": [
      ".\n",
      "waiting 4 seconds\n"
     ]
    },
    {
     "name": "stderr",
     "output_type": "stream",
     "text": [
      " 88%|████████▊ | 149/169 [12:08<02:02,  6.14s/it]"
     ]
    },
    {
     "name": "stdout",
     "output_type": "stream",
     "text": [
      ".\n",
      "waiting 7 seconds\n"
     ]
    },
    {
     "name": "stderr",
     "output_type": "stream",
     "text": [
      " 89%|████████▉ | 150/169 [12:15<02:03,  6.48s/it]"
     ]
    },
    {
     "name": "stdout",
     "output_type": "stream",
     "text": [
      ".\n",
      "waiting 2 seconds\n"
     ]
    },
    {
     "name": "stderr",
     "output_type": "stream",
     "text": [
      " 89%|████████▉ | 151/169 [12:17<01:33,  5.22s/it]"
     ]
    },
    {
     "name": "stdout",
     "output_type": "stream",
     "text": [
      ".\n",
      "waiting 1 seconds\n"
     ]
    },
    {
     "name": "stderr",
     "output_type": "stream",
     "text": [
      " 90%|████████▉ | 152/169 [12:19<01:08,  4.03s/it]"
     ]
    },
    {
     "name": "stdout",
     "output_type": "stream",
     "text": [
      ".\n",
      "waiting 7 seconds\n"
     ]
    },
    {
     "name": "stderr",
     "output_type": "stream",
     "text": [
      " 91%|█████████ | 153/169 [12:26<01:20,  5.01s/it]"
     ]
    },
    {
     "name": "stdout",
     "output_type": "stream",
     "text": [
      ".\n",
      "waiting 7 seconds\n"
     ]
    },
    {
     "name": "stderr",
     "output_type": "stream",
     "text": [
      " 91%|█████████ | 154/169 [12:33<01:25,  5.70s/it]"
     ]
    },
    {
     "name": "stdout",
     "output_type": "stream",
     "text": [
      ".\n",
      "waiting 8 seconds\n"
     ]
    },
    {
     "name": "stderr",
     "output_type": "stream",
     "text": [
      " 92%|█████████▏| 155/169 [12:41<01:30,  6.47s/it]"
     ]
    },
    {
     "name": "stdout",
     "output_type": "stream",
     "text": [
      ".\n",
      "waiting 4 seconds\n"
     ]
    },
    {
     "name": "stderr",
     "output_type": "stream",
     "text": [
      " 92%|█████████▏| 156/169 [12:46<01:15,  5.82s/it]"
     ]
    },
    {
     "name": "stdout",
     "output_type": "stream",
     "text": [
      ".\n",
      "waiting 1 seconds\n"
     ]
    },
    {
     "name": "stderr",
     "output_type": "stream",
     "text": [
      " 93%|█████████▎| 157/169 [12:47<00:53,  4.47s/it]"
     ]
    },
    {
     "name": "stdout",
     "output_type": "stream",
     "text": [
      ".\n",
      "waiting 7 seconds\n"
     ]
    },
    {
     "name": "stderr",
     "output_type": "stream",
     "text": [
      " 93%|█████████▎| 158/169 [12:54<00:58,  5.32s/it]"
     ]
    },
    {
     "name": "stdout",
     "output_type": "stream",
     "text": [
      ".\n",
      "waiting 8 seconds\n"
     ]
    },
    {
     "name": "stderr",
     "output_type": "stream",
     "text": [
      " 94%|█████████▍| 159/169 [13:03<01:03,  6.36s/it]"
     ]
    },
    {
     "name": "stdout",
     "output_type": "stream",
     "text": [
      ".\n",
      "waiting 7 seconds\n"
     ]
    },
    {
     "name": "stderr",
     "output_type": "stream",
     "text": [
      " 95%|█████████▍| 160/169 [13:11<00:59,  6.65s/it]"
     ]
    },
    {
     "name": "stdout",
     "output_type": "stream",
     "text": [
      ".\n",
      "waiting 6 seconds\n"
     ]
    },
    {
     "name": "stderr",
     "output_type": "stream",
     "text": [
      " 95%|█████████▌| 161/169 [13:17<00:52,  6.59s/it]"
     ]
    },
    {
     "name": "stdout",
     "output_type": "stream",
     "text": [
      ".\n",
      "waiting 4 seconds\n"
     ]
    },
    {
     "name": "stderr",
     "output_type": "stream",
     "text": [
      " 96%|█████████▌| 162/169 [13:21<00:41,  5.92s/it]"
     ]
    },
    {
     "name": "stdout",
     "output_type": "stream",
     "text": [
      ".\n",
      "waiting 4 seconds\n"
     ]
    },
    {
     "name": "stderr",
     "output_type": "stream",
     "text": [
      " 96%|█████████▋| 163/169 [13:26<00:32,  5.43s/it]"
     ]
    },
    {
     "name": "stdout",
     "output_type": "stream",
     "text": [
      ".\n",
      "waiting 3 seconds\n"
     ]
    },
    {
     "name": "stderr",
     "output_type": "stream",
     "text": [
      " 97%|█████████▋| 164/169 [13:29<00:24,  4.81s/it]"
     ]
    },
    {
     "name": "stdout",
     "output_type": "stream",
     "text": [
      ".\n",
      "waiting 9 seconds\n"
     ]
    },
    {
     "name": "stderr",
     "output_type": "stream",
     "text": [
      " 98%|█████████▊| 165/169 [13:38<00:24,  6.16s/it]"
     ]
    },
    {
     "name": "stdout",
     "output_type": "stream",
     "text": [
      ".\n",
      "waiting 1 seconds\n"
     ]
    },
    {
     "name": "stderr",
     "output_type": "stream",
     "text": [
      " 98%|█████████▊| 166/169 [13:40<00:14,  4.71s/it]"
     ]
    },
    {
     "name": "stdout",
     "output_type": "stream",
     "text": [
      ".\n",
      "waiting 4 seconds\n"
     ]
    },
    {
     "name": "stderr",
     "output_type": "stream",
     "text": [
      " 99%|█████████▉| 167/169 [13:44<00:09,  4.58s/it]"
     ]
    },
    {
     "name": "stdout",
     "output_type": "stream",
     "text": [
      ".\n",
      "waiting 8 seconds\n"
     ]
    },
    {
     "name": "stderr",
     "output_type": "stream",
     "text": [
      " 99%|█████████▉| 168/169 [13:52<00:05,  5.69s/it]"
     ]
    },
    {
     "name": "stdout",
     "output_type": "stream",
     "text": [
      ".\n",
      "waiting 9 seconds\n"
     ]
    },
    {
     "name": "stderr",
     "output_type": "stream",
     "text": [
      "100%|██████████| 169/169 [14:02<00:00,  4.98s/it]\n"
     ]
    }
   ],
   "source": [
    "# TODO: break this out to a python file, dockerized to run on a server\n",
    "from tqdm import tqdm\n",
    "\n",
    "for row in tqdm(proposals_df.itertuples(), total=proposals_df.shape[0]):\n",
    "    proposal_id = row.id  # this is the key to query the api\n",
    "\n",
    "    if os.path.exists(f'{directory}/{proposal_id}.csv'):\n",
    "        print(f'{proposal_id} already exists')\n",
    "        continue\n",
    "    votes = get_all_votes(proposal_id)\n",
    "\n",
    "    # save w proposal_id\n",
    "    votes.to_csv(f'{directory}/{proposal_id}.csv', index=False)\n",
    "\n",
    "    # TODO: this should save to a dao folder and then we save each proposal inside that folder\n",
    "\n",
    "    # wait between each proposal\n",
    "    wait_time = random.randint(1, 10)\n",
    "    print(f'waiting {wait_time} seconds')\n",
    "    time.sleep(wait_time)"
   ]
  }
 ],
 "metadata": {
  "kernelspec": {
   "display_name": "Python 3",
   "language": "python",
   "name": "python3"
  },
  "language_info": {
   "codemirror_mode": {
    "name": "ipython",
    "version": 3
   },
   "file_extension": ".py",
   "mimetype": "text/x-python",
   "name": "python",
   "nbconvert_exporter": "python",
   "pygments_lexer": "ipython3",
   "version": "3.11.3"
  },
  "orig_nbformat": 4
 },
 "nbformat": 4,
 "nbformat_minor": 2
}
