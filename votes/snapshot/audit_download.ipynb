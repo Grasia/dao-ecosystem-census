{
 "cells": [
  {
   "cell_type": "code",
   "execution_count": 1,
   "metadata": {},
   "outputs": [
    {
     "data": {
      "text/plain": [
       "6798"
      ]
     },
     "execution_count": 1,
     "metadata": {},
     "output_type": "execute_result"
    }
   ],
   "source": [
    "import glob\n",
    "\n",
    "# get all the json files in votes_out_2023_07_21\n",
    "file_names = glob.glob('votes_out_2023_07_21/*.json')\n",
    "len(file_names)"
   ]
  },
  {
   "cell_type": "code",
   "execution_count": 2,
   "metadata": {},
   "outputs": [
    {
     "data": {
      "text/html": [
       "<div>\n",
       "<style scoped>\n",
       "    .dataframe tbody tr th:only-of-type {\n",
       "        vertical-align: middle;\n",
       "    }\n",
       "\n",
       "    .dataframe tbody tr th {\n",
       "        vertical-align: top;\n",
       "    }\n",
       "\n",
       "    .dataframe thead th {\n",
       "        text-align: right;\n",
       "    }\n",
       "</style>\n",
       "<table border=\"1\" class=\"dataframe\">\n",
       "  <thead>\n",
       "    <tr style=\"text-align: right;\">\n",
       "      <th></th>\n",
       "      <th>file_name</th>\n",
       "    </tr>\n",
       "  </thead>\n",
       "  <tbody>\n",
       "    <tr>\n",
       "      <th>0</th>\n",
       "      <td>votes_out_2023_07_21/votes_1143_3000.json</td>\n",
       "    </tr>\n",
       "    <tr>\n",
       "      <th>1</th>\n",
       "      <td>votes_out_2023_07_21/votes_1041_2000.json</td>\n",
       "    </tr>\n",
       "    <tr>\n",
       "      <th>2</th>\n",
       "      <td>votes_out_2023_07_21/votes_309_4000.json</td>\n",
       "    </tr>\n",
       "    <tr>\n",
       "      <th>3</th>\n",
       "      <td>votes_out_2023_07_21/votes_623_4000.json</td>\n",
       "    </tr>\n",
       "    <tr>\n",
       "      <th>4</th>\n",
       "      <td>votes_out_2023_07_21/votes_1088_2000.json</td>\n",
       "    </tr>\n",
       "  </tbody>\n",
       "</table>\n",
       "</div>"
      ],
      "text/plain": [
       "                                   file_name\n",
       "0  votes_out_2023_07_21/votes_1143_3000.json\n",
       "1  votes_out_2023_07_21/votes_1041_2000.json\n",
       "2   votes_out_2023_07_21/votes_309_4000.json\n",
       "3   votes_out_2023_07_21/votes_623_4000.json\n",
       "4  votes_out_2023_07_21/votes_1088_2000.json"
      ]
     },
     "execution_count": 2,
     "metadata": {},
     "output_type": "execute_result"
    }
   ],
   "source": [
    "import pandas as pd\n",
    "df = pd.DataFrame(file_names, columns=['file_name'])\n",
    "df.head()"
   ]
  },
  {
   "cell_type": "code",
   "execution_count": 3,
   "metadata": {},
   "outputs": [
    {
     "data": {
      "text/html": [
       "<div>\n",
       "<style scoped>\n",
       "    .dataframe tbody tr th:only-of-type {\n",
       "        vertical-align: middle;\n",
       "    }\n",
       "\n",
       "    .dataframe tbody tr th {\n",
       "        vertical-align: top;\n",
       "    }\n",
       "\n",
       "    .dataframe thead th {\n",
       "        text-align: right;\n",
       "    }\n",
       "</style>\n",
       "<table border=\"1\" class=\"dataframe\">\n",
       "  <thead>\n",
       "    <tr style=\"text-align: right;\">\n",
       "      <th></th>\n",
       "      <th>file_name</th>\n",
       "      <th>path</th>\n",
       "      <th>file</th>\n",
       "      <th>_</th>\n",
       "      <th>group_id</th>\n",
       "      <th>offset</th>\n",
       "    </tr>\n",
       "  </thead>\n",
       "  <tbody>\n",
       "    <tr>\n",
       "      <th>0</th>\n",
       "      <td>votes_out_2023_07_21/votes_1143_3000.json</td>\n",
       "      <td>votes_out_2023_07_21</td>\n",
       "      <td>votes_1143_3000.json</td>\n",
       "      <td>votes</td>\n",
       "      <td>1143</td>\n",
       "      <td>3000.json</td>\n",
       "    </tr>\n",
       "    <tr>\n",
       "      <th>1</th>\n",
       "      <td>votes_out_2023_07_21/votes_1041_2000.json</td>\n",
       "      <td>votes_out_2023_07_21</td>\n",
       "      <td>votes_1041_2000.json</td>\n",
       "      <td>votes</td>\n",
       "      <td>1041</td>\n",
       "      <td>2000.json</td>\n",
       "    </tr>\n",
       "    <tr>\n",
       "      <th>2</th>\n",
       "      <td>votes_out_2023_07_21/votes_309_4000.json</td>\n",
       "      <td>votes_out_2023_07_21</td>\n",
       "      <td>votes_309_4000.json</td>\n",
       "      <td>votes</td>\n",
       "      <td>309</td>\n",
       "      <td>4000.json</td>\n",
       "    </tr>\n",
       "    <tr>\n",
       "      <th>3</th>\n",
       "      <td>votes_out_2023_07_21/votes_623_4000.json</td>\n",
       "      <td>votes_out_2023_07_21</td>\n",
       "      <td>votes_623_4000.json</td>\n",
       "      <td>votes</td>\n",
       "      <td>623</td>\n",
       "      <td>4000.json</td>\n",
       "    </tr>\n",
       "    <tr>\n",
       "      <th>4</th>\n",
       "      <td>votes_out_2023_07_21/votes_1088_2000.json</td>\n",
       "      <td>votes_out_2023_07_21</td>\n",
       "      <td>votes_1088_2000.json</td>\n",
       "      <td>votes</td>\n",
       "      <td>1088</td>\n",
       "      <td>2000.json</td>\n",
       "    </tr>\n",
       "  </tbody>\n",
       "</table>\n",
       "</div>"
      ],
      "text/plain": [
       "                                   file_name                  path  \\\n",
       "0  votes_out_2023_07_21/votes_1143_3000.json  votes_out_2023_07_21   \n",
       "1  votes_out_2023_07_21/votes_1041_2000.json  votes_out_2023_07_21   \n",
       "2   votes_out_2023_07_21/votes_309_4000.json  votes_out_2023_07_21   \n",
       "3   votes_out_2023_07_21/votes_623_4000.json  votes_out_2023_07_21   \n",
       "4  votes_out_2023_07_21/votes_1088_2000.json  votes_out_2023_07_21   \n",
       "\n",
       "                   file      _ group_id     offset  \n",
       "0  votes_1143_3000.json  votes     1143  3000.json  \n",
       "1  votes_1041_2000.json  votes     1041  2000.json  \n",
       "2   votes_309_4000.json  votes      309  4000.json  \n",
       "3   votes_623_4000.json  votes      623  4000.json  \n",
       "4  votes_1088_2000.json  votes     1088  2000.json  "
      ]
     },
     "execution_count": 3,
     "metadata": {},
     "output_type": "execute_result"
    }
   ],
   "source": [
    "# split the file_name column into 3 columns\n",
    "# split on the slash\n",
    "df[['path', 'file']] = df['file_name'].str.split('/', expand=True)\n",
    "df[['_', 'group_id', 'offset']] = df['file'].str.split('_', expand=True)\n",
    "df.head()"
   ]
  },
  {
   "cell_type": "code",
   "execution_count": 4,
   "metadata": {},
   "outputs": [
    {
     "data": {
      "text/plain": [
       "1320"
      ]
     },
     "execution_count": 4,
     "metadata": {},
     "output_type": "execute_result"
    }
   ],
   "source": [
    "# how many unique group_ids are there? (should be 1318)\n",
    "df['group_id'].nunique()"
   ]
  },
  {
   "cell_type": "code",
   "execution_count": 5,
   "metadata": {},
   "outputs": [
    {
     "data": {
      "text/plain": [
       "count    1320.000000\n",
       "mean        5.150000\n",
       "std         0.387739\n",
       "min         3.000000\n",
       "25%         5.000000\n",
       "50%         5.000000\n",
       "75%         5.000000\n",
       "max         6.000000\n",
       "Name: offset, dtype: float64"
      ]
     },
     "execution_count": 5,
     "metadata": {},
     "output_type": "execute_result"
    }
   ],
   "source": [
    "# describe\n",
    "df.groupby('group_id').offset.count().describe()"
   ]
  },
  {
   "cell_type": "code",
   "execution_count": 6,
   "metadata": {},
   "outputs": [
    {
     "data": {
      "text/plain": [
       "<Axes: ylabel='Frequency'>"
      ]
     },
     "execution_count": 6,
     "metadata": {},
     "output_type": "execute_result"
    },
    {
     "data": {
      "image/png": "[encoded data removed]",
      "text/plain": [
       "<Figure size 640x480 with 1 Axes>"
      ]
     },
     "metadata": {},
     "output_type": "display_data"
    }
   ],
   "source": [
    "# group by group_id, count offset\n",
    "df.groupby('group_id').offset.count().plot(kind='hist')"
   ]
  },
  {
   "cell_type": "code",
   "execution_count": 7,
   "metadata": {},
   "outputs": [],
   "source": [
    "# monkeypatch json\n",
    "# monkeypatch using standard python json module\n",
    "\n",
    "import json\n",
    "\n",
    "pd.io.json._json.loads = lambda s, *a, **kw: json.loads(s)\n",
    "\n",
    "# monkeypatch using faster simplejson module\n",
    "import simplejson\n",
    "pd.io.json._json.loads = lambda s, *a, **kw: simplejson.loads(s)\n",
    "\n",
    "# normalising (unnesting) at the same time (for nested jsons)\n",
    "pd.io.json._json.loads = lambda s, *a, **kw: pd.json_normalize(simplejson.loads(s))"
   ]
  },
  {
   "cell_type": "code",
   "execution_count": 8,
   "metadata": {},
   "outputs": [
    {
     "data": {
      "text/plain": [
       "6798"
      ]
     },
     "execution_count": 8,
     "metadata": {},
     "output_type": "execute_result"
    }
   ],
   "source": [
    "len(file_names)"
   ]
  },
  {
   "cell_type": "code",
   "execution_count": 9,
   "metadata": {},
   "outputs": [
    {
     "data": {
      "text/plain": [
       "['votes_out_2023_07_21/votes_1143_3000.json',\n",
       " 'votes_out_2023_07_21/votes_1041_2000.json',\n",
       " 'votes_out_2023_07_21/votes_309_4000.json',\n",
       " 'votes_out_2023_07_21/votes_623_4000.json',\n",
       " 'votes_out_2023_07_21/votes_1088_2000.json',\n",
       " 'votes_out_2023_07_21/votes_415_4000.json',\n",
       " 'votes_out_2023_07_21/votes_1277_2000.json',\n",
       " 'votes_out_2023_07_21/votes_1171_1000.json',\n",
       " 'votes_out_2023_07_21/votes_1178_0.json',\n",
       " 'votes_out_2023_07_21/votes_1201_1000.json']"
      ]
     },
     "execution_count": 9,
     "metadata": {},
     "output_type": "execute_result"
    }
   ],
   "source": [
    "file_names[:10]"
   ]
  },
  {
   "cell_type": "code",
   "execution_count": 10,
   "metadata": {},
   "outputs": [
    {
     "data": {
      "text/plain": [
       "1314"
      ]
     },
     "execution_count": 10,
     "metadata": {},
     "output_type": "execute_result"
    }
   ],
   "source": [
    "file_names_4000 = [f for f in file_names if f.endswith('_4000.json')]\n",
    "len(file_names_4000)"
   ]
  },
  {
   "cell_type": "code",
   "execution_count": 11,
   "metadata": {},
   "outputs": [
    {
     "data": {
      "text/plain": [
       "1316"
      ]
     },
     "execution_count": 11,
     "metadata": {},
     "output_type": "execute_result"
    }
   ],
   "source": [
    "file_names_3000 = [f for f in file_names if f.endswith('_3000.json')]\n",
    "len(file_names_3000)"
   ]
  },
  {
   "cell_type": "code",
   "execution_count": 12,
   "metadata": {},
   "outputs": [
    {
     "name": "stderr",
     "output_type": "stream",
     "text": [
      "/opt/homebrew/lib/python3.11/site-packages/pandas/core/dtypes/astype.py:189: RuntimeWarning: invalid value encountered in cast\n",
      "  return values.astype(dtype, copy=copy)\n",
      "/opt/homebrew/lib/python3.11/site-packages/pandas/core/dtypes/astype.py:189: RuntimeWarning: invalid value encountered in cast\n",
      "  return values.astype(dtype, copy=copy)\n",
      "/opt/homebrew/lib/python3.11/site-packages/pandas/core/dtypes/astype.py:189: RuntimeWarning: invalid value encountered in cast\n",
      "  return values.astype(dtype, copy=copy)\n",
      "/opt/homebrew/lib/python3.11/site-packages/pandas/core/dtypes/astype.py:189: RuntimeWarning: invalid value encountered in cast\n",
      "  return values.astype(dtype, copy=copy)\n",
      "/opt/homebrew/lib/python3.11/site-packages/pandas/core/dtypes/astype.py:189: RuntimeWarning: invalid value encountered in cast\n",
      "  return values.astype(dtype, copy=copy)\n",
      "/opt/homebrew/lib/python3.11/site-packages/pandas/core/dtypes/astype.py:189: RuntimeWarning: invalid value encountered in cast\n",
      "  return values.astype(dtype, copy=copy)\n",
      "/opt/homebrew/lib/python3.11/site-packages/pandas/core/dtypes/astype.py:189: RuntimeWarning: invalid value encountered in cast\n",
      "  return values.astype(dtype, copy=copy)\n",
      "/opt/homebrew/lib/python3.11/site-packages/pandas/core/dtypes/astype.py:189: RuntimeWarning: invalid value encountered in cast\n",
      "  return values.astype(dtype, copy=copy)\n",
      "/opt/homebrew/lib/python3.11/site-packages/pandas/core/dtypes/astype.py:189: RuntimeWarning: invalid value encountered in cast\n",
      "  return values.astype(dtype, copy=copy)\n",
      "/opt/homebrew/lib/python3.11/site-packages/pandas/core/dtypes/astype.py:189: RuntimeWarning: invalid value encountered in cast\n",
      "  return values.astype(dtype, copy=copy)\n",
      "/opt/homebrew/lib/python3.11/site-packages/pandas/core/dtypes/astype.py:189: RuntimeWarning: invalid value encountered in cast\n",
      "  return values.astype(dtype, copy=copy)\n",
      "/opt/homebrew/lib/python3.11/site-packages/pandas/core/dtypes/astype.py:189: RuntimeWarning: invalid value encountered in cast\n",
      "  return values.astype(dtype, copy=copy)\n",
      "/opt/homebrew/lib/python3.11/site-packages/pandas/core/dtypes/astype.py:189: RuntimeWarning: invalid value encountered in cast\n",
      "  return values.astype(dtype, copy=copy)\n"
     ]
    }
   ],
   "source": [
    "# TODO: count the number of results per file, look for ones with 0 results\n",
    "# plot the distribution\n",
    "\n",
    "# read all of the files into a dataframe with a column for the filename\n",
    "all_files = pd.DataFrame()\n",
    "dfs = []\n",
    "for file_name in file_names_3000:\n",
    "    df = pd.read_json(file_name)\n",
    "    df['file_name'] = file_name\n",
    "    dfs.append(df)\n",
    "\n",
    "all_files = pd.concat(dfs)"
   ]
  },
  {
   "cell_type": "code",
   "execution_count": 13,
   "metadata": {},
   "outputs": [
    {
     "data": {
      "text/plain": [
       "<Axes: >"
      ]
     },
     "execution_count": 13,
     "metadata": {},
     "output_type": "execute_result"
    },
    {
     "data": {
      "image/png": "[encoded data removed]",
      "text/plain": [
       "<Figure size 640x480 with 1 Axes>"
      ]
     },
     "metadata": {},
     "output_type": "display_data"
    }
   ],
   "source": [
    "all_files.groupby('file_name').count().id.hist()"
   ]
  },
  {
   "cell_type": "code",
   "execution_count": 14,
   "metadata": {},
   "outputs": [
    {
     "name": "stderr",
     "output_type": "stream",
     "text": [
      "/opt/homebrew/lib/python3.11/site-packages/pandas/core/dtypes/astype.py:189: RuntimeWarning: invalid value encountered in cast\n",
      "  return values.astype(dtype, copy=copy)\n",
      "/opt/homebrew/lib/python3.11/site-packages/pandas/core/dtypes/astype.py:189: RuntimeWarning: invalid value encountered in cast\n",
      "  return values.astype(dtype, copy=copy)\n",
      "/opt/homebrew/lib/python3.11/site-packages/pandas/core/dtypes/astype.py:189: RuntimeWarning: invalid value encountered in cast\n",
      "  return values.astype(dtype, copy=copy)\n",
      "/opt/homebrew/lib/python3.11/site-packages/pandas/core/dtypes/astype.py:189: RuntimeWarning: invalid value encountered in cast\n",
      "  return values.astype(dtype, copy=copy)\n",
      "/opt/homebrew/lib/python3.11/site-packages/pandas/core/dtypes/astype.py:189: RuntimeWarning: invalid value encountered in cast\n",
      "  return values.astype(dtype, copy=copy)\n",
      "/opt/homebrew/lib/python3.11/site-packages/pandas/core/dtypes/astype.py:189: RuntimeWarning: invalid value encountered in cast\n",
      "  return values.astype(dtype, copy=copy)\n",
      "/opt/homebrew/lib/python3.11/site-packages/pandas/core/dtypes/astype.py:189: RuntimeWarning: invalid value encountered in cast\n",
      "  return values.astype(dtype, copy=copy)\n",
      "/opt/homebrew/lib/python3.11/site-packages/pandas/core/dtypes/astype.py:189: RuntimeWarning: invalid value encountered in cast\n",
      "  return values.astype(dtype, copy=copy)\n",
      "/opt/homebrew/lib/python3.11/site-packages/pandas/core/dtypes/astype.py:189: RuntimeWarning: invalid value encountered in cast\n",
      "  return values.astype(dtype, copy=copy)\n",
      "/opt/homebrew/lib/python3.11/site-packages/pandas/core/dtypes/astype.py:189: RuntimeWarning: invalid value encountered in cast\n",
      "  return values.astype(dtype, copy=copy)\n",
      "/opt/homebrew/lib/python3.11/site-packages/pandas/core/dtypes/astype.py:189: RuntimeWarning: invalid value encountered in cast\n",
      "  return values.astype(dtype, copy=copy)\n",
      "/opt/homebrew/lib/python3.11/site-packages/pandas/core/dtypes/astype.py:189: RuntimeWarning: invalid value encountered in cast\n",
      "  return values.astype(dtype, copy=copy)\n",
      "/opt/homebrew/lib/python3.11/site-packages/pandas/core/dtypes/astype.py:189: RuntimeWarning: invalid value encountered in cast\n",
      "  return values.astype(dtype, copy=copy)\n",
      "/opt/homebrew/lib/python3.11/site-packages/pandas/core/dtypes/astype.py:189: RuntimeWarning: invalid value encountered in cast\n",
      "  return values.astype(dtype, copy=copy)\n",
      "/opt/homebrew/lib/python3.11/site-packages/pandas/core/dtypes/astype.py:189: RuntimeWarning: invalid value encountered in cast\n",
      "  return values.astype(dtype, copy=copy)\n"
     ]
    }
   ],
   "source": [
    "# read all of the files into a dataframe with a column for the filename\n",
    "all_files = pd.DataFrame()\n",
    "dfs = []\n",
    "for file_name in file_names_4000:\n",
    "    df = pd.read_json(file_name)\n",
    "    df['file_name'] = file_name\n",
    "    dfs.append(df)\n",
    "\n",
    "all_files = pd.concat(dfs)"
   ]
  },
  {
   "cell_type": "code",
   "execution_count": 15,
   "metadata": {},
   "outputs": [
    {
     "data": {
      "text/plain": [
       "<Axes: >"
      ]
     },
     "execution_count": 15,
     "metadata": {},
     "output_type": "execute_result"
    },
    {
     "data": {
      "image/png": "[encoded data removed]",
      "text/plain": [
       "<Figure size 640x480 with 1 Axes>"
      ]
     },
     "metadata": {},
     "output_type": "display_data"
    }
   ],
   "source": [
    "all_files.groupby('file_name').count().id.hist()"
   ]
  }
 ],
 "metadata": {
  "kernelspec": {
   "display_name": "Python 3",
   "language": "python",
   "name": "python3"
  },
  "language_info": {
   "codemirror_mode": {
    "name": "ipython",
    "version": 3
   },
   "file_extension": ".py",
   "mimetype": "text/x-python",
   "name": "python",
   "nbconvert_exporter": "python",
   "pygments_lexer": "ipython3",
   "version": "3.11.4"
  },
  "orig_nbformat": 4
 },
 "nbformat": 4,
 "nbformat_minor": 2
}
