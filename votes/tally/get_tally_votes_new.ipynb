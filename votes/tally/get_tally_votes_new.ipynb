{
 "cells": [
  {
   "cell_type": "code",
   "execution_count": 41,
   "metadata": {},
   "outputs": [],
   "source": [
    "import json\n",
    "# read api key from tally_api_key.json\n",
    "TALLY_API_KEY = json.load(open('tally_api_key.json'))['key']\n",
    "\n",
    "import requests\n",
    "\n",
    "url = \"https://api.tally.xyz/query\"\n",
    "\n",
    "headers = {\n",
    "  'Api-Key': TALLY_API_KEY,\n",
    "  'Content-Type': 'application/json'\n",
    "}"
   ]
  },
  {
   "cell_type": "code",
   "execution_count": 42,
   "metadata": {},
   "outputs": [
    {
     "data": {
      "text/plain": [
       "['eip155:5',\n",
       " 'eip155:80001',\n",
       " 'eip155:69',\n",
       " 'eip155:11155111',\n",
       " 'eip155:10',\n",
       " 'eip155:421611',\n",
       " 'eip155:43114',\n",
       " 'eip155:84531',\n",
       " 'eip155:56',\n",
       " 'eip155:420',\n",
       " 'eip155:1284',\n",
       " 'eip155:137',\n",
       " 'eip155:421613',\n",
       " 'eip155:412346',\n",
       " 'eip155:42170',\n",
       " 'eip155:4',\n",
       " 'eip155:97',\n",
       " 'eip155:42',\n",
       " 'eip155:534353',\n",
       " 'eip155:1',\n",
       " 'eip155:100',\n",
       " 'eip155:42161',\n",
       " 'eip155:43113']"
      ]
     },
     "execution_count": 42,
     "metadata": {},
     "output_type": "execute_result"
    }
   ],
   "source": [
    "payload=\"{\\\"query\\\":\\\"query Chains {\\\\n    chains {\\\\n        id\\\\n    }\\\\n}\\\",\\\"variables\\\":{}}\"\n",
    "\n",
    "chains_response = requests.request(\"POST\", url, headers=headers, data=payload)\n",
    "\n",
    "chains_data = chains_response.json()\n",
    "\n",
    "chains = chains_data['data']['chains']\n",
    "chains = [c['id'] for c in chains]\n",
    "chains\n"
   ]
  },
  {
   "cell_type": "code",
   "execution_count": 43,
   "metadata": {},
   "outputs": [],
   "source": [
    "import time\n",
    "def get_proposal_vote_count_by_chain(chain_id: str):\n",
    "    query = \"\"\"\n",
    "    query ProposalsWithVotes {\n",
    "    proposals(chainId: \"%s\") {\n",
    "        id\n",
    "        voteStats {\n",
    "        votes\n",
    "        }\n",
    "    }\n",
    "    }\"\"\" % chain_id\n",
    "    response = requests.request(\"POST\", url, headers=headers, data=json.dumps({'query': query}))\n",
    "    data = response.json()\n",
    "    proposals = data['data']['proposals']\n",
    "    # for each proposal, sum the votes\n",
    "    for proposal in proposals:\n",
    "        proposal['vote_count'] = sum([int(v['votes']) for v in proposal['voteStats']])\n",
    "        # rm voteStats\n",
    "        del proposal['voteStats']\n",
    "    print('done', chain_id)\n",
    "    # sleep 2s\n",
    "    time.sleep(2)\n",
    "    return proposals"
   ]
  },
  {
   "cell_type": "code",
   "execution_count": 44,
   "metadata": {},
   "outputs": [],
   "source": [
    "proposal_vote_counts_by_chain = {}"
   ]
  },
  {
   "cell_type": "code",
   "execution_count": 45,
   "metadata": {},
   "outputs": [
    {
     "name": "stdout",
     "output_type": "stream",
     "text": [
      "done eip155:5\n",
      "done eip155:80001\n",
      "done eip155:69\n",
      "done eip155:11155111\n",
      "done eip155:10\n",
      "done eip155:421611\n",
      "done eip155:43114\n",
      "done eip155:84531\n",
      "done eip155:56\n",
      "done eip155:420\n",
      "done eip155:1284\n",
      "done eip155:137\n",
      "done eip155:421613\n",
      "done eip155:412346\n",
      "done eip155:42170\n",
      "done eip155:4\n",
      "done eip155:97\n",
      "done eip155:42\n",
      "done eip155:534353\n",
      "done eip155:1\n",
      "done eip155:100\n",
      "done eip155:42161\n",
      "done eip155:43113\n"
     ]
    }
   ],
   "source": [
    "# get_proposal_vote_count_by_chain(chains[0])\n",
    "for chain in chains:\n",
    "    if chain not in proposal_vote_counts_by_chain:\n",
    "        proposal_vote_counts_by_chain[chain] = get_proposal_vote_count_by_chain(chain)\n"
   ]
  },
  {
   "cell_type": "code",
   "execution_count": 46,
   "metadata": {},
   "outputs": [],
   "source": [
    "# save to json\n",
    "with open('proposal_vote_counts_by_chain.json', 'w') as f:\n",
    "    json.dump(proposal_vote_counts_by_chain, f)"
   ]
  },
  {
   "cell_type": "code",
   "execution_count": 47,
   "metadata": {},
   "outputs": [
    {
     "data": {
      "text/plain": [
       "[{'id': '20771534712125792765550139578267845622049543618311035993428633914963251436902',\n",
       "  'vote_count': 1,\n",
       "  'chain': 'eip155:5'},\n",
       " {'id': '1', 'vote_count': 0, 'chain': 'eip155:5'},\n",
       " {'id': '2', 'vote_count': 1, 'chain': 'eip155:5'},\n",
       " {'id': '58641171899228972540749114420077271382023318176672537994010128268707457712701',\n",
       "  'vote_count': 0,\n",
       "  'chain': 'eip155:5'},\n",
       " {'id': '3', 'vote_count': 0, 'chain': 'eip155:5'}]"
      ]
     },
     "execution_count": 47,
     "metadata": {},
     "output_type": "execute_result"
    }
   ],
   "source": [
    "# make a list of all proposals with a key for the chain\n",
    "all_proposals = []\n",
    "for chain in proposal_vote_counts_by_chain:\n",
    "    for proposal in proposal_vote_counts_by_chain[chain]:\n",
    "        proposal['chain'] = chain\n",
    "        all_proposals.append(proposal)\n",
    "\n",
    "all_proposals[:5]"
   ]
  },
  {
   "cell_type": "code",
   "execution_count": 48,
   "metadata": {},
   "outputs": [
    {
     "data": {
      "text/html": [
       "<div>\n",
       "<style scoped>\n",
       "    .dataframe tbody tr th:only-of-type {\n",
       "        vertical-align: middle;\n",
       "    }\n",
       "\n",
       "    .dataframe tbody tr th {\n",
       "        vertical-align: top;\n",
       "    }\n",
       "\n",
       "    .dataframe thead th {\n",
       "        text-align: right;\n",
       "    }\n",
       "</style>\n",
       "<table border=\"1\" class=\"dataframe\">\n",
       "  <thead>\n",
       "    <tr style=\"text-align: right;\">\n",
       "      <th></th>\n",
       "      <th>id</th>\n",
       "      <th>vote_count</th>\n",
       "      <th>chain</th>\n",
       "    </tr>\n",
       "  </thead>\n",
       "  <tbody>\n",
       "    <tr>\n",
       "      <th>0</th>\n",
       "      <td>2077153471212579276555013957826784562204954361...</td>\n",
       "      <td>1</td>\n",
       "      <td>eip155:5</td>\n",
       "    </tr>\n",
       "    <tr>\n",
       "      <th>1</th>\n",
       "      <td>1</td>\n",
       "      <td>0</td>\n",
       "      <td>eip155:5</td>\n",
       "    </tr>\n",
       "    <tr>\n",
       "      <th>2</th>\n",
       "      <td>2</td>\n",
       "      <td>1</td>\n",
       "      <td>eip155:5</td>\n",
       "    </tr>\n",
       "    <tr>\n",
       "      <th>3</th>\n",
       "      <td>5864117189922897254074911442007727138202331817...</td>\n",
       "      <td>0</td>\n",
       "      <td>eip155:5</td>\n",
       "    </tr>\n",
       "    <tr>\n",
       "      <th>4</th>\n",
       "      <td>3</td>\n",
       "      <td>0</td>\n",
       "      <td>eip155:5</td>\n",
       "    </tr>\n",
       "  </tbody>\n",
       "</table>\n",
       "</div>"
      ],
      "text/plain": [
       "                                                  id  vote_count     chain\n",
       "0  2077153471212579276555013957826784562204954361...           1  eip155:5\n",
       "1                                                  1           0  eip155:5\n",
       "2                                                  2           1  eip155:5\n",
       "3  5864117189922897254074911442007727138202331817...           0  eip155:5\n",
       "4                                                  3           0  eip155:5"
      ]
     },
     "execution_count": 48,
     "metadata": {},
     "output_type": "execute_result"
    }
   ],
   "source": [
    "import pandas as pd\n",
    "df = pd.DataFrame(all_proposals)\n",
    "df.head()"
   ]
  },
  {
   "cell_type": "code",
   "execution_count": 49,
   "metadata": {},
   "outputs": [
    {
     "data": {
      "text/plain": [
       "count      7877.000000\n",
       "mean         70.651898\n",
       "std        1451.816916\n",
       "min           0.000000\n",
       "50%           1.000000\n",
       "99%         201.240000\n",
       "99.9%     26345.792000\n",
       "99.99%    49323.099200\n",
       "max       50117.000000\n",
       "Name: vote_count, dtype: float64"
      ]
     },
     "execution_count": 49,
     "metadata": {},
     "output_type": "execute_result"
    }
   ],
   "source": [
    "df['vote_count'].describe([.99, .999, .9999])"
   ]
  },
  {
   "cell_type": "code",
   "execution_count": 55,
   "metadata": {},
   "outputs": [
    {
     "data": {
      "text/html": [
       "<div>\n",
       "<style scoped>\n",
       "    .dataframe tbody tr th:only-of-type {\n",
       "        vertical-align: middle;\n",
       "    }\n",
       "\n",
       "    .dataframe tbody tr th {\n",
       "        vertical-align: top;\n",
       "    }\n",
       "\n",
       "    .dataframe thead th {\n",
       "        text-align: right;\n",
       "    }\n",
       "</style>\n",
       "<table border=\"1\" class=\"dataframe\">\n",
       "  <thead>\n",
       "    <tr style=\"text-align: right;\">\n",
       "      <th></th>\n",
       "      <th>id</th>\n",
       "      <th>vote_count</th>\n",
       "      <th>chain</th>\n",
       "    </tr>\n",
       "  </thead>\n",
       "  <tbody>\n",
       "    <tr>\n",
       "      <th>3095</th>\n",
       "      <td>2787818427071270821149575583153491891613665380...</td>\n",
       "      <td>17893</td>\n",
       "      <td>eip155:10</td>\n",
       "    </tr>\n",
       "    <tr>\n",
       "      <th>3096</th>\n",
       "      <td>1147325722017097341143478593702267545197636573...</td>\n",
       "      <td>43200</td>\n",
       "      <td>eip155:10</td>\n",
       "    </tr>\n",
       "    <tr>\n",
       "      <th>3104</th>\n",
       "      <td>1036064007985958030126449663424034417437333554...</td>\n",
       "      <td>50117</td>\n",
       "      <td>eip155:10</td>\n",
       "    </tr>\n",
       "    <tr>\n",
       "      <th>3105</th>\n",
       "      <td>9436580542239877006792488137845550392842343963...</td>\n",
       "      <td>22913</td>\n",
       "      <td>eip155:10</td>\n",
       "    </tr>\n",
       "    <tr>\n",
       "      <th>3107</th>\n",
       "      <td>3297070190487044661440837301194291768042237675...</td>\n",
       "      <td>23124</td>\n",
       "      <td>eip155:10</td>\n",
       "    </tr>\n",
       "    <tr>\n",
       "      <th>3108</th>\n",
       "      <td>5173831469647334517214180804378233043006411761...</td>\n",
       "      <td>23615</td>\n",
       "      <td>eip155:10</td>\n",
       "    </tr>\n",
       "    <tr>\n",
       "      <th>3109</th>\n",
       "      <td>6493053874826825762192509371245455217377286098...</td>\n",
       "      <td>25669</td>\n",
       "      <td>eip155:10</td>\n",
       "    </tr>\n",
       "    <tr>\n",
       "      <th>3110</th>\n",
       "      <td>1036953249134245978023891813127229930376010326...</td>\n",
       "      <td>24225</td>\n",
       "      <td>eip155:10</td>\n",
       "    </tr>\n",
       "    <tr>\n",
       "      <th>7451</th>\n",
       "      <td>25</td>\n",
       "      <td>5836</td>\n",
       "      <td>eip155:1</td>\n",
       "    </tr>\n",
       "    <tr>\n",
       "      <th>7709</th>\n",
       "      <td>1107931230849807738961292165514452032072868489...</td>\n",
       "      <td>34833</td>\n",
       "      <td>eip155:42161</td>\n",
       "    </tr>\n",
       "    <tr>\n",
       "      <th>7713</th>\n",
       "      <td>6037187917808110408264101227322128792786506741...</td>\n",
       "      <td>31127</td>\n",
       "      <td>eip155:42161</td>\n",
       "    </tr>\n",
       "    <tr>\n",
       "      <th>7723</th>\n",
       "      <td>7194117183571077845773593789468962932043168360...</td>\n",
       "      <td>33590</td>\n",
       "      <td>eip155:42161</td>\n",
       "    </tr>\n",
       "    <tr>\n",
       "      <th>7832</th>\n",
       "      <td>7054562996058631778062869275503254822217391219...</td>\n",
       "      <td>42571</td>\n",
       "      <td>eip155:42161</td>\n",
       "    </tr>\n",
       "    <tr>\n",
       "      <th>7833</th>\n",
       "      <td>7990473303985333395933995396582398255848795629...</td>\n",
       "      <td>38208</td>\n",
       "      <td>eip155:42161</td>\n",
       "    </tr>\n",
       "    <tr>\n",
       "      <th>7834</th>\n",
       "      <td>7704996965996239340818230851893093924728584810...</td>\n",
       "      <td>49109</td>\n",
       "      <td>eip155:42161</td>\n",
       "    </tr>\n",
       "  </tbody>\n",
       "</table>\n",
       "</div>"
      ],
      "text/plain": [
       "                                                     id  vote_count  \\\n",
       "3095  2787818427071270821149575583153491891613665380...       17893   \n",
       "3096  1147325722017097341143478593702267545197636573...       43200   \n",
       "3104  1036064007985958030126449663424034417437333554...       50117   \n",
       "3105  9436580542239877006792488137845550392842343963...       22913   \n",
       "3107  3297070190487044661440837301194291768042237675...       23124   \n",
       "3108  5173831469647334517214180804378233043006411761...       23615   \n",
       "3109  6493053874826825762192509371245455217377286098...       25669   \n",
       "3110  1036953249134245978023891813127229930376010326...       24225   \n",
       "7451                                                 25        5836   \n",
       "7709  1107931230849807738961292165514452032072868489...       34833   \n",
       "7713  6037187917808110408264101227322128792786506741...       31127   \n",
       "7723  7194117183571077845773593789468962932043168360...       33590   \n",
       "7832  7054562996058631778062869275503254822217391219...       42571   \n",
       "7833  7990473303985333395933995396582398255848795629...       38208   \n",
       "7834  7704996965996239340818230851893093924728584810...       49109   \n",
       "\n",
       "             chain  \n",
       "3095     eip155:10  \n",
       "3096     eip155:10  \n",
       "3104     eip155:10  \n",
       "3105     eip155:10  \n",
       "3107     eip155:10  \n",
       "3108     eip155:10  \n",
       "3109     eip155:10  \n",
       "3110     eip155:10  \n",
       "7451      eip155:1  \n",
       "7709  eip155:42161  \n",
       "7713  eip155:42161  \n",
       "7723  eip155:42161  \n",
       "7832  eip155:42161  \n",
       "7833  eip155:42161  \n",
       "7834  eip155:42161  "
      ]
     },
     "execution_count": 55,
     "metadata": {},
     "output_type": "execute_result"
    }
   ],
   "source": [
    "# how many have 3000 or more votes?\n",
    "big_proposals_df = df[df['vote_count'] >= 3000]\n",
    "big_proposals_df"
   ]
  },
  {
   "cell_type": "code",
   "execution_count": 56,
   "metadata": {},
   "outputs": [],
   "source": [
    "# save as big_proposals.csv\n",
    "big_proposals_df.to_csv('over_3000_votes_proposals.csv', index=False)"
   ]
  }
 ],
 "metadata": {
  "kernelspec": {
   "display_name": "Python 3",
   "language": "python",
   "name": "python3"
  },
  "language_info": {
   "codemirror_mode": {
    "name": "ipython",
    "version": 3
   },
   "file_extension": ".py",
   "mimetype": "text/x-python",
   "name": "python",
   "nbconvert_exporter": "python",
   "pygments_lexer": "ipython3",
   "version": "3.11.4"
  },
  "orig_nbformat": 4
 },
 "nbformat": 4,
 "nbformat_minor": 2
}
