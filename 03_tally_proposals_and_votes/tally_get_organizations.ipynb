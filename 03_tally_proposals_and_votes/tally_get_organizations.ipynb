{
 "cells": [
  {
   "cell_type": "code",
   "execution_count": 1,
   "metadata": {},
   "outputs": [],
   "source": [
    "import requests\n",
    "\n",
    "response = requests.get('https://www.tally.xyz/api/search-daos')\n",
    "\n",
    "import pandas as pd\n",
    "df = pd.DataFrame(response.json()['governances'])"
   ]
  },
  {
   "cell_type": "code",
   "execution_count": 2,
   "metadata": {},
   "outputs": [
    {
     "data": {
      "text/html": [
       "<div>\n",
       "<style scoped>\n",
       "    .dataframe tbody tr th:only-of-type {\n",
       "        vertical-align: middle;\n",
       "    }\n",
       "\n",
       "    .dataframe tbody tr th {\n",
       "        vertical-align: top;\n",
       "    }\n",
       "\n",
       "    .dataframe thead th {\n",
       "        text-align: right;\n",
       "    }\n",
       "</style>\n",
       "<table border=\"1\" class=\"dataframe\">\n",
       "  <thead>\n",
       "    <tr style=\"text-align: right;\">\n",
       "      <th></th>\n",
       "      <th>id</th>\n",
       "      <th>slug</th>\n",
       "      <th>name</th>\n",
       "      <th>kind</th>\n",
       "      <th>chainId</th>\n",
       "      <th>name</th>\n",
       "      <th>slug</th>\n",
       "      <th>visual</th>\n",
       "      <th>governances</th>\n",
       "    </tr>\n",
       "  </thead>\n",
       "  <tbody>\n",
       "    <tr>\n",
       "      <th>0</th>\n",
       "      <td>eip155:1:0xFb6B7C11a55C57767643F1FF65c34C8693a...</td>\n",
       "      <td>diva</td>\n",
       "      <td>Diva Staking</td>\n",
       "      <td>SINGLE_GOV</td>\n",
       "      <td>eip155:1</td>\n",
       "      <td>Diva Staking</td>\n",
       "      <td>diva-staking</td>\n",
       "      <td>{'icon': 'https://static.tally.xyz/3c15ec19-51...</td>\n",
       "      <td>[{'stats': {'proposals': {'active': 0, 'total'...</td>\n",
       "    </tr>\n",
       "    <tr>\n",
       "      <th>1</th>\n",
       "      <td>eip155:84531:0x6AB41b2646E8333e930c626Aa3C674d...</td>\n",
       "      <td>cbsatestdao</td>\n",
       "      <td>cbsatestdao</td>\n",
       "      <td>SINGLE_GOV</td>\n",
       "      <td>eip155:84531</td>\n",
       "      <td>cbsatestdao</td>\n",
       "      <td>cbsatestdao</td>\n",
       "      <td>{'icon': ''}</td>\n",
       "      <td>[{'stats': {'proposals': {'active': 0, 'total'...</td>\n",
       "    </tr>\n",
       "    <tr>\n",
       "      <th>2</th>\n",
       "      <td>eip155:10:0xF8fBe44761844b26E848F10C831a0D6319...</td>\n",
       "      <td>united-gabriel-nation-dao</td>\n",
       "      <td>United Gabriel Nation DAO</td>\n",
       "      <td>SINGLE_GOV</td>\n",
       "      <td>eip155:10</td>\n",
       "      <td>United Gabriel Nation DAO</td>\n",
       "      <td>united-gabriel-nation-dao</td>\n",
       "      <td>{'icon': 'https://static.tally.xyz/9ecc3d1a-53...</td>\n",
       "      <td>[{'stats': {'proposals': {'active': 0, 'total'...</td>\n",
       "    </tr>\n",
       "    <tr>\n",
       "      <th>3</th>\n",
       "      <td>eip155:1:0xDE80c40921b569ed1326Bb6e2c440c9ee18...</td>\n",
       "      <td>thrust</td>\n",
       "      <td>Thrust</td>\n",
       "      <td>SINGLE_GOV</td>\n",
       "      <td>eip155:1</td>\n",
       "      <td>Thrust</td>\n",
       "      <td>thrust-dao</td>\n",
       "      <td>{'icon': 'https://static.tally.xyz/86b63a3f-3b...</td>\n",
       "      <td>[{'stats': {'proposals': {'active': 0, 'total'...</td>\n",
       "    </tr>\n",
       "    <tr>\n",
       "      <th>4</th>\n",
       "      <td>eip155:100:0xF84D94Fe16977F5394b9964A894819601...</td>\n",
       "      <td>smiledao</td>\n",
       "      <td>SmileDAO</td>\n",
       "      <td>SINGLE_GOV</td>\n",
       "      <td>eip155:100</td>\n",
       "      <td>SmileDAO</td>\n",
       "      <td>smiledao</td>\n",
       "      <td>{'icon': 'https://static.tally.xyz/35e1fbf0-ed...</td>\n",
       "      <td>[{'stats': {'proposals': {'active': 0, 'total'...</td>\n",
       "    </tr>\n",
       "  </tbody>\n",
       "</table>\n",
       "</div>"
      ],
      "text/plain": [
       "                                                  id  \\\n",
       "0  eip155:1:0xFb6B7C11a55C57767643F1FF65c34C8693a...   \n",
       "1  eip155:84531:0x6AB41b2646E8333e930c626Aa3C674d...   \n",
       "2  eip155:10:0xF8fBe44761844b26E848F10C831a0D6319...   \n",
       "3  eip155:1:0xDE80c40921b569ed1326Bb6e2c440c9ee18...   \n",
       "4  eip155:100:0xF84D94Fe16977F5394b9964A894819601...   \n",
       "\n",
       "                        slug                       name        kind  \\\n",
       "0                       diva               Diva Staking  SINGLE_GOV   \n",
       "1                cbsatestdao                cbsatestdao  SINGLE_GOV   \n",
       "2  united-gabriel-nation-dao  United Gabriel Nation DAO  SINGLE_GOV   \n",
       "3                     thrust                     Thrust  SINGLE_GOV   \n",
       "4                   smiledao                   SmileDAO  SINGLE_GOV   \n",
       "\n",
       "        chainId                       name                       slug  \\\n",
       "0      eip155:1               Diva Staking               diva-staking   \n",
       "1  eip155:84531                cbsatestdao                cbsatestdao   \n",
       "2     eip155:10  United Gabriel Nation DAO  united-gabriel-nation-dao   \n",
       "3      eip155:1                     Thrust                 thrust-dao   \n",
       "4    eip155:100                   SmileDAO                   smiledao   \n",
       "\n",
       "                                              visual  \\\n",
       "0  {'icon': 'https://static.tally.xyz/3c15ec19-51...   \n",
       "1                                       {'icon': ''}   \n",
       "2  {'icon': 'https://static.tally.xyz/9ecc3d1a-53...   \n",
       "3  {'icon': 'https://static.tally.xyz/86b63a3f-3b...   \n",
       "4  {'icon': 'https://static.tally.xyz/35e1fbf0-ed...   \n",
       "\n",
       "                                         governances  \n",
       "0  [{'stats': {'proposals': {'active': 0, 'total'...  \n",
       "1  [{'stats': {'proposals': {'active': 0, 'total'...  \n",
       "2  [{'stats': {'proposals': {'active': 0, 'total'...  \n",
       "3  [{'stats': {'proposals': {'active': 0, 'total'...  \n",
       "4  [{'stats': {'proposals': {'active': 0, 'total'...  "
      ]
     },
     "execution_count": 2,
     "metadata": {},
     "output_type": "execute_result"
    }
   ],
   "source": [
    "# flatten organization column\n",
    "df = pd.concat([df.drop(['organization'], axis=1), df['organization'].apply(pd.Series)], axis=1)\n",
    "df.head()"
   ]
  },
  {
   "cell_type": "code",
   "execution_count": 3,
   "metadata": {},
   "outputs": [
    {
     "data": {
      "text/plain": [
       "chainId\n",
       "eip155:1        156\n",
       "eip155:10        12\n",
       "eip155:100        6\n",
       "eip155:1284       2\n",
       "eip155:137      370\n",
       "eip155:42161     18\n",
       "eip155:43114      2\n",
       "eip155:56         6\n",
       "eip155:84531      3\n",
       "Name: id, dtype: int64"
      ]
     },
     "execution_count": 3,
     "metadata": {},
     "output_type": "execute_result"
    }
   ],
   "source": [
    "# group by chainid and count\n",
    "df.groupby('chainId').id.count()"
   ]
  },
  {
   "cell_type": "code",
   "execution_count": 4,
   "metadata": {},
   "outputs": [],
   "source": [
    "# we only need the chainId and address columns to query the proposals and votes\n",
    "df[['chainId', 'id']].to_csv('organizations.csv', index=False)"
   ]
  }
 ],
 "metadata": {
  "kernelspec": {
   "display_name": "Python 3",
   "language": "python",
   "name": "python3"
  },
  "language_info": {
   "codemirror_mode": {
    "name": "ipython",
    "version": 3
   },
   "file_extension": ".py",
   "mimetype": "text/x-python",
   "name": "python",
   "nbconvert_exporter": "python",
   "pygments_lexer": "ipython3",
   "version": "3.11.3"
  },
  "orig_nbformat": 4
 },
 "nbformat": 4,
 "nbformat_minor": 2
}
