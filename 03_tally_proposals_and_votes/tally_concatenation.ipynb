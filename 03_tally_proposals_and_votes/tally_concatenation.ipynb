{
 "cells": [
  {
   "cell_type": "code",
   "execution_count": 7,
   "metadata": {},
   "outputs": [
    {
     "data": {
      "text/plain": [
       "490"
      ]
     },
     "execution_count": 7,
     "metadata": {},
     "output_type": "execute_result"
    }
   ],
   "source": [
    "import pandas as pd\n",
    "import os\n",
    "\n",
    "DIRECTORY_NAME = 'tally_scraping_1687966692'\n",
    "# read all of the csvs in the filename directory and the subdirectories\n",
    "# and concatenate them into a single dataframe with a column chainId for the subdirectory name\n",
    "csvs = []\n",
    "for root, dirs, files in os.walk(DIRECTORY_NAME):\n",
    "    for file in files:\n",
    "        if file.endswith('.csv'):\n",
    "            csvs.append(os.path.join(root, file))\n",
    "len(csvs)"
   ]
  },
  {
   "cell_type": "code",
   "execution_count": 8,
   "metadata": {},
   "outputs": [],
   "source": [
    "df = pd.concat([pd.read_csv(csv) for csv in csvs])"
   ]
  },
  {
   "cell_type": "code",
   "execution_count": 9,
   "metadata": {},
   "outputs": [
    {
     "data": {
      "text/html": [
       "<div>\n",
       "<style scoped>\n",
       "    .dataframe tbody tr th:only-of-type {\n",
       "        vertical-align: middle;\n",
       "    }\n",
       "\n",
       "    .dataframe tbody tr th {\n",
       "        vertical-align: top;\n",
       "    }\n",
       "\n",
       "    .dataframe thead th {\n",
       "        text-align: right;\n",
       "    }\n",
       "</style>\n",
       "<table border=\"1\" class=\"dataframe\">\n",
       "  <thead>\n",
       "    <tr style=\"text-align: right;\">\n",
       "      <th></th>\n",
       "      <th>proposalId</th>\n",
       "      <th>organizationId</th>\n",
       "      <th>id</th>\n",
       "      <th>voter</th>\n",
       "      <th>weight</th>\n",
       "      <th>support</th>\n",
       "      <th>createdAt</th>\n",
       "      <th>votes</th>\n",
       "      <th>governance</th>\n",
       "      <th>0</th>\n",
       "    </tr>\n",
       "  </thead>\n",
       "  <tbody>\n",
       "    <tr>\n",
       "      <th>0</th>\n",
       "      <td>5111315427677754490893950572134310949793120843...</td>\n",
       "      <td>eip155:137:0xF1Bebe3094da07CFc4233E6F0952DBCee...</td>\n",
       "      <td>NaN</td>\n",
       "      <td>NaN</td>\n",
       "      <td>NaN</td>\n",
       "      <td>NaN</td>\n",
       "      <td>NaN</td>\n",
       "      <td>NaN</td>\n",
       "      <td>NaN</td>\n",
       "      <td>NaN</td>\n",
       "    </tr>\n",
       "    <tr>\n",
       "      <th>1</th>\n",
       "      <td>5463712261379309494660155922842956604134127772...</td>\n",
       "      <td>eip155:137:0xF1Bebe3094da07CFc4233E6F0952DBCee...</td>\n",
       "      <td>eip155:137:0xF1Bebe3094da07CFc4233E6F0952DBCee...</td>\n",
       "      <td>0xA77364249507F3e55cFb1143e139F931dCC00E9e</td>\n",
       "      <td>1.0</td>\n",
       "      <td>FOR</td>\n",
       "      <td>2022-08-11 20:45:29</td>\n",
       "      <td>NaN</td>\n",
       "      <td>NaN</td>\n",
       "      <td>NaN</td>\n",
       "    </tr>\n",
       "    <tr>\n",
       "      <th>2</th>\n",
       "      <td>8271642301566946218351835601056188482979478040...</td>\n",
       "      <td>eip155:137:0xF1Bebe3094da07CFc4233E6F0952DBCee...</td>\n",
       "      <td>eip155:137:0xF1Bebe3094da07CFc4233E6F0952DBCee...</td>\n",
       "      <td>0xA77364249507F3e55cFb1143e139F931dCC00E9e</td>\n",
       "      <td>1.0</td>\n",
       "      <td>AGAINST</td>\n",
       "      <td>2022-08-11 20:37:07</td>\n",
       "      <td>NaN</td>\n",
       "      <td>NaN</td>\n",
       "      <td>NaN</td>\n",
       "    </tr>\n",
       "    <tr>\n",
       "      <th>3</th>\n",
       "      <td>8271642301566946218351835601056188482979478040...</td>\n",
       "      <td>eip155:137:0xF1Bebe3094da07CFc4233E6F0952DBCee...</td>\n",
       "      <td>eip155:137:0xF1Bebe3094da07CFc4233E6F0952DBCee...</td>\n",
       "      <td>0x52B28292846c59dA23114496d6e6BfC875f54FF5</td>\n",
       "      <td>0.0</td>\n",
       "      <td>FOR</td>\n",
       "      <td>2022-08-11 20:40:45</td>\n",
       "      <td>NaN</td>\n",
       "      <td>NaN</td>\n",
       "      <td>NaN</td>\n",
       "    </tr>\n",
       "    <tr>\n",
       "      <th>4</th>\n",
       "      <td>1139989975056260723755339009273279268941782963...</td>\n",
       "      <td>eip155:137:0x26217Ec5044AEB8D6495BC68eE91951cd...</td>\n",
       "      <td>eip155:137:0x26217Ec5044AEB8D6495BC68eE91951cd...</td>\n",
       "      <td>0x5A3b11ab9EC4A95AB562F37f4Eb1599FAF38b976</td>\n",
       "      <td>1.0</td>\n",
       "      <td>FOR</td>\n",
       "      <td>2022-08-10 21:08:50</td>\n",
       "      <td>NaN</td>\n",
       "      <td>NaN</td>\n",
       "      <td>NaN</td>\n",
       "    </tr>\n",
       "  </tbody>\n",
       "</table>\n",
       "</div>"
      ],
      "text/plain": [
       "                                          proposalId  \\\n",
       "0  5111315427677754490893950572134310949793120843...   \n",
       "1  5463712261379309494660155922842956604134127772...   \n",
       "2  8271642301566946218351835601056188482979478040...   \n",
       "3  8271642301566946218351835601056188482979478040...   \n",
       "4  1139989975056260723755339009273279268941782963...   \n",
       "\n",
       "                                      organizationId  \\\n",
       "0  eip155:137:0xF1Bebe3094da07CFc4233E6F0952DBCee...   \n",
       "1  eip155:137:0xF1Bebe3094da07CFc4233E6F0952DBCee...   \n",
       "2  eip155:137:0xF1Bebe3094da07CFc4233E6F0952DBCee...   \n",
       "3  eip155:137:0xF1Bebe3094da07CFc4233E6F0952DBCee...   \n",
       "4  eip155:137:0x26217Ec5044AEB8D6495BC68eE91951cd...   \n",
       "\n",
       "                                                  id  \\\n",
       "0                                                NaN   \n",
       "1  eip155:137:0xF1Bebe3094da07CFc4233E6F0952DBCee...   \n",
       "2  eip155:137:0xF1Bebe3094da07CFc4233E6F0952DBCee...   \n",
       "3  eip155:137:0xF1Bebe3094da07CFc4233E6F0952DBCee...   \n",
       "4  eip155:137:0x26217Ec5044AEB8D6495BC68eE91951cd...   \n",
       "\n",
       "                                        voter weight  support  \\\n",
       "0                                         NaN    NaN      NaN   \n",
       "1  0xA77364249507F3e55cFb1143e139F931dCC00E9e    1.0      FOR   \n",
       "2  0xA77364249507F3e55cFb1143e139F931dCC00E9e    1.0  AGAINST   \n",
       "3  0x52B28292846c59dA23114496d6e6BfC875f54FF5    0.0      FOR   \n",
       "4  0x5A3b11ab9EC4A95AB562F37f4Eb1599FAF38b976    1.0      FOR   \n",
       "\n",
       "             createdAt votes governance   0  \n",
       "0                  NaN   NaN        NaN NaN  \n",
       "1  2022-08-11 20:45:29   NaN        NaN NaN  \n",
       "2  2022-08-11 20:37:07   NaN        NaN NaN  \n",
       "3  2022-08-11 20:40:45   NaN        NaN NaN  \n",
       "4  2022-08-10 21:08:50   NaN        NaN NaN  "
      ]
     },
     "execution_count": 9,
     "metadata": {},
     "output_type": "execute_result"
    }
   ],
   "source": [
    "df.head()"
   ]
  },
  {
   "cell_type": "code",
   "execution_count": 10,
   "metadata": {},
   "outputs": [
    {
     "data": {
      "text/plain": [
       "(492865, 10)"
      ]
     },
     "execution_count": 10,
     "metadata": {},
     "output_type": "execute_result"
    }
   ],
   "source": [
    "df.shape"
   ]
  },
  {
   "cell_type": "code",
   "execution_count": 18,
   "metadata": {},
   "outputs": [
    {
     "data": {
      "text/plain": [
       "0"
      ]
     },
     "execution_count": 18,
     "metadata": {},
     "output_type": "execute_result"
    }
   ],
   "source": [
    "# how many dupe rows?\n",
    "df.duplicated().sum()"
   ]
  },
  {
   "cell_type": "code",
   "execution_count": 17,
   "metadata": {},
   "outputs": [
    {
     "data": {
      "text/plain": [
       "proposalId             0\n",
       "organizationId         0\n",
       "id                   460\n",
       "voter                460\n",
       "weight               460\n",
       "support              460\n",
       "createdAt            460\n",
       "votes             492865\n",
       "governance        492865\n",
       "0                 492865\n",
       "dtype: int64"
      ]
     },
     "execution_count": 17,
     "metadata": {},
     "output_type": "execute_result"
    }
   ],
   "source": [
    "# calculate number of nans in each column\n",
    "df.isnull().sum()"
   ]
  },
  {
   "cell_type": "code",
   "execution_count": null,
   "metadata": {},
   "outputs": [],
   "source": [
    "# TODO: clean up for adding to the aragon and snapshot data"
   ]
  }
 ],
 "metadata": {
  "kernelspec": {
   "display_name": "Python 3",
   "language": "python",
   "name": "python3"
  },
  "language_info": {
   "codemirror_mode": {
    "name": "ipython",
    "version": 3
   },
   "file_extension": ".py",
   "mimetype": "text/x-python",
   "name": "python",
   "nbconvert_exporter": "python",
   "pygments_lexer": "ipython3",
   "version": "3.11.3"
  },
  "orig_nbformat": 4
 },
 "nbformat": 4,
 "nbformat_minor": 2
}
