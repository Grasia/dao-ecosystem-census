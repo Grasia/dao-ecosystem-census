{
 "cells": [
  {
   "cell_type": "code",
   "execution_count": 1,
   "metadata": {},
   "outputs": [],
   "source": [
    "query = \"\"\"\n",
    "{\n",
    "  governances {\n",
    "    totalCount\n",
    "    edges {\n",
    "      node {\n",
    "        # platform\n",
    "        platform_id: id\n",
    "        name: name\n",
    "        # website\n",
    "        # additional\n",
    "        propositionStatusMetrics {\n",
    "          proposals_count: totalCount\n",
    "        }\n",
    "        # votes_count\n",
    "      }\n",
    "    }\n",
    "  }\n",
    "}\n",
    "\n",
    "# * `platform`\n",
    "# * `platform_id`\n",
    "# * `name` (may be nan)\n",
    "# * `website` (may be nan)\n",
    "# * `additional` (may contain website, social, etc. info, may be nan)\n",
    "# * `votes_count` (the number of unique votes in the deployment)\n",
    "#   - snapshot reports the sum of the votes in the deployment\n",
    "#   - for daostack, aragon, and dao haus we report the total number of votes, including duplicates by the same voter\n",
    "# * `proposals_count` (the number of proposals in the deployment)\n",
    "#   - used Realms JS SDK\n",
    "\"\"\""
   ]
  },
  {
   "cell_type": "code",
   "execution_count": 2,
   "metadata": {},
   "outputs": [
    {
     "name": "stdout",
     "output_type": "stream",
     "text": [
      "200\n"
     ]
    },
    {
     "data": {
      "text/plain": [
       "885"
      ]
     },
     "execution_count": 2,
     "metadata": {},
     "output_type": "execute_result"
    }
   ],
   "source": [
    "# hit gql https://graphql.messari.io/query\n",
    "import requests\n",
    "\n",
    "response = requests.post('https://graphql.messari.io/query', json={'query': query})\n",
    "print(response.status_code)\n",
    "data = response.json()\n",
    "len(data['data']['governances']['edges'])"
   ]
  },
  {
   "cell_type": "code",
   "execution_count": 3,
   "metadata": {},
   "outputs": [
    {
     "data": {
      "text/html": [
       "<div>\n",
       "<style scoped>\n",
       "    .dataframe tbody tr th:only-of-type {\n",
       "        vertical-align: middle;\n",
       "    }\n",
       "\n",
       "    .dataframe tbody tr th {\n",
       "        vertical-align: top;\n",
       "    }\n",
       "\n",
       "    .dataframe thead th {\n",
       "        text-align: right;\n",
       "    }\n",
       "</style>\n",
       "<table border=\"1\" class=\"dataframe\">\n",
       "  <thead>\n",
       "    <tr style=\"text-align: right;\">\n",
       "      <th></th>\n",
       "      <th>platform_id</th>\n",
       "      <th>name</th>\n",
       "      <th>propositionStatusMetrics</th>\n",
       "    </tr>\n",
       "  </thead>\n",
       "  <tbody>\n",
       "    <tr>\n",
       "      <th>0</th>\n",
       "      <td>00233765-eb17-4e75-954f-82258bb990aa</td>\n",
       "      <td>Shell Protocol</td>\n",
       "      <td>{'proposals_count': 0}</td>\n",
       "    </tr>\n",
       "    <tr>\n",
       "      <th>1</th>\n",
       "      <td>0032e64d-5105-4369-89c4-46f05247c684</td>\n",
       "      <td>Free Company</td>\n",
       "      <td>{'proposals_count': 0}</td>\n",
       "    </tr>\n",
       "    <tr>\n",
       "      <th>2</th>\n",
       "      <td>00453db4-685a-4221-9ad1-fda0d82c3a8a</td>\n",
       "      <td>Cream Finance</td>\n",
       "      <td>{'proposals_count': 46}</td>\n",
       "    </tr>\n",
       "    <tr>\n",
       "      <th>3</th>\n",
       "      <td>004556b2-f0c0-4843-887c-4b539140ee43</td>\n",
       "      <td>Bleeps DAO</td>\n",
       "      <td>{'proposals_count': 0}</td>\n",
       "    </tr>\n",
       "    <tr>\n",
       "      <th>4</th>\n",
       "      <td>0050d8cf-2650-4d66-94dc-77d871b0d755</td>\n",
       "      <td>Psychedelic</td>\n",
       "      <td>{'proposals_count': 0}</td>\n",
       "    </tr>\n",
       "  </tbody>\n",
       "</table>\n",
       "</div>"
      ],
      "text/plain": [
       "                            platform_id            name  \\\n",
       "0  00233765-eb17-4e75-954f-82258bb990aa  Shell Protocol   \n",
       "1  0032e64d-5105-4369-89c4-46f05247c684    Free Company   \n",
       "2  00453db4-685a-4221-9ad1-fda0d82c3a8a   Cream Finance   \n",
       "3  004556b2-f0c0-4843-887c-4b539140ee43      Bleeps DAO   \n",
       "4  0050d8cf-2650-4d66-94dc-77d871b0d755     Psychedelic   \n",
       "\n",
       "  propositionStatusMetrics  \n",
       "0   {'proposals_count': 0}  \n",
       "1   {'proposals_count': 0}  \n",
       "2  {'proposals_count': 46}  \n",
       "3   {'proposals_count': 0}  \n",
       "4   {'proposals_count': 0}  "
      ]
     },
     "execution_count": 3,
     "metadata": {},
     "output_type": "execute_result"
    }
   ],
   "source": [
    "import pandas as pd\n",
    "# df from edges\n",
    "df = pd.DataFrame(data['data']['governances']['edges'])\n",
    "# expand the node column\n",
    "df = pd.concat([df.drop(['node'], axis=1), df['node'].apply(pd.Series)], axis=1)\n",
    "df.head()"
   ]
  },
  {
   "cell_type": "code",
   "execution_count": 4,
   "metadata": {},
   "outputs": [
    {
     "data": {
      "text/html": [
       "<div>\n",
       "<style scoped>\n",
       "    .dataframe tbody tr th:only-of-type {\n",
       "        vertical-align: middle;\n",
       "    }\n",
       "\n",
       "    .dataframe tbody tr th {\n",
       "        vertical-align: top;\n",
       "    }\n",
       "\n",
       "    .dataframe thead th {\n",
       "        text-align: right;\n",
       "    }\n",
       "</style>\n",
       "<table border=\"1\" class=\"dataframe\">\n",
       "  <thead>\n",
       "    <tr style=\"text-align: right;\">\n",
       "      <th></th>\n",
       "      <th>platform_id</th>\n",
       "      <th>name</th>\n",
       "      <th>propositionStatusMetrics</th>\n",
       "      <th>proposals_count</th>\n",
       "    </tr>\n",
       "  </thead>\n",
       "  <tbody>\n",
       "    <tr>\n",
       "      <th>0</th>\n",
       "      <td>00233765-eb17-4e75-954f-82258bb990aa</td>\n",
       "      <td>Shell Protocol</td>\n",
       "      <td>{'proposals_count': 0}</td>\n",
       "      <td>0</td>\n",
       "    </tr>\n",
       "    <tr>\n",
       "      <th>1</th>\n",
       "      <td>0032e64d-5105-4369-89c4-46f05247c684</td>\n",
       "      <td>Free Company</td>\n",
       "      <td>{'proposals_count': 0}</td>\n",
       "      <td>0</td>\n",
       "    </tr>\n",
       "    <tr>\n",
       "      <th>2</th>\n",
       "      <td>00453db4-685a-4221-9ad1-fda0d82c3a8a</td>\n",
       "      <td>Cream Finance</td>\n",
       "      <td>{'proposals_count': 46}</td>\n",
       "      <td>46</td>\n",
       "    </tr>\n",
       "    <tr>\n",
       "      <th>3</th>\n",
       "      <td>004556b2-f0c0-4843-887c-4b539140ee43</td>\n",
       "      <td>Bleeps DAO</td>\n",
       "      <td>{'proposals_count': 0}</td>\n",
       "      <td>0</td>\n",
       "    </tr>\n",
       "    <tr>\n",
       "      <th>4</th>\n",
       "      <td>0050d8cf-2650-4d66-94dc-77d871b0d755</td>\n",
       "      <td>Psychedelic</td>\n",
       "      <td>{'proposals_count': 0}</td>\n",
       "      <td>0</td>\n",
       "    </tr>\n",
       "  </tbody>\n",
       "</table>\n",
       "</div>"
      ],
      "text/plain": [
       "                            platform_id            name  \\\n",
       "0  00233765-eb17-4e75-954f-82258bb990aa  Shell Protocol   \n",
       "1  0032e64d-5105-4369-89c4-46f05247c684    Free Company   \n",
       "2  00453db4-685a-4221-9ad1-fda0d82c3a8a   Cream Finance   \n",
       "3  004556b2-f0c0-4843-887c-4b539140ee43      Bleeps DAO   \n",
       "4  0050d8cf-2650-4d66-94dc-77d871b0d755     Psychedelic   \n",
       "\n",
       "  propositionStatusMetrics  proposals_count  \n",
       "0   {'proposals_count': 0}                0  \n",
       "1   {'proposals_count': 0}                0  \n",
       "2  {'proposals_count': 46}               46  \n",
       "3   {'proposals_count': 0}                0  \n",
       "4   {'proposals_count': 0}                0  "
      ]
     },
     "execution_count": 4,
     "metadata": {},
     "output_type": "execute_result"
    }
   ],
   "source": [
    "df['proposals_count'] = df['propositionStatusMetrics'].map(lambda x: x['proposals_count'])\n",
    "df.head()"
   ]
  },
  {
   "cell_type": "code",
   "execution_count": 5,
   "metadata": {},
   "outputs": [
    {
     "data": {
      "text/html": [
       "<div>\n",
       "<style scoped>\n",
       "    .dataframe tbody tr th:only-of-type {\n",
       "        vertical-align: middle;\n",
       "    }\n",
       "\n",
       "    .dataframe tbody tr th {\n",
       "        vertical-align: top;\n",
       "    }\n",
       "\n",
       "    .dataframe thead th {\n",
       "        text-align: right;\n",
       "    }\n",
       "</style>\n",
       "<table border=\"1\" class=\"dataframe\">\n",
       "  <thead>\n",
       "    <tr style=\"text-align: right;\">\n",
       "      <th></th>\n",
       "      <th>platform</th>\n",
       "      <th>platform_id</th>\n",
       "      <th>name</th>\n",
       "      <th>website</th>\n",
       "      <th>additional</th>\n",
       "      <th>proposals_count</th>\n",
       "    </tr>\n",
       "  </thead>\n",
       "  <tbody>\n",
       "    <tr>\n",
       "      <th>0</th>\n",
       "      <td>governor</td>\n",
       "      <td>00233765-eb17-4e75-954f-82258bb990aa</td>\n",
       "      <td>Shell Protocol</td>\n",
       "      <td>None</td>\n",
       "      <td>None</td>\n",
       "      <td>0</td>\n",
       "    </tr>\n",
       "    <tr>\n",
       "      <th>1</th>\n",
       "      <td>governor</td>\n",
       "      <td>0032e64d-5105-4369-89c4-46f05247c684</td>\n",
       "      <td>Free Company</td>\n",
       "      <td>None</td>\n",
       "      <td>None</td>\n",
       "      <td>0</td>\n",
       "    </tr>\n",
       "    <tr>\n",
       "      <th>2</th>\n",
       "      <td>governor</td>\n",
       "      <td>00453db4-685a-4221-9ad1-fda0d82c3a8a</td>\n",
       "      <td>Cream Finance</td>\n",
       "      <td>None</td>\n",
       "      <td>None</td>\n",
       "      <td>46</td>\n",
       "    </tr>\n",
       "    <tr>\n",
       "      <th>3</th>\n",
       "      <td>governor</td>\n",
       "      <td>004556b2-f0c0-4843-887c-4b539140ee43</td>\n",
       "      <td>Bleeps DAO</td>\n",
       "      <td>None</td>\n",
       "      <td>None</td>\n",
       "      <td>0</td>\n",
       "    </tr>\n",
       "    <tr>\n",
       "      <th>4</th>\n",
       "      <td>governor</td>\n",
       "      <td>0050d8cf-2650-4d66-94dc-77d871b0d755</td>\n",
       "      <td>Psychedelic</td>\n",
       "      <td>None</td>\n",
       "      <td>None</td>\n",
       "      <td>0</td>\n",
       "    </tr>\n",
       "  </tbody>\n",
       "</table>\n",
       "</div>"
      ],
      "text/plain": [
       "   platform                           platform_id            name website  \\\n",
       "0  governor  00233765-eb17-4e75-954f-82258bb990aa  Shell Protocol    None   \n",
       "1  governor  0032e64d-5105-4369-89c4-46f05247c684    Free Company    None   \n",
       "2  governor  00453db4-685a-4221-9ad1-fda0d82c3a8a   Cream Finance    None   \n",
       "3  governor  004556b2-f0c0-4843-887c-4b539140ee43      Bleeps DAO    None   \n",
       "4  governor  0050d8cf-2650-4d66-94dc-77d871b0d755     Psychedelic    None   \n",
       "\n",
       "  additional  proposals_count  \n",
       "0       None                0  \n",
       "1       None                0  \n",
       "2       None               46  \n",
       "3       None                0  \n",
       "4       None                0  "
      ]
     },
     "execution_count": 5,
     "metadata": {},
     "output_type": "execute_result"
    }
   ],
   "source": [
    "df['website'] = None\n",
    "df['additional'] = None\n",
    "df['platform'] = 'governor'\n",
    "# df = df[['platform', 'platform_id', 'name', 'website', 'additional', 'proposals_count', 'votes_count']]\n",
    "df = df[['platform', 'platform_id', 'name', 'website', 'additional', 'proposals_count']]\n",
    "df.head()"
   ]
  },
  {
   "cell_type": "code",
   "execution_count": 6,
   "metadata": {},
   "outputs": [
    {
     "data": {
      "text/plain": [
       "(140, 6)"
      ]
     },
     "execution_count": 6,
     "metadata": {},
     "output_type": "execute_result"
    }
   ],
   "source": [
    "# how many have proposals?\n",
    "df[df['proposals_count'] > 0].shape"
   ]
  },
  {
   "cell_type": "code",
   "execution_count": 7,
   "metadata": {},
   "outputs": [],
   "source": [
    "# save to csv\n",
    "df.to_csv('governor_deployments.csv', index=False)"
   ]
  }
 ],
 "metadata": {
  "kernelspec": {
   "display_name": "Python 3",
   "language": "python",
   "name": "python3"
  },
  "language_info": {
   "codemirror_mode": {
    "name": "ipython",
    "version": 3
   },
   "file_extension": ".py",
   "mimetype": "text/x-python",
   "name": "python",
   "nbconvert_exporter": "python",
   "pygments_lexer": "ipython3",
   "version": "3.11.4"
  },
  "orig_nbformat": 4
 },
 "nbformat": 4,
 "nbformat_minor": 2
}
